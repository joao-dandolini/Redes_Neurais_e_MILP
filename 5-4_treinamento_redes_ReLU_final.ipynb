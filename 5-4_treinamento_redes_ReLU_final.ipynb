{
 "cells": [
  {
   "cell_type": "code",
   "execution_count": 25,
   "id": "d4aae644",
   "metadata": {},
   "outputs": [
    {
     "name": "stdout",
     "output_type": "stream",
     "text": [
      "Usando dispositivo: cpu\n"
     ]
    },
    {
     "data": {
      "text/plain": [
       "<torch._C.Generator at 0x229bd88eed0>"
      ]
     },
     "execution_count": 25,
     "metadata": {},
     "output_type": "execute_result"
    }
   ],
   "source": [
    "# --- Bloco 0: Importações ---\n",
    "import pandas as pd\n",
    "import numpy as np\n",
    "import joblib # Para salvar os scalers\n",
    "\n",
    "# PyTorch\n",
    "import torch\n",
    "import torch.nn as nn\n",
    "import torch.optim as optim\n",
    "from torch.utils.data import DataLoader, TensorDataset\n",
    "\n",
    "# Scikit-learn (para pré-processamento e métricas)\n",
    "from sklearn.model_selection import train_test_split\n",
    "from sklearn.preprocessing import MinMaxScaler\n",
    "from sklearn.metrics import mean_squared_error, mean_absolute_percentage_error\n",
    "\n",
    "# Optuna (para otimização de hiperparâmetros)\n",
    "import optuna\n",
    "import plotly.graph_objects as go\n",
    "from optuna.trial import TrialState\n",
    "\n",
    "# Outros\n",
    "import math\n",
    "import time\n",
    "import matplotlib.pyplot as plt\n",
    "\n",
    "# Configurações\n",
    "plt.style.use('ggplot')\n",
    "device = torch.device(\"cuda\" if torch.cuda.is_available() else \"cpu\")\n",
    "print(f\"Usando dispositivo: {device}\")\n",
    "torch.manual_seed(42)"
   ]
  },
  {
   "cell_type": "code",
   "execution_count": 26,
   "id": "0110dbd3",
   "metadata": {},
   "outputs": [
    {
     "name": "stdout",
     "output_type": "stream",
     "text": [
      "Definição da classe 'Net' concluída.\n"
     ]
    }
   ],
   "source": [
    "import torch\n",
    "import torch.nn as nn\n",
    "\n",
    "class Net(nn.Module):\n",
    "    def __init__(self, n_layers, n_neurons):\n",
    "        super(Net, self).__init__()\n",
    "        \n",
    "        layers = []\n",
    "        \n",
    "        # Camada de entrada\n",
    "        layers.append(nn.Linear(1, n_neurons))\n",
    "        layers.append(nn.ReLU())\n",
    "        \n",
    "        # Camadas ocultas dinâmicas\n",
    "        for _ in range(n_layers - 1):\n",
    "            layers.append(nn.Linear(n_neurons, n_neurons))\n",
    "            layers.append(nn.ReLU())\n",
    "            \n",
    "        # Camada de saída\n",
    "        layers.append(nn.Linear(n_neurons, 1))\n",
    "        \n",
    "        # ✅ Adiciona ReLU como ativação final\n",
    "        layers.append(nn.ReLU())\n",
    "        \n",
    "        # Compila todas as camadas em um modelo sequencial\n",
    "        self.network = nn.Sequential(*layers)\n",
    "\n",
    "    def forward(self, x):\n",
    "        return self.network(x)\n",
    "\n",
    "print(\"Definição da classe 'Net' concluída.\")"
   ]
  },
  {
   "cell_type": "code",
   "execution_count": 27,
   "id": "c1abc082",
   "metadata": {},
   "outputs": [
    {
     "name": "stdout",
     "output_type": "stream",
     "text": [
      "Funções auxiliares (calculate_complexity, calculate_all_metrics) prontas.\n"
     ]
    }
   ],
   "source": [
    "# --- Bloco 2: Funções Auxiliares (Métricas e Complexidade) ---\n",
    "\n",
    "def calculate_complexity(n_layers, n_neurons):\n",
    "    \"\"\"\n",
    "    Calcula a métrica de complexidade customizada:\n",
    "    log2(número de neurônios por camada) * número de camadas\n",
    "    \"\"\"\n",
    "    if n_neurons == 0 or n_layers == 0:\n",
    "        return 0\n",
    "    return math.log2(n_neurons) * n_layers\n",
    "\n",
    "def calculate_all_metrics(y_true, y_pred):\n",
    "    \"\"\"\n",
    "    Calcula MSE, RMSE e MAPE.\n",
    "    Espera arrays NumPy.\n",
    "    \"\"\"\n",
    "    mse = mean_squared_error(y_true, y_pred)\n",
    "    rmse = np.sqrt(mse)\n",
    "    mape = mean_absolute_percentage_error(y_true, y_pred)\n",
    "    return mse, rmse, mape\n",
    "\n",
    "print(\"Funções auxiliares (calculate_complexity, calculate_all_metrics) prontas.\")"
   ]
  },
  {
   "cell_type": "code",
   "execution_count": 28,
   "id": "e7a45639",
   "metadata": {},
   "outputs": [
    {
     "name": "stdout",
     "output_type": "stream",
     "text": [
      "Dados carregados e normalizados.\n",
      "Formato de X (Potência): (5000, 1)\n",
      "Formato de y (Custo): (5000, 1)\n",
      "\n",
      "Scalers 'x_scaler.joblib' e 'y_scaler.joblib' salvos.\n"
     ]
    }
   ],
   "source": [
    "# --- Bloco 3: Carregamento e Normalização dos Dados ---\n",
    "\n",
    "# Carregar o dataset\n",
    "df = pd.read_csv('usina_carvao_dataset.csv')\n",
    "\n",
    "# Preparar dados para o scaler\n",
    "X = df[['Potencia_MW']].values\n",
    "y = df[['Custo_Real']].values\n",
    "\n",
    "# Inicializar os scalers\n",
    "# Usamos dois scalers separados para podermos\n",
    "# salvar ambos e usá-los no notebook MILP.\n",
    "x_scaler = MinMaxScaler()\n",
    "y_scaler = MinMaxScaler()\n",
    "\n",
    "# \"Aprender\" a escala dos dados e transformá-los\n",
    "X_scaled = x_scaler.fit_transform(X)\n",
    "y_scaled = y_scaler.fit_transform(y)\n",
    "\n",
    "# Salvar os scalers para uso futuro!\n",
    "joblib.dump(x_scaler, 'x_scaler.joblib')\n",
    "joblib.dump(y_scaler, 'y_scaler.joblib')\n",
    "\n",
    "print(\"Dados carregados e normalizados.\")\n",
    "print(f\"Formato de X (Potência): {X_scaled.shape}\")\n",
    "print(f\"Formato de y (Custo): {y_scaled.shape}\")\n",
    "print(\"\\nScalers 'x_scaler.joblib' e 'y_scaler.joblib' salvos.\")"
   ]
  },
  {
   "cell_type": "code",
   "execution_count": 29,
   "id": "53290828",
   "metadata": {},
   "outputs": [
    {
     "name": "stdout",
     "output_type": "stream",
     "text": [
      "Dados separados: 4000 amostras de treino, 1000 amostras de validação.\n"
     ]
    }
   ],
   "source": [
    "# --- Bloco 4: Separação Aleatória e DataLoaders ---\n",
    "# Este bloco mistura os dados (shuffle=True) e os separa\n",
    "# em conjuntos de treino e validação.\n",
    "\n",
    "# Separar em treino (80%) e validação (20%)\n",
    "X_train, X_val, y_train, y_val = train_test_split(\n",
    "    X_scaled, y_scaled, test_size=0.2, random_state=42\n",
    ")\n",
    "\n",
    "# Converter dados NumPy para Tensores do PyTorch\n",
    "X_train_t = torch.tensor(X_train, dtype=torch.float32).to(device)\n",
    "y_train_t = torch.tensor(y_train, dtype=torch.float32).to(device)\n",
    "X_val_t = torch.tensor(X_val, dtype=torch.float32).to(device)\n",
    "y_val_t = torch.tensor(y_val, dtype=torch.float32).to(device)\n",
    "\n",
    "# Criar DataLoaders para treinamento em lote (batch)\n",
    "BATCH_SIZE = 64\n",
    "\n",
    "train_dataset = TensorDataset(X_train_t, y_train_t)\n",
    "train_loader = DataLoader(train_dataset, batch_size=BATCH_SIZE, shuffle=True)\n",
    "\n",
    "val_dataset = TensorDataset(X_val_t, y_val_t)\n",
    "val_loader = DataLoader(val_dataset, batch_size=BATCH_SIZE, shuffle=False)\n",
    "\n",
    "print(f\"Dados separados: {len(X_train_t)} amostras de treino, {len(X_val_t)} amostras de validação.\")"
   ]
  },
  {
   "cell_type": "code",
   "execution_count": 30,
   "id": "e7314a3f",
   "metadata": {},
   "outputs": [
    {
     "name": "stdout",
     "output_type": "stream",
     "text": [
      "Função 'objective' do Optuna definida.\n"
     ]
    }
   ],
   "source": [
    "# --- Bloco 5: Definição da Função 'objective' do Optuna ---\n",
    "# Este é o coração do notebook. Esta função será chamada\n",
    "# dezenas de vezes pelo Optuna.\n",
    "\n",
    "# Parâmetros do Treinamento\n",
    "N_EPOCHS = 300       # Número de épocas que você definiu\n",
    "EARLY_STOPPING_PATIENCE = 30 # Paciência que você pediu\n",
    "\n",
    "def objective(trial):\n",
    "    # --- 1. Sugerir Hiperparâmetros ---\n",
    "    # Número de camadas (1 a 3)\n",
    "    n_layers = trial.suggest_int('n_layers', 1, 2)\n",
    "    # Número de neurônios (3 a 20)\n",
    "    n_neurons = trial.suggest_int('n_neurons', 3, 50)\n",
    "    # Taxa de aprendizado\n",
    "    lr = trial.suggest_float('lr', 1e-4, 1e-1, log=True)\n",
    "    \n",
    "    # --- 2. Calcular Complexidade e Armazenar ---\n",
    "    complexity = calculate_complexity(n_layers, n_neurons)\n",
    "    trial.set_user_attr('complexity', complexity)\n",
    "\n",
    "    # --- 3. Construir Modelo e Otimizador ---\n",
    "    model = Net(n_layers, n_neurons).to(device)\n",
    "    optimizer = optim.Adam(model.parameters(), lr=lr)\n",
    "    criterion = nn.MSELoss() # Usamos MSE para o loss\n",
    "\n",
    "    # --- 4. Loop de Treinamento com Early Stopping & Pruning ---\n",
    "    best_val_loss = float('inf')\n",
    "    patience_counter = 0\n",
    "\n",
    "    for epoch in range(N_EPOCHS):\n",
    "        # Treinamento\n",
    "        model.train()\n",
    "        for X_batch, y_batch in train_loader:\n",
    "            optimizer.zero_grad()\n",
    "            outputs = model(X_batch)\n",
    "            loss = criterion(outputs, y_batch)\n",
    "            loss.backward()\n",
    "            optimizer.step()\n",
    "        \n",
    "        # Validação\n",
    "        model.eval()\n",
    "        current_val_loss = 0.0\n",
    "        with torch.no_grad():\n",
    "            for X_batch, y_batch in val_loader:\n",
    "                outputs = model(X_batch)\n",
    "                loss = criterion(outputs, y_batch)\n",
    "                current_val_loss += loss.item() * X_batch.size(0)\n",
    "        \n",
    "        current_val_loss /= len(val_loader.dataset)\n",
    "        \n",
    "        # --- 5. Lógica de Pruning (pelo Optuna) ---\n",
    "        trial.report(current_val_loss, epoch)\n",
    "        if trial.should_prune():\n",
    "            raise optuna.TrialPruned()\n",
    "\n",
    "        # --- 6. Lógica de Early Stopping ---\n",
    "        if current_val_loss < best_val_loss:\n",
    "            best_val_loss = current_val_loss\n",
    "            patience_counter = 0\n",
    "        else:\n",
    "            patience_counter += 1\n",
    "        \n",
    "        if patience_counter >= EARLY_STOPPING_PATIENCE:\n",
    "            # print(f\"Trial {trial.number} parou cedo no epoch {epoch}\")\n",
    "            break\n",
    "            \n",
    "    # --- 7. Retornar Métrica de Qualidade (RMSE) ---\n",
    "    # Optuna minimiza o valor retornado.\n",
    "    # Usamos o RMSE (raiz do MSE) como métrica de seleção.\n",
    "    final_rmse = math.sqrt(best_val_loss)\n",
    "    trial.set_user_attr('val_rmse', final_rmse)\n",
    "    \n",
    "    return final_rmse\n",
    "\n",
    "print(\"Função 'objective' do Optuna definida.\")"
   ]
  },
  {
   "cell_type": "code",
   "execution_count": 31,
   "id": "c5a5156d",
   "metadata": {},
   "outputs": [
    {
     "name": "stderr",
     "output_type": "stream",
     "text": [
      "[I 2025-10-27 23:12:33,439] A new study created in memory with name: no-name-72db8152-bcd0-4b1c-9bbe-6880247b08db\n"
     ]
    },
    {
     "name": "stdout",
     "output_type": "stream",
     "text": [
      "--- Iniciando Estudo Optuna ---\n"
     ]
    },
    {
     "name": "stderr",
     "output_type": "stream",
     "text": [
      "Best trial: 0. Best value: 0.000599947:   1%|          | 1/100 [00:34<56:57, 34.52s/it]"
     ]
    },
    {
     "name": "stdout",
     "output_type": "stream",
     "text": [
      "[I 2025-10-27 23:13:07,963] Trial 0 finished with value: 0.0005999468499971382 and parameters: {'n_layers': 2, 'n_neurons': 33, 'lr': 0.00040044490522978275}. Best is trial 0 with value: 0.0005999468499971382.\n"
     ]
    },
    {
     "name": "stderr",
     "output_type": "stream",
     "text": [
      "Best trial: 0. Best value: 0.000599947:   2%|▏         | 2/100 [00:38<26:50, 16.43s/it]"
     ]
    },
    {
     "name": "stdout",
     "output_type": "stream",
     "text": [
      "[I 2025-10-27 23:13:11,732] Trial 1 finished with value: 0.5383282992725004 and parameters: {'n_layers': 2, 'n_neurons': 38, 'lr': 0.0041095330922547475}. Best is trial 0 with value: 0.0005999468499971382.\n"
     ]
    },
    {
     "name": "stderr",
     "output_type": "stream",
     "text": [
      "Best trial: 0. Best value: 0.000599947:   3%|▎         | 3/100 [00:41<16:36, 10.28s/it]"
     ]
    },
    {
     "name": "stdout",
     "output_type": "stream",
     "text": [
      "[I 2025-10-27 23:13:14,686] Trial 2 finished with value: 0.5383282992725004 and parameters: {'n_layers': 2, 'n_neurons': 25, 'lr': 0.03443703172569677}. Best is trial 0 with value: 0.0005999468499971382.\n"
     ]
    },
    {
     "name": "stderr",
     "output_type": "stream",
     "text": [
      "Best trial: 0. Best value: 0.000599947:   4%|▍         | 4/100 [00:44<11:45,  7.35s/it]"
     ]
    },
    {
     "name": "stdout",
     "output_type": "stream",
     "text": [
      "[I 2025-10-27 23:13:17,555] Trial 3 finished with value: 0.5383282992725004 and parameters: {'n_layers': 2, 'n_neurons': 16, 'lr': 0.0027880018450066085}. Best is trial 0 with value: 0.0005999468499971382.\n"
     ]
    },
    {
     "name": "stderr",
     "output_type": "stream",
     "text": [
      "Best trial: 0. Best value: 0.000599947:   5%|▌         | 5/100 [01:07<20:58, 13.24s/it]"
     ]
    },
    {
     "name": "stdout",
     "output_type": "stream",
     "text": [
      "[I 2025-10-27 23:13:41,242] Trial 4 finished with value: 0.0006740007126713254 and parameters: {'n_layers': 1, 'n_neurons': 40, 'lr': 0.00039617036929120184}. Best is trial 0 with value: 0.0005999468499971382.\n"
     ]
    },
    {
     "name": "stderr",
     "output_type": "stream",
     "text": [
      "Best trial: 0. Best value: 0.000599947:   6%|▌         | 6/100 [01:19<20:10, 12.88s/it]"
     ]
    },
    {
     "name": "stdout",
     "output_type": "stream",
     "text": [
      "[I 2025-10-27 23:13:53,424] Trial 5 finished with value: 0.0007707219352415622 and parameters: {'n_layers': 2, 'n_neurons': 41, 'lr': 0.0015554338450205136}. Best is trial 0 with value: 0.0005999468499971382.\n"
     ]
    },
    {
     "name": "stderr",
     "output_type": "stream",
     "text": [
      "Best trial: 0. Best value: 0.000599947:   7%|▋         | 7/100 [01:20<13:54,  8.98s/it]"
     ]
    },
    {
     "name": "stdout",
     "output_type": "stream",
     "text": [
      "[I 2025-10-27 23:13:54,366] Trial 6 pruned. \n"
     ]
    },
    {
     "name": "stderr",
     "output_type": "stream",
     "text": [
      "Best trial: 0. Best value: 0.000599947:   8%|▊         | 8/100 [01:23<10:39,  6.95s/it]"
     ]
    },
    {
     "name": "stdout",
     "output_type": "stream",
     "text": [
      "[I 2025-10-27 23:13:56,965] Trial 7 pruned. \n"
     ]
    },
    {
     "name": "stderr",
     "output_type": "stream",
     "text": [
      "Best trial: 0. Best value: 0.000599947:   9%|▉         | 9/100 [01:24<07:40,  5.06s/it]"
     ]
    },
    {
     "name": "stdout",
     "output_type": "stream",
     "text": [
      "[I 2025-10-27 23:13:57,860] Trial 8 pruned. \n"
     ]
    },
    {
     "name": "stderr",
     "output_type": "stream",
     "text": [
      "Best trial: 0. Best value: 0.000599947:  10%|█         | 10/100 [01:26<06:25,  4.28s/it]"
     ]
    },
    {
     "name": "stdout",
     "output_type": "stream",
     "text": [
      "[I 2025-10-27 23:14:00,398] Trial 9 pruned. \n"
     ]
    },
    {
     "name": "stderr",
     "output_type": "stream",
     "text": [
      "Best trial: 0. Best value: 0.000599947:  11%|█         | 11/100 [01:30<06:09,  4.15s/it]"
     ]
    },
    {
     "name": "stdout",
     "output_type": "stream",
     "text": [
      "[I 2025-10-27 23:14:04,256] Trial 10 pruned. \n"
     ]
    },
    {
     "name": "stderr",
     "output_type": "stream",
     "text": [
      "Best trial: 0. Best value: 0.000599947:  12%|█▏        | 12/100 [01:31<04:39,  3.18s/it]"
     ]
    },
    {
     "name": "stdout",
     "output_type": "stream",
     "text": [
      "[I 2025-10-27 23:14:05,213] Trial 11 pruned. \n"
     ]
    },
    {
     "name": "stderr",
     "output_type": "stream",
     "text": [
      "Best trial: 0. Best value: 0.000599947:  13%|█▎        | 13/100 [01:34<04:21,  3.00s/it]"
     ]
    },
    {
     "name": "stdout",
     "output_type": "stream",
     "text": [
      "[I 2025-10-27 23:14:07,809] Trial 12 pruned. \n"
     ]
    },
    {
     "name": "stderr",
     "output_type": "stream",
     "text": [
      "Best trial: 0. Best value: 0.000599947:  14%|█▍        | 14/100 [01:35<03:27,  2.41s/it]"
     ]
    },
    {
     "name": "stdout",
     "output_type": "stream",
     "text": [
      "[I 2025-10-27 23:14:08,862] Trial 13 pruned. \n"
     ]
    },
    {
     "name": "stderr",
     "output_type": "stream",
     "text": [
      "Best trial: 0. Best value: 0.000599947:  15%|█▌        | 15/100 [01:37<03:28,  2.45s/it]"
     ]
    },
    {
     "name": "stdout",
     "output_type": "stream",
     "text": [
      "[I 2025-10-27 23:14:11,413] Trial 14 pruned. \n"
     ]
    },
    {
     "name": "stderr",
     "output_type": "stream",
     "text": [
      "Best trial: 0. Best value: 0.000599947:  16%|█▌        | 16/100 [01:40<03:40,  2.62s/it]"
     ]
    },
    {
     "name": "stdout",
     "output_type": "stream",
     "text": [
      "[I 2025-10-27 23:14:14,415] Trial 15 pruned. \n"
     ]
    },
    {
     "name": "stderr",
     "output_type": "stream",
     "text": [
      "Best trial: 0. Best value: 0.000599947:  17%|█▋        | 17/100 [01:41<02:54,  2.10s/it]"
     ]
    },
    {
     "name": "stdout",
     "output_type": "stream",
     "text": [
      "[I 2025-10-27 23:14:15,316] Trial 16 pruned. \n"
     ]
    },
    {
     "name": "stderr",
     "output_type": "stream",
     "text": [
      "Best trial: 0. Best value: 0.000599947:  18%|█▊        | 18/100 [01:43<02:34,  1.88s/it]"
     ]
    },
    {
     "name": "stdout",
     "output_type": "stream",
     "text": [
      "[I 2025-10-27 23:14:16,691] Trial 17 pruned. \n"
     ]
    },
    {
     "name": "stderr",
     "output_type": "stream",
     "text": [
      "Best trial: 0. Best value: 0.000599947:  19%|█▉        | 19/100 [01:44<02:22,  1.76s/it]"
     ]
    },
    {
     "name": "stdout",
     "output_type": "stream",
     "text": [
      "[I 2025-10-27 23:14:18,179] Trial 18 pruned. \n"
     ]
    },
    {
     "name": "stderr",
     "output_type": "stream",
     "text": [
      "Best trial: 0. Best value: 0.000599947:  20%|██        | 20/100 [01:47<02:41,  2.02s/it]"
     ]
    },
    {
     "name": "stdout",
     "output_type": "stream",
     "text": [
      "[I 2025-10-27 23:14:20,809] Trial 19 pruned. \n"
     ]
    },
    {
     "name": "stderr",
     "output_type": "stream",
     "text": [
      "Best trial: 0. Best value: 0.000599947:  21%|██        | 21/100 [01:49<02:54,  2.21s/it]"
     ]
    },
    {
     "name": "stdout",
     "output_type": "stream",
     "text": [
      "[I 2025-10-27 23:14:23,438] Trial 20 pruned. \n"
     ]
    },
    {
     "name": "stderr",
     "output_type": "stream",
     "text": [
      "Best trial: 0. Best value: 0.000599947:  22%|██▏       | 22/100 [01:51<02:31,  1.94s/it]"
     ]
    },
    {
     "name": "stdout",
     "output_type": "stream",
     "text": [
      "[I 2025-10-27 23:14:24,773] Trial 21 pruned. \n"
     ]
    },
    {
     "name": "stderr",
     "output_type": "stream",
     "text": [
      "Best trial: 0. Best value: 0.000599947:  23%|██▎       | 23/100 [01:52<02:17,  1.79s/it]"
     ]
    },
    {
     "name": "stdout",
     "output_type": "stream",
     "text": [
      "[I 2025-10-27 23:14:26,188] Trial 22 pruned. \n"
     ]
    },
    {
     "name": "stderr",
     "output_type": "stream",
     "text": [
      "Best trial: 0. Best value: 0.000599947:  24%|██▍       | 24/100 [01:55<02:46,  2.19s/it]"
     ]
    },
    {
     "name": "stdout",
     "output_type": "stream",
     "text": [
      "[I 2025-10-27 23:14:29,331] Trial 23 pruned. \n"
     ]
    },
    {
     "name": "stderr",
     "output_type": "stream",
     "text": [
      "Best trial: 0. Best value: 0.000599947:  25%|██▌       | 25/100 [01:57<02:24,  1.93s/it]"
     ]
    },
    {
     "name": "stdout",
     "output_type": "stream",
     "text": [
      "[I 2025-10-27 23:14:30,639] Trial 24 pruned. \n"
     ]
    },
    {
     "name": "stderr",
     "output_type": "stream",
     "text": [
      "Best trial: 0. Best value: 0.000599947:  26%|██▌       | 26/100 [01:58<02:11,  1.77s/it]"
     ]
    },
    {
     "name": "stdout",
     "output_type": "stream",
     "text": [
      "[I 2025-10-27 23:14:32,057] Trial 25 pruned. \n"
     ]
    },
    {
     "name": "stderr",
     "output_type": "stream",
     "text": [
      "Best trial: 0. Best value: 0.000599947:  27%|██▋       | 27/100 [02:03<03:12,  2.64s/it]"
     ]
    },
    {
     "name": "stdout",
     "output_type": "stream",
     "text": [
      "[I 2025-10-27 23:14:36,717] Trial 26 pruned. \n"
     ]
    },
    {
     "name": "stderr",
     "output_type": "stream",
     "text": [
      "Best trial: 0. Best value: 0.000599947:  28%|██▊       | 28/100 [02:06<03:19,  2.77s/it]"
     ]
    },
    {
     "name": "stdout",
     "output_type": "stream",
     "text": [
      "[I 2025-10-27 23:14:39,776] Trial 27 pruned. \n"
     ]
    },
    {
     "name": "stderr",
     "output_type": "stream",
     "text": [
      "Best trial: 0. Best value: 0.000599947:  29%|██▉       | 29/100 [02:07<02:36,  2.21s/it]"
     ]
    },
    {
     "name": "stdout",
     "output_type": "stream",
     "text": [
      "[I 2025-10-27 23:14:40,673] Trial 28 pruned. \n"
     ]
    },
    {
     "name": "stderr",
     "output_type": "stream",
     "text": [
      "Best trial: 0. Best value: 0.000599947:  30%|███       | 30/100 [02:18<05:48,  4.98s/it]"
     ]
    },
    {
     "name": "stdout",
     "output_type": "stream",
     "text": [
      "[I 2025-10-27 23:14:52,111] Trial 29 finished with value: 0.0006411935625167692 and parameters: {'n_layers': 2, 'n_neurons': 38, 'lr': 0.0020440561612613444}. Best is trial 0 with value: 0.0005999468499971382.\n"
     ]
    },
    {
     "name": "stderr",
     "output_type": "stream",
     "text": [
      "Best trial: 0. Best value: 0.000599947:  31%|███       | 31/100 [02:24<05:54,  5.14s/it]"
     ]
    },
    {
     "name": "stdout",
     "output_type": "stream",
     "text": [
      "[I 2025-10-27 23:14:57,635] Trial 30 pruned. \n"
     ]
    },
    {
     "name": "stderr",
     "output_type": "stream",
     "text": [
      "Best trial: 0. Best value: 0.000599947:  32%|███▏      | 32/100 [02:25<04:32,  4.00s/it]"
     ]
    },
    {
     "name": "stdout",
     "output_type": "stream",
     "text": [
      "[I 2025-10-27 23:14:58,988] Trial 31 pruned. \n"
     ]
    },
    {
     "name": "stderr",
     "output_type": "stream",
     "text": [
      "Best trial: 0. Best value: 0.000599947:  33%|███▎      | 33/100 [02:26<03:34,  3.21s/it]"
     ]
    },
    {
     "name": "stdout",
     "output_type": "stream",
     "text": [
      "[I 2025-10-27 23:15:00,334] Trial 32 pruned. \n"
     ]
    },
    {
     "name": "stderr",
     "output_type": "stream",
     "text": [
      "Best trial: 0. Best value: 0.000599947:  34%|███▍      | 34/100 [02:35<05:24,  4.92s/it]"
     ]
    },
    {
     "name": "stdout",
     "output_type": "stream",
     "text": [
      "[I 2025-10-27 23:15:09,265] Trial 33 finished with value: 0.000803599110750386 and parameters: {'n_layers': 2, 'n_neurons': 40, 'lr': 0.010681538817169165}. Best is trial 0 with value: 0.0005999468499971382.\n"
     ]
    },
    {
     "name": "stderr",
     "output_type": "stream",
     "text": [
      "Best trial: 0. Best value: 0.000599947:  35%|███▌      | 35/100 [02:37<04:10,  3.85s/it]"
     ]
    },
    {
     "name": "stdout",
     "output_type": "stream",
     "text": [
      "[I 2025-10-27 23:15:10,612] Trial 34 pruned. \n"
     ]
    },
    {
     "name": "stderr",
     "output_type": "stream",
     "text": [
      "Best trial: 0. Best value: 0.000599947:  36%|███▌      | 36/100 [02:38<03:13,  3.02s/it]"
     ]
    },
    {
     "name": "stdout",
     "output_type": "stream",
     "text": [
      "[I 2025-10-27 23:15:11,705] Trial 35 pruned. \n"
     ]
    },
    {
     "name": "stderr",
     "output_type": "stream",
     "text": [
      "Best trial: 36. Best value: 0.000453714:  37%|███▋      | 37/100 [03:03<10:04,  9.60s/it]"
     ]
    },
    {
     "name": "stdout",
     "output_type": "stream",
     "text": [
      "[I 2025-10-27 23:15:36,634] Trial 36 finished with value: 0.00045371418754539526 and parameters: {'n_layers': 2, 'n_neurons': 44, 'lr': 0.0022746312405894638}. Best is trial 36 with value: 0.00045371418754539526.\n"
     ]
    },
    {
     "name": "stderr",
     "output_type": "stream",
     "text": [
      "Best trial: 36. Best value: 0.000453714:  38%|███▊      | 38/100 [03:12<09:49,  9.50s/it]"
     ]
    },
    {
     "name": "stdout",
     "output_type": "stream",
     "text": [
      "[I 2025-10-27 23:15:45,917] Trial 37 finished with value: 0.00047598059980563906 and parameters: {'n_layers': 2, 'n_neurons': 44, 'lr': 0.017227520738541408}. Best is trial 36 with value: 0.00045371418754539526.\n"
     ]
    },
    {
     "name": "stderr",
     "output_type": "stream",
     "text": [
      "Best trial: 36. Best value: 0.000453714:  39%|███▉      | 39/100 [03:13<07:10,  7.06s/it]"
     ]
    },
    {
     "name": "stdout",
     "output_type": "stream",
     "text": [
      "[I 2025-10-27 23:15:47,266] Trial 38 pruned. \n"
     ]
    },
    {
     "name": "stderr",
     "output_type": "stream",
     "text": [
      "Best trial: 36. Best value: 0.000453714:  40%|████      | 40/100 [03:15<05:21,  5.36s/it]"
     ]
    },
    {
     "name": "stdout",
     "output_type": "stream",
     "text": [
      "[I 2025-10-27 23:15:48,658] Trial 39 pruned. \n"
     ]
    },
    {
     "name": "stderr",
     "output_type": "stream",
     "text": [
      "Best trial: 36. Best value: 0.000453714:  41%|████      | 41/100 [03:16<04:06,  4.17s/it]"
     ]
    },
    {
     "name": "stdout",
     "output_type": "stream",
     "text": [
      "[I 2025-10-27 23:15:50,071] Trial 40 pruned. \n"
     ]
    },
    {
     "name": "stderr",
     "output_type": "stream",
     "text": [
      "Best trial: 36. Best value: 0.000453714:  42%|████▏     | 42/100 [03:21<04:08,  4.29s/it]"
     ]
    },
    {
     "name": "stdout",
     "output_type": "stream",
     "text": [
      "[I 2025-10-27 23:15:54,640] Trial 41 pruned. \n"
     ]
    },
    {
     "name": "stderr",
     "output_type": "stream",
     "text": [
      "Best trial: 36. Best value: 0.000453714:  43%|████▎     | 43/100 [03:22<03:14,  3.41s/it]"
     ]
    },
    {
     "name": "stdout",
     "output_type": "stream",
     "text": [
      "[I 2025-10-27 23:15:55,983] Trial 42 pruned. \n"
     ]
    },
    {
     "name": "stderr",
     "output_type": "stream",
     "text": [
      "Best trial: 36. Best value: 0.000453714:  44%|████▍     | 44/100 [03:30<04:29,  4.82s/it]"
     ]
    },
    {
     "name": "stdout",
     "output_type": "stream",
     "text": [
      "[I 2025-10-27 23:16:04,094] Trial 43 finished with value: 0.0005063033894277849 and parameters: {'n_layers': 2, 'n_neurons': 36, 'lr': 0.019728156437383657}. Best is trial 36 with value: 0.00045371418754539526.\n"
     ]
    },
    {
     "name": "stderr",
     "output_type": "stream",
     "text": [
      "Best trial: 44. Best value: 0.000381454:  45%|████▌     | 45/100 [03:35<04:23,  4.79s/it]"
     ]
    },
    {
     "name": "stdout",
     "output_type": "stream",
     "text": [
      "[I 2025-10-27 23:16:08,816] Trial 44 finished with value: 0.0003814537506930511 and parameters: {'n_layers': 2, 'n_neurons': 25, 'lr': 0.022944583661644036}. Best is trial 44 with value: 0.0003814537506930511.\n"
     ]
    },
    {
     "name": "stderr",
     "output_type": "stream",
     "text": [
      "Best trial: 44. Best value: 0.000381454:  46%|████▌     | 46/100 [03:36<03:18,  3.67s/it]"
     ]
    },
    {
     "name": "stdout",
     "output_type": "stream",
     "text": [
      "[I 2025-10-27 23:16:09,878] Trial 45 pruned. \n"
     ]
    },
    {
     "name": "stderr",
     "output_type": "stream",
     "text": [
      "Best trial: 44. Best value: 0.000381454:  47%|████▋     | 47/100 [03:43<04:08,  4.69s/it]"
     ]
    },
    {
     "name": "stdout",
     "output_type": "stream",
     "text": [
      "[I 2025-10-27 23:16:16,953] Trial 46 finished with value: 0.0006017524457142855 and parameters: {'n_layers': 2, 'n_neurons': 22, 'lr': 0.041186350493148935}. Best is trial 44 with value: 0.0003814537506930511.\n"
     ]
    },
    {
     "name": "stderr",
     "output_type": "stream",
     "text": [
      "Best trial: 44. Best value: 0.000381454:  48%|████▊     | 48/100 [03:46<03:37,  4.19s/it]"
     ]
    },
    {
     "name": "stdout",
     "output_type": "stream",
     "text": [
      "[I 2025-10-27 23:16:19,957] Trial 47 pruned. \n"
     ]
    },
    {
     "name": "stderr",
     "output_type": "stream",
     "text": [
      "Best trial: 44. Best value: 0.000381454:  49%|████▉     | 49/100 [03:49<03:21,  3.94s/it]"
     ]
    },
    {
     "name": "stdout",
     "output_type": "stream",
     "text": [
      "[I 2025-10-27 23:16:23,327] Trial 48 pruned. \n"
     ]
    },
    {
     "name": "stderr",
     "output_type": "stream",
     "text": [
      "Best trial: 44. Best value: 0.000381454:  50%|█████     | 50/100 [03:50<02:33,  3.07s/it]"
     ]
    },
    {
     "name": "stdout",
     "output_type": "stream",
     "text": [
      "[I 2025-10-27 23:16:24,361] Trial 49 pruned. \n"
     ]
    },
    {
     "name": "stderr",
     "output_type": "stream",
     "text": [
      "Best trial: 44. Best value: 0.000381454:  51%|█████     | 51/100 [03:52<02:05,  2.56s/it]"
     ]
    },
    {
     "name": "stdout",
     "output_type": "stream",
     "text": [
      "[I 2025-10-27 23:16:25,719] Trial 50 pruned. \n"
     ]
    },
    {
     "name": "stderr",
     "output_type": "stream",
     "text": [
      "Best trial: 44. Best value: 0.000381454:  52%|█████▏    | 52/100 [03:53<01:42,  2.13s/it]"
     ]
    },
    {
     "name": "stdout",
     "output_type": "stream",
     "text": [
      "[I 2025-10-27 23:16:26,852] Trial 51 pruned. \n"
     ]
    },
    {
     "name": "stderr",
     "output_type": "stream",
     "text": [
      "Best trial: 44. Best value: 0.000381454:  53%|█████▎    | 53/100 [03:54<01:24,  1.80s/it]"
     ]
    },
    {
     "name": "stdout",
     "output_type": "stream",
     "text": [
      "[I 2025-10-27 23:16:27,895] Trial 52 pruned. \n"
     ]
    },
    {
     "name": "stderr",
     "output_type": "stream",
     "text": [
      "Best trial: 44. Best value: 0.000381454:  54%|█████▍    | 54/100 [03:55<01:12,  1.58s/it]"
     ]
    },
    {
     "name": "stdout",
     "output_type": "stream",
     "text": [
      "[I 2025-10-27 23:16:28,951] Trial 53 pruned. \n"
     ]
    },
    {
     "name": "stderr",
     "output_type": "stream",
     "text": [
      "Best trial: 44. Best value: 0.000381454:  55%|█████▌    | 55/100 [03:56<01:03,  1.42s/it]"
     ]
    },
    {
     "name": "stdout",
     "output_type": "stream",
     "text": [
      "[I 2025-10-27 23:16:29,985] Trial 54 pruned. \n"
     ]
    },
    {
     "name": "stderr",
     "output_type": "stream",
     "text": [
      "Best trial: 44. Best value: 0.000381454:  56%|█████▌    | 56/100 [04:02<02:00,  2.73s/it]"
     ]
    },
    {
     "name": "stdout",
     "output_type": "stream",
     "text": [
      "[I 2025-10-27 23:16:35,783] Trial 55 finished with value: 0.00043352213965877737 and parameters: {'n_layers': 2, 'n_neurons': 28, 'lr': 0.02291934143104523}. Best is trial 44 with value: 0.0003814537506930511.\n"
     ]
    },
    {
     "name": "stderr",
     "output_type": "stream",
     "text": [
      "Best trial: 44. Best value: 0.000381454:  57%|█████▋    | 57/100 [04:03<01:35,  2.22s/it]"
     ]
    },
    {
     "name": "stdout",
     "output_type": "stream",
     "text": [
      "[I 2025-10-27 23:16:36,818] Trial 56 pruned. \n"
     ]
    },
    {
     "name": "stderr",
     "output_type": "stream",
     "text": [
      "Best trial: 44. Best value: 0.000381454:  58%|█████▊    | 58/100 [04:04<01:18,  1.87s/it]"
     ]
    },
    {
     "name": "stdout",
     "output_type": "stream",
     "text": [
      "[I 2025-10-27 23:16:37,867] Trial 57 pruned. \n"
     ]
    },
    {
     "name": "stderr",
     "output_type": "stream",
     "text": [
      "Best trial: 44. Best value: 0.000381454:  59%|█████▉    | 59/100 [04:05<01:06,  1.63s/it]"
     ]
    },
    {
     "name": "stdout",
     "output_type": "stream",
     "text": [
      "[I 2025-10-27 23:16:38,929] Trial 58 pruned. \n"
     ]
    },
    {
     "name": "stderr",
     "output_type": "stream",
     "text": [
      "Best trial: 44. Best value: 0.000381454:  60%|██████    | 60/100 [04:06<01:01,  1.53s/it]"
     ]
    },
    {
     "name": "stdout",
     "output_type": "stream",
     "text": [
      "[I 2025-10-27 23:16:40,228] Trial 59 pruned. \n"
     ]
    },
    {
     "name": "stderr",
     "output_type": "stream",
     "text": [
      "Best trial: 44. Best value: 0.000381454:  61%|██████    | 61/100 [04:07<00:54,  1.40s/it]"
     ]
    },
    {
     "name": "stdout",
     "output_type": "stream",
     "text": [
      "[I 2025-10-27 23:16:41,338] Trial 60 pruned. \n"
     ]
    },
    {
     "name": "stderr",
     "output_type": "stream",
     "text": [
      "Best trial: 44. Best value: 0.000381454:  62%|██████▏   | 62/100 [04:08<00:49,  1.29s/it]"
     ]
    },
    {
     "name": "stdout",
     "output_type": "stream",
     "text": [
      "[I 2025-10-27 23:16:42,372] Trial 61 pruned. \n"
     ]
    },
    {
     "name": "stderr",
     "output_type": "stream",
     "text": [
      "Best trial: 44. Best value: 0.000381454:  63%|██████▎   | 63/100 [04:09<00:45,  1.22s/it]"
     ]
    },
    {
     "name": "stdout",
     "output_type": "stream",
     "text": [
      "[I 2025-10-27 23:16:43,419] Trial 62 pruned. \n"
     ]
    },
    {
     "name": "stderr",
     "output_type": "stream",
     "text": [
      "Best trial: 44. Best value: 0.000381454:  64%|██████▍   | 64/100 [04:11<00:41,  1.16s/it]"
     ]
    },
    {
     "name": "stdout",
     "output_type": "stream",
     "text": [
      "[I 2025-10-27 23:16:44,458] Trial 63 pruned. \n"
     ]
    },
    {
     "name": "stderr",
     "output_type": "stream",
     "text": [
      "Best trial: 44. Best value: 0.000381454:  65%|██████▌   | 65/100 [04:12<00:42,  1.21s/it]"
     ]
    },
    {
     "name": "stdout",
     "output_type": "stream",
     "text": [
      "[I 2025-10-27 23:16:45,760] Trial 64 pruned. \n"
     ]
    },
    {
     "name": "stderr",
     "output_type": "stream",
     "text": [
      "Best trial: 44. Best value: 0.000381454:  66%|██████▌   | 66/100 [04:21<02:03,  3.63s/it]"
     ]
    },
    {
     "name": "stdout",
     "output_type": "stream",
     "text": [
      "[I 2025-10-27 23:16:55,033] Trial 65 finished with value: 0.0004156098096593518 and parameters: {'n_layers': 2, 'n_neurons': 50, 'lr': 0.01913882288018561}. Best is trial 44 with value: 0.0003814537506930511.\n"
     ]
    },
    {
     "name": "stderr",
     "output_type": "stream",
     "text": [
      "Best trial: 44. Best value: 0.000381454:  67%|██████▋   | 67/100 [04:31<03:00,  5.48s/it]"
     ]
    },
    {
     "name": "stdout",
     "output_type": "stream",
     "text": [
      "[I 2025-10-27 23:17:04,843] Trial 66 finished with value: 0.0003981949732880846 and parameters: {'n_layers': 2, 'n_neurons': 50, 'lr': 0.015029234159248575}. Best is trial 44 with value: 0.0003814537506930511.\n"
     ]
    },
    {
     "name": "stderr",
     "output_type": "stream",
     "text": [
      "Best trial: 44. Best value: 0.000381454:  68%|██████▊   | 68/100 [04:38<03:11,  5.99s/it]"
     ]
    },
    {
     "name": "stdout",
     "output_type": "stream",
     "text": [
      "[I 2025-10-27 23:17:12,028] Trial 67 finished with value: 0.0005071002503016632 and parameters: {'n_layers': 2, 'n_neurons': 50, 'lr': 0.01999793552465397}. Best is trial 44 with value: 0.0003814537506930511.\n"
     ]
    },
    {
     "name": "stderr",
     "output_type": "stream",
     "text": [
      "Best trial: 68. Best value: 0.000220381:  69%|██████▉   | 69/100 [04:48<03:45,  7.27s/it]"
     ]
    },
    {
     "name": "stdout",
     "output_type": "stream",
     "text": [
      "[I 2025-10-27 23:17:22,283] Trial 68 finished with value: 0.00022038071868349436 and parameters: {'n_layers': 2, 'n_neurons': 48, 'lr': 0.015407308060909541}. Best is trial 68 with value: 0.00022038071868349436.\n"
     ]
    },
    {
     "name": "stderr",
     "output_type": "stream",
     "text": [
      "Best trial: 68. Best value: 0.000220381:  70%|███████   | 70/100 [04:54<03:24,  6.82s/it]"
     ]
    },
    {
     "name": "stdout",
     "output_type": "stream",
     "text": [
      "[I 2025-10-27 23:17:28,036] Trial 69 finished with value: 0.0006893944983988575 and parameters: {'n_layers': 2, 'n_neurons': 47, 'lr': 0.015799392873379572}. Best is trial 68 with value: 0.00022038071868349436.\n"
     ]
    },
    {
     "name": "stderr",
     "output_type": "stream",
     "text": [
      "Best trial: 68. Best value: 0.000220381:  71%|███████   | 71/100 [04:56<02:31,  5.21s/it]"
     ]
    },
    {
     "name": "stdout",
     "output_type": "stream",
     "text": [
      "[I 2025-10-27 23:17:29,497] Trial 70 pruned. \n"
     ]
    },
    {
     "name": "stderr",
     "output_type": "stream",
     "text": [
      "Best trial: 68. Best value: 0.000220381:  72%|███████▏  | 72/100 [05:02<02:34,  5.51s/it]"
     ]
    },
    {
     "name": "stdout",
     "output_type": "stream",
     "text": [
      "[I 2025-10-27 23:17:35,702] Trial 71 finished with value: 0.0003889583738924504 and parameters: {'n_layers': 2, 'n_neurons': 44, 'lr': 0.01401583175393817}. Best is trial 68 with value: 0.00022038071868349436.\n"
     ]
    },
    {
     "name": "stderr",
     "output_type": "stream",
     "text": [
      "Best trial: 68. Best value: 0.000220381:  73%|███████▎  | 73/100 [05:03<01:55,  4.27s/it]"
     ]
    },
    {
     "name": "stdout",
     "output_type": "stream",
     "text": [
      "[I 2025-10-27 23:17:37,068] Trial 72 pruned. \n"
     ]
    },
    {
     "name": "stderr",
     "output_type": "stream",
     "text": [
      "Best trial: 68. Best value: 0.000220381:  74%|███████▍  | 74/100 [05:04<01:28,  3.39s/it]"
     ]
    },
    {
     "name": "stdout",
     "output_type": "stream",
     "text": [
      "[I 2025-10-27 23:17:38,427] Trial 73 pruned. \n"
     ]
    },
    {
     "name": "stderr",
     "output_type": "stream",
     "text": [
      "Best trial: 68. Best value: 0.000220381:  75%|███████▌  | 75/100 [05:06<01:09,  2.78s/it]"
     ]
    },
    {
     "name": "stdout",
     "output_type": "stream",
     "text": [
      "[I 2025-10-27 23:17:39,782] Trial 74 pruned. \n"
     ]
    },
    {
     "name": "stderr",
     "output_type": "stream",
     "text": [
      "Best trial: 68. Best value: 0.000220381:  76%|███████▌  | 76/100 [05:07<00:56,  2.36s/it]"
     ]
    },
    {
     "name": "stdout",
     "output_type": "stream",
     "text": [
      "[I 2025-10-27 23:17:41,152] Trial 75 pruned. \n"
     ]
    },
    {
     "name": "stderr",
     "output_type": "stream",
     "text": [
      "Best trial: 68. Best value: 0.000220381:  77%|███████▋  | 77/100 [05:09<00:47,  2.05s/it]"
     ]
    },
    {
     "name": "stdout",
     "output_type": "stream",
     "text": [
      "[I 2025-10-27 23:17:42,496] Trial 76 pruned. \n"
     ]
    },
    {
     "name": "stderr",
     "output_type": "stream",
     "text": [
      "Best trial: 68. Best value: 0.000220381:  78%|███████▊  | 78/100 [05:10<00:40,  1.84s/it]"
     ]
    },
    {
     "name": "stdout",
     "output_type": "stream",
     "text": [
      "[I 2025-10-27 23:17:43,850] Trial 77 pruned. \n"
     ]
    },
    {
     "name": "stderr",
     "output_type": "stream",
     "text": [
      "Best trial: 68. Best value: 0.000220381:  79%|███████▉  | 79/100 [05:22<01:44,  4.99s/it]"
     ]
    },
    {
     "name": "stdout",
     "output_type": "stream",
     "text": [
      "[I 2025-10-27 23:17:56,173] Trial 78 finished with value: 0.0003990430446395697 and parameters: {'n_layers': 2, 'n_neurons': 46, 'lr': 0.015800070702436195}. Best is trial 68 with value: 0.00022038071868349436.\n"
     ]
    },
    {
     "name": "stderr",
     "output_type": "stream",
     "text": [
      "Best trial: 68. Best value: 0.000220381:  80%|████████  | 80/100 [05:24<01:18,  3.91s/it]"
     ]
    },
    {
     "name": "stdout",
     "output_type": "stream",
     "text": [
      "[I 2025-10-27 23:17:57,578] Trial 79 pruned. \n"
     ]
    },
    {
     "name": "stderr",
     "output_type": "stream",
     "text": [
      "Best trial: 68. Best value: 0.000220381:  81%|████████  | 81/100 [05:25<00:57,  3.03s/it]"
     ]
    },
    {
     "name": "stdout",
     "output_type": "stream",
     "text": [
      "[I 2025-10-27 23:17:58,536] Trial 80 pruned. \n"
     ]
    },
    {
     "name": "stderr",
     "output_type": "stream",
     "text": [
      "Best trial: 68. Best value: 0.000220381:  82%|████████▏ | 82/100 [05:34<01:28,  4.91s/it]"
     ]
    },
    {
     "name": "stdout",
     "output_type": "stream",
     "text": [
      "[I 2025-10-27 23:18:07,829] Trial 81 finished with value: 0.000319534026183342 and parameters: {'n_layers': 2, 'n_neurons': 44, 'lr': 0.015199994396165768}. Best is trial 68 with value: 0.00022038071868349436.\n"
     ]
    },
    {
     "name": "stderr",
     "output_type": "stream",
     "text": [
      "Best trial: 68. Best value: 0.000220381:  83%|████████▎ | 83/100 [05:42<01:37,  5.73s/it]"
     ]
    },
    {
     "name": "stdout",
     "output_type": "stream",
     "text": [
      "[I 2025-10-27 23:18:15,490] Trial 82 finished with value: 0.0006140432704815857 and parameters: {'n_layers': 2, 'n_neurons': 43, 'lr': 0.02250515569023796}. Best is trial 68 with value: 0.00022038071868349436.\n"
     ]
    },
    {
     "name": "stderr",
     "output_type": "stream",
     "text": [
      "Best trial: 68. Best value: 0.000220381:  84%|████████▍ | 84/100 [05:43<01:11,  4.44s/it]"
     ]
    },
    {
     "name": "stdout",
     "output_type": "stream",
     "text": [
      "[I 2025-10-27 23:18:16,923] Trial 83 pruned. \n"
     ]
    },
    {
     "name": "stderr",
     "output_type": "stream",
     "text": [
      "Best trial: 68. Best value: 0.000220381:  85%|████████▌ | 85/100 [05:44<00:52,  3.51s/it]"
     ]
    },
    {
     "name": "stdout",
     "output_type": "stream",
     "text": [
      "[I 2025-10-27 23:18:18,264] Trial 84 pruned. \n"
     ]
    },
    {
     "name": "stderr",
     "output_type": "stream",
     "text": [
      "Best trial: 68. Best value: 0.000220381:  86%|████████▌ | 86/100 [05:52<01:05,  4.69s/it]"
     ]
    },
    {
     "name": "stdout",
     "output_type": "stream",
     "text": [
      "[I 2025-10-27 23:18:25,715] Trial 85 finished with value: 0.0005564866721008647 and parameters: {'n_layers': 2, 'n_neurons': 42, 'lr': 0.02896224852708057}. Best is trial 68 with value: 0.00022038071868349436.\n"
     ]
    },
    {
     "name": "stderr",
     "output_type": "stream",
     "text": [
      "Best trial: 68. Best value: 0.000220381:  87%|████████▋ | 87/100 [05:53<00:47,  3.67s/it]"
     ]
    },
    {
     "name": "stdout",
     "output_type": "stream",
     "text": [
      "[I 2025-10-27 23:18:26,995] Trial 86 pruned. \n"
     ]
    },
    {
     "name": "stderr",
     "output_type": "stream",
     "text": [
      "Best trial: 68. Best value: 0.000220381:  88%|████████▊ | 88/100 [06:00<00:57,  4.78s/it]"
     ]
    },
    {
     "name": "stdout",
     "output_type": "stream",
     "text": [
      "[I 2025-10-27 23:18:34,358] Trial 87 finished with value: 0.0006708341591702352 and parameters: {'n_layers': 2, 'n_neurons': 48, 'lr': 0.004300284988753819}. Best is trial 68 with value: 0.00022038071868349436.\n"
     ]
    },
    {
     "name": "stderr",
     "output_type": "stream",
     "text": [
      "Best trial: 68. Best value: 0.000220381:  89%|████████▉ | 89/100 [06:02<00:41,  3.79s/it]"
     ]
    },
    {
     "name": "stdout",
     "output_type": "stream",
     "text": [
      "[I 2025-10-27 23:18:35,837] Trial 88 pruned. \n"
     ]
    },
    {
     "name": "stderr",
     "output_type": "stream",
     "text": [
      "Best trial: 68. Best value: 0.000220381:  90%|█████████ | 90/100 [06:08<00:44,  4.49s/it]"
     ]
    },
    {
     "name": "stdout",
     "output_type": "stream",
     "text": [
      "[I 2025-10-27 23:18:41,982] Trial 89 finished with value: 0.0003706744252511724 and parameters: {'n_layers': 2, 'n_neurons': 50, 'lr': 0.015589981453054224}. Best is trial 68 with value: 0.00022038071868349436.\n"
     ]
    },
    {
     "name": "stderr",
     "output_type": "stream",
     "text": [
      "Best trial: 68. Best value: 0.000220381:  91%|█████████ | 91/100 [06:15<00:47,  5.30s/it]"
     ]
    },
    {
     "name": "stdout",
     "output_type": "stream",
     "text": [
      "[I 2025-10-27 23:18:49,161] Trial 90 finished with value: 0.0004209966110723033 and parameters: {'n_layers': 2, 'n_neurons': 50, 'lr': 0.014829413497378874}. Best is trial 68 with value: 0.00022038071868349436.\n"
     ]
    },
    {
     "name": "stderr",
     "output_type": "stream",
     "text": [
      "Best trial: 68. Best value: 0.000220381:  92%|█████████▏| 92/100 [06:23<00:48,  6.02s/it]"
     ]
    },
    {
     "name": "stdout",
     "output_type": "stream",
     "text": [
      "[I 2025-10-27 23:18:56,863] Trial 91 finished with value: 0.00048773261140311244 and parameters: {'n_layers': 2, 'n_neurons': 50, 'lr': 0.0150184465051191}. Best is trial 68 with value: 0.00022038071868349436.\n"
     ]
    },
    {
     "name": "stderr",
     "output_type": "stream",
     "text": [
      "Best trial: 68. Best value: 0.000220381:  93%|█████████▎| 93/100 [06:24<00:32,  4.63s/it]"
     ]
    },
    {
     "name": "stdout",
     "output_type": "stream",
     "text": [
      "[I 2025-10-27 23:18:58,233] Trial 92 pruned. \n"
     ]
    },
    {
     "name": "stderr",
     "output_type": "stream",
     "text": [
      "Best trial: 68. Best value: 0.000220381:  94%|█████████▍| 94/100 [06:26<00:21,  3.66s/it]"
     ]
    },
    {
     "name": "stdout",
     "output_type": "stream",
     "text": [
      "[I 2025-10-27 23:18:59,639] Trial 93 pruned. \n"
     ]
    },
    {
     "name": "stderr",
     "output_type": "stream",
     "text": [
      "Best trial: 68. Best value: 0.000220381:  95%|█████████▌| 95/100 [06:27<00:14,  3.00s/it]"
     ]
    },
    {
     "name": "stdout",
     "output_type": "stream",
     "text": [
      "[I 2025-10-27 23:19:01,086] Trial 94 pruned. \n"
     ]
    },
    {
     "name": "stderr",
     "output_type": "stream",
     "text": [
      "Best trial: 68. Best value: 0.000220381:  96%|█████████▌| 96/100 [06:29<00:10,  2.51s/it]"
     ]
    },
    {
     "name": "stdout",
     "output_type": "stream",
     "text": [
      "[I 2025-10-27 23:19:02,466] Trial 95 pruned. \n"
     ]
    },
    {
     "name": "stderr",
     "output_type": "stream",
     "text": [
      "Best trial: 68. Best value: 0.000220381:  97%|█████████▋| 97/100 [06:35<00:10,  3.62s/it]"
     ]
    },
    {
     "name": "stdout",
     "output_type": "stream",
     "text": [
      "[I 2025-10-27 23:19:08,678] Trial 96 finished with value: 0.0005872950901153819 and parameters: {'n_layers': 2, 'n_neurons': 46, 'lr': 0.03293167417412305}. Best is trial 68 with value: 0.00022038071868349436.\n"
     ]
    },
    {
     "name": "stderr",
     "output_type": "stream",
     "text": [
      "Best trial: 68. Best value: 0.000220381:  98%|█████████▊| 98/100 [06:44<00:10,  5.45s/it]"
     ]
    },
    {
     "name": "stdout",
     "output_type": "stream",
     "text": [
      "[I 2025-10-27 23:19:18,381] Trial 97 finished with value: 0.00043920407167426576 and parameters: {'n_layers': 2, 'n_neurons': 49, 'lr': 0.009457802762189906}. Best is trial 68 with value: 0.00022038071868349436.\n"
     ]
    },
    {
     "name": "stderr",
     "output_type": "stream",
     "text": [
      "Best trial: 68. Best value: 0.000220381:  99%|█████████▉| 99/100 [06:46<00:04,  4.14s/it]"
     ]
    },
    {
     "name": "stdout",
     "output_type": "stream",
     "text": [
      "[I 2025-10-27 23:19:19,466] Trial 98 pruned. \n"
     ]
    },
    {
     "name": "stderr",
     "output_type": "stream",
     "text": [
      "Best trial: 68. Best value: 0.000220381: 100%|██████████| 100/100 [06:47<00:00,  4.08s/it]"
     ]
    },
    {
     "name": "stdout",
     "output_type": "stream",
     "text": [
      "[I 2025-10-27 23:19:20,955] Trial 99 pruned. \n",
      "\n",
      "--- Estudo Optuna Concluído ---\n",
      "Melhor trial: 68\n",
      "  Melhor RMSE de Validação: 0.000220\n",
      "  Melhores Hiperparâmetros:\n",
      "    n_layers: 2\n",
      "    n_neurons: 48\n",
      "    lr: 0.015407308060909541\n",
      "  Complexidade do Melhor Modelo: 11.17\n"
     ]
    },
    {
     "name": "stderr",
     "output_type": "stream",
     "text": [
      "\n"
     ]
    }
   ],
   "source": [
    "# --- Bloco 6: Execução do Estudo Optuna ---\n",
    "\n",
    "print(\"--- Iniciando Estudo Optuna ---\")\n",
    "# Habilitar o Pruner (Poda) para cortar trials ruins\n",
    "pruner = optuna.pruners.MedianPruner(n_warmup_steps=10)\n",
    "\n",
    "study = optuna.create_study(direction='minimize', pruner=pruner)\n",
    "study.optimize(objective, n_trials=100, show_progress_bar=True)\n",
    "\n",
    "print(\"\\n--- Estudo Optuna Concluído ---\")\n",
    "print(f\"Melhor trial: {study.best_trial.number}\")\n",
    "print(f\"  Melhor RMSE de Validação: {study.best_value:.6f}\")\n",
    "print(\"  Melhores Hiperparâmetros:\")\n",
    "for key, value in study.best_params.items():\n",
    "    print(f\"    {key}: {value}\")\n",
    "    \n",
    "complexity = study.best_trial.user_attrs['complexity']\n",
    "print(f\"  Complexidade do Melhor Modelo: {complexity:.2f}\")"
   ]
  },
  {
   "cell_type": "code",
   "execution_count": 32,
   "id": "ad0076b5",
   "metadata": {},
   "outputs": [
    {
     "name": "stdout",
     "output_type": "stream",
     "text": [
      "Gerando gráficos do Optuna...\n"
     ]
    },
    {
     "data": {
      "application/vnd.plotly.v1+json": {
       "config": {
        "plotlyServerURL": "https://plot.ly"
       },
       "data": [
        {
         "mode": "markers",
         "name": "Objective Value",
         "type": "scatter",
         "x": [
          0,
          1,
          2,
          3,
          4,
          5,
          29,
          33,
          36,
          37,
          43,
          44,
          46,
          55,
          65,
          66,
          67,
          68,
          69,
          71,
          78,
          81,
          82,
          85,
          87,
          89,
          90,
          91,
          96,
          97
         ],
         "y": [
          0.0005999468499971382,
          0.5383282992725004,
          0.5383282992725004,
          0.5383282992725004,
          0.0006740007126713254,
          0.0007707219352415622,
          0.0006411935625167692,
          0.000803599110750386,
          0.00045371418754539526,
          0.00047598059980563906,
          0.0005063033894277849,
          0.0003814537506930511,
          0.0006017524457142855,
          0.00043352213965877737,
          0.0004156098096593518,
          0.0003981949732880846,
          0.0005071002503016632,
          0.00022038071868349436,
          0.0006893944983988575,
          0.0003889583738924504,
          0.0003990430446395697,
          0.000319534026183342,
          0.0006140432704815857,
          0.0005564866721008647,
          0.0006708341591702352,
          0.0003706744252511724,
          0.0004209966110723033,
          0.00048773261140311244,
          0.0005872950901153819,
          0.00043920407167426576
         ]
        },
        {
         "mode": "lines",
         "name": "Best Value",
         "type": "scatter",
         "x": [
          0,
          1,
          2,
          3,
          4,
          5,
          6,
          7,
          8,
          9,
          10,
          11,
          12,
          13,
          14,
          15,
          16,
          17,
          18,
          19,
          20,
          21,
          22,
          23,
          24,
          25,
          26,
          27,
          28,
          29,
          30,
          31,
          32,
          33,
          34,
          35,
          36,
          37,
          38,
          39,
          40,
          41,
          42,
          43,
          44,
          45,
          46,
          47,
          48,
          49,
          50,
          51,
          52,
          53,
          54,
          55,
          56,
          57,
          58,
          59,
          60,
          61,
          62,
          63,
          64,
          65,
          66,
          67,
          68,
          69,
          70,
          71,
          72,
          73,
          74,
          75,
          76,
          77,
          78,
          79,
          80,
          81,
          82,
          83,
          84,
          85,
          86,
          87,
          88,
          89,
          90,
          91,
          92,
          93,
          94,
          95,
          96,
          97,
          98,
          99
         ],
         "y": [
          0.0005999468499971382,
          0.0005999468499971382,
          0.0005999468499971382,
          0.0005999468499971382,
          0.0005999468499971382,
          0.0005999468499971382,
          0.0005999468499971382,
          0.0005999468499971382,
          0.0005999468499971382,
          0.0005999468499971382,
          0.0005999468499971382,
          0.0005999468499971382,
          0.0005999468499971382,
          0.0005999468499971382,
          0.0005999468499971382,
          0.0005999468499971382,
          0.0005999468499971382,
          0.0005999468499971382,
          0.0005999468499971382,
          0.0005999468499971382,
          0.0005999468499971382,
          0.0005999468499971382,
          0.0005999468499971382,
          0.0005999468499971382,
          0.0005999468499971382,
          0.0005999468499971382,
          0.0005999468499971382,
          0.0005999468499971382,
          0.0005999468499971382,
          0.0005999468499971382,
          0.0005999468499971382,
          0.0005999468499971382,
          0.0005999468499971382,
          0.0005999468499971382,
          0.0005999468499971382,
          0.0005999468499971382,
          0.00045371418754539526,
          0.00045371418754539526,
          0.00045371418754539526,
          0.00045371418754539526,
          0.00045371418754539526,
          0.00045371418754539526,
          0.00045371418754539526,
          0.00045371418754539526,
          0.0003814537506930511,
          0.0003814537506930511,
          0.0003814537506930511,
          0.0003814537506930511,
          0.0003814537506930511,
          0.0003814537506930511,
          0.0003814537506930511,
          0.0003814537506930511,
          0.0003814537506930511,
          0.0003814537506930511,
          0.0003814537506930511,
          0.0003814537506930511,
          0.0003814537506930511,
          0.0003814537506930511,
          0.0003814537506930511,
          0.0003814537506930511,
          0.0003814537506930511,
          0.0003814537506930511,
          0.0003814537506930511,
          0.0003814537506930511,
          0.0003814537506930511,
          0.0003814537506930511,
          0.0003814537506930511,
          0.0003814537506930511,
          0.00022038071868349436,
          0.00022038071868349436,
          0.00022038071868349436,
          0.00022038071868349436,
          0.00022038071868349436,
          0.00022038071868349436,
          0.00022038071868349436,
          0.00022038071868349436,
          0.00022038071868349436,
          0.00022038071868349436,
          0.00022038071868349436,
          0.00022038071868349436,
          0.00022038071868349436,
          0.00022038071868349436,
          0.00022038071868349436,
          0.00022038071868349436,
          0.00022038071868349436,
          0.00022038071868349436,
          0.00022038071868349436,
          0.00022038071868349436,
          0.00022038071868349436,
          0.00022038071868349436,
          0.00022038071868349436,
          0.00022038071868349436,
          0.00022038071868349436,
          0.00022038071868349436,
          0.00022038071868349436,
          0.00022038071868349436,
          0.00022038071868349436,
          0.00022038071868349436,
          0.00022038071868349436,
          0.00022038071868349436
         ]
        },
        {
         "marker": {
          "color": "#cccccc"
         },
         "mode": "markers",
         "name": "Infeasible Trial",
         "showlegend": false,
         "type": "scatter",
         "x": [],
         "y": []
        }
       ],
       "layout": {
        "template": {
         "data": {
          "bar": [
           {
            "error_x": {
             "color": "#2a3f5f"
            },
            "error_y": {
             "color": "#2a3f5f"
            },
            "marker": {
             "line": {
              "color": "#E5ECF6",
              "width": 0.5
             },
             "pattern": {
              "fillmode": "overlay",
              "size": 10,
              "solidity": 0.2
             }
            },
            "type": "bar"
           }
          ],
          "barpolar": [
           {
            "marker": {
             "line": {
              "color": "#E5ECF6",
              "width": 0.5
             },
             "pattern": {
              "fillmode": "overlay",
              "size": 10,
              "solidity": 0.2
             }
            },
            "type": "barpolar"
           }
          ],
          "carpet": [
           {
            "aaxis": {
             "endlinecolor": "#2a3f5f",
             "gridcolor": "white",
             "linecolor": "white",
             "minorgridcolor": "white",
             "startlinecolor": "#2a3f5f"
            },
            "baxis": {
             "endlinecolor": "#2a3f5f",
             "gridcolor": "white",
             "linecolor": "white",
             "minorgridcolor": "white",
             "startlinecolor": "#2a3f5f"
            },
            "type": "carpet"
           }
          ],
          "choropleth": [
           {
            "colorbar": {
             "outlinewidth": 0,
             "ticks": ""
            },
            "type": "choropleth"
           }
          ],
          "contour": [
           {
            "colorbar": {
             "outlinewidth": 0,
             "ticks": ""
            },
            "colorscale": [
             [
              0,
              "#0d0887"
             ],
             [
              0.1111111111111111,
              "#46039f"
             ],
             [
              0.2222222222222222,
              "#7201a8"
             ],
             [
              0.3333333333333333,
              "#9c179e"
             ],
             [
              0.4444444444444444,
              "#bd3786"
             ],
             [
              0.5555555555555556,
              "#d8576b"
             ],
             [
              0.6666666666666666,
              "#ed7953"
             ],
             [
              0.7777777777777778,
              "#fb9f3a"
             ],
             [
              0.8888888888888888,
              "#fdca26"
             ],
             [
              1,
              "#f0f921"
             ]
            ],
            "type": "contour"
           }
          ],
          "contourcarpet": [
           {
            "colorbar": {
             "outlinewidth": 0,
             "ticks": ""
            },
            "type": "contourcarpet"
           }
          ],
          "heatmap": [
           {
            "colorbar": {
             "outlinewidth": 0,
             "ticks": ""
            },
            "colorscale": [
             [
              0,
              "#0d0887"
             ],
             [
              0.1111111111111111,
              "#46039f"
             ],
             [
              0.2222222222222222,
              "#7201a8"
             ],
             [
              0.3333333333333333,
              "#9c179e"
             ],
             [
              0.4444444444444444,
              "#bd3786"
             ],
             [
              0.5555555555555556,
              "#d8576b"
             ],
             [
              0.6666666666666666,
              "#ed7953"
             ],
             [
              0.7777777777777778,
              "#fb9f3a"
             ],
             [
              0.8888888888888888,
              "#fdca26"
             ],
             [
              1,
              "#f0f921"
             ]
            ],
            "type": "heatmap"
           }
          ],
          "histogram": [
           {
            "marker": {
             "pattern": {
              "fillmode": "overlay",
              "size": 10,
              "solidity": 0.2
             }
            },
            "type": "histogram"
           }
          ],
          "histogram2d": [
           {
            "colorbar": {
             "outlinewidth": 0,
             "ticks": ""
            },
            "colorscale": [
             [
              0,
              "#0d0887"
             ],
             [
              0.1111111111111111,
              "#46039f"
             ],
             [
              0.2222222222222222,
              "#7201a8"
             ],
             [
              0.3333333333333333,
              "#9c179e"
             ],
             [
              0.4444444444444444,
              "#bd3786"
             ],
             [
              0.5555555555555556,
              "#d8576b"
             ],
             [
              0.6666666666666666,
              "#ed7953"
             ],
             [
              0.7777777777777778,
              "#fb9f3a"
             ],
             [
              0.8888888888888888,
              "#fdca26"
             ],
             [
              1,
              "#f0f921"
             ]
            ],
            "type": "histogram2d"
           }
          ],
          "histogram2dcontour": [
           {
            "colorbar": {
             "outlinewidth": 0,
             "ticks": ""
            },
            "colorscale": [
             [
              0,
              "#0d0887"
             ],
             [
              0.1111111111111111,
              "#46039f"
             ],
             [
              0.2222222222222222,
              "#7201a8"
             ],
             [
              0.3333333333333333,
              "#9c179e"
             ],
             [
              0.4444444444444444,
              "#bd3786"
             ],
             [
              0.5555555555555556,
              "#d8576b"
             ],
             [
              0.6666666666666666,
              "#ed7953"
             ],
             [
              0.7777777777777778,
              "#fb9f3a"
             ],
             [
              0.8888888888888888,
              "#fdca26"
             ],
             [
              1,
              "#f0f921"
             ]
            ],
            "type": "histogram2dcontour"
           }
          ],
          "mesh3d": [
           {
            "colorbar": {
             "outlinewidth": 0,
             "ticks": ""
            },
            "type": "mesh3d"
           }
          ],
          "parcoords": [
           {
            "line": {
             "colorbar": {
              "outlinewidth": 0,
              "ticks": ""
             }
            },
            "type": "parcoords"
           }
          ],
          "pie": [
           {
            "automargin": true,
            "type": "pie"
           }
          ],
          "scatter": [
           {
            "fillpattern": {
             "fillmode": "overlay",
             "size": 10,
             "solidity": 0.2
            },
            "type": "scatter"
           }
          ],
          "scatter3d": [
           {
            "line": {
             "colorbar": {
              "outlinewidth": 0,
              "ticks": ""
             }
            },
            "marker": {
             "colorbar": {
              "outlinewidth": 0,
              "ticks": ""
             }
            },
            "type": "scatter3d"
           }
          ],
          "scattercarpet": [
           {
            "marker": {
             "colorbar": {
              "outlinewidth": 0,
              "ticks": ""
             }
            },
            "type": "scattercarpet"
           }
          ],
          "scattergeo": [
           {
            "marker": {
             "colorbar": {
              "outlinewidth": 0,
              "ticks": ""
             }
            },
            "type": "scattergeo"
           }
          ],
          "scattergl": [
           {
            "marker": {
             "colorbar": {
              "outlinewidth": 0,
              "ticks": ""
             }
            },
            "type": "scattergl"
           }
          ],
          "scattermap": [
           {
            "marker": {
             "colorbar": {
              "outlinewidth": 0,
              "ticks": ""
             }
            },
            "type": "scattermap"
           }
          ],
          "scattermapbox": [
           {
            "marker": {
             "colorbar": {
              "outlinewidth": 0,
              "ticks": ""
             }
            },
            "type": "scattermapbox"
           }
          ],
          "scatterpolar": [
           {
            "marker": {
             "colorbar": {
              "outlinewidth": 0,
              "ticks": ""
             }
            },
            "type": "scatterpolar"
           }
          ],
          "scatterpolargl": [
           {
            "marker": {
             "colorbar": {
              "outlinewidth": 0,
              "ticks": ""
             }
            },
            "type": "scatterpolargl"
           }
          ],
          "scatterternary": [
           {
            "marker": {
             "colorbar": {
              "outlinewidth": 0,
              "ticks": ""
             }
            },
            "type": "scatterternary"
           }
          ],
          "surface": [
           {
            "colorbar": {
             "outlinewidth": 0,
             "ticks": ""
            },
            "colorscale": [
             [
              0,
              "#0d0887"
             ],
             [
              0.1111111111111111,
              "#46039f"
             ],
             [
              0.2222222222222222,
              "#7201a8"
             ],
             [
              0.3333333333333333,
              "#9c179e"
             ],
             [
              0.4444444444444444,
              "#bd3786"
             ],
             [
              0.5555555555555556,
              "#d8576b"
             ],
             [
              0.6666666666666666,
              "#ed7953"
             ],
             [
              0.7777777777777778,
              "#fb9f3a"
             ],
             [
              0.8888888888888888,
              "#fdca26"
             ],
             [
              1,
              "#f0f921"
             ]
            ],
            "type": "surface"
           }
          ],
          "table": [
           {
            "cells": {
             "fill": {
              "color": "#EBF0F8"
             },
             "line": {
              "color": "white"
             }
            },
            "header": {
             "fill": {
              "color": "#C8D4E3"
             },
             "line": {
              "color": "white"
             }
            },
            "type": "table"
           }
          ]
         },
         "layout": {
          "annotationdefaults": {
           "arrowcolor": "#2a3f5f",
           "arrowhead": 0,
           "arrowwidth": 1
          },
          "autotypenumbers": "strict",
          "coloraxis": {
           "colorbar": {
            "outlinewidth": 0,
            "ticks": ""
           }
          },
          "colorscale": {
           "diverging": [
            [
             0,
             "#8e0152"
            ],
            [
             0.1,
             "#c51b7d"
            ],
            [
             0.2,
             "#de77ae"
            ],
            [
             0.3,
             "#f1b6da"
            ],
            [
             0.4,
             "#fde0ef"
            ],
            [
             0.5,
             "#f7f7f7"
            ],
            [
             0.6,
             "#e6f5d0"
            ],
            [
             0.7,
             "#b8e186"
            ],
            [
             0.8,
             "#7fbc41"
            ],
            [
             0.9,
             "#4d9221"
            ],
            [
             1,
             "#276419"
            ]
           ],
           "sequential": [
            [
             0,
             "#0d0887"
            ],
            [
             0.1111111111111111,
             "#46039f"
            ],
            [
             0.2222222222222222,
             "#7201a8"
            ],
            [
             0.3333333333333333,
             "#9c179e"
            ],
            [
             0.4444444444444444,
             "#bd3786"
            ],
            [
             0.5555555555555556,
             "#d8576b"
            ],
            [
             0.6666666666666666,
             "#ed7953"
            ],
            [
             0.7777777777777778,
             "#fb9f3a"
            ],
            [
             0.8888888888888888,
             "#fdca26"
            ],
            [
             1,
             "#f0f921"
            ]
           ],
           "sequentialminus": [
            [
             0,
             "#0d0887"
            ],
            [
             0.1111111111111111,
             "#46039f"
            ],
            [
             0.2222222222222222,
             "#7201a8"
            ],
            [
             0.3333333333333333,
             "#9c179e"
            ],
            [
             0.4444444444444444,
             "#bd3786"
            ],
            [
             0.5555555555555556,
             "#d8576b"
            ],
            [
             0.6666666666666666,
             "#ed7953"
            ],
            [
             0.7777777777777778,
             "#fb9f3a"
            ],
            [
             0.8888888888888888,
             "#fdca26"
            ],
            [
             1,
             "#f0f921"
            ]
           ]
          },
          "colorway": [
           "#636efa",
           "#EF553B",
           "#00cc96",
           "#ab63fa",
           "#FFA15A",
           "#19d3f3",
           "#FF6692",
           "#B6E880",
           "#FF97FF",
           "#FECB52"
          ],
          "font": {
           "color": "#2a3f5f"
          },
          "geo": {
           "bgcolor": "white",
           "lakecolor": "white",
           "landcolor": "#E5ECF6",
           "showlakes": true,
           "showland": true,
           "subunitcolor": "white"
          },
          "hoverlabel": {
           "align": "left"
          },
          "hovermode": "closest",
          "mapbox": {
           "style": "light"
          },
          "paper_bgcolor": "white",
          "plot_bgcolor": "#E5ECF6",
          "polar": {
           "angularaxis": {
            "gridcolor": "white",
            "linecolor": "white",
            "ticks": ""
           },
           "bgcolor": "#E5ECF6",
           "radialaxis": {
            "gridcolor": "white",
            "linecolor": "white",
            "ticks": ""
           }
          },
          "scene": {
           "xaxis": {
            "backgroundcolor": "#E5ECF6",
            "gridcolor": "white",
            "gridwidth": 2,
            "linecolor": "white",
            "showbackground": true,
            "ticks": "",
            "zerolinecolor": "white"
           },
           "yaxis": {
            "backgroundcolor": "#E5ECF6",
            "gridcolor": "white",
            "gridwidth": 2,
            "linecolor": "white",
            "showbackground": true,
            "ticks": "",
            "zerolinecolor": "white"
           },
           "zaxis": {
            "backgroundcolor": "#E5ECF6",
            "gridcolor": "white",
            "gridwidth": 2,
            "linecolor": "white",
            "showbackground": true,
            "ticks": "",
            "zerolinecolor": "white"
           }
          },
          "shapedefaults": {
           "line": {
            "color": "#2a3f5f"
           }
          },
          "ternary": {
           "aaxis": {
            "gridcolor": "white",
            "linecolor": "white",
            "ticks": ""
           },
           "baxis": {
            "gridcolor": "white",
            "linecolor": "white",
            "ticks": ""
           },
           "bgcolor": "#E5ECF6",
           "caxis": {
            "gridcolor": "white",
            "linecolor": "white",
            "ticks": ""
           }
          },
          "title": {
           "x": 0.05
          },
          "xaxis": {
           "automargin": true,
           "gridcolor": "white",
           "linecolor": "white",
           "ticks": "",
           "title": {
            "standoff": 15
           },
           "zerolinecolor": "white",
           "zerolinewidth": 2
          },
          "yaxis": {
           "automargin": true,
           "gridcolor": "white",
           "linecolor": "white",
           "ticks": "",
           "title": {
            "standoff": 15
           },
           "zerolinecolor": "white",
           "zerolinewidth": 2
          }
         }
        },
        "title": {
         "text": "Optimization History Plot"
        },
        "xaxis": {
         "title": {
          "text": "Trial"
         }
        },
        "yaxis": {
         "title": {
          "text": "Objective Value"
         }
        }
       }
      }
     },
     "metadata": {},
     "output_type": "display_data"
    },
    {
     "data": {
      "application/vnd.plotly.v1+json": {
       "config": {
        "plotlyServerURL": "https://plot.ly"
       },
       "data": [
        {
         "cliponaxis": false,
         "hovertemplate": [
          "n_layers (IntDistribution): 1.0219063523455194e-06<extra></extra>",
          "lr (FloatDistribution): 0.4026595869238748<extra></extra>",
          "n_neurons (IntDistribution): 0.5973393911697729<extra></extra>"
         ],
         "name": "Objective Value",
         "orientation": "h",
         "text": [
          "<0.01",
          "0.40",
          "0.60"
         ],
         "textposition": "outside",
         "type": "bar",
         "x": [
          0.0000010219063523455194,
          0.4026595869238748,
          0.5973393911697729
         ],
         "y": [
          "n_layers",
          "lr",
          "n_neurons"
         ]
        }
       ],
       "layout": {
        "template": {
         "data": {
          "bar": [
           {
            "error_x": {
             "color": "#2a3f5f"
            },
            "error_y": {
             "color": "#2a3f5f"
            },
            "marker": {
             "line": {
              "color": "#E5ECF6",
              "width": 0.5
             },
             "pattern": {
              "fillmode": "overlay",
              "size": 10,
              "solidity": 0.2
             }
            },
            "type": "bar"
           }
          ],
          "barpolar": [
           {
            "marker": {
             "line": {
              "color": "#E5ECF6",
              "width": 0.5
             },
             "pattern": {
              "fillmode": "overlay",
              "size": 10,
              "solidity": 0.2
             }
            },
            "type": "barpolar"
           }
          ],
          "carpet": [
           {
            "aaxis": {
             "endlinecolor": "#2a3f5f",
             "gridcolor": "white",
             "linecolor": "white",
             "minorgridcolor": "white",
             "startlinecolor": "#2a3f5f"
            },
            "baxis": {
             "endlinecolor": "#2a3f5f",
             "gridcolor": "white",
             "linecolor": "white",
             "minorgridcolor": "white",
             "startlinecolor": "#2a3f5f"
            },
            "type": "carpet"
           }
          ],
          "choropleth": [
           {
            "colorbar": {
             "outlinewidth": 0,
             "ticks": ""
            },
            "type": "choropleth"
           }
          ],
          "contour": [
           {
            "colorbar": {
             "outlinewidth": 0,
             "ticks": ""
            },
            "colorscale": [
             [
              0,
              "#0d0887"
             ],
             [
              0.1111111111111111,
              "#46039f"
             ],
             [
              0.2222222222222222,
              "#7201a8"
             ],
             [
              0.3333333333333333,
              "#9c179e"
             ],
             [
              0.4444444444444444,
              "#bd3786"
             ],
             [
              0.5555555555555556,
              "#d8576b"
             ],
             [
              0.6666666666666666,
              "#ed7953"
             ],
             [
              0.7777777777777778,
              "#fb9f3a"
             ],
             [
              0.8888888888888888,
              "#fdca26"
             ],
             [
              1,
              "#f0f921"
             ]
            ],
            "type": "contour"
           }
          ],
          "contourcarpet": [
           {
            "colorbar": {
             "outlinewidth": 0,
             "ticks": ""
            },
            "type": "contourcarpet"
           }
          ],
          "heatmap": [
           {
            "colorbar": {
             "outlinewidth": 0,
             "ticks": ""
            },
            "colorscale": [
             [
              0,
              "#0d0887"
             ],
             [
              0.1111111111111111,
              "#46039f"
             ],
             [
              0.2222222222222222,
              "#7201a8"
             ],
             [
              0.3333333333333333,
              "#9c179e"
             ],
             [
              0.4444444444444444,
              "#bd3786"
             ],
             [
              0.5555555555555556,
              "#d8576b"
             ],
             [
              0.6666666666666666,
              "#ed7953"
             ],
             [
              0.7777777777777778,
              "#fb9f3a"
             ],
             [
              0.8888888888888888,
              "#fdca26"
             ],
             [
              1,
              "#f0f921"
             ]
            ],
            "type": "heatmap"
           }
          ],
          "histogram": [
           {
            "marker": {
             "pattern": {
              "fillmode": "overlay",
              "size": 10,
              "solidity": 0.2
             }
            },
            "type": "histogram"
           }
          ],
          "histogram2d": [
           {
            "colorbar": {
             "outlinewidth": 0,
             "ticks": ""
            },
            "colorscale": [
             [
              0,
              "#0d0887"
             ],
             [
              0.1111111111111111,
              "#46039f"
             ],
             [
              0.2222222222222222,
              "#7201a8"
             ],
             [
              0.3333333333333333,
              "#9c179e"
             ],
             [
              0.4444444444444444,
              "#bd3786"
             ],
             [
              0.5555555555555556,
              "#d8576b"
             ],
             [
              0.6666666666666666,
              "#ed7953"
             ],
             [
              0.7777777777777778,
              "#fb9f3a"
             ],
             [
              0.8888888888888888,
              "#fdca26"
             ],
             [
              1,
              "#f0f921"
             ]
            ],
            "type": "histogram2d"
           }
          ],
          "histogram2dcontour": [
           {
            "colorbar": {
             "outlinewidth": 0,
             "ticks": ""
            },
            "colorscale": [
             [
              0,
              "#0d0887"
             ],
             [
              0.1111111111111111,
              "#46039f"
             ],
             [
              0.2222222222222222,
              "#7201a8"
             ],
             [
              0.3333333333333333,
              "#9c179e"
             ],
             [
              0.4444444444444444,
              "#bd3786"
             ],
             [
              0.5555555555555556,
              "#d8576b"
             ],
             [
              0.6666666666666666,
              "#ed7953"
             ],
             [
              0.7777777777777778,
              "#fb9f3a"
             ],
             [
              0.8888888888888888,
              "#fdca26"
             ],
             [
              1,
              "#f0f921"
             ]
            ],
            "type": "histogram2dcontour"
           }
          ],
          "mesh3d": [
           {
            "colorbar": {
             "outlinewidth": 0,
             "ticks": ""
            },
            "type": "mesh3d"
           }
          ],
          "parcoords": [
           {
            "line": {
             "colorbar": {
              "outlinewidth": 0,
              "ticks": ""
             }
            },
            "type": "parcoords"
           }
          ],
          "pie": [
           {
            "automargin": true,
            "type": "pie"
           }
          ],
          "scatter": [
           {
            "fillpattern": {
             "fillmode": "overlay",
             "size": 10,
             "solidity": 0.2
            },
            "type": "scatter"
           }
          ],
          "scatter3d": [
           {
            "line": {
             "colorbar": {
              "outlinewidth": 0,
              "ticks": ""
             }
            },
            "marker": {
             "colorbar": {
              "outlinewidth": 0,
              "ticks": ""
             }
            },
            "type": "scatter3d"
           }
          ],
          "scattercarpet": [
           {
            "marker": {
             "colorbar": {
              "outlinewidth": 0,
              "ticks": ""
             }
            },
            "type": "scattercarpet"
           }
          ],
          "scattergeo": [
           {
            "marker": {
             "colorbar": {
              "outlinewidth": 0,
              "ticks": ""
             }
            },
            "type": "scattergeo"
           }
          ],
          "scattergl": [
           {
            "marker": {
             "colorbar": {
              "outlinewidth": 0,
              "ticks": ""
             }
            },
            "type": "scattergl"
           }
          ],
          "scattermap": [
           {
            "marker": {
             "colorbar": {
              "outlinewidth": 0,
              "ticks": ""
             }
            },
            "type": "scattermap"
           }
          ],
          "scattermapbox": [
           {
            "marker": {
             "colorbar": {
              "outlinewidth": 0,
              "ticks": ""
             }
            },
            "type": "scattermapbox"
           }
          ],
          "scatterpolar": [
           {
            "marker": {
             "colorbar": {
              "outlinewidth": 0,
              "ticks": ""
             }
            },
            "type": "scatterpolar"
           }
          ],
          "scatterpolargl": [
           {
            "marker": {
             "colorbar": {
              "outlinewidth": 0,
              "ticks": ""
             }
            },
            "type": "scatterpolargl"
           }
          ],
          "scatterternary": [
           {
            "marker": {
             "colorbar": {
              "outlinewidth": 0,
              "ticks": ""
             }
            },
            "type": "scatterternary"
           }
          ],
          "surface": [
           {
            "colorbar": {
             "outlinewidth": 0,
             "ticks": ""
            },
            "colorscale": [
             [
              0,
              "#0d0887"
             ],
             [
              0.1111111111111111,
              "#46039f"
             ],
             [
              0.2222222222222222,
              "#7201a8"
             ],
             [
              0.3333333333333333,
              "#9c179e"
             ],
             [
              0.4444444444444444,
              "#bd3786"
             ],
             [
              0.5555555555555556,
              "#d8576b"
             ],
             [
              0.6666666666666666,
              "#ed7953"
             ],
             [
              0.7777777777777778,
              "#fb9f3a"
             ],
             [
              0.8888888888888888,
              "#fdca26"
             ],
             [
              1,
              "#f0f921"
             ]
            ],
            "type": "surface"
           }
          ],
          "table": [
           {
            "cells": {
             "fill": {
              "color": "#EBF0F8"
             },
             "line": {
              "color": "white"
             }
            },
            "header": {
             "fill": {
              "color": "#C8D4E3"
             },
             "line": {
              "color": "white"
             }
            },
            "type": "table"
           }
          ]
         },
         "layout": {
          "annotationdefaults": {
           "arrowcolor": "#2a3f5f",
           "arrowhead": 0,
           "arrowwidth": 1
          },
          "autotypenumbers": "strict",
          "coloraxis": {
           "colorbar": {
            "outlinewidth": 0,
            "ticks": ""
           }
          },
          "colorscale": {
           "diverging": [
            [
             0,
             "#8e0152"
            ],
            [
             0.1,
             "#c51b7d"
            ],
            [
             0.2,
             "#de77ae"
            ],
            [
             0.3,
             "#f1b6da"
            ],
            [
             0.4,
             "#fde0ef"
            ],
            [
             0.5,
             "#f7f7f7"
            ],
            [
             0.6,
             "#e6f5d0"
            ],
            [
             0.7,
             "#b8e186"
            ],
            [
             0.8,
             "#7fbc41"
            ],
            [
             0.9,
             "#4d9221"
            ],
            [
             1,
             "#276419"
            ]
           ],
           "sequential": [
            [
             0,
             "#0d0887"
            ],
            [
             0.1111111111111111,
             "#46039f"
            ],
            [
             0.2222222222222222,
             "#7201a8"
            ],
            [
             0.3333333333333333,
             "#9c179e"
            ],
            [
             0.4444444444444444,
             "#bd3786"
            ],
            [
             0.5555555555555556,
             "#d8576b"
            ],
            [
             0.6666666666666666,
             "#ed7953"
            ],
            [
             0.7777777777777778,
             "#fb9f3a"
            ],
            [
             0.8888888888888888,
             "#fdca26"
            ],
            [
             1,
             "#f0f921"
            ]
           ],
           "sequentialminus": [
            [
             0,
             "#0d0887"
            ],
            [
             0.1111111111111111,
             "#46039f"
            ],
            [
             0.2222222222222222,
             "#7201a8"
            ],
            [
             0.3333333333333333,
             "#9c179e"
            ],
            [
             0.4444444444444444,
             "#bd3786"
            ],
            [
             0.5555555555555556,
             "#d8576b"
            ],
            [
             0.6666666666666666,
             "#ed7953"
            ],
            [
             0.7777777777777778,
             "#fb9f3a"
            ],
            [
             0.8888888888888888,
             "#fdca26"
            ],
            [
             1,
             "#f0f921"
            ]
           ]
          },
          "colorway": [
           "#636efa",
           "#EF553B",
           "#00cc96",
           "#ab63fa",
           "#FFA15A",
           "#19d3f3",
           "#FF6692",
           "#B6E880",
           "#FF97FF",
           "#FECB52"
          ],
          "font": {
           "color": "#2a3f5f"
          },
          "geo": {
           "bgcolor": "white",
           "lakecolor": "white",
           "landcolor": "#E5ECF6",
           "showlakes": true,
           "showland": true,
           "subunitcolor": "white"
          },
          "hoverlabel": {
           "align": "left"
          },
          "hovermode": "closest",
          "mapbox": {
           "style": "light"
          },
          "paper_bgcolor": "white",
          "plot_bgcolor": "#E5ECF6",
          "polar": {
           "angularaxis": {
            "gridcolor": "white",
            "linecolor": "white",
            "ticks": ""
           },
           "bgcolor": "#E5ECF6",
           "radialaxis": {
            "gridcolor": "white",
            "linecolor": "white",
            "ticks": ""
           }
          },
          "scene": {
           "xaxis": {
            "backgroundcolor": "#E5ECF6",
            "gridcolor": "white",
            "gridwidth": 2,
            "linecolor": "white",
            "showbackground": true,
            "ticks": "",
            "zerolinecolor": "white"
           },
           "yaxis": {
            "backgroundcolor": "#E5ECF6",
            "gridcolor": "white",
            "gridwidth": 2,
            "linecolor": "white",
            "showbackground": true,
            "ticks": "",
            "zerolinecolor": "white"
           },
           "zaxis": {
            "backgroundcolor": "#E5ECF6",
            "gridcolor": "white",
            "gridwidth": 2,
            "linecolor": "white",
            "showbackground": true,
            "ticks": "",
            "zerolinecolor": "white"
           }
          },
          "shapedefaults": {
           "line": {
            "color": "#2a3f5f"
           }
          },
          "ternary": {
           "aaxis": {
            "gridcolor": "white",
            "linecolor": "white",
            "ticks": ""
           },
           "baxis": {
            "gridcolor": "white",
            "linecolor": "white",
            "ticks": ""
           },
           "bgcolor": "#E5ECF6",
           "caxis": {
            "gridcolor": "white",
            "linecolor": "white",
            "ticks": ""
           }
          },
          "title": {
           "x": 0.05
          },
          "xaxis": {
           "automargin": true,
           "gridcolor": "white",
           "linecolor": "white",
           "ticks": "",
           "title": {
            "standoff": 15
           },
           "zerolinecolor": "white",
           "zerolinewidth": 2
          },
          "yaxis": {
           "automargin": true,
           "gridcolor": "white",
           "linecolor": "white",
           "ticks": "",
           "title": {
            "standoff": 15
           },
           "zerolinecolor": "white",
           "zerolinewidth": 2
          }
         }
        },
        "title": {
         "text": "Hyperparameter Importances"
        },
        "xaxis": {
         "title": {
          "text": "Hyperparameter Importance"
         }
        },
        "yaxis": {
         "title": {
          "text": "Hyperparameter"
         }
        }
       }
      }
     },
     "metadata": {},
     "output_type": "display_data"
    },
    {
     "data": {
      "application/vnd.plotly.v1+json": {
       "config": {
        "plotlyServerURL": "https://plot.ly"
       },
       "data": [
        {
         "marker": {
          "color": [
           0.0005999468499971382,
           0.5383282992725004,
           0.5383282992725004,
           0.5383282992725004,
           0.0006740007126713254,
           0.0007707219352415622,
           0.0006411935625167692,
           0.000803599110750386,
           0.00045371418754539526,
           0.00047598059980563906,
           0.0005063033894277849,
           0.0003814537506930511,
           0.0006017524457142855,
           0.00043352213965877737,
           0.0004156098096593518,
           0.0003981949732880846,
           0.0005071002503016632,
           0.00022038071868349436,
           0.0006893944983988575,
           0.0003889583738924504,
           0.0003990430446395697,
           0.000319534026183342,
           0.0006140432704815857,
           0.0005564866721008647,
           0.0006708341591702352,
           0.0003706744252511724,
           0.0004209966110723033,
           0.00048773261140311244,
           0.0005872950901153819,
           0.00043920407167426576
          ],
          "colorbar": {
           "title": {
            "text": "RMSE de Validação"
           }
          },
          "colorscale": [
           [
            0,
            "#440154"
           ],
           [
            0.1111111111111111,
            "#482878"
           ],
           [
            0.2222222222222222,
            "#3e4989"
           ],
           [
            0.3333333333333333,
            "#31688e"
           ],
           [
            0.4444444444444444,
            "#26828e"
           ],
           [
            0.5555555555555556,
            "#1f9e89"
           ],
           [
            0.6666666666666666,
            "#35b779"
           ],
           [
            0.7777777777777778,
            "#6ece58"
           ],
           [
            0.8888888888888888,
            "#b5de2b"
           ],
           [
            1,
            "#fde725"
           ]
          ],
          "showscale": true
         },
         "mode": "markers",
         "text": [
          "Trial: 0<br>RMSE: 0.0006<br>Complex: 10.09",
          "Trial: 1<br>RMSE: 0.5383<br>Complex: 10.50",
          "Trial: 2<br>RMSE: 0.5383<br>Complex: 9.29",
          "Trial: 3<br>RMSE: 0.5383<br>Complex: 8.00",
          "Trial: 4<br>RMSE: 0.0007<br>Complex: 5.32",
          "Trial: 5<br>RMSE: 0.0008<br>Complex: 10.72",
          "Trial: 29<br>RMSE: 0.0006<br>Complex: 10.50",
          "Trial: 33<br>RMSE: 0.0008<br>Complex: 10.64",
          "Trial: 36<br>RMSE: 0.0005<br>Complex: 10.92",
          "Trial: 37<br>RMSE: 0.0005<br>Complex: 10.92",
          "Trial: 43<br>RMSE: 0.0005<br>Complex: 10.34",
          "Trial: 44<br>RMSE: 0.0004<br>Complex: 9.29",
          "Trial: 46<br>RMSE: 0.0006<br>Complex: 8.92",
          "Trial: 55<br>RMSE: 0.0004<br>Complex: 9.61",
          "Trial: 65<br>RMSE: 0.0004<br>Complex: 11.29",
          "Trial: 66<br>RMSE: 0.0004<br>Complex: 11.29",
          "Trial: 67<br>RMSE: 0.0005<br>Complex: 11.29",
          "Trial: 68<br>RMSE: 0.0002<br>Complex: 11.17",
          "Trial: 69<br>RMSE: 0.0007<br>Complex: 11.11",
          "Trial: 71<br>RMSE: 0.0004<br>Complex: 10.92",
          "Trial: 78<br>RMSE: 0.0004<br>Complex: 11.05",
          "Trial: 81<br>RMSE: 0.0003<br>Complex: 10.92",
          "Trial: 82<br>RMSE: 0.0006<br>Complex: 10.85",
          "Trial: 85<br>RMSE: 0.0006<br>Complex: 10.78",
          "Trial: 87<br>RMSE: 0.0007<br>Complex: 11.17",
          "Trial: 89<br>RMSE: 0.0004<br>Complex: 11.29",
          "Trial: 90<br>RMSE: 0.0004<br>Complex: 11.29",
          "Trial: 91<br>RMSE: 0.0005<br>Complex: 11.29",
          "Trial: 96<br>RMSE: 0.0006<br>Complex: 11.05",
          "Trial: 97<br>RMSE: 0.0004<br>Complex: 11.23"
         ],
         "type": "scatter",
         "x": [
          10.088788238716907,
          10.49585502688717,
          9.287712379549449,
          8,
          5.321928094887363,
          10.715104009236168,
          10.49585502688717,
          10.643856189774725,
          10.918863237274595,
          10.918863237274595,
          10.339850002884624,
          9.287712379549449,
          8.918863237274595,
          9.614709844115207,
          11.287712379549449,
          11.287712379549449,
          11.287712379549449,
          11.169925001442312,
          11.109177703355275,
          10.918863237274595,
          11.047123912114026,
          10.918863237274595,
          10.852529509404196,
          10.784634845557521,
          11.169925001442312,
          11.287712379549449,
          11.287712379549449,
          11.287712379549449,
          11.047123912114026,
          11.229419688230417
         ],
         "y": [
          0.0005999468499971382,
          0.5383282992725004,
          0.5383282992725004,
          0.5383282992725004,
          0.0006740007126713254,
          0.0007707219352415622,
          0.0006411935625167692,
          0.000803599110750386,
          0.00045371418754539526,
          0.00047598059980563906,
          0.0005063033894277849,
          0.0003814537506930511,
          0.0006017524457142855,
          0.00043352213965877737,
          0.0004156098096593518,
          0.0003981949732880846,
          0.0005071002503016632,
          0.00022038071868349436,
          0.0006893944983988575,
          0.0003889583738924504,
          0.0003990430446395697,
          0.000319534026183342,
          0.0006140432704815857,
          0.0005564866721008647,
          0.0006708341591702352,
          0.0003706744252511724,
          0.0004209966110723033,
          0.00048773261140311244,
          0.0005872950901153819,
          0.00043920407167426576
         ]
        }
       ],
       "layout": {
        "hovermode": "closest",
        "template": {
         "data": {
          "bar": [
           {
            "error_x": {
             "color": "#2a3f5f"
            },
            "error_y": {
             "color": "#2a3f5f"
            },
            "marker": {
             "line": {
              "color": "#E5ECF6",
              "width": 0.5
             },
             "pattern": {
              "fillmode": "overlay",
              "size": 10,
              "solidity": 0.2
             }
            },
            "type": "bar"
           }
          ],
          "barpolar": [
           {
            "marker": {
             "line": {
              "color": "#E5ECF6",
              "width": 0.5
             },
             "pattern": {
              "fillmode": "overlay",
              "size": 10,
              "solidity": 0.2
             }
            },
            "type": "barpolar"
           }
          ],
          "carpet": [
           {
            "aaxis": {
             "endlinecolor": "#2a3f5f",
             "gridcolor": "white",
             "linecolor": "white",
             "minorgridcolor": "white",
             "startlinecolor": "#2a3f5f"
            },
            "baxis": {
             "endlinecolor": "#2a3f5f",
             "gridcolor": "white",
             "linecolor": "white",
             "minorgridcolor": "white",
             "startlinecolor": "#2a3f5f"
            },
            "type": "carpet"
           }
          ],
          "choropleth": [
           {
            "colorbar": {
             "outlinewidth": 0,
             "ticks": ""
            },
            "type": "choropleth"
           }
          ],
          "contour": [
           {
            "colorbar": {
             "outlinewidth": 0,
             "ticks": ""
            },
            "colorscale": [
             [
              0,
              "#0d0887"
             ],
             [
              0.1111111111111111,
              "#46039f"
             ],
             [
              0.2222222222222222,
              "#7201a8"
             ],
             [
              0.3333333333333333,
              "#9c179e"
             ],
             [
              0.4444444444444444,
              "#bd3786"
             ],
             [
              0.5555555555555556,
              "#d8576b"
             ],
             [
              0.6666666666666666,
              "#ed7953"
             ],
             [
              0.7777777777777778,
              "#fb9f3a"
             ],
             [
              0.8888888888888888,
              "#fdca26"
             ],
             [
              1,
              "#f0f921"
             ]
            ],
            "type": "contour"
           }
          ],
          "contourcarpet": [
           {
            "colorbar": {
             "outlinewidth": 0,
             "ticks": ""
            },
            "type": "contourcarpet"
           }
          ],
          "heatmap": [
           {
            "colorbar": {
             "outlinewidth": 0,
             "ticks": ""
            },
            "colorscale": [
             [
              0,
              "#0d0887"
             ],
             [
              0.1111111111111111,
              "#46039f"
             ],
             [
              0.2222222222222222,
              "#7201a8"
             ],
             [
              0.3333333333333333,
              "#9c179e"
             ],
             [
              0.4444444444444444,
              "#bd3786"
             ],
             [
              0.5555555555555556,
              "#d8576b"
             ],
             [
              0.6666666666666666,
              "#ed7953"
             ],
             [
              0.7777777777777778,
              "#fb9f3a"
             ],
             [
              0.8888888888888888,
              "#fdca26"
             ],
             [
              1,
              "#f0f921"
             ]
            ],
            "type": "heatmap"
           }
          ],
          "histogram": [
           {
            "marker": {
             "pattern": {
              "fillmode": "overlay",
              "size": 10,
              "solidity": 0.2
             }
            },
            "type": "histogram"
           }
          ],
          "histogram2d": [
           {
            "colorbar": {
             "outlinewidth": 0,
             "ticks": ""
            },
            "colorscale": [
             [
              0,
              "#0d0887"
             ],
             [
              0.1111111111111111,
              "#46039f"
             ],
             [
              0.2222222222222222,
              "#7201a8"
             ],
             [
              0.3333333333333333,
              "#9c179e"
             ],
             [
              0.4444444444444444,
              "#bd3786"
             ],
             [
              0.5555555555555556,
              "#d8576b"
             ],
             [
              0.6666666666666666,
              "#ed7953"
             ],
             [
              0.7777777777777778,
              "#fb9f3a"
             ],
             [
              0.8888888888888888,
              "#fdca26"
             ],
             [
              1,
              "#f0f921"
             ]
            ],
            "type": "histogram2d"
           }
          ],
          "histogram2dcontour": [
           {
            "colorbar": {
             "outlinewidth": 0,
             "ticks": ""
            },
            "colorscale": [
             [
              0,
              "#0d0887"
             ],
             [
              0.1111111111111111,
              "#46039f"
             ],
             [
              0.2222222222222222,
              "#7201a8"
             ],
             [
              0.3333333333333333,
              "#9c179e"
             ],
             [
              0.4444444444444444,
              "#bd3786"
             ],
             [
              0.5555555555555556,
              "#d8576b"
             ],
             [
              0.6666666666666666,
              "#ed7953"
             ],
             [
              0.7777777777777778,
              "#fb9f3a"
             ],
             [
              0.8888888888888888,
              "#fdca26"
             ],
             [
              1,
              "#f0f921"
             ]
            ],
            "type": "histogram2dcontour"
           }
          ],
          "mesh3d": [
           {
            "colorbar": {
             "outlinewidth": 0,
             "ticks": ""
            },
            "type": "mesh3d"
           }
          ],
          "parcoords": [
           {
            "line": {
             "colorbar": {
              "outlinewidth": 0,
              "ticks": ""
             }
            },
            "type": "parcoords"
           }
          ],
          "pie": [
           {
            "automargin": true,
            "type": "pie"
           }
          ],
          "scatter": [
           {
            "fillpattern": {
             "fillmode": "overlay",
             "size": 10,
             "solidity": 0.2
            },
            "type": "scatter"
           }
          ],
          "scatter3d": [
           {
            "line": {
             "colorbar": {
              "outlinewidth": 0,
              "ticks": ""
             }
            },
            "marker": {
             "colorbar": {
              "outlinewidth": 0,
              "ticks": ""
             }
            },
            "type": "scatter3d"
           }
          ],
          "scattercarpet": [
           {
            "marker": {
             "colorbar": {
              "outlinewidth": 0,
              "ticks": ""
             }
            },
            "type": "scattercarpet"
           }
          ],
          "scattergeo": [
           {
            "marker": {
             "colorbar": {
              "outlinewidth": 0,
              "ticks": ""
             }
            },
            "type": "scattergeo"
           }
          ],
          "scattergl": [
           {
            "marker": {
             "colorbar": {
              "outlinewidth": 0,
              "ticks": ""
             }
            },
            "type": "scattergl"
           }
          ],
          "scattermap": [
           {
            "marker": {
             "colorbar": {
              "outlinewidth": 0,
              "ticks": ""
             }
            },
            "type": "scattermap"
           }
          ],
          "scattermapbox": [
           {
            "marker": {
             "colorbar": {
              "outlinewidth": 0,
              "ticks": ""
             }
            },
            "type": "scattermapbox"
           }
          ],
          "scatterpolar": [
           {
            "marker": {
             "colorbar": {
              "outlinewidth": 0,
              "ticks": ""
             }
            },
            "type": "scatterpolar"
           }
          ],
          "scatterpolargl": [
           {
            "marker": {
             "colorbar": {
              "outlinewidth": 0,
              "ticks": ""
             }
            },
            "type": "scatterpolargl"
           }
          ],
          "scatterternary": [
           {
            "marker": {
             "colorbar": {
              "outlinewidth": 0,
              "ticks": ""
             }
            },
            "type": "scatterternary"
           }
          ],
          "surface": [
           {
            "colorbar": {
             "outlinewidth": 0,
             "ticks": ""
            },
            "colorscale": [
             [
              0,
              "#0d0887"
             ],
             [
              0.1111111111111111,
              "#46039f"
             ],
             [
              0.2222222222222222,
              "#7201a8"
             ],
             [
              0.3333333333333333,
              "#9c179e"
             ],
             [
              0.4444444444444444,
              "#bd3786"
             ],
             [
              0.5555555555555556,
              "#d8576b"
             ],
             [
              0.6666666666666666,
              "#ed7953"
             ],
             [
              0.7777777777777778,
              "#fb9f3a"
             ],
             [
              0.8888888888888888,
              "#fdca26"
             ],
             [
              1,
              "#f0f921"
             ]
            ],
            "type": "surface"
           }
          ],
          "table": [
           {
            "cells": {
             "fill": {
              "color": "#EBF0F8"
             },
             "line": {
              "color": "white"
             }
            },
            "header": {
             "fill": {
              "color": "#C8D4E3"
             },
             "line": {
              "color": "white"
             }
            },
            "type": "table"
           }
          ]
         },
         "layout": {
          "annotationdefaults": {
           "arrowcolor": "#2a3f5f",
           "arrowhead": 0,
           "arrowwidth": 1
          },
          "autotypenumbers": "strict",
          "coloraxis": {
           "colorbar": {
            "outlinewidth": 0,
            "ticks": ""
           }
          },
          "colorscale": {
           "diverging": [
            [
             0,
             "#8e0152"
            ],
            [
             0.1,
             "#c51b7d"
            ],
            [
             0.2,
             "#de77ae"
            ],
            [
             0.3,
             "#f1b6da"
            ],
            [
             0.4,
             "#fde0ef"
            ],
            [
             0.5,
             "#f7f7f7"
            ],
            [
             0.6,
             "#e6f5d0"
            ],
            [
             0.7,
             "#b8e186"
            ],
            [
             0.8,
             "#7fbc41"
            ],
            [
             0.9,
             "#4d9221"
            ],
            [
             1,
             "#276419"
            ]
           ],
           "sequential": [
            [
             0,
             "#0d0887"
            ],
            [
             0.1111111111111111,
             "#46039f"
            ],
            [
             0.2222222222222222,
             "#7201a8"
            ],
            [
             0.3333333333333333,
             "#9c179e"
            ],
            [
             0.4444444444444444,
             "#bd3786"
            ],
            [
             0.5555555555555556,
             "#d8576b"
            ],
            [
             0.6666666666666666,
             "#ed7953"
            ],
            [
             0.7777777777777778,
             "#fb9f3a"
            ],
            [
             0.8888888888888888,
             "#fdca26"
            ],
            [
             1,
             "#f0f921"
            ]
           ],
           "sequentialminus": [
            [
             0,
             "#0d0887"
            ],
            [
             0.1111111111111111,
             "#46039f"
            ],
            [
             0.2222222222222222,
             "#7201a8"
            ],
            [
             0.3333333333333333,
             "#9c179e"
            ],
            [
             0.4444444444444444,
             "#bd3786"
            ],
            [
             0.5555555555555556,
             "#d8576b"
            ],
            [
             0.6666666666666666,
             "#ed7953"
            ],
            [
             0.7777777777777778,
             "#fb9f3a"
            ],
            [
             0.8888888888888888,
             "#fdca26"
            ],
            [
             1,
             "#f0f921"
            ]
           ]
          },
          "colorway": [
           "#636efa",
           "#EF553B",
           "#00cc96",
           "#ab63fa",
           "#FFA15A",
           "#19d3f3",
           "#FF6692",
           "#B6E880",
           "#FF97FF",
           "#FECB52"
          ],
          "font": {
           "color": "#2a3f5f"
          },
          "geo": {
           "bgcolor": "white",
           "lakecolor": "white",
           "landcolor": "#E5ECF6",
           "showlakes": true,
           "showland": true,
           "subunitcolor": "white"
          },
          "hoverlabel": {
           "align": "left"
          },
          "hovermode": "closest",
          "mapbox": {
           "style": "light"
          },
          "paper_bgcolor": "white",
          "plot_bgcolor": "#E5ECF6",
          "polar": {
           "angularaxis": {
            "gridcolor": "white",
            "linecolor": "white",
            "ticks": ""
           },
           "bgcolor": "#E5ECF6",
           "radialaxis": {
            "gridcolor": "white",
            "linecolor": "white",
            "ticks": ""
           }
          },
          "scene": {
           "xaxis": {
            "backgroundcolor": "#E5ECF6",
            "gridcolor": "white",
            "gridwidth": 2,
            "linecolor": "white",
            "showbackground": true,
            "ticks": "",
            "zerolinecolor": "white"
           },
           "yaxis": {
            "backgroundcolor": "#E5ECF6",
            "gridcolor": "white",
            "gridwidth": 2,
            "linecolor": "white",
            "showbackground": true,
            "ticks": "",
            "zerolinecolor": "white"
           },
           "zaxis": {
            "backgroundcolor": "#E5ECF6",
            "gridcolor": "white",
            "gridwidth": 2,
            "linecolor": "white",
            "showbackground": true,
            "ticks": "",
            "zerolinecolor": "white"
           }
          },
          "shapedefaults": {
           "line": {
            "color": "#2a3f5f"
           }
          },
          "ternary": {
           "aaxis": {
            "gridcolor": "white",
            "linecolor": "white",
            "ticks": ""
           },
           "baxis": {
            "gridcolor": "white",
            "linecolor": "white",
            "ticks": ""
           },
           "bgcolor": "#E5ECF6",
           "caxis": {
            "gridcolor": "white",
            "linecolor": "white",
            "ticks": ""
           }
          },
          "title": {
           "x": 0.05
          },
          "xaxis": {
           "automargin": true,
           "gridcolor": "white",
           "linecolor": "white",
           "ticks": "",
           "title": {
            "standoff": 15
           },
           "zerolinecolor": "white",
           "zerolinewidth": 2
          },
          "yaxis": {
           "automargin": true,
           "gridcolor": "white",
           "linecolor": "white",
           "ticks": "",
           "title": {
            "standoff": 15
           },
           "zerolinecolor": "white",
           "zerolinewidth": 2
          }
         }
        },
        "title": {
         "text": "Trade-off: Qualidade (RMSE) vs. Complexidade do Modelo"
        },
        "xaxis": {
         "title": {
          "text": "Complexidade (log2(neurônios) * camadas)"
         }
        },
        "yaxis": {
         "title": {
          "text": "RMSE de Validação (Normalizado)"
         }
        }
       }
      }
     },
     "metadata": {},
     "output_type": "display_data"
    }
   ],
   "source": [
    "7# --- Bloco 7: Gráficos Elaborados do Optuna ---\n",
    "\n",
    "print(\"Gerando gráficos do Optuna...\")\n",
    "\n",
    "# Gráfico 1: Histórico de Otimização (RMSE vs. Trial)\n",
    "fig1 = optuna.visualization.plot_optimization_history(study)\n",
    "fig1.show()\n",
    "\n",
    "# Gráfico 2: Importância dos Hiperparâmetros\n",
    "fig2 = optuna.visualization.plot_param_importances(study)\n",
    "fig2.show()\n",
    "\n",
    "# Gráfico 3: Gráfico Customizado (Qualidade vs. Complexidade)\n",
    "# Este é o gráfico que você pediu\n",
    "trials = [t for t in study.trials if t.state == TrialState.COMPLETE]\n",
    "complexities = [t.user_attrs['complexity'] for t in trials]\n",
    "val_rmses = [t.value for t in trials]\n",
    "trial_numbers = [t.number for t in trials]\n",
    "\n",
    "fig3 = go.Figure(data=go.Scatter(\n",
    "    x=complexities,\n",
    "    y=val_rmses,\n",
    "    mode='markers',\n",
    "    text=[f'Trial: {n}<br>RMSE: {r:.4f}<br>Complex: {c:.2f}' \n",
    "          for n, r, c in zip(trial_numbers, val_rmses, complexities)],\n",
    "    marker=dict(\n",
    "        color=val_rmses,\n",
    "        colorscale='Viridis',\n",
    "        showscale=True,\n",
    "        colorbar=dict(title='RMSE de Validação')\n",
    "    )\n",
    "))\n",
    "fig3.update_layout(\n",
    "    title='Trade-off: Qualidade (RMSE) vs. Complexidade do Modelo',\n",
    "    xaxis_title='Complexidade (log2(neurônios) * camadas)',\n",
    "    yaxis_title='RMSE de Validação (Normalizado)',\n",
    "    hovermode='closest'\n",
    ")\n",
    "fig3.show()"
   ]
  },
  {
   "cell_type": "code",
   "execution_count": null,
   "id": "17254179",
   "metadata": {},
   "outputs": [
    {
     "name": "stdout",
     "output_type": "stream",
     "text": [
      "--- Treinando a Rede 'Campeã' Final ---\n",
      "Epoch [50/300], Train Loss: 0.000062, Val Loss: 0.000001\n",
      "Treinamento final parou cedo no epoch 68\n",
      "Treinamento final concluído em 8.54s\n",
      "Modelo 'temp.pth' salvo.\n"
     ]
    }
   ],
   "source": [
    "# --- Bloco 8: Treinamento Final da Rede \"Campeã\" ---\n",
    "# Agora, pegamos os melhores hiperparâmetros e treinamos\n",
    "# um modelo final do zero, salvando o histórico de loss.\n",
    "\n",
    "print(\"--- Treinando a Rede 'Campeã' Final ---\")\n",
    "\n",
    "#'''\n",
    "best_params = study.best_params\n",
    "BASE_N_LAYERS = best_params['n_layers']\n",
    "BASE_N_NEURONS = best_params['n_neurons']\n",
    "BASE_LR = best_params['lr']\n",
    "#'''\n",
    "\n",
    "# {'n_layers': 2, 'n_neurons': 48, 'lr': 0.015407308060909541}\n",
    "\n",
    "'''\n",
    "BASE_N_LAYERS = 2\n",
    "BASE_N_NEURONS = 48\n",
    "BASE_LR = 0.015407308060909541\n",
    "N_EPOCHS = 10\n",
    "#'''\n",
    "\n",
    "# {'n_layers': 1, 'n_neurons': 40, 'lr': 0.00039617036929120184}\n",
    "'''\n",
    "BASE_N_LAYERS = 1\n",
    "BASE_N_NEURONS = 40\n",
    "BASE_LR = 0.00039617036929120184\n",
    "N_EPOCHS = 10\n",
    "#'''\n",
    "\n",
    "# Parâmetros da rede\n",
    "final_model = Net(\n",
    "    n_layers=BASE_N_LAYERS,\n",
    "    n_neurons=BASE_N_NEURONS\n",
    ").to(device)\n",
    "final_lr = BASE_LR\n",
    "\n",
    "\n",
    "optimizer = optim.Adam(final_model.parameters(), lr=final_lr)\n",
    "criterion = nn.MSELoss()\n",
    "\n",
    "# Listas para salvar o histórico de loss\n",
    "train_losses = []\n",
    "val_losses = []\n",
    "\n",
    "# Usar os mesmos parâmetros do Optuna\n",
    "best_val_loss = float('inf')\n",
    "patience_counter = 0\n",
    "\n",
    "start_time = time.time()\n",
    "for epoch in range(N_EPOCHS):\n",
    "    # Treinamento\n",
    "    final_model.train()\n",
    "    current_train_loss = 0.0\n",
    "    for X_batch, y_batch in train_loader:\n",
    "        optimizer.zero_grad()\n",
    "        outputs = final_model(X_batch)\n",
    "        loss = criterion(outputs, y_batch)\n",
    "        loss.backward()\n",
    "        optimizer.step()\n",
    "        current_train_loss += loss.item() * X_batch.size(0)\n",
    "    \n",
    "    train_losses.append(current_train_loss / len(train_loader.dataset))\n",
    "    \n",
    "    # Validação\n",
    "    final_model.eval()\n",
    "    current_val_loss = 0.0\n",
    "    with torch.no_grad():\n",
    "        for X_batch, y_batch in val_loader:\n",
    "            outputs = final_model(X_batch)\n",
    "            loss = criterion(outputs, y_batch)\n",
    "            current_val_loss += loss.item() * X_batch.size(0)\n",
    "            \n",
    "    current_val_loss /= len(val_loader.dataset)\n",
    "    val_losses.append(current_val_loss)\n",
    "\n",
    "    # Lógica de Early Stopping\n",
    "    if current_val_loss < best_val_loss:\n",
    "        best_val_loss = current_val_loss\n",
    "        patience_counter = 0\n",
    "        # Salvar o melhor modelo\n",
    "        torch.save(final_model.state_dict(), 'temp.pth')\n",
    "    else:\n",
    "        patience_counter += 1\n",
    "    \n",
    "    if patience_counter >= EARLY_STOPPING_PATIENCE:\n",
    "        print(f\"Treinamento final parou cedo no epoch {epoch+1}\")\n",
    "        break\n",
    "\n",
    "    if (epoch + 1) % 50 == 0:\n",
    "        print(f\"Epoch [{epoch+1}/{N_EPOCHS}], Train Loss: {train_losses[-1]:.6f}, Val Loss: {val_losses[-1]:.6f}\")\n",
    "\n",
    "end_time = time.time()\n",
    "print(f\"Treinamento final concluído em {end_time - start_time:.2f}s\")\n",
    "print(\"Modelo 'temp.pth' salvo.\")"
   ]
  },
  {
   "cell_type": "code",
   "execution_count": 34,
   "id": "ee54ab87",
   "metadata": {},
   "outputs": [
    {
     "data": {
      "image/png": "[encoded data removed]",
      "text/plain": [
       "<Figure size 1200x600 with 1 Axes>"
      ]
     },
     "metadata": {},
     "output_type": "display_data"
    }
   ],
   "source": [
    "# --- Bloco 9: Gráfico de Treinamento (Loss vs. Epoch) ---\n",
    "\n",
    "plt.figure(figsize=(12, 6))\n",
    "plt.plot(train_losses, label='Loss de Treinamento (MSE)')\n",
    "plt.plot(val_losses, label='Loss de Validação (MSE)')\n",
    "plt.title('Curvas de Aprendizado do Modelo Final')\n",
    "#plt.ylim(0,0.0005)\n",
    "plt.xlabel('Épocas')\n",
    "plt.ylabel('Loss (MSE Normalizado)')\n",
    "plt.yscale('log') # Usar escala logarítmica é quase obrigatório aqui\n",
    "plt.legend()\n",
    "plt.show()"
   ]
  },
  {
   "cell_type": "code",
   "execution_count": 35,
   "id": "4d716ea7",
   "metadata": {},
   "outputs": [
    {
     "name": "stdout",
     "output_type": "stream",
     "text": [
      "--- Avaliação Final do Modelo ---\n",
      "\n",
      "Métricas Finais (em escala real de R$):\n",
      "  MSE:  58.83\n",
      "  RMSE: 7.67\n",
      "  MAPE: 0.0007 %\n"
     ]
    },
    {
     "data": {
      "image/png": "[encoded data removed]",
      "text/plain": [
       "<Figure size 1000x1000 with 1 Axes>"
      ]
     },
     "metadata": {},
     "output_type": "display_data"
    }
   ],
   "source": [
    "# --- Bloco 10: Avaliação Final (Métricas nos Dados Reais) ---\n",
    "\n",
    "print(\"--- Avaliação Final do Modelo ---\")\n",
    "\n",
    "# Carregar o melhor modelo salvo\n",
    "final_model.load_state_dict(torch.load('temp.pth'))\n",
    "final_model.eval()\n",
    "\n",
    "# Passar TODOS os dados (X_scaled) pelo modelo\n",
    "with torch.no_grad():\n",
    "    y_pred_scaled_t = final_model(torch.tensor(X_scaled, dtype=torch.float32).to(device))\n",
    "\n",
    "# Mover para CPU e converter para NumPy\n",
    "y_pred_scaled = y_pred_scaled_t.cpu().numpy()\n",
    "\n",
    "# --- IMPORTANTE: Reverter a Normalização ---\n",
    "# Agora avaliamos na escala de R$ e MW reais\n",
    "y_true_real = y_scaler.inverse_transform(y_scaled)\n",
    "y_pred_real = y_scaler.inverse_transform(y_pred_scaled)\n",
    "x_real = x_scaler.inverse_transform(X_scaled)\n",
    "\n",
    "# Calcular métricas finais\n",
    "mse, rmse, mape = calculate_all_metrics(y_true_real, y_pred_real)\n",
    "\n",
    "print(\"\\nMétricas Finais (em escala real de R$):\")\n",
    "print(f\"  MSE:  {mse:,.2f}\")\n",
    "print(f\"  RMSE: {rmse:,.2f}\")\n",
    "print(f\"  MAPE: {mape:.4f} %\")\n",
    "\n",
    "# --- Gráfico Final: Real vs. Previsto ---\n",
    "plt.figure(figsize=(10, 10))\n",
    "plt.scatter(y_true_real, y_pred_real, alpha=0.3, label='Previsões')\n",
    "# Adicionar a linha ideal (y=x)\n",
    "ideal_line = np.linspace(min(y_true_real.min(), y_pred_real.min()), \n",
    "                         max(y_true_real.max(), y_pred_real.max()), 100)\n",
    "plt.plot(ideal_line, ideal_line, 'r--', label='Linha Ideal (Previsto = Real)')\n",
    "\n",
    "plt.title('Qualidade da Previsão (Escala Real)')\n",
    "plt.xlabel('Custo Real (R$)')\n",
    "plt.ylabel('Custo Previsto (R$)')\n",
    "plt.legend()\n",
    "plt.grid(True)\n",
    "plt.axis('equal') # Forçar eixos iguais\n",
    "plt.show()"
   ]
  },
  {
   "cell_type": "code",
   "execution_count": 36,
   "id": "2baa7c97",
   "metadata": {},
   "outputs": [
    {
     "name": "stdout",
     "output_type": "stream",
     "text": [
      "--- Iniciando Treinamento por Transferência ---\n",
      "Modelo pré-treinado 'temp.pth' carregado com sucesso.\n"
     ]
    }
   ],
   "source": [
    "# --- Bloco 5: Carregamento do Modelo Pré-Treinado ---\n",
    "\n",
    "print(\"--- Iniciando Treinamento por Transferência ---\")\n",
    "\n",
    "# Re-criar a arquitetura EXATA do modelo base salvo\n",
    "# (É crucial que os parâmetros sejam os mesmos)\n",
    "MODEL_BASE_PATH = 'temp.pth'\n",
    "\n",
    "# Instanciar o novo modelo\n",
    "transfer_model = Net(n_layers=BASE_N_LAYERS, n_neurons=BASE_N_NEURONS).to(device)\n",
    "\n",
    "# --- A MÁGICA (Transfer Learning) ---\n",
    "# Carregar os pesos (o \"conhecimento\") do modelo de 10 épocas\n",
    "transfer_model.load_state_dict(torch.load(MODEL_BASE_PATH))\n",
    "# ------------------------------------\n",
    "\n",
    "print(f\"Modelo pré-treinado '{MODEL_BASE_PATH}' carregado com sucesso.\")\n",
    "\n",
    "# Configurar o otimizador para o novo modelo\n",
    "optimizer = optim.Adam(transfer_model.parameters(), lr=BASE_LR)\n",
    "criterion = nn.MSELoss()"
   ]
  },
  {
   "cell_type": "code",
   "execution_count": 37,
   "id": "06608778",
   "metadata": {},
   "outputs": [
    {
     "name": "stdout",
     "output_type": "stream",
     "text": [
      "--- Continuando o treinamento (Epochs 11 a 300) ---\n",
      "Epoch [11/300], Train Loss: 0.006186, Val Loss: 0.000069\n",
      "Epoch [50/300], Train Loss: 0.000155, Val Loss: 0.000012\n",
      "Treinamento por transferência parou cedo no epoch 70\n",
      "Treinamento por transferência concluído em 7.51s\n",
      "Modelo 'temp.pth' salvo.\n"
     ]
    }
   ],
   "source": [
    "# --- Bloco 6: Continuação do Treinamento (Epoch 11 até o fim) ---\n",
    "\n",
    "print(\"--- Continuando o treinamento (Epochs 11 a 300) ---\")\n",
    "\n",
    "# Parâmetros\n",
    "N_TOTAL_EPOCHS = 300\n",
    "N_EPOCHS_JA_TREINADAS = 10\n",
    "EARLY_STOPPING_PATIENCE = 30 # A mesma paciência\n",
    "\n",
    "# Listas para salvar o histórico de loss\n",
    "train_losses = []\n",
    "val_losses = []\n",
    "\n",
    "best_val_loss = float('inf')\n",
    "patience_counter = 0\n",
    "\n",
    "start_time = time.time()\n",
    "# Começamos o loop da época 11 até 300\n",
    "for epoch in range(N_EPOCHS_JA_TREINADAS, N_TOTAL_EPOCHS):\n",
    "    \n",
    "    # Treinamento\n",
    "    transfer_model.train()\n",
    "    current_train_loss = 0.0\n",
    "    for X_batch, y_batch in train_loader:\n",
    "        optimizer.zero_grad()\n",
    "        outputs = transfer_model(X_batch) # Usando o transfer_model\n",
    "        loss = criterion(outputs, y_batch)\n",
    "        loss.backward()\n",
    "        optimizer.step()\n",
    "        current_train_loss += loss.item() * X_batch.size(0)\n",
    "    \n",
    "    train_losses.append(current_train_loss / len(train_loader.dataset))\n",
    "    \n",
    "    # Validação\n",
    "    transfer_model.eval()\n",
    "    current_val_loss = 0.0\n",
    "    with torch.no_grad():\n",
    "        for X_batch, y_batch in val_loader:\n",
    "            outputs = transfer_model(X_batch) # Usando o transfer_model\n",
    "            loss = criterion(outputs, y_batch)\n",
    "            current_val_loss += loss.item() * X_batch.size(0)\n",
    "            \n",
    "    current_val_loss /= len(val_loader.dataset)\n",
    "    val_losses.append(current_val_loss)\n",
    "\n",
    "    # Lógica de Early Stopping\n",
    "    if current_val_loss < best_val_loss:\n",
    "        best_val_loss = current_val_loss\n",
    "        patience_counter = 0\n",
    "        # Salvar o melhor modelo\n",
    "        torch.save(transfer_model.state_dict(), 'temp.pth')\n",
    "    else:\n",
    "        patience_counter += 1\n",
    "    \n",
    "    if patience_counter >= EARLY_STOPPING_PATIENCE:\n",
    "        print(f\"Treinamento por transferência parou cedo no epoch {epoch+1}\")\n",
    "        break\n",
    "\n",
    "    if (epoch + 1) % 50 == 0 or epoch == N_EPOCHS_JA_TREINADAS:\n",
    "        # Imprime no primeiro loop (época 10) e a cada 50\n",
    "        print(f\"Epoch [{epoch+1}/{N_TOTAL_EPOCHS}], Train Loss: {train_losses[-1]:.6f}, Val Loss: {val_losses[-1]:.6f}\")\n",
    "\n",
    "end_time = time.time()\n",
    "print(f\"Treinamento por transferência concluído em {end_time - start_time:.2f}s\")\n",
    "print(\"Modelo 'temp.pth' salvo.\")"
   ]
  },
  {
   "cell_type": "code",
   "execution_count": 38,
   "id": "9cdb3412",
   "metadata": {},
   "outputs": [
    {
     "data": {
      "image/png": "[encoded data removed]",
      "text/plain": [
       "<Figure size 1200x600 with 1 Axes>"
      ]
     },
     "metadata": {},
     "output_type": "display_data"
    }
   ],
   "source": [
    "# --- Bloco 7: Gráfico de Treinamento (Loss vs. Epoch) ---\n",
    "# Este gráfico será a prova: ele vai começar BAIXO.\n",
    "\n",
    "plt.figure(figsize=(12, 6))\n",
    "# Plotar o loss a partir da época 11\n",
    "plt.plot(range(N_EPOCHS_JA_TREINADAS, N_EPOCHS_JA_TREINADAS + len(train_losses)), \n",
    "         train_losses, \n",
    "         label='Loss de Treinamento (Transfer)')\n",
    "plt.plot(range(N_EPOCHS_JA_TREINADAS, N_EPOCHS_JA_TREINADAS + len(val_losses)), \n",
    "         val_losses, \n",
    "         label='Loss de Validação (Transfer)')\n",
    "\n",
    "plt.title('Curvas de Aprendizado (Iniciando de Modelo Pré-Treinado)')\n",
    "plt.xlabel('Épocas')\n",
    "plt.ylabel('Loss (MSE Normalizado)')\n",
    "plt.legend()\n",
    "plt.yscale('log')\n",
    "plt.show()"
   ]
  },
  {
   "cell_type": "code",
   "execution_count": 39,
   "id": "a13f4445",
   "metadata": {},
   "outputs": [
    {
     "name": "stdout",
     "output_type": "stream",
     "text": [
      "--- Avaliação Final do Modelo de Transferência ---\n",
      "\n",
      "Métricas Finais (em escala real de R$):\n",
      "  MSE:  85.13\n",
      "  RMSE: 9.23\n",
      "  MAPE: 0.0009 %\n"
     ]
    },
    {
     "data": {
      "image/png": "[encoded data removed]",
      "text/plain": [
       "<Figure size 1000x1000 with 1 Axes>"
      ]
     },
     "metadata": {},
     "output_type": "display_data"
    }
   ],
   "source": [
    "# --- Bloco 8: Avaliação Final (Métricas nos Dados Reais) ---\n",
    "# Este bloco é idêntico ao Bloco 10 do notebook original,\n",
    "# apenas carrega o 'temp.pth'\n",
    "\n",
    "print(\"--- Avaliação Final do Modelo de Transferência ---\")\n",
    "\n",
    "# Carregar os scalers\n",
    "x_scaler = joblib.load('x_scaler.joblib')\n",
    "y_scaler = joblib.load('y_scaler.joblib')\n",
    "\n",
    "# Carregar os dados originais (não normalizados)\n",
    "X = pd.read_csv('usina_carvao_dataset.csv')[['Potencia_MW']].values\n",
    "y_true_real = pd.read_csv('usina_carvao_dataset.csv')[['Custo_Real']].values\n",
    "\n",
    "# Carregar o melhor modelo salvo\n",
    "eval_model = Net(n_layers=BASE_N_LAYERS, n_neurons=BASE_N_NEURONS).to(device)\n",
    "eval_model.load_state_dict(torch.load('temp.pth'))\n",
    "eval_model.eval()\n",
    "\n",
    "# Preparar dados de entrada (normalizar)\n",
    "X_scaled = x_scaler.transform(X)\n",
    "\n",
    "# Passar TODOS os dados pelo modelo\n",
    "with torch.no_grad():\n",
    "    y_pred_scaled_t = eval_model(torch.tensor(X_scaled, dtype=torch.float32).to(device))\n",
    "\n",
    "# Mover para CPU e converter para NumPy\n",
    "y_pred_scaled = y_pred_scaled_t.cpu().numpy()\n",
    "\n",
    "# --- IMPORTANTE: Reverter a Normalização ---\n",
    "y_pred_real = y_scaler.inverse_transform(y_pred_scaled)\n",
    "\n",
    "# Calcular métricas finais\n",
    "mse, rmse, mape = calculate_all_metrics(y_true_real, y_pred_real)\n",
    "\n",
    "print(\"\\nMétricas Finais (em escala real de R$):\")\n",
    "print(f\"  MSE:  {mse:,.2f}\")\n",
    "print(f\"  RMSE: {rmse:,.2f}\")\n",
    "print(f\"  MAPE: {mape:.4f} %\")\n",
    "\n",
    "# --- Gráfico Final: Real vs. Previsto ---\n",
    "plt.figure(figsize=(10, 10))\n",
    "plt.scatter(y_true_real, y_pred_real, alpha=0.3, label='Previsões')\n",
    "# Adicionar a linha ideal (y=x)\n",
    "ideal_line = np.linspace(min(y_true_real.min(), y_pred_real.min()), \n",
    "                         max(y_true_real.max(), y_pred_real.max()), 100)\n",
    "plt.plot(ideal_line, ideal_line, 'r--', label='Linha Ideal (Previsto = Real)')\n",
    "\n",
    "plt.title('Qualidade da Previsão (Escala Real)')\n",
    "plt.xlabel('Custo Real (R$)')\n",
    "plt.ylabel('Custo Previsto (R$)')\n",
    "plt.legend()\n",
    "plt.grid(True)\n",
    "plt.axis('equal') # Forçar eixos iguais\n",
    "plt.show()"
   ]
  },
  {
   "cell_type": "code",
   "execution_count": 40,
   "id": "5592cc5c",
   "metadata": {},
   "outputs": [
    {
     "data": {
      "text/plain": [
       "'# --- Bloco 11: Visualização do Modelo Final (\"Campeão\") com TensorBoard ---\\n# Este bloco usa SummaryWriter do PyTorch para logar o grafo do modelo,\\n# garantindo que a arquitetura visualizada seja a mesma que foi treinada no Bloco 8.\\n# Nota: Você precisa ter \\'tensorboard\\' instalado (`pip install tensorboard`)\\n\\nprint(\"\\n--- Logando Grafo da Rede \\'Campeã\\' para TensorBoard ---\")\\n\\ntry:\\n    from torch.utils.tensorboard import SummaryWriter\\n\\n    # --- MUDANÇA AQUI ---\\n    # 1. Usar as variáveis BASE_N_LAYERS e BASE_N_NEURONS definidas no Bloco 8\\n    #    Estas variáveis contêm a arquitetura da rede campeã encontrada pelo Optuna.\\n    #    Certifique-se de que o Bloco 8 foi executado e essas variáveis existem.\\n    \\n    # Verificar se as variáveis existem (caso execute fora de ordem)\\n    if \\'BASE_N_LAYERS\\' not in locals() or \\'BASE_N_NEURONS\\' not in locals():\\n         raise NameError(\"Variáveis BASE_N_LAYERS ou BASE_N_NEURONS não definidas. Execute o Bloco 8 primeiro.\")\\n\\n    # Instanciar o modelo com a arquitetura correta\\n    #tb_model = Net(n_layers=BASE_N_LAYERS, n_neurons=BASE_N_NEURONS).to(device)\\n    tb_model = Net(n_layers=BASE_N_LAYERS, n_neurons=BASE_N_NEURONS).to(device)\\n    \\n    # Nome do arquivo do modelo salvo no Bloco 8\\n    # Certifique-se que este nome corresponde ao arquivo salvo no Bloco 8\\n    # (No seu código anterior era \\'temp.pth\\')\\n    SAVED_MODEL_FILENAME = \\'temp.pth\\' \\n    \\n    # Carregar os pesos do modelo campeão\\n    tb_model.load_state_dict(torch.load(SAVED_MODEL_FILENAME))\\n    tb_model.eval()\\n    # --- Fim da Mudança ---\\n\\n    # 2. Criar um dado de entrada falso (dummy input) com batch size pequeno\\n    dummy_input_tb = torch.randn(BATCH_SIZE, 1).to(device) # Usar batch_size=1 para o gráfico mais limpo\\n\\n    # 3. Criar o SummaryWriter\\n    log_dir = \"runs/diagrama_rede_relu_1_layer\" # Mesmo diretório\\n    writer = SummaryWriter(log_dir)\\n\\n    # 4. Adicionar o grafo ao TensorBoard\\n    writer.add_graph(tb_model, dummy_input_tb)\\n\\n    # 5. Fechar o writer\\n    writer.close()\\n\\n    print(f\"Grafo do modelo \\'{SAVED_MODEL_FILENAME}\\' logado com sucesso em: \\'{log_dir}\\'\")\\n    print(\"Para visualizar, abra o terminal e execute:\")\\n    print(f\"python -m tensorboard.main --logdir={log_dir}\")\\n    print(\"Depois, acesse o endereço (geralmente http://localhost:6006/) no seu navegador.\")\\n\\n\\nexcept ImportError:\\n    print(\"Biblioteca \\'tensorboard\\' não encontrada. Instale com \\'pip install tensorboard\\'.\")\\nexcept NameError as e:\\n    print(f\"Erro: {e}\")\\nexcept FileNotFoundError:\\n     print(f\"ERRO: Arquivo do modelo \\'{SAVED_MODEL_FILENAME}\\' não encontrado.\")\\n     print(\"Verifique o nome do arquivo salvo no Bloco 8.\")\\nexcept Exception as e:\\n    print(f\"Erro ao logar grafo para TensorBoard: {e}\")\\n\\n\\n# python -m tensorboard.main --logdir=runs/diagrama_rede_relu_3_layers\\n# python -m tensorboard.main --logdir=runs/diagrama_rede_relu_2_layers\\n# python -m tensorboard.main --logdir=runs/diagrama_rede_relu_1_layer'"
      ]
     },
     "execution_count": 40,
     "metadata": {},
     "output_type": "execute_result"
    }
   ],
   "source": [
    "'''# --- Bloco 11: Visualização do Modelo Final (\"Campeão\") com TensorBoard ---\n",
    "# Este bloco usa SummaryWriter do PyTorch para logar o grafo do modelo,\n",
    "# garantindo que a arquitetura visualizada seja a mesma que foi treinada no Bloco 8.\n",
    "# Nota: Você precisa ter 'tensorboard' instalado (`pip install tensorboard`)\n",
    "\n",
    "print(\"\\n--- Logando Grafo da Rede 'Campeã' para TensorBoard ---\")\n",
    "\n",
    "try:\n",
    "    from torch.utils.tensorboard import SummaryWriter\n",
    "\n",
    "    # --- MUDANÇA AQUI ---\n",
    "    # 1. Usar as variáveis BASE_N_LAYERS e BASE_N_NEURONS definidas no Bloco 8\n",
    "    #    Estas variáveis contêm a arquitetura da rede campeã encontrada pelo Optuna.\n",
    "    #    Certifique-se de que o Bloco 8 foi executado e essas variáveis existem.\n",
    "    \n",
    "    # Verificar se as variáveis existem (caso execute fora de ordem)\n",
    "    if 'BASE_N_LAYERS' not in locals() or 'BASE_N_NEURONS' not in locals():\n",
    "         raise NameError(\"Variáveis BASE_N_LAYERS ou BASE_N_NEURONS não definidas. Execute o Bloco 8 primeiro.\")\n",
    "\n",
    "    # Instanciar o modelo com a arquitetura correta\n",
    "    #tb_model = Net(n_layers=BASE_N_LAYERS, n_neurons=BASE_N_NEURONS).to(device)\n",
    "    tb_model = Net(n_layers=BASE_N_LAYERS, n_neurons=BASE_N_NEURONS).to(device)\n",
    "    \n",
    "    # Nome do arquivo do modelo salvo no Bloco 8\n",
    "    # Certifique-se que este nome corresponde ao arquivo salvo no Bloco 8\n",
    "    # (No seu código anterior era 'temp.pth')\n",
    "    SAVED_MODEL_FILENAME = 'temp.pth' \n",
    "    \n",
    "    # Carregar os pesos do modelo campeão\n",
    "    tb_model.load_state_dict(torch.load(SAVED_MODEL_FILENAME))\n",
    "    tb_model.eval()\n",
    "    # --- Fim da Mudança ---\n",
    "\n",
    "    # 2. Criar um dado de entrada falso (dummy input) com batch size pequeno\n",
    "    dummy_input_tb = torch.randn(BATCH_SIZE, 1).to(device) # Usar batch_size=1 para o gráfico mais limpo\n",
    "\n",
    "    # 3. Criar o SummaryWriter\n",
    "    log_dir = \"runs/diagrama_rede_relu_1_layer\" # Mesmo diretório\n",
    "    writer = SummaryWriter(log_dir)\n",
    "\n",
    "    # 4. Adicionar o grafo ao TensorBoard\n",
    "    writer.add_graph(tb_model, dummy_input_tb)\n",
    "\n",
    "    # 5. Fechar o writer\n",
    "    writer.close()\n",
    "\n",
    "    print(f\"Grafo do modelo '{SAVED_MODEL_FILENAME}' logado com sucesso em: '{log_dir}'\")\n",
    "    print(\"Para visualizar, abra o terminal e execute:\")\n",
    "    print(f\"python -m tensorboard.main --logdir={log_dir}\")\n",
    "    print(\"Depois, acesse o endereço (geralmente http://localhost:6006/) no seu navegador.\")\n",
    "\n",
    "\n",
    "except ImportError:\n",
    "    print(\"Biblioteca 'tensorboard' não encontrada. Instale com 'pip install tensorboard'.\")\n",
    "except NameError as e:\n",
    "    print(f\"Erro: {e}\")\n",
    "except FileNotFoundError:\n",
    "     print(f\"ERRO: Arquivo do modelo '{SAVED_MODEL_FILENAME}' não encontrado.\")\n",
    "     print(\"Verifique o nome do arquivo salvo no Bloco 8.\")\n",
    "except Exception as e:\n",
    "    print(f\"Erro ao logar grafo para TensorBoard: {e}\")\n",
    "\n",
    "\n",
    "# python -m tensorboard.main --logdir=runs/diagrama_rede_relu_3_layers\n",
    "# python -m tensorboard.main --logdir=runs/diagrama_rede_relu_2_layers\n",
    "# python -m tensorboard.main --logdir=runs/diagrama_rede_relu_1_layer'''"
   ]
  },
  {
   "cell_type": "code",
   "execution_count": null,
   "id": "f42e7d3d",
   "metadata": {},
   "outputs": [],
   "source": []
  }
 ],
 "metadata": {
  "kernelspec": {
   "display_name": "Python 3",
   "language": "python",
   "name": "python3"
  },
  "language_info": {
   "codemirror_mode": {
    "name": "ipython",
    "version": 3
   },
   "file_extension": ".py",
   "mimetype": "text/x-python",
   "name": "python",
   "nbconvert_exporter": "python",
   "pygments_lexer": "ipython3",
   "version": "3.11.9"
  }
 },
 "nbformat": 4,
 "nbformat_minor": 5
}
