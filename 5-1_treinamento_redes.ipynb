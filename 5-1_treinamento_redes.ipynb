{
 "cells": [
  {
   "cell_type": "code",
   "execution_count": 1,
   "id": "d4aae644",
   "metadata": {},
   "outputs": [
    {
     "name": "stderr",
     "output_type": "stream",
     "text": [
      "C:\\Users\\Danone\\AppData\\Local\\Packages\\PythonSoftwareFoundation.Python.3.11_qbz5n2kfra8p0\\LocalCache\\local-packages\\Python311\\site-packages\\tqdm\\auto.py:21: TqdmWarning: IProgress not found. Please update jupyter and ipywidgets. See https://ipywidgets.readthedocs.io/en/stable/user_install.html\n",
      "  from .autonotebook import tqdm as notebook_tqdm\n"
     ]
    },
    {
     "name": "stdout",
     "output_type": "stream",
     "text": [
      "Usando dispositivo: cpu\n"
     ]
    },
    {
     "data": {
      "text/plain": [
       "<torch._C.Generator at 0x208306ceed0>"
      ]
     },
     "execution_count": 1,
     "metadata": {},
     "output_type": "execute_result"
    }
   ],
   "source": [
    "# --- Bloco 0: Importações ---\n",
    "import pandas as pd\n",
    "import numpy as np\n",
    "import joblib # Para salvar os scalers\n",
    "\n",
    "# PyTorch\n",
    "import torch\n",
    "import torch.nn as nn\n",
    "import torch.optim as optim\n",
    "from torch.utils.data import DataLoader, TensorDataset\n",
    "\n",
    "# Scikit-learn (para pré-processamento e métricas)\n",
    "from sklearn.model_selection import train_test_split\n",
    "from sklearn.preprocessing import MinMaxScaler\n",
    "from sklearn.metrics import mean_squared_error, mean_absolute_percentage_error\n",
    "\n",
    "# Optuna (para otimização de hiperparâmetros)\n",
    "import optuna\n",
    "import plotly.graph_objects as go\n",
    "from optuna.trial import TrialState\n",
    "\n",
    "# Outros\n",
    "import math\n",
    "import time\n",
    "import matplotlib.pyplot as plt\n",
    "\n",
    "# Configurações\n",
    "plt.style.use('ggplot')\n",
    "device = torch.device(\"cuda\" if torch.cuda.is_available() else \"cpu\")\n",
    "print(f\"Usando dispositivo: {device}\")\n",
    "torch.manual_seed(42)"
   ]
  },
  {
   "cell_type": "code",
   "execution_count": 2,
   "id": "0110dbd3",
   "metadata": {},
   "outputs": [
    {
     "name": "stdout",
     "output_type": "stream",
     "text": [
      "Definição da classe 'Net' concluída.\n"
     ]
    }
   ],
   "source": [
    "# --- Bloco 1: Definição da Arquitetura da Rede (Dinâmica) ---\n",
    "# Este bloco define *como* construir a rede,\n",
    "# mas ela será instanciada dinamicamente pelo Optuna.\n",
    "\n",
    "class Net(nn.Module):\n",
    "    def __init__(self, n_layers, n_neurons):\n",
    "        super(Net, self).__init__()\n",
    "        \n",
    "        layers = []\n",
    "        \n",
    "        # Camada de entrada (1 feature: Potencia_MW)\n",
    "        layers.append(nn.Linear(1, n_neurons))\n",
    "        layers.append(nn.ReLU())\n",
    "        \n",
    "        # Camadas ocultas dinâmicas\n",
    "        for _ in range(n_layers - 1):\n",
    "            layers.append(nn.Linear(n_neurons, n_neurons))\n",
    "            layers.append(nn.ReLU())\n",
    "            \n",
    "        # Camada de saída (1 feature: Custo_Real)\n",
    "        layers.append(nn.Linear(n_neurons, 1))\n",
    "        \n",
    "        # Compilar todas as camadas em um modelo sequencial\n",
    "        self.network = nn.Sequential(*layers)\n",
    "\n",
    "    def forward(self, x):\n",
    "        return self.network(x)\n",
    "\n",
    "print(\"Definição da classe 'Net' concluída.\")"
   ]
  },
  {
   "cell_type": "code",
   "execution_count": 3,
   "id": "c1abc082",
   "metadata": {},
   "outputs": [
    {
     "name": "stdout",
     "output_type": "stream",
     "text": [
      "Funções auxiliares (calculate_complexity, calculate_all_metrics) prontas.\n"
     ]
    }
   ],
   "source": [
    "# --- Bloco 2: Funções Auxiliares (Métricas e Complexidade) ---\n",
    "\n",
    "def calculate_complexity(n_layers, n_neurons):\n",
    "    \"\"\"\n",
    "    Calcula a métrica de complexidade customizada:\n",
    "    log2(número de neurônios por camada) * número de camadas\n",
    "    \"\"\"\n",
    "    if n_neurons == 0 or n_layers == 0:\n",
    "        return 0\n",
    "    return math.log2(n_neurons) * n_layers\n",
    "\n",
    "def calculate_all_metrics(y_true, y_pred):\n",
    "    \"\"\"\n",
    "    Calcula MSE, RMSE e MAPE.\n",
    "    Espera arrays NumPy.\n",
    "    \"\"\"\n",
    "    mse = mean_squared_error(y_true, y_pred)\n",
    "    rmse = np.sqrt(mse)\n",
    "    mape = mean_absolute_percentage_error(y_true, y_pred)\n",
    "    return mse, rmse, mape\n",
    "\n",
    "print(\"Funções auxiliares (calculate_complexity, calculate_all_metrics) prontas.\")"
   ]
  },
  {
   "cell_type": "code",
   "execution_count": 4,
   "id": "e7a45639",
   "metadata": {},
   "outputs": [
    {
     "name": "stdout",
     "output_type": "stream",
     "text": [
      "Dados carregados e normalizados.\n",
      "Formato de X (Potência): (5000, 1)\n",
      "Formato de y (Custo): (5000, 1)\n",
      "\n",
      "Scalers 'x_scaler.joblib' e 'y_scaler.joblib' salvos.\n"
     ]
    }
   ],
   "source": [
    "# --- Bloco 3: Carregamento e Normalização dos Dados ---\n",
    "\n",
    "# Carregar o dataset\n",
    "df = pd.read_csv('usina_carvao_dataset.csv')\n",
    "\n",
    "# Preparar dados para o scaler\n",
    "X = df[['Potencia_MW']].values\n",
    "y = df[['Custo_Real']].values\n",
    "\n",
    "# Inicializar os scalers\n",
    "# Usamos dois scalers separados para podermos\n",
    "# salvar ambos e usá-los no notebook MILP.\n",
    "x_scaler = MinMaxScaler()\n",
    "y_scaler = MinMaxScaler()\n",
    "\n",
    "# \"Aprender\" a escala dos dados e transformá-los\n",
    "X_scaled = x_scaler.fit_transform(X)\n",
    "y_scaled = y_scaler.fit_transform(y)\n",
    "\n",
    "# Salvar os scalers para uso futuro!\n",
    "joblib.dump(x_scaler, 'x_scaler.joblib')\n",
    "joblib.dump(y_scaler, 'y_scaler.joblib')\n",
    "\n",
    "print(\"Dados carregados e normalizados.\")\n",
    "print(f\"Formato de X (Potência): {X_scaled.shape}\")\n",
    "print(f\"Formato de y (Custo): {y_scaled.shape}\")\n",
    "print(\"\\nScalers 'x_scaler.joblib' e 'y_scaler.joblib' salvos.\")"
   ]
  },
  {
   "cell_type": "code",
   "execution_count": 5,
   "id": "53290828",
   "metadata": {},
   "outputs": [
    {
     "name": "stdout",
     "output_type": "stream",
     "text": [
      "Dados separados: 4000 amostras de treino, 1000 amostras de validação.\n"
     ]
    }
   ],
   "source": [
    "# --- Bloco 4: Separação Aleatória e DataLoaders ---\n",
    "# Este bloco mistura os dados (shuffle=True) e os separa\n",
    "# em conjuntos de treino e validação.\n",
    "\n",
    "# Separar em treino (80%) e validação (20%)\n",
    "X_train, X_val, y_train, y_val = train_test_split(\n",
    "    X_scaled, y_scaled, test_size=0.2, random_state=42\n",
    ")\n",
    "\n",
    "# Converter dados NumPy para Tensores do PyTorch\n",
    "X_train_t = torch.tensor(X_train, dtype=torch.float32).to(device)\n",
    "y_train_t = torch.tensor(y_train, dtype=torch.float32).to(device)\n",
    "X_val_t = torch.tensor(X_val, dtype=torch.float32).to(device)\n",
    "y_val_t = torch.tensor(y_val, dtype=torch.float32).to(device)\n",
    "\n",
    "# Criar DataLoaders para treinamento em lote (batch)\n",
    "BATCH_SIZE = 64\n",
    "\n",
    "train_dataset = TensorDataset(X_train_t, y_train_t)\n",
    "train_loader = DataLoader(train_dataset, batch_size=BATCH_SIZE, shuffle=True)\n",
    "\n",
    "val_dataset = TensorDataset(X_val_t, y_val_t)\n",
    "val_loader = DataLoader(val_dataset, batch_size=BATCH_SIZE, shuffle=False)\n",
    "\n",
    "print(f\"Dados separados: {len(X_train_t)} amostras de treino, {len(X_val_t)} amostras de validação.\")"
   ]
  },
  {
   "cell_type": "code",
   "execution_count": 6,
   "id": "e7314a3f",
   "metadata": {},
   "outputs": [
    {
     "name": "stdout",
     "output_type": "stream",
     "text": [
      "Função 'objective' do Optuna definida.\n"
     ]
    }
   ],
   "source": [
    "# --- Bloco 5: Definição da Função 'objective' do Optuna ---\n",
    "# Este é o coração do notebook. Esta função será chamada\n",
    "# dezenas de vezes pelo Optuna.\n",
    "\n",
    "# Parâmetros do Treinamento\n",
    "N_EPOCHS = 300       # Número de épocas que você definiu\n",
    "EARLY_STOPPING_PATIENCE = 30 # Paciência que você pediu\n",
    "\n",
    "def objective(trial):\n",
    "    # --- 1. Sugerir Hiperparâmetros ---\n",
    "    # Número de camadas (1 a 3)\n",
    "    n_layers = trial.suggest_int('n_layers', 1, 3)\n",
    "    # Número de neurônios (3 a 20)\n",
    "    n_neurons = trial.suggest_int('n_neurons', 3, 20)\n",
    "    # Taxa de aprendizado\n",
    "    lr = trial.suggest_float('lr', 1e-4, 1e-1, log=True)\n",
    "    \n",
    "    # --- 2. Calcular Complexidade e Armazenar ---\n",
    "    complexity = calculate_complexity(n_layers, n_neurons)\n",
    "    trial.set_user_attr('complexity', complexity)\n",
    "\n",
    "    # --- 3. Construir Modelo e Otimizador ---\n",
    "    model = Net(n_layers, n_neurons).to(device)\n",
    "    optimizer = optim.Adam(model.parameters(), lr=lr)\n",
    "    criterion = nn.MSELoss() # Usamos MSE para o loss\n",
    "\n",
    "    # --- 4. Loop de Treinamento com Early Stopping & Pruning ---\n",
    "    best_val_loss = float('inf')\n",
    "    patience_counter = 0\n",
    "\n",
    "    for epoch in range(N_EPOCHS):\n",
    "        # Treinamento\n",
    "        model.train()\n",
    "        for X_batch, y_batch in train_loader:\n",
    "            optimizer.zero_grad()\n",
    "            outputs = model(X_batch)\n",
    "            loss = criterion(outputs, y_batch)\n",
    "            loss.backward()\n",
    "            optimizer.step()\n",
    "        \n",
    "        # Validação\n",
    "        model.eval()\n",
    "        current_val_loss = 0.0\n",
    "        with torch.no_grad():\n",
    "            for X_batch, y_batch in val_loader:\n",
    "                outputs = model(X_batch)\n",
    "                loss = criterion(outputs, y_batch)\n",
    "                current_val_loss += loss.item() * X_batch.size(0)\n",
    "        \n",
    "        current_val_loss /= len(val_loader.dataset)\n",
    "        \n",
    "        # --- 5. Lógica de Pruning (pelo Optuna) ---\n",
    "        trial.report(current_val_loss, epoch)\n",
    "        if trial.should_prune():\n",
    "            raise optuna.TrialPruned()\n",
    "\n",
    "        # --- 6. Lógica de Early Stopping ---\n",
    "        if current_val_loss < best_val_loss:\n",
    "            best_val_loss = current_val_loss\n",
    "            patience_counter = 0\n",
    "        else:\n",
    "            patience_counter += 1\n",
    "        \n",
    "        if patience_counter >= EARLY_STOPPING_PATIENCE:\n",
    "            # print(f\"Trial {trial.number} parou cedo no epoch {epoch}\")\n",
    "            break\n",
    "            \n",
    "    # --- 7. Retornar Métrica de Qualidade (RMSE) ---\n",
    "    # Optuna minimiza o valor retornado.\n",
    "    # Usamos o RMSE (raiz do MSE) como métrica de seleção.\n",
    "    final_rmse = math.sqrt(best_val_loss)\n",
    "    trial.set_user_attr('val_rmse', final_rmse)\n",
    "    \n",
    "    return final_rmse\n",
    "\n",
    "print(\"Função 'objective' do Optuna definida.\")"
   ]
  },
  {
   "cell_type": "code",
   "execution_count": 7,
   "id": "c5a5156d",
   "metadata": {},
   "outputs": [
    {
     "name": "stderr",
     "output_type": "stream",
     "text": [
      "[I 2025-10-27 20:42:25,905] A new study created in memory with name: no-name-a70f6fe3-6b7c-4e02-8597-423959d9de34\n"
     ]
    },
    {
     "name": "stdout",
     "output_type": "stream",
     "text": [
      "--- Iniciando Estudo Optuna ---\n"
     ]
    },
    {
     "name": "stderr",
     "output_type": "stream",
     "text": [
      "Best trial: 0. Best value: 0.00591231:   1%|          | 1/100 [00:11<19:46, 11.99s/it]"
     ]
    },
    {
     "name": "stdout",
     "output_type": "stream",
     "text": [
      "[I 2025-10-27 20:42:37,893] Trial 0 finished with value: 0.0059123095293846855 and parameters: {'n_layers': 3, 'n_neurons': 5, 'lr': 0.0025447446274749685}. Best is trial 0 with value: 0.0059123095293846855.\n"
     ]
    },
    {
     "name": "stderr",
     "output_type": "stream",
     "text": [
      "Best trial: 0. Best value: 0.00591231:   2%|▏         | 2/100 [00:24<19:49, 12.14s/it]"
     ]
    },
    {
     "name": "stdout",
     "output_type": "stream",
     "text": [
      "[I 2025-10-27 20:42:50,134] Trial 1 finished with value: 0.005914226938405474 and parameters: {'n_layers': 1, 'n_neurons': 13, 'lr': 0.000834964377711192}. Best is trial 0 with value: 0.0059123095293846855.\n"
     ]
    },
    {
     "name": "stderr",
     "output_type": "stream",
     "text": [
      "Best trial: 0. Best value: 0.00591231:   3%|▎         | 3/100 [00:30<15:11,  9.39s/it]"
     ]
    },
    {
     "name": "stdout",
     "output_type": "stream",
     "text": [
      "[I 2025-10-27 20:42:56,261] Trial 2 finished with value: 0.019313381988175015 and parameters: {'n_layers': 3, 'n_neurons': 3, 'lr': 0.006509524584210068}. Best is trial 0 with value: 0.0059123095293846855.\n"
     ]
    },
    {
     "name": "stderr",
     "output_type": "stream",
     "text": [
      "Best trial: 3. Best value: 0.00242113:   4%|▍         | 4/100 [00:49<20:53, 13.06s/it]"
     ]
    },
    {
     "name": "stdout",
     "output_type": "stream",
     "text": [
      "[I 2025-10-27 20:43:14,935] Trial 3 finished with value: 0.0024211294346731323 and parameters: {'n_layers': 1, 'n_neurons': 6, 'lr': 0.0004433217561365005}. Best is trial 3 with value: 0.0024211294346731323.\n"
     ]
    },
    {
     "name": "stderr",
     "output_type": "stream",
     "text": [
      "Best trial: 3. Best value: 0.00242113:   5%|▌         | 5/100 [01:00<19:47, 12.50s/it]"
     ]
    },
    {
     "name": "stdout",
     "output_type": "stream",
     "text": [
      "[I 2025-10-27 20:43:26,460] Trial 4 finished with value: 0.02377463309711461 and parameters: {'n_layers': 2, 'n_neurons': 3, 'lr': 0.0007443688519415774}. Best is trial 3 with value: 0.0024211294346731323.\n"
     ]
    },
    {
     "name": "stderr",
     "output_type": "stream",
     "text": [
      "Best trial: 3. Best value: 0.00242113:   6%|▌         | 6/100 [01:07<16:39, 10.63s/it]"
     ]
    },
    {
     "name": "stdout",
     "output_type": "stream",
     "text": [
      "[I 2025-10-27 20:43:33,458] Trial 5 finished with value: 0.005921723775541623 and parameters: {'n_layers': 2, 'n_neurons': 11, 'lr': 0.006805903764448262}. Best is trial 3 with value: 0.0024211294346731323.\n"
     ]
    },
    {
     "name": "stderr",
     "output_type": "stream",
     "text": [
      "Best trial: 6. Best value: 0.00105753:   7%|▋         | 7/100 [01:20<17:45, 11.46s/it]"
     ]
    },
    {
     "name": "stdout",
     "output_type": "stream",
     "text": [
      "[I 2025-10-27 20:43:46,624] Trial 6 finished with value: 0.0010575340165803237 and parameters: {'n_layers': 3, 'n_neurons': 7, 'lr': 0.04811657052028099}. Best is trial 6 with value: 0.0010575340165803237.\n"
     ]
    },
    {
     "name": "stderr",
     "output_type": "stream",
     "text": [
      "Best trial: 6. Best value: 0.00105753:   8%|▊         | 8/100 [01:27<15:21, 10.02s/it]"
     ]
    },
    {
     "name": "stdout",
     "output_type": "stream",
     "text": [
      "[I 2025-10-27 20:43:53,558] Trial 7 finished with value: 0.0023237288057810683 and parameters: {'n_layers': 2, 'n_neurons': 13, 'lr': 0.026900497029450646}. Best is trial 6 with value: 0.0010575340165803237.\n"
     ]
    },
    {
     "name": "stderr",
     "output_type": "stream",
     "text": [
      "Best trial: 6. Best value: 0.00105753:   9%|▉         | 9/100 [01:28<10:52,  7.17s/it]"
     ]
    },
    {
     "name": "stdout",
     "output_type": "stream",
     "text": [
      "[I 2025-10-27 20:43:54,479] Trial 8 pruned. \n"
     ]
    },
    {
     "name": "stderr",
     "output_type": "stream",
     "text": [
      "Best trial: 9. Best value: 0.000455122:  10%|█         | 10/100 [02:00<22:21, 14.91s/it]"
     ]
    },
    {
     "name": "stdout",
     "output_type": "stream",
     "text": [
      "[I 2025-10-27 20:44:26,696] Trial 9 finished with value: 0.0004551216586447284 and parameters: {'n_layers': 3, 'n_neurons': 17, 'lr': 0.0003460527413747994}. Best is trial 9 with value: 0.0004551216586447284.\n"
     ]
    },
    {
     "name": "stderr",
     "output_type": "stream",
     "text": [
      "Best trial: 9. Best value: 0.000455122:  11%|█         | 11/100 [02:01<15:51, 10.69s/it]"
     ]
    },
    {
     "name": "stdout",
     "output_type": "stream",
     "text": [
      "[I 2025-10-27 20:44:27,832] Trial 10 pruned. \n"
     ]
    },
    {
     "name": "stderr",
     "output_type": "stream",
     "text": [
      "Best trial: 9. Best value: 0.000455122:  12%|█▏        | 12/100 [02:07<13:27,  9.18s/it]"
     ]
    },
    {
     "name": "stdout",
     "output_type": "stream",
     "text": [
      "[I 2025-10-27 20:44:33,557] Trial 11 finished with value: 0.0008269128667118902 and parameters: {'n_layers': 3, 'n_neurons': 20, 'lr': 0.07499486770779708}. Best is trial 9 with value: 0.0004551216586447284.\n"
     ]
    },
    {
     "name": "stderr",
     "output_type": "stream",
     "text": [
      "Best trial: 9. Best value: 0.000455122:  13%|█▎        | 13/100 [02:08<09:47,  6.75s/it]"
     ]
    },
    {
     "name": "stdout",
     "output_type": "stream",
     "text": [
      "[I 2025-10-27 20:44:34,717] Trial 12 pruned. \n"
     ]
    },
    {
     "name": "stderr",
     "output_type": "stream",
     "text": [
      "Best trial: 9. Best value: 0.000455122:  14%|█▍        | 14/100 [02:09<07:14,  5.06s/it]"
     ]
    },
    {
     "name": "stdout",
     "output_type": "stream",
     "text": [
      "[I 2025-10-27 20:44:35,857] Trial 13 pruned. \n"
     ]
    },
    {
     "name": "stderr",
     "output_type": "stream",
     "text": [
      "Best trial: 9. Best value: 0.000455122:  15%|█▌        | 15/100 [02:28<12:53,  9.10s/it]"
     ]
    },
    {
     "name": "stdout",
     "output_type": "stream",
     "text": [
      "[I 2025-10-27 20:44:54,321] Trial 14 finished with value: 0.0013536682109502524 and parameters: {'n_layers': 2, 'n_neurons': 16, 'lr': 0.0021103735622438023}. Best is trial 9 with value: 0.0004551216586447284.\n"
     ]
    },
    {
     "name": "stderr",
     "output_type": "stream",
     "text": [
      "Best trial: 9. Best value: 0.000455122:  16%|█▌        | 16/100 [02:29<09:19,  6.66s/it]"
     ]
    },
    {
     "name": "stdout",
     "output_type": "stream",
     "text": [
      "[I 2025-10-27 20:44:55,313] Trial 15 pruned. \n"
     ]
    },
    {
     "name": "stderr",
     "output_type": "stream",
     "text": [
      "Best trial: 9. Best value: 0.000455122:  17%|█▋        | 17/100 [02:35<08:53,  6.43s/it]"
     ]
    },
    {
     "name": "stdout",
     "output_type": "stream",
     "text": [
      "[I 2025-10-27 20:45:01,197] Trial 16 finished with value: 0.0026034258363652023 and parameters: {'n_layers': 3, 'n_neurons': 15, 'lr': 0.014749737315045358}. Best is trial 9 with value: 0.0004551216586447284.\n"
     ]
    },
    {
     "name": "stderr",
     "output_type": "stream",
     "text": [
      "Best trial: 9. Best value: 0.000455122:  18%|█▊        | 18/100 [02:36<06:37,  4.85s/it]"
     ]
    },
    {
     "name": "stdout",
     "output_type": "stream",
     "text": [
      "[I 2025-10-27 20:45:02,364] Trial 17 pruned. \n"
     ]
    },
    {
     "name": "stderr",
     "output_type": "stream",
     "text": [
      "Best trial: 9. Best value: 0.000455122:  19%|█▉        | 19/100 [02:37<05:02,  3.73s/it]"
     ]
    },
    {
     "name": "stdout",
     "output_type": "stream",
     "text": [
      "[I 2025-10-27 20:45:03,505] Trial 18 pruned. \n"
     ]
    },
    {
     "name": "stderr",
     "output_type": "stream",
     "text": [
      "Best trial: 9. Best value: 0.000455122:  20%|██        | 20/100 [02:43<05:56,  4.46s/it]"
     ]
    },
    {
     "name": "stdout",
     "output_type": "stream",
     "text": [
      "[I 2025-10-27 20:45:09,646] Trial 19 finished with value: 0.001318964620577679 and parameters: {'n_layers': 2, 'n_neurons': 20, 'lr': 0.0923262551103442}. Best is trial 9 with value: 0.0004551216586447284.\n"
     ]
    },
    {
     "name": "stderr",
     "output_type": "stream",
     "text": [
      "Best trial: 9. Best value: 0.000455122:  21%|██        | 21/100 [02:45<04:36,  3.50s/it]"
     ]
    },
    {
     "name": "stdout",
     "output_type": "stream",
     "text": [
      "[I 2025-10-27 20:45:10,920] Trial 20 pruned. \n"
     ]
    },
    {
     "name": "stderr",
     "output_type": "stream",
     "text": [
      "Best trial: 9. Best value: 0.000455122:  22%|██▏       | 22/100 [02:46<03:39,  2.81s/it]"
     ]
    },
    {
     "name": "stdout",
     "output_type": "stream",
     "text": [
      "[I 2025-10-27 20:45:12,122] Trial 21 pruned. \n"
     ]
    },
    {
     "name": "stderr",
     "output_type": "stream",
     "text": [
      "Best trial: 9. Best value: 0.000455122:  23%|██▎       | 23/100 [03:00<07:53,  6.14s/it]"
     ]
    },
    {
     "name": "stdout",
     "output_type": "stream",
     "text": [
      "[I 2025-10-27 20:45:26,037] Trial 22 finished with value: 0.0008750453516791834 and parameters: {'n_layers': 3, 'n_neurons': 8, 'lr': 0.03477284036919095}. Best is trial 9 with value: 0.0004551216586447284.\n"
     ]
    },
    {
     "name": "stderr",
     "output_type": "stream",
     "text": [
      "Best trial: 9. Best value: 0.000455122:  24%|██▍       | 24/100 [03:07<08:18,  6.55s/it]"
     ]
    },
    {
     "name": "stdout",
     "output_type": "stream",
     "text": [
      "[I 2025-10-27 20:45:33,546] Trial 23 finished with value: 0.0009870734585822264 and parameters: {'n_layers': 3, 'n_neurons': 18, 'lr': 0.023466595318818114}. Best is trial 9 with value: 0.0004551216586447284.\n"
     ]
    },
    {
     "name": "stderr",
     "output_type": "stream",
     "text": [
      "Best trial: 9. Best value: 0.000455122:  25%|██▌       | 25/100 [03:08<06:09,  4.92s/it]"
     ]
    },
    {
     "name": "stdout",
     "output_type": "stream",
     "text": [
      "[I 2025-10-27 20:45:34,672] Trial 24 pruned. \n"
     ]
    },
    {
     "name": "stderr",
     "output_type": "stream",
     "text": [
      "Best trial: 9. Best value: 0.000455122:  26%|██▌       | 26/100 [03:21<09:00,  7.31s/it]"
     ]
    },
    {
     "name": "stdout",
     "output_type": "stream",
     "text": [
      "[I 2025-10-27 20:45:47,544] Trial 25 finished with value: 0.0011693311657128443 and parameters: {'n_layers': 3, 'n_neurons': 16, 'lr': 0.01850864744576365}. Best is trial 9 with value: 0.0004551216586447284.\n"
     ]
    },
    {
     "name": "stderr",
     "output_type": "stream",
     "text": [
      "Best trial: 9. Best value: 0.000455122:  27%|██▋       | 27/100 [03:22<06:38,  5.46s/it]"
     ]
    },
    {
     "name": "stdout",
     "output_type": "stream",
     "text": [
      "[I 2025-10-27 20:45:48,678] Trial 26 pruned. \n"
     ]
    },
    {
     "name": "stderr",
     "output_type": "stream",
     "text": [
      "Best trial: 9. Best value: 0.000455122:  28%|██▊       | 28/100 [03:23<04:57,  4.13s/it]"
     ]
    },
    {
     "name": "stdout",
     "output_type": "stream",
     "text": [
      "[I 2025-10-27 20:45:49,698] Trial 27 pruned. \n"
     ]
    },
    {
     "name": "stderr",
     "output_type": "stream",
     "text": [
      "Best trial: 9. Best value: 0.000455122:  29%|██▉       | 29/100 [03:30<05:55,  5.00s/it]"
     ]
    },
    {
     "name": "stdout",
     "output_type": "stream",
     "text": [
      "[I 2025-10-27 20:45:56,754] Trial 28 finished with value: 0.000742483756405828 and parameters: {'n_layers': 3, 'n_neurons': 18, 'lr': 0.03182508499422029}. Best is trial 9 with value: 0.0004551216586447284.\n"
     ]
    },
    {
     "name": "stderr",
     "output_type": "stream",
     "text": [
      "Best trial: 9. Best value: 0.000455122:  30%|███       | 30/100 [03:38<06:47,  5.83s/it]"
     ]
    },
    {
     "name": "stdout",
     "output_type": "stream",
     "text": [
      "[I 2025-10-27 20:46:04,501] Trial 29 finished with value: 0.0014587180788610166 and parameters: {'n_layers': 3, 'n_neurons': 18, 'lr': 0.003049334055895675}. Best is trial 9 with value: 0.0004551216586447284.\n"
     ]
    },
    {
     "name": "stderr",
     "output_type": "stream",
     "text": [
      "Best trial: 9. Best value: 0.000455122:  31%|███       | 31/100 [03:49<08:23,  7.30s/it]"
     ]
    },
    {
     "name": "stdout",
     "output_type": "stream",
     "text": [
      "[I 2025-10-27 20:46:15,222] Trial 30 finished with value: 0.0013296168470503698 and parameters: {'n_layers': 3, 'n_neurons': 20, 'lr': 0.011182717455478799}. Best is trial 9 with value: 0.0004551216586447284.\n"
     ]
    },
    {
     "name": "stderr",
     "output_type": "stream",
     "text": [
      "Best trial: 9. Best value: 0.000455122:  32%|███▏      | 32/100 [04:04<10:48,  9.54s/it]"
     ]
    },
    {
     "name": "stdout",
     "output_type": "stream",
     "text": [
      "[I 2025-10-27 20:46:30,004] Trial 31 finished with value: 0.0006354084887474874 and parameters: {'n_layers': 3, 'n_neurons': 18, 'lr': 0.03200771959475752}. Best is trial 9 with value: 0.0004551216586447284.\n"
     ]
    },
    {
     "name": "stderr",
     "output_type": "stream",
     "text": [
      "Best trial: 9. Best value: 0.000455122:  33%|███▎      | 33/100 [04:07<08:40,  7.77s/it]"
     ]
    },
    {
     "name": "stdout",
     "output_type": "stream",
     "text": [
      "[I 2025-10-27 20:46:33,624] Trial 32 finished with value: 0.0010997577535511826 and parameters: {'n_layers': 3, 'n_neurons': 18, 'lr': 0.0792209346415263}. Best is trial 9 with value: 0.0004551216586447284.\n"
     ]
    },
    {
     "name": "stderr",
     "output_type": "stream",
     "text": [
      "Best trial: 9. Best value: 0.000455122:  34%|███▍      | 34/100 [04:08<06:21,  5.77s/it]"
     ]
    },
    {
     "name": "stdout",
     "output_type": "stream",
     "text": [
      "[I 2025-10-27 20:46:34,749] Trial 33 pruned. \n"
     ]
    },
    {
     "name": "stderr",
     "output_type": "stream",
     "text": [
      "Best trial: 9. Best value: 0.000455122:  35%|███▌      | 35/100 [04:14<06:22,  5.89s/it]"
     ]
    },
    {
     "name": "stdout",
     "output_type": "stream",
     "text": [
      "[I 2025-10-27 20:46:40,905] Trial 34 finished with value: 0.0012252604228566793 and parameters: {'n_layers': 3, 'n_neurons': 19, 'lr': 0.030375917526308097}. Best is trial 9 with value: 0.0004551216586447284.\n"
     ]
    },
    {
     "name": "stderr",
     "output_type": "stream",
     "text": [
      "Best trial: 9. Best value: 0.000455122:  36%|███▌      | 36/100 [04:26<07:58,  7.48s/it]"
     ]
    },
    {
     "name": "stdout",
     "output_type": "stream",
     "text": [
      "[I 2025-10-27 20:46:52,088] Trial 35 finished with value: 0.0009476128259229865 and parameters: {'n_layers': 3, 'n_neurons': 17, 'lr': 0.004742938373067632}. Best is trial 9 with value: 0.0004551216586447284.\n"
     ]
    },
    {
     "name": "stderr",
     "output_type": "stream",
     "text": [
      "Best trial: 9. Best value: 0.000455122:  37%|███▋      | 37/100 [04:27<05:46,  5.49s/it]"
     ]
    },
    {
     "name": "stdout",
     "output_type": "stream",
     "text": [
      "[I 2025-10-27 20:46:52,957] Trial 36 pruned. \n"
     ]
    },
    {
     "name": "stderr",
     "output_type": "stream",
     "text": [
      "Best trial: 9. Best value: 0.000455122:  38%|███▊      | 38/100 [04:41<08:31,  8.25s/it]"
     ]
    },
    {
     "name": "stdout",
     "output_type": "stream",
     "text": [
      "[I 2025-10-27 20:47:07,634] Trial 37 finished with value: 0.0007672370152624894 and parameters: {'n_layers': 3, 'n_neurons': 19, 'lr': 0.008111927987921833}. Best is trial 9 with value: 0.0004551216586447284.\n"
     ]
    },
    {
     "name": "stderr",
     "output_type": "stream",
     "text": [
      "Best trial: 9. Best value: 0.000455122:  39%|███▉      | 39/100 [04:56<10:14, 10.08s/it]"
     ]
    },
    {
     "name": "stdout",
     "output_type": "stream",
     "text": [
      "[I 2025-10-27 20:47:21,974] Trial 38 finished with value: 0.0008087160989360509 and parameters: {'n_layers': 2, 'n_neurons': 14, 'lr': 0.008164828229766462}. Best is trial 9 with value: 0.0004551216586447284.\n"
     ]
    },
    {
     "name": "stderr",
     "output_type": "stream",
     "text": [
      "Best trial: 9. Best value: 0.000455122:  40%|████      | 40/100 [04:57<07:24,  7.41s/it]"
     ]
    },
    {
     "name": "stdout",
     "output_type": "stream",
     "text": [
      "[I 2025-10-27 20:47:23,149] Trial 39 pruned. \n"
     ]
    },
    {
     "name": "stderr",
     "output_type": "stream",
     "text": [
      "Best trial: 9. Best value: 0.000455122:  41%|████      | 41/100 [04:58<05:21,  5.44s/it]"
     ]
    },
    {
     "name": "stdout",
     "output_type": "stream",
     "text": [
      "[I 2025-10-27 20:47:24,017] Trial 40 pruned. \n"
     ]
    },
    {
     "name": "stderr",
     "output_type": "stream",
     "text": [
      "Best trial: 9. Best value: 0.000455122:  42%|████▏     | 42/100 [04:59<03:58,  4.12s/it]"
     ]
    },
    {
     "name": "stdout",
     "output_type": "stream",
     "text": [
      "[I 2025-10-27 20:47:25,040] Trial 41 pruned. \n"
     ]
    },
    {
     "name": "stderr",
     "output_type": "stream",
     "text": [
      "Best trial: 9. Best value: 0.000455122:  43%|████▎     | 43/100 [05:00<03:01,  3.19s/it]"
     ]
    },
    {
     "name": "stdout",
     "output_type": "stream",
     "text": [
      "[I 2025-10-27 20:47:26,051] Trial 42 pruned. \n"
     ]
    },
    {
     "name": "stderr",
     "output_type": "stream",
     "text": [
      "Best trial: 9. Best value: 0.000455122:  44%|████▍     | 44/100 [05:01<02:19,  2.49s/it]"
     ]
    },
    {
     "name": "stdout",
     "output_type": "stream",
     "text": [
      "[I 2025-10-27 20:47:26,910] Trial 43 pruned. \n"
     ]
    },
    {
     "name": "stderr",
     "output_type": "stream",
     "text": [
      "Best trial: 9. Best value: 0.000455122:  45%|████▌     | 45/100 [05:12<04:50,  5.28s/it]"
     ]
    },
    {
     "name": "stdout",
     "output_type": "stream",
     "text": [
      "[I 2025-10-27 20:47:38,702] Trial 44 finished with value: 0.0006560198450886903 and parameters: {'n_layers': 3, 'n_neurons': 13, 'lr': 0.021596957054496404}. Best is trial 9 with value: 0.0004551216586447284.\n"
     ]
    },
    {
     "name": "stderr",
     "output_type": "stream",
     "text": [
      "Best trial: 9. Best value: 0.000455122:  46%|████▌     | 46/100 [05:14<03:48,  4.24s/it]"
     ]
    },
    {
     "name": "stdout",
     "output_type": "stream",
     "text": [
      "[I 2025-10-27 20:47:40,507] Trial 45 pruned. \n"
     ]
    },
    {
     "name": "stderr",
     "output_type": "stream",
     "text": [
      "Best trial: 9. Best value: 0.000455122:  47%|████▋     | 47/100 [05:19<03:48,  4.30s/it]"
     ]
    },
    {
     "name": "stdout",
     "output_type": "stream",
     "text": [
      "[I 2025-10-27 20:47:44,965] Trial 46 pruned. \n"
     ]
    },
    {
     "name": "stderr",
     "output_type": "stream",
     "text": [
      "Best trial: 9. Best value: 0.000455122:  48%|████▊     | 48/100 [05:26<04:26,  5.12s/it]"
     ]
    },
    {
     "name": "stdout",
     "output_type": "stream",
     "text": [
      "[I 2025-10-27 20:47:51,998] Trial 47 finished with value: 0.0007257002864258238 and parameters: {'n_layers': 3, 'n_neurons': 19, 'lr': 0.051924499468750406}. Best is trial 9 with value: 0.0004551216586447284.\n"
     ]
    },
    {
     "name": "stderr",
     "output_type": "stream",
     "text": [
      "Best trial: 9. Best value: 0.000455122:  49%|████▉     | 49/100 [05:34<05:12,  6.13s/it]"
     ]
    },
    {
     "name": "stdout",
     "output_type": "stream",
     "text": [
      "[I 2025-10-27 20:48:00,464] Trial 48 finished with value: 0.0008966753569337781 and parameters: {'n_layers': 3, 'n_neurons': 16, 'lr': 0.060241145909744775}. Best is trial 9 with value: 0.0004551216586447284.\n"
     ]
    },
    {
     "name": "stderr",
     "output_type": "stream",
     "text": [
      "Best trial: 9. Best value: 0.000455122:  50%|█████     | 50/100 [05:35<03:53,  4.67s/it]"
     ]
    },
    {
     "name": "stdout",
     "output_type": "stream",
     "text": [
      "[I 2025-10-27 20:48:01,742] Trial 49 pruned. \n"
     ]
    },
    {
     "name": "stderr",
     "output_type": "stream",
     "text": [
      "Best trial: 9. Best value: 0.000455122:  51%|█████     | 51/100 [05:41<04:05,  5.01s/it]"
     ]
    },
    {
     "name": "stdout",
     "output_type": "stream",
     "text": [
      "[I 2025-10-27 20:48:07,543] Trial 50 finished with value: 0.0009784215762777384 and parameters: {'n_layers': 3, 'n_neurons': 17, 'lr': 0.04937477160152213}. Best is trial 9 with value: 0.0004551216586447284.\n"
     ]
    },
    {
     "name": "stderr",
     "output_type": "stream",
     "text": [
      "Best trial: 9. Best value: 0.000455122:  52%|█████▏    | 52/100 [05:43<03:08,  3.92s/it]"
     ]
    },
    {
     "name": "stdout",
     "output_type": "stream",
     "text": [
      "[I 2025-10-27 20:48:08,926] Trial 51 pruned. \n"
     ]
    },
    {
     "name": "stderr",
     "output_type": "stream",
     "text": [
      "Best trial: 9. Best value: 0.000455122:  53%|█████▎    | 53/100 [05:53<04:31,  5.77s/it]"
     ]
    },
    {
     "name": "stdout",
     "output_type": "stream",
     "text": [
      "[I 2025-10-27 20:48:19,005] Trial 52 finished with value: 0.0005576388188283228 and parameters: {'n_layers': 3, 'n_neurons': 18, 'lr': 0.021830241090909853}. Best is trial 9 with value: 0.0004551216586447284.\n"
     ]
    },
    {
     "name": "stderr",
     "output_type": "stream",
     "text": [
      "Best trial: 9. Best value: 0.000455122:  54%|█████▍    | 54/100 [06:02<05:13,  6.82s/it]"
     ]
    },
    {
     "name": "stdout",
     "output_type": "stream",
     "text": [
      "[I 2025-10-27 20:48:28,279] Trial 53 finished with value: 0.001128438134534997 and parameters: {'n_layers': 3, 'n_neurons': 18, 'lr': 0.020452369661513335}. Best is trial 9 with value: 0.0004551216586447284.\n"
     ]
    },
    {
     "name": "stderr",
     "output_type": "stream",
     "text": [
      "Best trial: 9. Best value: 0.000455122:  55%|█████▌    | 55/100 [06:11<05:35,  7.45s/it]"
     ]
    },
    {
     "name": "stdout",
     "output_type": "stream",
     "text": [
      "[I 2025-10-27 20:48:37,203] Trial 54 finished with value: 0.0008063456341246092 and parameters: {'n_layers': 3, 'n_neurons': 20, 'lr': 0.035112213512713424}. Best is trial 9 with value: 0.0004551216586447284.\n"
     ]
    },
    {
     "name": "stderr",
     "output_type": "stream",
     "text": [
      "Best trial: 55. Best value: 0.000428135:  56%|█████▌    | 56/100 [06:19<05:39,  7.72s/it]"
     ]
    },
    {
     "name": "stdout",
     "output_type": "stream",
     "text": [
      "[I 2025-10-27 20:48:45,549] Trial 55 finished with value: 0.00042813510634882195 and parameters: {'n_layers': 3, 'n_neurons': 17, 'lr': 0.013262461679696263}. Best is trial 55 with value: 0.00042813510634882195.\n"
     ]
    },
    {
     "name": "stderr",
     "output_type": "stream",
     "text": [
      "Best trial: 55. Best value: 0.000428135:  57%|█████▋    | 57/100 [06:21<04:13,  5.90s/it]"
     ]
    },
    {
     "name": "stdout",
     "output_type": "stream",
     "text": [
      "[I 2025-10-27 20:48:47,217] Trial 56 pruned. \n"
     ]
    },
    {
     "name": "stderr",
     "output_type": "stream",
     "text": [
      "Best trial: 55. Best value: 0.000428135:  58%|█████▊    | 58/100 [06:22<03:08,  4.48s/it]"
     ]
    },
    {
     "name": "stdout",
     "output_type": "stream",
     "text": [
      "[I 2025-10-27 20:48:48,364] Trial 57 pruned. \n"
     ]
    },
    {
     "name": "stderr",
     "output_type": "stream",
     "text": [
      "Best trial: 55. Best value: 0.000428135:  59%|█████▉    | 59/100 [06:23<02:22,  3.48s/it]"
     ]
    },
    {
     "name": "stdout",
     "output_type": "stream",
     "text": [
      "[I 2025-10-27 20:48:49,511] Trial 58 pruned. \n"
     ]
    },
    {
     "name": "stderr",
     "output_type": "stream",
     "text": [
      "Best trial: 55. Best value: 0.000428135:  60%|██████    | 60/100 [06:28<02:36,  3.92s/it]"
     ]
    },
    {
     "name": "stdout",
     "output_type": "stream",
     "text": [
      "[I 2025-10-27 20:48:54,467] Trial 59 finished with value: 0.0010778985625432083 and parameters: {'n_layers': 3, 'n_neurons': 15, 'lr': 0.02293189575835585}. Best is trial 55 with value: 0.00042813510634882195.\n"
     ]
    },
    {
     "name": "stderr",
     "output_type": "stream",
     "text": [
      "Best trial: 55. Best value: 0.000428135:  61%|██████    | 61/100 [06:38<03:42,  5.69s/it]"
     ]
    },
    {
     "name": "stdout",
     "output_type": "stream",
     "text": [
      "[I 2025-10-27 20:49:04,297] Trial 60 finished with value: 0.0011258334117925687 and parameters: {'n_layers': 3, 'n_neurons': 17, 'lr': 0.06265080006476163}. Best is trial 55 with value: 0.00042813510634882195.\n"
     ]
    },
    {
     "name": "stderr",
     "output_type": "stream",
     "text": [
      "Best trial: 55. Best value: 0.000428135:  62%|██████▏   | 62/100 [06:44<03:42,  5.86s/it]"
     ]
    },
    {
     "name": "stdout",
     "output_type": "stream",
     "text": [
      "[I 2025-10-27 20:49:10,546] Trial 61 finished with value: 0.0007103047987614784 and parameters: {'n_layers': 3, 'n_neurons': 18, 'lr': 0.041686203747225176}. Best is trial 55 with value: 0.00042813510634882195.\n"
     ]
    },
    {
     "name": "stderr",
     "output_type": "stream",
     "text": [
      "Best trial: 55. Best value: 0.000428135:  63%|██████▎   | 63/100 [06:56<04:39,  7.56s/it]"
     ]
    },
    {
     "name": "stdout",
     "output_type": "stream",
     "text": [
      "[I 2025-10-27 20:49:22,064] Trial 62 finished with value: 0.0010188205154826706 and parameters: {'n_layers': 3, 'n_neurons': 19, 'lr': 0.0409186908851011}. Best is trial 55 with value: 0.00042813510634882195.\n"
     ]
    },
    {
     "name": "stderr",
     "output_type": "stream",
     "text": [
      "Best trial: 55. Best value: 0.000428135:  64%|██████▍   | 64/100 [07:02<04:24,  7.33s/it]"
     ]
    },
    {
     "name": "stdout",
     "output_type": "stream",
     "text": [
      "[I 2025-10-27 20:49:28,874] Trial 63 finished with value: 0.0005679388933205539 and parameters: {'n_layers': 3, 'n_neurons': 20, 'lr': 0.026373725725063985}. Best is trial 55 with value: 0.00042813510634882195.\n"
     ]
    },
    {
     "name": "stderr",
     "output_type": "stream",
     "text": [
      "Best trial: 55. Best value: 0.000428135:  65%|██████▌   | 65/100 [07:14<05:02,  8.63s/it]"
     ]
    },
    {
     "name": "stdout",
     "output_type": "stream",
     "text": [
      "[I 2025-10-27 20:49:40,539] Trial 64 finished with value: 0.0005975704915267815 and parameters: {'n_layers': 3, 'n_neurons': 20, 'lr': 0.018074847311653028}. Best is trial 55 with value: 0.00042813510634882195.\n"
     ]
    },
    {
     "name": "stderr",
     "output_type": "stream",
     "text": [
      "Best trial: 55. Best value: 0.000428135:  66%|██████▌   | 66/100 [07:25<05:15,  9.29s/it]"
     ]
    },
    {
     "name": "stdout",
     "output_type": "stream",
     "text": [
      "[I 2025-10-27 20:49:51,375] Trial 65 finished with value: 0.0006130762834927361 and parameters: {'n_layers': 3, 'n_neurons': 20, 'lr': 0.014037830444842792}. Best is trial 55 with value: 0.00042813510634882195.\n"
     ]
    },
    {
     "name": "stderr",
     "output_type": "stream",
     "text": [
      "Best trial: 55. Best value: 0.000428135:  67%|██████▋   | 67/100 [07:30<04:28,  8.15s/it]"
     ]
    },
    {
     "name": "stdout",
     "output_type": "stream",
     "text": [
      "[I 2025-10-27 20:49:56,842] Trial 66 finished with value: 0.0008706779951170603 and parameters: {'n_layers': 3, 'n_neurons': 20, 'lr': 0.013659815638019344}. Best is trial 55 with value: 0.00042813510634882195.\n"
     ]
    },
    {
     "name": "stderr",
     "output_type": "stream",
     "text": [
      "Best trial: 67. Best value: 0.000387631:  68%|██████▊   | 68/100 [07:37<04:09,  7.79s/it]"
     ]
    },
    {
     "name": "stdout",
     "output_type": "stream",
     "text": [
      "[I 2025-10-27 20:50:03,797] Trial 67 finished with value: 0.00038763122976627284 and parameters: {'n_layers': 3, 'n_neurons': 20, 'lr': 0.016958810881878037}. Best is trial 67 with value: 0.00038763122976627284.\n"
     ]
    },
    {
     "name": "stderr",
     "output_type": "stream",
     "text": [
      "Best trial: 67. Best value: 0.000387631:  69%|██████▉   | 69/100 [07:42<03:30,  6.79s/it]"
     ]
    },
    {
     "name": "stdout",
     "output_type": "stream",
     "text": [
      "[I 2025-10-27 20:50:08,268] Trial 68 finished with value: 0.0006689471918995175 and parameters: {'n_layers': 3, 'n_neurons': 20, 'lr': 0.009243439858724384}. Best is trial 67 with value: 0.00038763122976627284.\n"
     ]
    },
    {
     "name": "stderr",
     "output_type": "stream",
     "text": [
      "Best trial: 67. Best value: 0.000387631:  70%|███████   | 70/100 [07:50<03:34,  7.15s/it]"
     ]
    },
    {
     "name": "stdout",
     "output_type": "stream",
     "text": [
      "[I 2025-10-27 20:50:16,235] Trial 69 finished with value: 0.0009219266564528417 and parameters: {'n_layers': 3, 'n_neurons': 20, 'lr': 0.0054725887117310565}. Best is trial 67 with value: 0.00038763122976627284.\n"
     ]
    },
    {
     "name": "stderr",
     "output_type": "stream",
     "text": [
      "Best trial: 67. Best value: 0.000387631:  71%|███████   | 71/100 [08:01<03:59,  8.28s/it]"
     ]
    },
    {
     "name": "stdout",
     "output_type": "stream",
     "text": [
      "[I 2025-10-27 20:50:27,145] Trial 70 finished with value: 0.0009725192600935562 and parameters: {'n_layers': 3, 'n_neurons': 20, 'lr': 0.00364186860188552}. Best is trial 67 with value: 0.00038763122976627284.\n"
     ]
    },
    {
     "name": "stderr",
     "output_type": "stream",
     "text": [
      "Best trial: 67. Best value: 0.000387631:  72%|███████▏  | 72/100 [08:12<04:16,  9.17s/it]"
     ]
    },
    {
     "name": "stdout",
     "output_type": "stream",
     "text": [
      "[I 2025-10-27 20:50:38,396] Trial 71 finished with value: 0.0005984788810612437 and parameters: {'n_layers': 3, 'n_neurons': 19, 'lr': 0.017642863774384787}. Best is trial 67 with value: 0.00038763122976627284.\n"
     ]
    },
    {
     "name": "stderr",
     "output_type": "stream",
     "text": [
      "Best trial: 67. Best value: 0.000387631:  73%|███████▎  | 73/100 [08:13<03:02,  6.77s/it]"
     ]
    },
    {
     "name": "stdout",
     "output_type": "stream",
     "text": [
      "[I 2025-10-27 20:50:39,555] Trial 72 pruned. \n"
     ]
    },
    {
     "name": "stderr",
     "output_type": "stream",
     "text": [
      "Best trial: 67. Best value: 0.000387631:  74%|███████▍  | 74/100 [08:17<02:31,  5.83s/it]"
     ]
    },
    {
     "name": "stdout",
     "output_type": "stream",
     "text": [
      "[I 2025-10-27 20:50:43,215] Trial 73 pruned. \n"
     ]
    },
    {
     "name": "stderr",
     "output_type": "stream",
     "text": [
      "Best trial: 67. Best value: 0.000387631:  75%|███████▌  | 75/100 [08:21<02:17,  5.49s/it]"
     ]
    },
    {
     "name": "stdout",
     "output_type": "stream",
     "text": [
      "[I 2025-10-27 20:50:47,890] Trial 74 finished with value: 0.000734554179834943 and parameters: {'n_layers': 3, 'n_neurons': 20, 'lr': 0.018690136459254877}. Best is trial 67 with value: 0.00038763122976627284.\n"
     ]
    },
    {
     "name": "stderr",
     "output_type": "stream",
     "text": [
      "Best trial: 67. Best value: 0.000387631:  76%|███████▌  | 76/100 [08:38<03:33,  8.88s/it]"
     ]
    },
    {
     "name": "stdout",
     "output_type": "stream",
     "text": [
      "[I 2025-10-27 20:51:04,687] Trial 75 finished with value: 0.0005817301664101481 and parameters: {'n_layers': 3, 'n_neurons': 18, 'lr': 0.012799091000940054}. Best is trial 67 with value: 0.00038763122976627284.\n"
     ]
    },
    {
     "name": "stderr",
     "output_type": "stream",
     "text": [
      "Best trial: 67. Best value: 0.000387631:  77%|███████▋  | 77/100 [08:55<04:15, 11.10s/it]"
     ]
    },
    {
     "name": "stdout",
     "output_type": "stream",
     "text": [
      "[I 2025-10-27 20:51:20,954] Trial 76 finished with value: 0.0006235333173220572 and parameters: {'n_layers': 3, 'n_neurons': 18, 'lr': 0.026854553898172717}. Best is trial 67 with value: 0.00038763122976627284.\n"
     ]
    },
    {
     "name": "stderr",
     "output_type": "stream",
     "text": [
      "Best trial: 67. Best value: 0.000387631:  78%|███████▊  | 78/100 [09:02<03:36,  9.86s/it]"
     ]
    },
    {
     "name": "stdout",
     "output_type": "stream",
     "text": [
      "[I 2025-10-27 20:51:27,942] Trial 77 finished with value: 0.0009097642844330644 and parameters: {'n_layers': 3, 'n_neurons': 19, 'lr': 0.018250497428824865}. Best is trial 67 with value: 0.00038763122976627284.\n"
     ]
    },
    {
     "name": "stderr",
     "output_type": "stream",
     "text": [
      "Best trial: 67. Best value: 0.000387631:  79%|███████▉  | 79/100 [09:03<02:32,  7.26s/it]"
     ]
    },
    {
     "name": "stdout",
     "output_type": "stream",
     "text": [
      "[I 2025-10-27 20:51:29,120] Trial 78 pruned. \n"
     ]
    },
    {
     "name": "stderr",
     "output_type": "stream",
     "text": [
      "Best trial: 67. Best value: 0.000387631:  80%|████████  | 80/100 [09:12<02:34,  7.74s/it]"
     ]
    },
    {
     "name": "stdout",
     "output_type": "stream",
     "text": [
      "[I 2025-10-27 20:51:37,991] Trial 79 finished with value: 0.0004958977523375031 and parameters: {'n_layers': 3, 'n_neurons': 17, 'lr': 0.011066967651612036}. Best is trial 67 with value: 0.00038763122976627284.\n"
     ]
    },
    {
     "name": "stderr",
     "output_type": "stream",
     "text": [
      "Best trial: 67. Best value: 0.000387631:  81%|████████  | 81/100 [09:13<01:49,  5.76s/it]"
     ]
    },
    {
     "name": "stdout",
     "output_type": "stream",
     "text": [
      "[I 2025-10-27 20:51:39,131] Trial 80 pruned. \n"
     ]
    },
    {
     "name": "stderr",
     "output_type": "stream",
     "text": [
      "Best trial: 67. Best value: 0.000387631:  82%|████████▏ | 82/100 [09:14<01:19,  4.41s/it]"
     ]
    },
    {
     "name": "stdout",
     "output_type": "stream",
     "text": [
      "[I 2025-10-27 20:51:40,393] Trial 81 pruned. \n"
     ]
    },
    {
     "name": "stderr",
     "output_type": "stream",
     "text": [
      "Best trial: 67. Best value: 0.000387631:  83%|████████▎ | 83/100 [09:20<01:21,  4.81s/it]"
     ]
    },
    {
     "name": "stdout",
     "output_type": "stream",
     "text": [
      "[I 2025-10-27 20:51:46,124] Trial 82 finished with value: 0.0007445489761620633 and parameters: {'n_layers': 3, 'n_neurons': 18, 'lr': 0.00932031767411855}. Best is trial 67 with value: 0.00038763122976627284.\n"
     ]
    },
    {
     "name": "stderr",
     "output_type": "stream",
     "text": [
      "Best trial: 67. Best value: 0.000387631:  84%|████████▍ | 84/100 [09:27<01:30,  5.67s/it]"
     ]
    },
    {
     "name": "stdout",
     "output_type": "stream",
     "text": [
      "[I 2025-10-27 20:51:53,792] Trial 83 finished with value: 0.0007910685533380678 and parameters: {'n_layers': 3, 'n_neurons': 18, 'lr': 0.016110072621105538}. Best is trial 67 with value: 0.00038763122976627284.\n"
     ]
    },
    {
     "name": "stderr",
     "output_type": "stream",
     "text": [
      "Best trial: 67. Best value: 0.000387631:  85%|████████▌ | 85/100 [09:47<02:26,  9.74s/it]"
     ]
    },
    {
     "name": "stdout",
     "output_type": "stream",
     "text": [
      "[I 2025-10-27 20:52:13,037] Trial 84 finished with value: 0.0006094123240896733 and parameters: {'n_layers': 3, 'n_neurons': 19, 'lr': 0.011777685771090531}. Best is trial 67 with value: 0.00038763122976627284.\n"
     ]
    },
    {
     "name": "stderr",
     "output_type": "stream",
     "text": [
      "Best trial: 67. Best value: 0.000387631:  86%|████████▌ | 86/100 [09:48<01:40,  7.17s/it]"
     ]
    },
    {
     "name": "stdout",
     "output_type": "stream",
     "text": [
      "[I 2025-10-27 20:52:14,198] Trial 85 pruned. \n"
     ]
    },
    {
     "name": "stderr",
     "output_type": "stream",
     "text": [
      "Best trial: 67. Best value: 0.000387631:  87%|████████▋ | 87/100 [09:57<01:40,  7.70s/it]"
     ]
    },
    {
     "name": "stdout",
     "output_type": "stream",
     "text": [
      "[I 2025-10-27 20:52:23,152] Trial 86 finished with value: 0.0006004285723197464 and parameters: {'n_layers': 3, 'n_neurons': 19, 'lr': 0.01969566752858649}. Best is trial 67 with value: 0.00038763122976627284.\n"
     ]
    },
    {
     "name": "stderr",
     "output_type": "stream",
     "text": [
      "Best trial: 67. Best value: 0.000387631:  88%|████████▊ | 88/100 [09:58<01:08,  5.73s/it]"
     ]
    },
    {
     "name": "stdout",
     "output_type": "stream",
     "text": [
      "[I 2025-10-27 20:52:24,283] Trial 87 pruned. \n"
     ]
    },
    {
     "name": "stderr",
     "output_type": "stream",
     "text": [
      "Best trial: 67. Best value: 0.000387631:  89%|████████▉ | 89/100 [10:04<01:04,  5.83s/it]"
     ]
    },
    {
     "name": "stdout",
     "output_type": "stream",
     "text": [
      "[I 2025-10-27 20:52:30,347] Trial 88 finished with value: 0.0007622875599541451 and parameters: {'n_layers': 3, 'n_neurons': 20, 'lr': 0.025694287659174017}. Best is trial 67 with value: 0.00038763122976627284.\n"
     ]
    },
    {
     "name": "stderr",
     "output_type": "stream",
     "text": [
      "Best trial: 67. Best value: 0.000387631:  90%|█████████ | 90/100 [10:13<01:07,  6.71s/it]"
     ]
    },
    {
     "name": "stdout",
     "output_type": "stream",
     "text": [
      "[I 2025-10-27 20:52:39,123] Trial 89 finished with value: 0.00047944029887569386 and parameters: {'n_layers': 3, 'n_neurons': 18, 'lr': 0.01711329753876703}. Best is trial 67 with value: 0.00038763122976627284.\n"
     ]
    },
    {
     "name": "stderr",
     "output_type": "stream",
     "text": [
      "Best trial: 67. Best value: 0.000387631:  91%|█████████ | 91/100 [10:14<00:45,  5.05s/it]"
     ]
    },
    {
     "name": "stdout",
     "output_type": "stream",
     "text": [
      "[I 2025-10-27 20:52:40,278] Trial 90 pruned. \n"
     ]
    },
    {
     "name": "stderr",
     "output_type": "stream",
     "text": [
      "Best trial: 67. Best value: 0.000387631:  92%|█████████▏| 92/100 [10:21<00:46,  5.75s/it]"
     ]
    },
    {
     "name": "stdout",
     "output_type": "stream",
     "text": [
      "[I 2025-10-27 20:52:47,677] Trial 91 finished with value: 0.00045771597424998015 and parameters: {'n_layers': 3, 'n_neurons': 18, 'lr': 0.017686613804013096}. Best is trial 67 with value: 0.00038763122976627284.\n"
     ]
    },
    {
     "name": "stderr",
     "output_type": "stream",
     "text": [
      "Best trial: 67. Best value: 0.000387631:  93%|█████████▎| 93/100 [10:31<00:47,  6.81s/it]"
     ]
    },
    {
     "name": "stdout",
     "output_type": "stream",
     "text": [
      "[I 2025-10-27 20:52:56,939] Trial 92 finished with value: 0.0008349633099728091 and parameters: {'n_layers': 3, 'n_neurons': 18, 'lr': 0.012457213948617938}. Best is trial 67 with value: 0.00038763122976627284.\n"
     ]
    },
    {
     "name": "stderr",
     "output_type": "stream",
     "text": [
      "Best trial: 67. Best value: 0.000387631:  94%|█████████▍| 94/100 [10:32<00:30,  5.11s/it]"
     ]
    },
    {
     "name": "stdout",
     "output_type": "stream",
     "text": [
      "[I 2025-10-27 20:52:58,101] Trial 93 pruned. \n"
     ]
    },
    {
     "name": "stderr",
     "output_type": "stream",
     "text": [
      "Best trial: 67. Best value: 0.000387631:  95%|█████████▌| 95/100 [10:47<00:40,  8.18s/it]"
     ]
    },
    {
     "name": "stdout",
     "output_type": "stream",
     "text": [
      "[I 2025-10-27 20:53:13,439] Trial 94 finished with value: 0.0005248124831390946 and parameters: {'n_layers': 3, 'n_neurons': 18, 'lr': 0.021885890720488594}. Best is trial 67 with value: 0.00038763122976627284.\n"
     ]
    },
    {
     "name": "stderr",
     "output_type": "stream",
     "text": [
      "Best trial: 67. Best value: 0.000387631:  96%|█████████▌| 96/100 [10:55<00:33,  8.25s/it]"
     ]
    },
    {
     "name": "stdout",
     "output_type": "stream",
     "text": [
      "[I 2025-10-27 20:53:21,859] Trial 95 finished with value: 0.0008607224886646825 and parameters: {'n_layers': 3, 'n_neurons': 18, 'lr': 0.034345602123280174}. Best is trial 67 with value: 0.00038763122976627284.\n"
     ]
    },
    {
     "name": "stderr",
     "output_type": "stream",
     "text": [
      "Best trial: 67. Best value: 0.000387631:  97%|█████████▋| 97/100 [10:57<00:18,  6.12s/it]"
     ]
    },
    {
     "name": "stdout",
     "output_type": "stream",
     "text": [
      "[I 2025-10-27 20:53:23,017] Trial 96 pruned. \n"
     ]
    },
    {
     "name": "stderr",
     "output_type": "stream",
     "text": [
      "Best trial: 67. Best value: 0.000387631:  98%|█████████▊| 98/100 [10:58<00:09,  4.64s/it]"
     ]
    },
    {
     "name": "stdout",
     "output_type": "stream",
     "text": [
      "[I 2025-10-27 20:53:24,209] Trial 97 pruned. \n"
     ]
    },
    {
     "name": "stderr",
     "output_type": "stream",
     "text": [
      "Best trial: 67. Best value: 0.000387631:  99%|█████████▉| 99/100 [11:07<00:06,  6.06s/it]"
     ]
    },
    {
     "name": "stdout",
     "output_type": "stream",
     "text": [
      "[I 2025-10-27 20:53:33,589] Trial 98 finished with value: 0.0007038081176793452 and parameters: {'n_layers': 3, 'n_neurons': 17, 'lr': 0.029439475650915325}. Best is trial 67 with value: 0.00038763122976627284.\n"
     ]
    },
    {
     "name": "stderr",
     "output_type": "stream",
     "text": [
      "Best trial: 67. Best value: 0.000387631: 100%|██████████| 100/100 [11:08<00:00,  6.69s/it]"
     ]
    },
    {
     "name": "stdout",
     "output_type": "stream",
     "text": [
      "[I 2025-10-27 20:53:34,752] Trial 99 pruned. \n",
      "\n",
      "--- Estudo Optuna Concluído ---\n",
      "Melhor trial: 67\n",
      "  Melhor RMSE de Validação: 0.000388\n",
      "  Melhores Hiperparâmetros:\n",
      "    n_layers: 3\n",
      "    n_neurons: 20\n",
      "    lr: 0.016958810881878037\n",
      "  Complexidade do Melhor Modelo: 12.97\n"
     ]
    },
    {
     "name": "stderr",
     "output_type": "stream",
     "text": [
      "\n"
     ]
    }
   ],
   "source": [
    "# --- Bloco 6: Execução do Estudo Optuna ---\n",
    "\n",
    "print(\"--- Iniciando Estudo Optuna ---\")\n",
    "# Habilitar o Pruner (Poda) para cortar trials ruins\n",
    "pruner = optuna.pruners.MedianPruner(n_warmup_steps=10)\n",
    "\n",
    "study = optuna.create_study(direction='minimize', pruner=pruner)\n",
    "study.optimize(objective, n_trials=100, show_progress_bar=True)\n",
    "\n",
    "print(\"\\n--- Estudo Optuna Concluído ---\")\n",
    "print(f\"Melhor trial: {study.best_trial.number}\")\n",
    "print(f\"  Melhor RMSE de Validação: {study.best_value:.6f}\")\n",
    "print(\"  Melhores Hiperparâmetros:\")\n",
    "for key, value in study.best_params.items():\n",
    "    print(f\"    {key}: {value}\")\n",
    "    \n",
    "complexity = study.best_trial.user_attrs['complexity']\n",
    "print(f\"  Complexidade do Melhor Modelo: {complexity:.2f}\")"
   ]
  },
  {
   "cell_type": "code",
   "execution_count": 8,
   "id": "ad0076b5",
   "metadata": {},
   "outputs": [
    {
     "name": "stdout",
     "output_type": "stream",
     "text": [
      "Gerando gráficos do Optuna...\n"
     ]
    },
    {
     "data": {
      "application/vnd.plotly.v1+json": {
       "config": {
        "plotlyServerURL": "https://plot.ly"
       },
       "data": [
        {
         "mode": "markers",
         "name": "Objective Value",
         "type": "scatter",
         "x": [
          0,
          1,
          2,
          3,
          4,
          5,
          6,
          7,
          9,
          11,
          14,
          16,
          19,
          22,
          23,
          25,
          28,
          29,
          30,
          31,
          32,
          34,
          35,
          37,
          38,
          44,
          47,
          48,
          50,
          52,
          53,
          54,
          55,
          59,
          60,
          61,
          62,
          63,
          64,
          65,
          66,
          67,
          68,
          69,
          70,
          71,
          74,
          75,
          76,
          77,
          79,
          82,
          83,
          84,
          86,
          88,
          89,
          91,
          92,
          94,
          95,
          98
         ],
         "y": [
          0.0059123095293846855,
          0.005914226938405474,
          0.019313381988175015,
          0.0024211294346731323,
          0.02377463309711461,
          0.005921723775541623,
          0.0010575340165803237,
          0.0023237288057810683,
          0.0004551216586447284,
          0.0008269128667118902,
          0.0013536682109502524,
          0.0026034258363652023,
          0.001318964620577679,
          0.0008750453516791834,
          0.0009870734585822264,
          0.0011693311657128443,
          0.000742483756405828,
          0.0014587180788610166,
          0.0013296168470503698,
          0.0006354084887474874,
          0.0010997577535511826,
          0.0012252604228566793,
          0.0009476128259229865,
          0.0007672370152624894,
          0.0008087160989360509,
          0.0006560198450886903,
          0.0007257002864258238,
          0.0008966753569337781,
          0.0009784215762777384,
          0.0005576388188283228,
          0.001128438134534997,
          0.0008063456341246092,
          0.00042813510634882195,
          0.0010778985625432083,
          0.0011258334117925687,
          0.0007103047987614784,
          0.0010188205154826706,
          0.0005679388933205539,
          0.0005975704915267815,
          0.0006130762834927361,
          0.0008706779951170603,
          0.00038763122976627284,
          0.0006689471918995175,
          0.0009219266564528417,
          0.0009725192600935562,
          0.0005984788810612437,
          0.000734554179834943,
          0.0005817301664101481,
          0.0006235333173220572,
          0.0009097642844330644,
          0.0004958977523375031,
          0.0007445489761620633,
          0.0007910685533380678,
          0.0006094123240896733,
          0.0006004285723197464,
          0.0007622875599541451,
          0.00047944029887569386,
          0.00045771597424998015,
          0.0008349633099728091,
          0.0005248124831390946,
          0.0008607224886646825,
          0.0007038081176793452
         ]
        },
        {
         "mode": "lines",
         "name": "Best Value",
         "type": "scatter",
         "x": [
          0,
          1,
          2,
          3,
          4,
          5,
          6,
          7,
          8,
          9,
          10,
          11,
          12,
          13,
          14,
          15,
          16,
          17,
          18,
          19,
          20,
          21,
          22,
          23,
          24,
          25,
          26,
          27,
          28,
          29,
          30,
          31,
          32,
          33,
          34,
          35,
          36,
          37,
          38,
          39,
          40,
          41,
          42,
          43,
          44,
          45,
          46,
          47,
          48,
          49,
          50,
          51,
          52,
          53,
          54,
          55,
          56,
          57,
          58,
          59,
          60,
          61,
          62,
          63,
          64,
          65,
          66,
          67,
          68,
          69,
          70,
          71,
          72,
          73,
          74,
          75,
          76,
          77,
          78,
          79,
          80,
          81,
          82,
          83,
          84,
          85,
          86,
          87,
          88,
          89,
          90,
          91,
          92,
          93,
          94,
          95,
          96,
          97,
          98,
          99
         ],
         "y": [
          0.0059123095293846855,
          0.0059123095293846855,
          0.0059123095293846855,
          0.0024211294346731323,
          0.0024211294346731323,
          0.0024211294346731323,
          0.0010575340165803237,
          0.0010575340165803237,
          0.0010575340165803237,
          0.0004551216586447284,
          0.0004551216586447284,
          0.0004551216586447284,
          0.0004551216586447284,
          0.0004551216586447284,
          0.0004551216586447284,
          0.0004551216586447284,
          0.0004551216586447284,
          0.0004551216586447284,
          0.0004551216586447284,
          0.0004551216586447284,
          0.0004551216586447284,
          0.0004551216586447284,
          0.0004551216586447284,
          0.0004551216586447284,
          0.0004551216586447284,
          0.0004551216586447284,
          0.0004551216586447284,
          0.0004551216586447284,
          0.0004551216586447284,
          0.0004551216586447284,
          0.0004551216586447284,
          0.0004551216586447284,
          0.0004551216586447284,
          0.0004551216586447284,
          0.0004551216586447284,
          0.0004551216586447284,
          0.0004551216586447284,
          0.0004551216586447284,
          0.0004551216586447284,
          0.0004551216586447284,
          0.0004551216586447284,
          0.0004551216586447284,
          0.0004551216586447284,
          0.0004551216586447284,
          0.0004551216586447284,
          0.0004551216586447284,
          0.0004551216586447284,
          0.0004551216586447284,
          0.0004551216586447284,
          0.0004551216586447284,
          0.0004551216586447284,
          0.0004551216586447284,
          0.0004551216586447284,
          0.0004551216586447284,
          0.0004551216586447284,
          0.00042813510634882195,
          0.00042813510634882195,
          0.00042813510634882195,
          0.00042813510634882195,
          0.00042813510634882195,
          0.00042813510634882195,
          0.00042813510634882195,
          0.00042813510634882195,
          0.00042813510634882195,
          0.00042813510634882195,
          0.00042813510634882195,
          0.00042813510634882195,
          0.00038763122976627284,
          0.00038763122976627284,
          0.00038763122976627284,
          0.00038763122976627284,
          0.00038763122976627284,
          0.00038763122976627284,
          0.00038763122976627284,
          0.00038763122976627284,
          0.00038763122976627284,
          0.00038763122976627284,
          0.00038763122976627284,
          0.00038763122976627284,
          0.00038763122976627284,
          0.00038763122976627284,
          0.00038763122976627284,
          0.00038763122976627284,
          0.00038763122976627284,
          0.00038763122976627284,
          0.00038763122976627284,
          0.00038763122976627284,
          0.00038763122976627284,
          0.00038763122976627284,
          0.00038763122976627284,
          0.00038763122976627284,
          0.00038763122976627284,
          0.00038763122976627284,
          0.00038763122976627284,
          0.00038763122976627284,
          0.00038763122976627284,
          0.00038763122976627284,
          0.00038763122976627284,
          0.00038763122976627284,
          0.00038763122976627284
         ]
        },
        {
         "marker": {
          "color": "#cccccc"
         },
         "mode": "markers",
         "name": "Infeasible Trial",
         "showlegend": false,
         "type": "scatter",
         "x": [],
         "y": []
        }
       ],
       "layout": {
        "template": {
         "data": {
          "bar": [
           {
            "error_x": {
             "color": "#2a3f5f"
            },
            "error_y": {
             "color": "#2a3f5f"
            },
            "marker": {
             "line": {
              "color": "#E5ECF6",
              "width": 0.5
             },
             "pattern": {
              "fillmode": "overlay",
              "size": 10,
              "solidity": 0.2
             }
            },
            "type": "bar"
           }
          ],
          "barpolar": [
           {
            "marker": {
             "line": {
              "color": "#E5ECF6",
              "width": 0.5
             },
             "pattern": {
              "fillmode": "overlay",
              "size": 10,
              "solidity": 0.2
             }
            },
            "type": "barpolar"
           }
          ],
          "carpet": [
           {
            "aaxis": {
             "endlinecolor": "#2a3f5f",
             "gridcolor": "white",
             "linecolor": "white",
             "minorgridcolor": "white",
             "startlinecolor": "#2a3f5f"
            },
            "baxis": {
             "endlinecolor": "#2a3f5f",
             "gridcolor": "white",
             "linecolor": "white",
             "minorgridcolor": "white",
             "startlinecolor": "#2a3f5f"
            },
            "type": "carpet"
           }
          ],
          "choropleth": [
           {
            "colorbar": {
             "outlinewidth": 0,
             "ticks": ""
            },
            "type": "choropleth"
           }
          ],
          "contour": [
           {
            "colorbar": {
             "outlinewidth": 0,
             "ticks": ""
            },
            "colorscale": [
             [
              0,
              "#0d0887"
             ],
             [
              0.1111111111111111,
              "#46039f"
             ],
             [
              0.2222222222222222,
              "#7201a8"
             ],
             [
              0.3333333333333333,
              "#9c179e"
             ],
             [
              0.4444444444444444,
              "#bd3786"
             ],
             [
              0.5555555555555556,
              "#d8576b"
             ],
             [
              0.6666666666666666,
              "#ed7953"
             ],
             [
              0.7777777777777778,
              "#fb9f3a"
             ],
             [
              0.8888888888888888,
              "#fdca26"
             ],
             [
              1,
              "#f0f921"
             ]
            ],
            "type": "contour"
           }
          ],
          "contourcarpet": [
           {
            "colorbar": {
             "outlinewidth": 0,
             "ticks": ""
            },
            "type": "contourcarpet"
           }
          ],
          "heatmap": [
           {
            "colorbar": {
             "outlinewidth": 0,
             "ticks": ""
            },
            "colorscale": [
             [
              0,
              "#0d0887"
             ],
             [
              0.1111111111111111,
              "#46039f"
             ],
             [
              0.2222222222222222,
              "#7201a8"
             ],
             [
              0.3333333333333333,
              "#9c179e"
             ],
             [
              0.4444444444444444,
              "#bd3786"
             ],
             [
              0.5555555555555556,
              "#d8576b"
             ],
             [
              0.6666666666666666,
              "#ed7953"
             ],
             [
              0.7777777777777778,
              "#fb9f3a"
             ],
             [
              0.8888888888888888,
              "#fdca26"
             ],
             [
              1,
              "#f0f921"
             ]
            ],
            "type": "heatmap"
           }
          ],
          "histogram": [
           {
            "marker": {
             "pattern": {
              "fillmode": "overlay",
              "size": 10,
              "solidity": 0.2
             }
            },
            "type": "histogram"
           }
          ],
          "histogram2d": [
           {
            "colorbar": {
             "outlinewidth": 0,
             "ticks": ""
            },
            "colorscale": [
             [
              0,
              "#0d0887"
             ],
             [
              0.1111111111111111,
              "#46039f"
             ],
             [
              0.2222222222222222,
              "#7201a8"
             ],
             [
              0.3333333333333333,
              "#9c179e"
             ],
             [
              0.4444444444444444,
              "#bd3786"
             ],
             [
              0.5555555555555556,
              "#d8576b"
             ],
             [
              0.6666666666666666,
              "#ed7953"
             ],
             [
              0.7777777777777778,
              "#fb9f3a"
             ],
             [
              0.8888888888888888,
              "#fdca26"
             ],
             [
              1,
              "#f0f921"
             ]
            ],
            "type": "histogram2d"
           }
          ],
          "histogram2dcontour": [
           {
            "colorbar": {
             "outlinewidth": 0,
             "ticks": ""
            },
            "colorscale": [
             [
              0,
              "#0d0887"
             ],
             [
              0.1111111111111111,
              "#46039f"
             ],
             [
              0.2222222222222222,
              "#7201a8"
             ],
             [
              0.3333333333333333,
              "#9c179e"
             ],
             [
              0.4444444444444444,
              "#bd3786"
             ],
             [
              0.5555555555555556,
              "#d8576b"
             ],
             [
              0.6666666666666666,
              "#ed7953"
             ],
             [
              0.7777777777777778,
              "#fb9f3a"
             ],
             [
              0.8888888888888888,
              "#fdca26"
             ],
             [
              1,
              "#f0f921"
             ]
            ],
            "type": "histogram2dcontour"
           }
          ],
          "mesh3d": [
           {
            "colorbar": {
             "outlinewidth": 0,
             "ticks": ""
            },
            "type": "mesh3d"
           }
          ],
          "parcoords": [
           {
            "line": {
             "colorbar": {
              "outlinewidth": 0,
              "ticks": ""
             }
            },
            "type": "parcoords"
           }
          ],
          "pie": [
           {
            "automargin": true,
            "type": "pie"
           }
          ],
          "scatter": [
           {
            "fillpattern": {
             "fillmode": "overlay",
             "size": 10,
             "solidity": 0.2
            },
            "type": "scatter"
           }
          ],
          "scatter3d": [
           {
            "line": {
             "colorbar": {
              "outlinewidth": 0,
              "ticks": ""
             }
            },
            "marker": {
             "colorbar": {
              "outlinewidth": 0,
              "ticks": ""
             }
            },
            "type": "scatter3d"
           }
          ],
          "scattercarpet": [
           {
            "marker": {
             "colorbar": {
              "outlinewidth": 0,
              "ticks": ""
             }
            },
            "type": "scattercarpet"
           }
          ],
          "scattergeo": [
           {
            "marker": {
             "colorbar": {
              "outlinewidth": 0,
              "ticks": ""
             }
            },
            "type": "scattergeo"
           }
          ],
          "scattergl": [
           {
            "marker": {
             "colorbar": {
              "outlinewidth": 0,
              "ticks": ""
             }
            },
            "type": "scattergl"
           }
          ],
          "scattermap": [
           {
            "marker": {
             "colorbar": {
              "outlinewidth": 0,
              "ticks": ""
             }
            },
            "type": "scattermap"
           }
          ],
          "scattermapbox": [
           {
            "marker": {
             "colorbar": {
              "outlinewidth": 0,
              "ticks": ""
             }
            },
            "type": "scattermapbox"
           }
          ],
          "scatterpolar": [
           {
            "marker": {
             "colorbar": {
              "outlinewidth": 0,
              "ticks": ""
             }
            },
            "type": "scatterpolar"
           }
          ],
          "scatterpolargl": [
           {
            "marker": {
             "colorbar": {
              "outlinewidth": 0,
              "ticks": ""
             }
            },
            "type": "scatterpolargl"
           }
          ],
          "scatterternary": [
           {
            "marker": {
             "colorbar": {
              "outlinewidth": 0,
              "ticks": ""
             }
            },
            "type": "scatterternary"
           }
          ],
          "surface": [
           {
            "colorbar": {
             "outlinewidth": 0,
             "ticks": ""
            },
            "colorscale": [
             [
              0,
              "#0d0887"
             ],
             [
              0.1111111111111111,
              "#46039f"
             ],
             [
              0.2222222222222222,
              "#7201a8"
             ],
             [
              0.3333333333333333,
              "#9c179e"
             ],
             [
              0.4444444444444444,
              "#bd3786"
             ],
             [
              0.5555555555555556,
              "#d8576b"
             ],
             [
              0.6666666666666666,
              "#ed7953"
             ],
             [
              0.7777777777777778,
              "#fb9f3a"
             ],
             [
              0.8888888888888888,
              "#fdca26"
             ],
             [
              1,
              "#f0f921"
             ]
            ],
            "type": "surface"
           }
          ],
          "table": [
           {
            "cells": {
             "fill": {
              "color": "#EBF0F8"
             },
             "line": {
              "color": "white"
             }
            },
            "header": {
             "fill": {
              "color": "#C8D4E3"
             },
             "line": {
              "color": "white"
             }
            },
            "type": "table"
           }
          ]
         },
         "layout": {
          "annotationdefaults": {
           "arrowcolor": "#2a3f5f",
           "arrowhead": 0,
           "arrowwidth": 1
          },
          "autotypenumbers": "strict",
          "coloraxis": {
           "colorbar": {
            "outlinewidth": 0,
            "ticks": ""
           }
          },
          "colorscale": {
           "diverging": [
            [
             0,
             "#8e0152"
            ],
            [
             0.1,
             "#c51b7d"
            ],
            [
             0.2,
             "#de77ae"
            ],
            [
             0.3,
             "#f1b6da"
            ],
            [
             0.4,
             "#fde0ef"
            ],
            [
             0.5,
             "#f7f7f7"
            ],
            [
             0.6,
             "#e6f5d0"
            ],
            [
             0.7,
             "#b8e186"
            ],
            [
             0.8,
             "#7fbc41"
            ],
            [
             0.9,
             "#4d9221"
            ],
            [
             1,
             "#276419"
            ]
           ],
           "sequential": [
            [
             0,
             "#0d0887"
            ],
            [
             0.1111111111111111,
             "#46039f"
            ],
            [
             0.2222222222222222,
             "#7201a8"
            ],
            [
             0.3333333333333333,
             "#9c179e"
            ],
            [
             0.4444444444444444,
             "#bd3786"
            ],
            [
             0.5555555555555556,
             "#d8576b"
            ],
            [
             0.6666666666666666,
             "#ed7953"
            ],
            [
             0.7777777777777778,
             "#fb9f3a"
            ],
            [
             0.8888888888888888,
             "#fdca26"
            ],
            [
             1,
             "#f0f921"
            ]
           ],
           "sequentialminus": [
            [
             0,
             "#0d0887"
            ],
            [
             0.1111111111111111,
             "#46039f"
            ],
            [
             0.2222222222222222,
             "#7201a8"
            ],
            [
             0.3333333333333333,
             "#9c179e"
            ],
            [
             0.4444444444444444,
             "#bd3786"
            ],
            [
             0.5555555555555556,
             "#d8576b"
            ],
            [
             0.6666666666666666,
             "#ed7953"
            ],
            [
             0.7777777777777778,
             "#fb9f3a"
            ],
            [
             0.8888888888888888,
             "#fdca26"
            ],
            [
             1,
             "#f0f921"
            ]
           ]
          },
          "colorway": [
           "#636efa",
           "#EF553B",
           "#00cc96",
           "#ab63fa",
           "#FFA15A",
           "#19d3f3",
           "#FF6692",
           "#B6E880",
           "#FF97FF",
           "#FECB52"
          ],
          "font": {
           "color": "#2a3f5f"
          },
          "geo": {
           "bgcolor": "white",
           "lakecolor": "white",
           "landcolor": "#E5ECF6",
           "showlakes": true,
           "showland": true,
           "subunitcolor": "white"
          },
          "hoverlabel": {
           "align": "left"
          },
          "hovermode": "closest",
          "mapbox": {
           "style": "light"
          },
          "paper_bgcolor": "white",
          "plot_bgcolor": "#E5ECF6",
          "polar": {
           "angularaxis": {
            "gridcolor": "white",
            "linecolor": "white",
            "ticks": ""
           },
           "bgcolor": "#E5ECF6",
           "radialaxis": {
            "gridcolor": "white",
            "linecolor": "white",
            "ticks": ""
           }
          },
          "scene": {
           "xaxis": {
            "backgroundcolor": "#E5ECF6",
            "gridcolor": "white",
            "gridwidth": 2,
            "linecolor": "white",
            "showbackground": true,
            "ticks": "",
            "zerolinecolor": "white"
           },
           "yaxis": {
            "backgroundcolor": "#E5ECF6",
            "gridcolor": "white",
            "gridwidth": 2,
            "linecolor": "white",
            "showbackground": true,
            "ticks": "",
            "zerolinecolor": "white"
           },
           "zaxis": {
            "backgroundcolor": "#E5ECF6",
            "gridcolor": "white",
            "gridwidth": 2,
            "linecolor": "white",
            "showbackground": true,
            "ticks": "",
            "zerolinecolor": "white"
           }
          },
          "shapedefaults": {
           "line": {
            "color": "#2a3f5f"
           }
          },
          "ternary": {
           "aaxis": {
            "gridcolor": "white",
            "linecolor": "white",
            "ticks": ""
           },
           "baxis": {
            "gridcolor": "white",
            "linecolor": "white",
            "ticks": ""
           },
           "bgcolor": "#E5ECF6",
           "caxis": {
            "gridcolor": "white",
            "linecolor": "white",
            "ticks": ""
           }
          },
          "title": {
           "x": 0.05
          },
          "xaxis": {
           "automargin": true,
           "gridcolor": "white",
           "linecolor": "white",
           "ticks": "",
           "title": {
            "standoff": 15
           },
           "zerolinecolor": "white",
           "zerolinewidth": 2
          },
          "yaxis": {
           "automargin": true,
           "gridcolor": "white",
           "linecolor": "white",
           "ticks": "",
           "title": {
            "standoff": 15
           },
           "zerolinecolor": "white",
           "zerolinewidth": 2
          }
         }
        },
        "title": {
         "text": "Optimization History Plot"
        },
        "xaxis": {
         "title": {
          "text": "Trial"
         }
        },
        "yaxis": {
         "title": {
          "text": "Objective Value"
         }
        }
       }
      }
     },
     "metadata": {},
     "output_type": "display_data"
    },
    {
     "data": {
      "application/vnd.plotly.v1+json": {
       "config": {
        "plotlyServerURL": "https://plot.ly"
       },
       "data": [
        {
         "cliponaxis": false,
         "hovertemplate": [
          "n_layers (IntDistribution): 0.05775181555867733<extra></extra>",
          "lr (FloatDistribution): 0.08036671779218332<extra></extra>",
          "n_neurons (IntDistribution): 0.8618814666491393<extra></extra>"
         ],
         "name": "Objective Value",
         "orientation": "h",
         "text": [
          "0.06",
          "0.08",
          "0.86"
         ],
         "textposition": "outside",
         "type": "bar",
         "x": [
          0.05775181555867733,
          0.08036671779218332,
          0.8618814666491393
         ],
         "y": [
          "n_layers",
          "lr",
          "n_neurons"
         ]
        }
       ],
       "layout": {
        "template": {
         "data": {
          "bar": [
           {
            "error_x": {
             "color": "#2a3f5f"
            },
            "error_y": {
             "color": "#2a3f5f"
            },
            "marker": {
             "line": {
              "color": "#E5ECF6",
              "width": 0.5
             },
             "pattern": {
              "fillmode": "overlay",
              "size": 10,
              "solidity": 0.2
             }
            },
            "type": "bar"
           }
          ],
          "barpolar": [
           {
            "marker": {
             "line": {
              "color": "#E5ECF6",
              "width": 0.5
             },
             "pattern": {
              "fillmode": "overlay",
              "size": 10,
              "solidity": 0.2
             }
            },
            "type": "barpolar"
           }
          ],
          "carpet": [
           {
            "aaxis": {
             "endlinecolor": "#2a3f5f",
             "gridcolor": "white",
             "linecolor": "white",
             "minorgridcolor": "white",
             "startlinecolor": "#2a3f5f"
            },
            "baxis": {
             "endlinecolor": "#2a3f5f",
             "gridcolor": "white",
             "linecolor": "white",
             "minorgridcolor": "white",
             "startlinecolor": "#2a3f5f"
            },
            "type": "carpet"
           }
          ],
          "choropleth": [
           {
            "colorbar": {
             "outlinewidth": 0,
             "ticks": ""
            },
            "type": "choropleth"
           }
          ],
          "contour": [
           {
            "colorbar": {
             "outlinewidth": 0,
             "ticks": ""
            },
            "colorscale": [
             [
              0,
              "#0d0887"
             ],
             [
              0.1111111111111111,
              "#46039f"
             ],
             [
              0.2222222222222222,
              "#7201a8"
             ],
             [
              0.3333333333333333,
              "#9c179e"
             ],
             [
              0.4444444444444444,
              "#bd3786"
             ],
             [
              0.5555555555555556,
              "#d8576b"
             ],
             [
              0.6666666666666666,
              "#ed7953"
             ],
             [
              0.7777777777777778,
              "#fb9f3a"
             ],
             [
              0.8888888888888888,
              "#fdca26"
             ],
             [
              1,
              "#f0f921"
             ]
            ],
            "type": "contour"
           }
          ],
          "contourcarpet": [
           {
            "colorbar": {
             "outlinewidth": 0,
             "ticks": ""
            },
            "type": "contourcarpet"
           }
          ],
          "heatmap": [
           {
            "colorbar": {
             "outlinewidth": 0,
             "ticks": ""
            },
            "colorscale": [
             [
              0,
              "#0d0887"
             ],
             [
              0.1111111111111111,
              "#46039f"
             ],
             [
              0.2222222222222222,
              "#7201a8"
             ],
             [
              0.3333333333333333,
              "#9c179e"
             ],
             [
              0.4444444444444444,
              "#bd3786"
             ],
             [
              0.5555555555555556,
              "#d8576b"
             ],
             [
              0.6666666666666666,
              "#ed7953"
             ],
             [
              0.7777777777777778,
              "#fb9f3a"
             ],
             [
              0.8888888888888888,
              "#fdca26"
             ],
             [
              1,
              "#f0f921"
             ]
            ],
            "type": "heatmap"
           }
          ],
          "histogram": [
           {
            "marker": {
             "pattern": {
              "fillmode": "overlay",
              "size": 10,
              "solidity": 0.2
             }
            },
            "type": "histogram"
           }
          ],
          "histogram2d": [
           {
            "colorbar": {
             "outlinewidth": 0,
             "ticks": ""
            },
            "colorscale": [
             [
              0,
              "#0d0887"
             ],
             [
              0.1111111111111111,
              "#46039f"
             ],
             [
              0.2222222222222222,
              "#7201a8"
             ],
             [
              0.3333333333333333,
              "#9c179e"
             ],
             [
              0.4444444444444444,
              "#bd3786"
             ],
             [
              0.5555555555555556,
              "#d8576b"
             ],
             [
              0.6666666666666666,
              "#ed7953"
             ],
             [
              0.7777777777777778,
              "#fb9f3a"
             ],
             [
              0.8888888888888888,
              "#fdca26"
             ],
             [
              1,
              "#f0f921"
             ]
            ],
            "type": "histogram2d"
           }
          ],
          "histogram2dcontour": [
           {
            "colorbar": {
             "outlinewidth": 0,
             "ticks": ""
            },
            "colorscale": [
             [
              0,
              "#0d0887"
             ],
             [
              0.1111111111111111,
              "#46039f"
             ],
             [
              0.2222222222222222,
              "#7201a8"
             ],
             [
              0.3333333333333333,
              "#9c179e"
             ],
             [
              0.4444444444444444,
              "#bd3786"
             ],
             [
              0.5555555555555556,
              "#d8576b"
             ],
             [
              0.6666666666666666,
              "#ed7953"
             ],
             [
              0.7777777777777778,
              "#fb9f3a"
             ],
             [
              0.8888888888888888,
              "#fdca26"
             ],
             [
              1,
              "#f0f921"
             ]
            ],
            "type": "histogram2dcontour"
           }
          ],
          "mesh3d": [
           {
            "colorbar": {
             "outlinewidth": 0,
             "ticks": ""
            },
            "type": "mesh3d"
           }
          ],
          "parcoords": [
           {
            "line": {
             "colorbar": {
              "outlinewidth": 0,
              "ticks": ""
             }
            },
            "type": "parcoords"
           }
          ],
          "pie": [
           {
            "automargin": true,
            "type": "pie"
           }
          ],
          "scatter": [
           {
            "fillpattern": {
             "fillmode": "overlay",
             "size": 10,
             "solidity": 0.2
            },
            "type": "scatter"
           }
          ],
          "scatter3d": [
           {
            "line": {
             "colorbar": {
              "outlinewidth": 0,
              "ticks": ""
             }
            },
            "marker": {
             "colorbar": {
              "outlinewidth": 0,
              "ticks": ""
             }
            },
            "type": "scatter3d"
           }
          ],
          "scattercarpet": [
           {
            "marker": {
             "colorbar": {
              "outlinewidth": 0,
              "ticks": ""
             }
            },
            "type": "scattercarpet"
           }
          ],
          "scattergeo": [
           {
            "marker": {
             "colorbar": {
              "outlinewidth": 0,
              "ticks": ""
             }
            },
            "type": "scattergeo"
           }
          ],
          "scattergl": [
           {
            "marker": {
             "colorbar": {
              "outlinewidth": 0,
              "ticks": ""
             }
            },
            "type": "scattergl"
           }
          ],
          "scattermap": [
           {
            "marker": {
             "colorbar": {
              "outlinewidth": 0,
              "ticks": ""
             }
            },
            "type": "scattermap"
           }
          ],
          "scattermapbox": [
           {
            "marker": {
             "colorbar": {
              "outlinewidth": 0,
              "ticks": ""
             }
            },
            "type": "scattermapbox"
           }
          ],
          "scatterpolar": [
           {
            "marker": {
             "colorbar": {
              "outlinewidth": 0,
              "ticks": ""
             }
            },
            "type": "scatterpolar"
           }
          ],
          "scatterpolargl": [
           {
            "marker": {
             "colorbar": {
              "outlinewidth": 0,
              "ticks": ""
             }
            },
            "type": "scatterpolargl"
           }
          ],
          "scatterternary": [
           {
            "marker": {
             "colorbar": {
              "outlinewidth": 0,
              "ticks": ""
             }
            },
            "type": "scatterternary"
           }
          ],
          "surface": [
           {
            "colorbar": {
             "outlinewidth": 0,
             "ticks": ""
            },
            "colorscale": [
             [
              0,
              "#0d0887"
             ],
             [
              0.1111111111111111,
              "#46039f"
             ],
             [
              0.2222222222222222,
              "#7201a8"
             ],
             [
              0.3333333333333333,
              "#9c179e"
             ],
             [
              0.4444444444444444,
              "#bd3786"
             ],
             [
              0.5555555555555556,
              "#d8576b"
             ],
             [
              0.6666666666666666,
              "#ed7953"
             ],
             [
              0.7777777777777778,
              "#fb9f3a"
             ],
             [
              0.8888888888888888,
              "#fdca26"
             ],
             [
              1,
              "#f0f921"
             ]
            ],
            "type": "surface"
           }
          ],
          "table": [
           {
            "cells": {
             "fill": {
              "color": "#EBF0F8"
             },
             "line": {
              "color": "white"
             }
            },
            "header": {
             "fill": {
              "color": "#C8D4E3"
             },
             "line": {
              "color": "white"
             }
            },
            "type": "table"
           }
          ]
         },
         "layout": {
          "annotationdefaults": {
           "arrowcolor": "#2a3f5f",
           "arrowhead": 0,
           "arrowwidth": 1
          },
          "autotypenumbers": "strict",
          "coloraxis": {
           "colorbar": {
            "outlinewidth": 0,
            "ticks": ""
           }
          },
          "colorscale": {
           "diverging": [
            [
             0,
             "#8e0152"
            ],
            [
             0.1,
             "#c51b7d"
            ],
            [
             0.2,
             "#de77ae"
            ],
            [
             0.3,
             "#f1b6da"
            ],
            [
             0.4,
             "#fde0ef"
            ],
            [
             0.5,
             "#f7f7f7"
            ],
            [
             0.6,
             "#e6f5d0"
            ],
            [
             0.7,
             "#b8e186"
            ],
            [
             0.8,
             "#7fbc41"
            ],
            [
             0.9,
             "#4d9221"
            ],
            [
             1,
             "#276419"
            ]
           ],
           "sequential": [
            [
             0,
             "#0d0887"
            ],
            [
             0.1111111111111111,
             "#46039f"
            ],
            [
             0.2222222222222222,
             "#7201a8"
            ],
            [
             0.3333333333333333,
             "#9c179e"
            ],
            [
             0.4444444444444444,
             "#bd3786"
            ],
            [
             0.5555555555555556,
             "#d8576b"
            ],
            [
             0.6666666666666666,
             "#ed7953"
            ],
            [
             0.7777777777777778,
             "#fb9f3a"
            ],
            [
             0.8888888888888888,
             "#fdca26"
            ],
            [
             1,
             "#f0f921"
            ]
           ],
           "sequentialminus": [
            [
             0,
             "#0d0887"
            ],
            [
             0.1111111111111111,
             "#46039f"
            ],
            [
             0.2222222222222222,
             "#7201a8"
            ],
            [
             0.3333333333333333,
             "#9c179e"
            ],
            [
             0.4444444444444444,
             "#bd3786"
            ],
            [
             0.5555555555555556,
             "#d8576b"
            ],
            [
             0.6666666666666666,
             "#ed7953"
            ],
            [
             0.7777777777777778,
             "#fb9f3a"
            ],
            [
             0.8888888888888888,
             "#fdca26"
            ],
            [
             1,
             "#f0f921"
            ]
           ]
          },
          "colorway": [
           "#636efa",
           "#EF553B",
           "#00cc96",
           "#ab63fa",
           "#FFA15A",
           "#19d3f3",
           "#FF6692",
           "#B6E880",
           "#FF97FF",
           "#FECB52"
          ],
          "font": {
           "color": "#2a3f5f"
          },
          "geo": {
           "bgcolor": "white",
           "lakecolor": "white",
           "landcolor": "#E5ECF6",
           "showlakes": true,
           "showland": true,
           "subunitcolor": "white"
          },
          "hoverlabel": {
           "align": "left"
          },
          "hovermode": "closest",
          "mapbox": {
           "style": "light"
          },
          "paper_bgcolor": "white",
          "plot_bgcolor": "#E5ECF6",
          "polar": {
           "angularaxis": {
            "gridcolor": "white",
            "linecolor": "white",
            "ticks": ""
           },
           "bgcolor": "#E5ECF6",
           "radialaxis": {
            "gridcolor": "white",
            "linecolor": "white",
            "ticks": ""
           }
          },
          "scene": {
           "xaxis": {
            "backgroundcolor": "#E5ECF6",
            "gridcolor": "white",
            "gridwidth": 2,
            "linecolor": "white",
            "showbackground": true,
            "ticks": "",
            "zerolinecolor": "white"
           },
           "yaxis": {
            "backgroundcolor": "#E5ECF6",
            "gridcolor": "white",
            "gridwidth": 2,
            "linecolor": "white",
            "showbackground": true,
            "ticks": "",
            "zerolinecolor": "white"
           },
           "zaxis": {
            "backgroundcolor": "#E5ECF6",
            "gridcolor": "white",
            "gridwidth": 2,
            "linecolor": "white",
            "showbackground": true,
            "ticks": "",
            "zerolinecolor": "white"
           }
          },
          "shapedefaults": {
           "line": {
            "color": "#2a3f5f"
           }
          },
          "ternary": {
           "aaxis": {
            "gridcolor": "white",
            "linecolor": "white",
            "ticks": ""
           },
           "baxis": {
            "gridcolor": "white",
            "linecolor": "white",
            "ticks": ""
           },
           "bgcolor": "#E5ECF6",
           "caxis": {
            "gridcolor": "white",
            "linecolor": "white",
            "ticks": ""
           }
          },
          "title": {
           "x": 0.05
          },
          "xaxis": {
           "automargin": true,
           "gridcolor": "white",
           "linecolor": "white",
           "ticks": "",
           "title": {
            "standoff": 15
           },
           "zerolinecolor": "white",
           "zerolinewidth": 2
          },
          "yaxis": {
           "automargin": true,
           "gridcolor": "white",
           "linecolor": "white",
           "ticks": "",
           "title": {
            "standoff": 15
           },
           "zerolinecolor": "white",
           "zerolinewidth": 2
          }
         }
        },
        "title": {
         "text": "Hyperparameter Importances"
        },
        "xaxis": {
         "title": {
          "text": "Hyperparameter Importance"
         }
        },
        "yaxis": {
         "title": {
          "text": "Hyperparameter"
         }
        }
       }
      }
     },
     "metadata": {},
     "output_type": "display_data"
    },
    {
     "data": {
      "application/vnd.plotly.v1+json": {
       "config": {
        "plotlyServerURL": "https://plot.ly"
       },
       "data": [
        {
         "marker": {
          "color": [
           0.0059123095293846855,
           0.005914226938405474,
           0.019313381988175015,
           0.0024211294346731323,
           0.02377463309711461,
           0.005921723775541623,
           0.0010575340165803237,
           0.0023237288057810683,
           0.0004551216586447284,
           0.0008269128667118902,
           0.0013536682109502524,
           0.0026034258363652023,
           0.001318964620577679,
           0.0008750453516791834,
           0.0009870734585822264,
           0.0011693311657128443,
           0.000742483756405828,
           0.0014587180788610166,
           0.0013296168470503698,
           0.0006354084887474874,
           0.0010997577535511826,
           0.0012252604228566793,
           0.0009476128259229865,
           0.0007672370152624894,
           0.0008087160989360509,
           0.0006560198450886903,
           0.0007257002864258238,
           0.0008966753569337781,
           0.0009784215762777384,
           0.0005576388188283228,
           0.001128438134534997,
           0.0008063456341246092,
           0.00042813510634882195,
           0.0010778985625432083,
           0.0011258334117925687,
           0.0007103047987614784,
           0.0010188205154826706,
           0.0005679388933205539,
           0.0005975704915267815,
           0.0006130762834927361,
           0.0008706779951170603,
           0.00038763122976627284,
           0.0006689471918995175,
           0.0009219266564528417,
           0.0009725192600935562,
           0.0005984788810612437,
           0.000734554179834943,
           0.0005817301664101481,
           0.0006235333173220572,
           0.0009097642844330644,
           0.0004958977523375031,
           0.0007445489761620633,
           0.0007910685533380678,
           0.0006094123240896733,
           0.0006004285723197464,
           0.0007622875599541451,
           0.00047944029887569386,
           0.00045771597424998015,
           0.0008349633099728091,
           0.0005248124831390946,
           0.0008607224886646825,
           0.0007038081176793452
          ],
          "colorbar": {
           "title": {
            "text": "RMSE de Validação"
           }
          },
          "colorscale": [
           [
            0,
            "#440154"
           ],
           [
            0.1111111111111111,
            "#482878"
           ],
           [
            0.2222222222222222,
            "#3e4989"
           ],
           [
            0.3333333333333333,
            "#31688e"
           ],
           [
            0.4444444444444444,
            "#26828e"
           ],
           [
            0.5555555555555556,
            "#1f9e89"
           ],
           [
            0.6666666666666666,
            "#35b779"
           ],
           [
            0.7777777777777778,
            "#6ece58"
           ],
           [
            0.8888888888888888,
            "#b5de2b"
           ],
           [
            1,
            "#fde725"
           ]
          ],
          "showscale": true
         },
         "mode": "markers",
         "text": [
          "Trial: 0<br>RMSE: 0.0059<br>Complex: 6.97",
          "Trial: 1<br>RMSE: 0.0059<br>Complex: 3.70",
          "Trial: 2<br>RMSE: 0.0193<br>Complex: 4.75",
          "Trial: 3<br>RMSE: 0.0024<br>Complex: 2.58",
          "Trial: 4<br>RMSE: 0.0238<br>Complex: 3.17",
          "Trial: 5<br>RMSE: 0.0059<br>Complex: 6.92",
          "Trial: 6<br>RMSE: 0.0011<br>Complex: 8.42",
          "Trial: 7<br>RMSE: 0.0023<br>Complex: 7.40",
          "Trial: 9<br>RMSE: 0.0005<br>Complex: 12.26",
          "Trial: 11<br>RMSE: 0.0008<br>Complex: 12.97",
          "Trial: 14<br>RMSE: 0.0014<br>Complex: 8.00",
          "Trial: 16<br>RMSE: 0.0026<br>Complex: 11.72",
          "Trial: 19<br>RMSE: 0.0013<br>Complex: 8.64",
          "Trial: 22<br>RMSE: 0.0009<br>Complex: 9.00",
          "Trial: 23<br>RMSE: 0.0010<br>Complex: 12.51",
          "Trial: 25<br>RMSE: 0.0012<br>Complex: 12.00",
          "Trial: 28<br>RMSE: 0.0007<br>Complex: 12.51",
          "Trial: 29<br>RMSE: 0.0015<br>Complex: 12.51",
          "Trial: 30<br>RMSE: 0.0013<br>Complex: 12.97",
          "Trial: 31<br>RMSE: 0.0006<br>Complex: 12.51",
          "Trial: 32<br>RMSE: 0.0011<br>Complex: 12.51",
          "Trial: 34<br>RMSE: 0.0012<br>Complex: 12.74",
          "Trial: 35<br>RMSE: 0.0009<br>Complex: 12.26",
          "Trial: 37<br>RMSE: 0.0008<br>Complex: 12.74",
          "Trial: 38<br>RMSE: 0.0008<br>Complex: 7.61",
          "Trial: 44<br>RMSE: 0.0007<br>Complex: 11.10",
          "Trial: 47<br>RMSE: 0.0007<br>Complex: 12.74",
          "Trial: 48<br>RMSE: 0.0009<br>Complex: 12.00",
          "Trial: 50<br>RMSE: 0.0010<br>Complex: 12.26",
          "Trial: 52<br>RMSE: 0.0006<br>Complex: 12.51",
          "Trial: 53<br>RMSE: 0.0011<br>Complex: 12.51",
          "Trial: 54<br>RMSE: 0.0008<br>Complex: 12.97",
          "Trial: 55<br>RMSE: 0.0004<br>Complex: 12.26",
          "Trial: 59<br>RMSE: 0.0011<br>Complex: 11.72",
          "Trial: 60<br>RMSE: 0.0011<br>Complex: 12.26",
          "Trial: 61<br>RMSE: 0.0007<br>Complex: 12.51",
          "Trial: 62<br>RMSE: 0.0010<br>Complex: 12.74",
          "Trial: 63<br>RMSE: 0.0006<br>Complex: 12.97",
          "Trial: 64<br>RMSE: 0.0006<br>Complex: 12.97",
          "Trial: 65<br>RMSE: 0.0006<br>Complex: 12.97",
          "Trial: 66<br>RMSE: 0.0009<br>Complex: 12.97",
          "Trial: 67<br>RMSE: 0.0004<br>Complex: 12.97",
          "Trial: 68<br>RMSE: 0.0007<br>Complex: 12.97",
          "Trial: 69<br>RMSE: 0.0009<br>Complex: 12.97",
          "Trial: 70<br>RMSE: 0.0010<br>Complex: 12.97",
          "Trial: 71<br>RMSE: 0.0006<br>Complex: 12.74",
          "Trial: 74<br>RMSE: 0.0007<br>Complex: 12.97",
          "Trial: 75<br>RMSE: 0.0006<br>Complex: 12.51",
          "Trial: 76<br>RMSE: 0.0006<br>Complex: 12.51",
          "Trial: 77<br>RMSE: 0.0009<br>Complex: 12.74",
          "Trial: 79<br>RMSE: 0.0005<br>Complex: 12.26",
          "Trial: 82<br>RMSE: 0.0007<br>Complex: 12.51",
          "Trial: 83<br>RMSE: 0.0008<br>Complex: 12.51",
          "Trial: 84<br>RMSE: 0.0006<br>Complex: 12.74",
          "Trial: 86<br>RMSE: 0.0006<br>Complex: 12.74",
          "Trial: 88<br>RMSE: 0.0008<br>Complex: 12.97",
          "Trial: 89<br>RMSE: 0.0005<br>Complex: 12.51",
          "Trial: 91<br>RMSE: 0.0005<br>Complex: 12.51",
          "Trial: 92<br>RMSE: 0.0008<br>Complex: 12.51",
          "Trial: 94<br>RMSE: 0.0005<br>Complex: 12.51",
          "Trial: 95<br>RMSE: 0.0009<br>Complex: 12.51",
          "Trial: 98<br>RMSE: 0.0007<br>Complex: 12.26"
         ],
         "type": "scatter",
         "x": [
          6.965784284662087,
          3.700439718141092,
          4.754887502163468,
          2.584962500721156,
          3.169925001442312,
          6.918863237274595,
          8.422064766172813,
          7.400879436282184,
          12.262388523751017,
          12.965784284662089,
          8,
          11.720671786825555,
          8.643856189774725,
          9,
          12.509775004326936,
          12,
          12.509775004326936,
          12.509775004326936,
          12.965784284662089,
          12.509775004326936,
          12.509775004326936,
          12.743782540330756,
          12.262388523751017,
          12.743782540330756,
          7.614709844115208,
          11.101319154423276,
          12.743782540330756,
          12,
          12.262388523751017,
          12.509775004326936,
          12.509775004326936,
          12.965784284662089,
          12.262388523751017,
          11.720671786825555,
          12.262388523751017,
          12.509775004326936,
          12.743782540330756,
          12.965784284662089,
          12.965784284662089,
          12.965784284662089,
          12.965784284662089,
          12.965784284662089,
          12.965784284662089,
          12.965784284662089,
          12.965784284662089,
          12.743782540330756,
          12.965784284662089,
          12.509775004326936,
          12.509775004326936,
          12.743782540330756,
          12.262388523751017,
          12.509775004326936,
          12.509775004326936,
          12.743782540330756,
          12.743782540330756,
          12.965784284662089,
          12.509775004326936,
          12.509775004326936,
          12.509775004326936,
          12.509775004326936,
          12.509775004326936,
          12.262388523751017
         ],
         "y": [
          0.0059123095293846855,
          0.005914226938405474,
          0.019313381988175015,
          0.0024211294346731323,
          0.02377463309711461,
          0.005921723775541623,
          0.0010575340165803237,
          0.0023237288057810683,
          0.0004551216586447284,
          0.0008269128667118902,
          0.0013536682109502524,
          0.0026034258363652023,
          0.001318964620577679,
          0.0008750453516791834,
          0.0009870734585822264,
          0.0011693311657128443,
          0.000742483756405828,
          0.0014587180788610166,
          0.0013296168470503698,
          0.0006354084887474874,
          0.0010997577535511826,
          0.0012252604228566793,
          0.0009476128259229865,
          0.0007672370152624894,
          0.0008087160989360509,
          0.0006560198450886903,
          0.0007257002864258238,
          0.0008966753569337781,
          0.0009784215762777384,
          0.0005576388188283228,
          0.001128438134534997,
          0.0008063456341246092,
          0.00042813510634882195,
          0.0010778985625432083,
          0.0011258334117925687,
          0.0007103047987614784,
          0.0010188205154826706,
          0.0005679388933205539,
          0.0005975704915267815,
          0.0006130762834927361,
          0.0008706779951170603,
          0.00038763122976627284,
          0.0006689471918995175,
          0.0009219266564528417,
          0.0009725192600935562,
          0.0005984788810612437,
          0.000734554179834943,
          0.0005817301664101481,
          0.0006235333173220572,
          0.0009097642844330644,
          0.0004958977523375031,
          0.0007445489761620633,
          0.0007910685533380678,
          0.0006094123240896733,
          0.0006004285723197464,
          0.0007622875599541451,
          0.00047944029887569386,
          0.00045771597424998015,
          0.0008349633099728091,
          0.0005248124831390946,
          0.0008607224886646825,
          0.0007038081176793452
         ]
        }
       ],
       "layout": {
        "hovermode": "closest",
        "template": {
         "data": {
          "bar": [
           {
            "error_x": {
             "color": "#2a3f5f"
            },
            "error_y": {
             "color": "#2a3f5f"
            },
            "marker": {
             "line": {
              "color": "#E5ECF6",
              "width": 0.5
             },
             "pattern": {
              "fillmode": "overlay",
              "size": 10,
              "solidity": 0.2
             }
            },
            "type": "bar"
           }
          ],
          "barpolar": [
           {
            "marker": {
             "line": {
              "color": "#E5ECF6",
              "width": 0.5
             },
             "pattern": {
              "fillmode": "overlay",
              "size": 10,
              "solidity": 0.2
             }
            },
            "type": "barpolar"
           }
          ],
          "carpet": [
           {
            "aaxis": {
             "endlinecolor": "#2a3f5f",
             "gridcolor": "white",
             "linecolor": "white",
             "minorgridcolor": "white",
             "startlinecolor": "#2a3f5f"
            },
            "baxis": {
             "endlinecolor": "#2a3f5f",
             "gridcolor": "white",
             "linecolor": "white",
             "minorgridcolor": "white",
             "startlinecolor": "#2a3f5f"
            },
            "type": "carpet"
           }
          ],
          "choropleth": [
           {
            "colorbar": {
             "outlinewidth": 0,
             "ticks": ""
            },
            "type": "choropleth"
           }
          ],
          "contour": [
           {
            "colorbar": {
             "outlinewidth": 0,
             "ticks": ""
            },
            "colorscale": [
             [
              0,
              "#0d0887"
             ],
             [
              0.1111111111111111,
              "#46039f"
             ],
             [
              0.2222222222222222,
              "#7201a8"
             ],
             [
              0.3333333333333333,
              "#9c179e"
             ],
             [
              0.4444444444444444,
              "#bd3786"
             ],
             [
              0.5555555555555556,
              "#d8576b"
             ],
             [
              0.6666666666666666,
              "#ed7953"
             ],
             [
              0.7777777777777778,
              "#fb9f3a"
             ],
             [
              0.8888888888888888,
              "#fdca26"
             ],
             [
              1,
              "#f0f921"
             ]
            ],
            "type": "contour"
           }
          ],
          "contourcarpet": [
           {
            "colorbar": {
             "outlinewidth": 0,
             "ticks": ""
            },
            "type": "contourcarpet"
           }
          ],
          "heatmap": [
           {
            "colorbar": {
             "outlinewidth": 0,
             "ticks": ""
            },
            "colorscale": [
             [
              0,
              "#0d0887"
             ],
             [
              0.1111111111111111,
              "#46039f"
             ],
             [
              0.2222222222222222,
              "#7201a8"
             ],
             [
              0.3333333333333333,
              "#9c179e"
             ],
             [
              0.4444444444444444,
              "#bd3786"
             ],
             [
              0.5555555555555556,
              "#d8576b"
             ],
             [
              0.6666666666666666,
              "#ed7953"
             ],
             [
              0.7777777777777778,
              "#fb9f3a"
             ],
             [
              0.8888888888888888,
              "#fdca26"
             ],
             [
              1,
              "#f0f921"
             ]
            ],
            "type": "heatmap"
           }
          ],
          "histogram": [
           {
            "marker": {
             "pattern": {
              "fillmode": "overlay",
              "size": 10,
              "solidity": 0.2
             }
            },
            "type": "histogram"
           }
          ],
          "histogram2d": [
           {
            "colorbar": {
             "outlinewidth": 0,
             "ticks": ""
            },
            "colorscale": [
             [
              0,
              "#0d0887"
             ],
             [
              0.1111111111111111,
              "#46039f"
             ],
             [
              0.2222222222222222,
              "#7201a8"
             ],
             [
              0.3333333333333333,
              "#9c179e"
             ],
             [
              0.4444444444444444,
              "#bd3786"
             ],
             [
              0.5555555555555556,
              "#d8576b"
             ],
             [
              0.6666666666666666,
              "#ed7953"
             ],
             [
              0.7777777777777778,
              "#fb9f3a"
             ],
             [
              0.8888888888888888,
              "#fdca26"
             ],
             [
              1,
              "#f0f921"
             ]
            ],
            "type": "histogram2d"
           }
          ],
          "histogram2dcontour": [
           {
            "colorbar": {
             "outlinewidth": 0,
             "ticks": ""
            },
            "colorscale": [
             [
              0,
              "#0d0887"
             ],
             [
              0.1111111111111111,
              "#46039f"
             ],
             [
              0.2222222222222222,
              "#7201a8"
             ],
             [
              0.3333333333333333,
              "#9c179e"
             ],
             [
              0.4444444444444444,
              "#bd3786"
             ],
             [
              0.5555555555555556,
              "#d8576b"
             ],
             [
              0.6666666666666666,
              "#ed7953"
             ],
             [
              0.7777777777777778,
              "#fb9f3a"
             ],
             [
              0.8888888888888888,
              "#fdca26"
             ],
             [
              1,
              "#f0f921"
             ]
            ],
            "type": "histogram2dcontour"
           }
          ],
          "mesh3d": [
           {
            "colorbar": {
             "outlinewidth": 0,
             "ticks": ""
            },
            "type": "mesh3d"
           }
          ],
          "parcoords": [
           {
            "line": {
             "colorbar": {
              "outlinewidth": 0,
              "ticks": ""
             }
            },
            "type": "parcoords"
           }
          ],
          "pie": [
           {
            "automargin": true,
            "type": "pie"
           }
          ],
          "scatter": [
           {
            "fillpattern": {
             "fillmode": "overlay",
             "size": 10,
             "solidity": 0.2
            },
            "type": "scatter"
           }
          ],
          "scatter3d": [
           {
            "line": {
             "colorbar": {
              "outlinewidth": 0,
              "ticks": ""
             }
            },
            "marker": {
             "colorbar": {
              "outlinewidth": 0,
              "ticks": ""
             }
            },
            "type": "scatter3d"
           }
          ],
          "scattercarpet": [
           {
            "marker": {
             "colorbar": {
              "outlinewidth": 0,
              "ticks": ""
             }
            },
            "type": "scattercarpet"
           }
          ],
          "scattergeo": [
           {
            "marker": {
             "colorbar": {
              "outlinewidth": 0,
              "ticks": ""
             }
            },
            "type": "scattergeo"
           }
          ],
          "scattergl": [
           {
            "marker": {
             "colorbar": {
              "outlinewidth": 0,
              "ticks": ""
             }
            },
            "type": "scattergl"
           }
          ],
          "scattermap": [
           {
            "marker": {
             "colorbar": {
              "outlinewidth": 0,
              "ticks": ""
             }
            },
            "type": "scattermap"
           }
          ],
          "scattermapbox": [
           {
            "marker": {
             "colorbar": {
              "outlinewidth": 0,
              "ticks": ""
             }
            },
            "type": "scattermapbox"
           }
          ],
          "scatterpolar": [
           {
            "marker": {
             "colorbar": {
              "outlinewidth": 0,
              "ticks": ""
             }
            },
            "type": "scatterpolar"
           }
          ],
          "scatterpolargl": [
           {
            "marker": {
             "colorbar": {
              "outlinewidth": 0,
              "ticks": ""
             }
            },
            "type": "scatterpolargl"
           }
          ],
          "scatterternary": [
           {
            "marker": {
             "colorbar": {
              "outlinewidth": 0,
              "ticks": ""
             }
            },
            "type": "scatterternary"
           }
          ],
          "surface": [
           {
            "colorbar": {
             "outlinewidth": 0,
             "ticks": ""
            },
            "colorscale": [
             [
              0,
              "#0d0887"
             ],
             [
              0.1111111111111111,
              "#46039f"
             ],
             [
              0.2222222222222222,
              "#7201a8"
             ],
             [
              0.3333333333333333,
              "#9c179e"
             ],
             [
              0.4444444444444444,
              "#bd3786"
             ],
             [
              0.5555555555555556,
              "#d8576b"
             ],
             [
              0.6666666666666666,
              "#ed7953"
             ],
             [
              0.7777777777777778,
              "#fb9f3a"
             ],
             [
              0.8888888888888888,
              "#fdca26"
             ],
             [
              1,
              "#f0f921"
             ]
            ],
            "type": "surface"
           }
          ],
          "table": [
           {
            "cells": {
             "fill": {
              "color": "#EBF0F8"
             },
             "line": {
              "color": "white"
             }
            },
            "header": {
             "fill": {
              "color": "#C8D4E3"
             },
             "line": {
              "color": "white"
             }
            },
            "type": "table"
           }
          ]
         },
         "layout": {
          "annotationdefaults": {
           "arrowcolor": "#2a3f5f",
           "arrowhead": 0,
           "arrowwidth": 1
          },
          "autotypenumbers": "strict",
          "coloraxis": {
           "colorbar": {
            "outlinewidth": 0,
            "ticks": ""
           }
          },
          "colorscale": {
           "diverging": [
            [
             0,
             "#8e0152"
            ],
            [
             0.1,
             "#c51b7d"
            ],
            [
             0.2,
             "#de77ae"
            ],
            [
             0.3,
             "#f1b6da"
            ],
            [
             0.4,
             "#fde0ef"
            ],
            [
             0.5,
             "#f7f7f7"
            ],
            [
             0.6,
             "#e6f5d0"
            ],
            [
             0.7,
             "#b8e186"
            ],
            [
             0.8,
             "#7fbc41"
            ],
            [
             0.9,
             "#4d9221"
            ],
            [
             1,
             "#276419"
            ]
           ],
           "sequential": [
            [
             0,
             "#0d0887"
            ],
            [
             0.1111111111111111,
             "#46039f"
            ],
            [
             0.2222222222222222,
             "#7201a8"
            ],
            [
             0.3333333333333333,
             "#9c179e"
            ],
            [
             0.4444444444444444,
             "#bd3786"
            ],
            [
             0.5555555555555556,
             "#d8576b"
            ],
            [
             0.6666666666666666,
             "#ed7953"
            ],
            [
             0.7777777777777778,
             "#fb9f3a"
            ],
            [
             0.8888888888888888,
             "#fdca26"
            ],
            [
             1,
             "#f0f921"
            ]
           ],
           "sequentialminus": [
            [
             0,
             "#0d0887"
            ],
            [
             0.1111111111111111,
             "#46039f"
            ],
            [
             0.2222222222222222,
             "#7201a8"
            ],
            [
             0.3333333333333333,
             "#9c179e"
            ],
            [
             0.4444444444444444,
             "#bd3786"
            ],
            [
             0.5555555555555556,
             "#d8576b"
            ],
            [
             0.6666666666666666,
             "#ed7953"
            ],
            [
             0.7777777777777778,
             "#fb9f3a"
            ],
            [
             0.8888888888888888,
             "#fdca26"
            ],
            [
             1,
             "#f0f921"
            ]
           ]
          },
          "colorway": [
           "#636efa",
           "#EF553B",
           "#00cc96",
           "#ab63fa",
           "#FFA15A",
           "#19d3f3",
           "#FF6692",
           "#B6E880",
           "#FF97FF",
           "#FECB52"
          ],
          "font": {
           "color": "#2a3f5f"
          },
          "geo": {
           "bgcolor": "white",
           "lakecolor": "white",
           "landcolor": "#E5ECF6",
           "showlakes": true,
           "showland": true,
           "subunitcolor": "white"
          },
          "hoverlabel": {
           "align": "left"
          },
          "hovermode": "closest",
          "mapbox": {
           "style": "light"
          },
          "paper_bgcolor": "white",
          "plot_bgcolor": "#E5ECF6",
          "polar": {
           "angularaxis": {
            "gridcolor": "white",
            "linecolor": "white",
            "ticks": ""
           },
           "bgcolor": "#E5ECF6",
           "radialaxis": {
            "gridcolor": "white",
            "linecolor": "white",
            "ticks": ""
           }
          },
          "scene": {
           "xaxis": {
            "backgroundcolor": "#E5ECF6",
            "gridcolor": "white",
            "gridwidth": 2,
            "linecolor": "white",
            "showbackground": true,
            "ticks": "",
            "zerolinecolor": "white"
           },
           "yaxis": {
            "backgroundcolor": "#E5ECF6",
            "gridcolor": "white",
            "gridwidth": 2,
            "linecolor": "white",
            "showbackground": true,
            "ticks": "",
            "zerolinecolor": "white"
           },
           "zaxis": {
            "backgroundcolor": "#E5ECF6",
            "gridcolor": "white",
            "gridwidth": 2,
            "linecolor": "white",
            "showbackground": true,
            "ticks": "",
            "zerolinecolor": "white"
           }
          },
          "shapedefaults": {
           "line": {
            "color": "#2a3f5f"
           }
          },
          "ternary": {
           "aaxis": {
            "gridcolor": "white",
            "linecolor": "white",
            "ticks": ""
           },
           "baxis": {
            "gridcolor": "white",
            "linecolor": "white",
            "ticks": ""
           },
           "bgcolor": "#E5ECF6",
           "caxis": {
            "gridcolor": "white",
            "linecolor": "white",
            "ticks": ""
           }
          },
          "title": {
           "x": 0.05
          },
          "xaxis": {
           "automargin": true,
           "gridcolor": "white",
           "linecolor": "white",
           "ticks": "",
           "title": {
            "standoff": 15
           },
           "zerolinecolor": "white",
           "zerolinewidth": 2
          },
          "yaxis": {
           "automargin": true,
           "gridcolor": "white",
           "linecolor": "white",
           "ticks": "",
           "title": {
            "standoff": 15
           },
           "zerolinecolor": "white",
           "zerolinewidth": 2
          }
         }
        },
        "title": {
         "text": "Trade-off: Qualidade (RMSE) vs. Complexidade do Modelo"
        },
        "xaxis": {
         "title": {
          "text": "Complexidade (log2(neurônios) * camadas)"
         }
        },
        "yaxis": {
         "title": {
          "text": "RMSE de Validação (Normalizado)"
         }
        }
       }
      }
     },
     "metadata": {},
     "output_type": "display_data"
    }
   ],
   "source": [
    "# --- Bloco 7: Gráficos Elaborados do Optuna ---\n",
    "\n",
    "print(\"Gerando gráficos do Optuna...\")\n",
    "\n",
    "# Gráfico 1: Histórico de Otimização (RMSE vs. Trial)\n",
    "fig1 = optuna.visualization.plot_optimization_history(study)\n",
    "fig1.show()\n",
    "\n",
    "# Gráfico 2: Importância dos Hiperparâmetros\n",
    "fig2 = optuna.visualization.plot_param_importances(study)\n",
    "fig2.show()\n",
    "\n",
    "# Gráfico 3: Gráfico Customizado (Qualidade vs. Complexidade)\n",
    "# Este é o gráfico que você pediu\n",
    "trials = [t for t in study.trials if t.state == TrialState.COMPLETE]\n",
    "complexities = [t.user_attrs['complexity'] for t in trials]\n",
    "val_rmses = [t.value for t in trials]\n",
    "trial_numbers = [t.number for t in trials]\n",
    "\n",
    "fig3 = go.Figure(data=go.Scatter(\n",
    "    x=complexities,\n",
    "    y=val_rmses,\n",
    "    mode='markers',\n",
    "    text=[f'Trial: {n}<br>RMSE: {r:.4f}<br>Complex: {c:.2f}' \n",
    "          for n, r, c in zip(trial_numbers, val_rmses, complexities)],\n",
    "    marker=dict(\n",
    "        color=val_rmses,\n",
    "        colorscale='Viridis',\n",
    "        showscale=True,\n",
    "        colorbar=dict(title='RMSE de Validação')\n",
    "    )\n",
    "))\n",
    "fig3.update_layout(\n",
    "    title='Trade-off: Qualidade (RMSE) vs. Complexidade do Modelo',\n",
    "    xaxis_title='Complexidade (log2(neurônios) * camadas)',\n",
    "    yaxis_title='RMSE de Validação (Normalizado)',\n",
    "    hovermode='closest'\n",
    ")\n",
    "fig3.show()"
   ]
  },
  {
   "cell_type": "code",
   "execution_count": null,
   "id": "17254179",
   "metadata": {},
   "outputs": [
    {
     "name": "stdout",
     "output_type": "stream",
     "text": [
      "--- Treinando a Rede 'Campeã' Final ---\n",
      "Treinamento final concluído em 1.11s\n",
      "Modelo 'model_10_epochs.pth' salvo.\n"
     ]
    }
   ],
   "source": [
    "# --- Bloco 8: Treinamento Final da Rede \"Campeã\" ---\n",
    "# Agora, pegamos os melhores hiperparâmetros e treinamos\n",
    "# um modelo final do zero, salvando o histórico de loss.\n",
    "\n",
    "print(\"--- Treinando a Rede 'Campeã' Final ---\")\n",
    "\n",
    "'''\n",
    "best_params = study.best_params\n",
    "BASE_N_LAYERS = best_params['n_layers']\n",
    "BASE_N_NEURONS = best_params['n_neurons']\n",
    "BASE_LR = best_params['lr']\n",
    "#'''\n",
    "\n",
    "# {'n_layers': 3, 'n_neurons': 20, 'lr': 0.016958810881878037}\n",
    "\n",
    "#'''\n",
    "BASE_N_LAYERS = 2\n",
    "BASE_N_NEURONS = 13\n",
    "BASE_LR = 0.008164828229766462\n",
    "N_EPOCHS = 10\n",
    "#'''\n",
    "\n",
    "# Parâmetros da rede\n",
    "final_model = Net(\n",
    "    n_layers=BASE_N_LAYERS,\n",
    "    n_neurons=BASE_N_NEURONS\n",
    ").to(device)\n",
    "final_lr = BASE_LR\n",
    "\n",
    "\n",
    "optimizer = optim.Adam(final_model.parameters(), lr=final_lr)\n",
    "criterion = nn.MSELoss()\n",
    "\n",
    "# Listas para salvar o histórico de loss\n",
    "train_losses = []\n",
    "val_losses = []\n",
    "\n",
    "# Usar os mesmos parâmetros do Optuna\n",
    "best_val_loss = float('inf')\n",
    "patience_counter = 0\n",
    "\n",
    "start_time = time.time()\n",
    "for epoch in range(N_EPOCHS):\n",
    "    # Treinamento\n",
    "    final_model.train()\n",
    "    current_train_loss = 0.0\n",
    "    for X_batch, y_batch in train_loader:\n",
    "        optimizer.zero_grad()\n",
    "        outputs = final_model(X_batch)\n",
    "        loss = criterion(outputs, y_batch)\n",
    "        loss.backward()\n",
    "        optimizer.step()\n",
    "        current_train_loss += loss.item() * X_batch.size(0)\n",
    "    \n",
    "    train_losses.append(current_train_loss / len(train_loader.dataset))\n",
    "    \n",
    "    # Validação\n",
    "    final_model.eval()\n",
    "    current_val_loss = 0.0\n",
    "    with torch.no_grad():\n",
    "        for X_batch, y_batch in val_loader:\n",
    "            outputs = final_model(X_batch)\n",
    "            loss = criterion(outputs, y_batch)\n",
    "            current_val_loss += loss.item() * X_batch.size(0)\n",
    "            \n",
    "    current_val_loss /= len(val_loader.dataset)\n",
    "    val_losses.append(current_val_loss)\n",
    "\n",
    "    # Lógica de Early Stopping\n",
    "    if current_val_loss < best_val_loss:\n",
    "        best_val_loss = current_val_loss\n",
    "        patience_counter = 0\n",
    "        # Salvar o melhor modelo\n",
    "        torch.save(final_model.state_dict(), 'model_10_epochs.pth')\n",
    "    else:\n",
    "        patience_counter += 1\n",
    "    \n",
    "    if patience_counter >= EARLY_STOPPING_PATIENCE:\n",
    "        print(f\"Treinamento final parou cedo no epoch {epoch+1}\")\n",
    "        break\n",
    "\n",
    "    if (epoch + 1) % 50 == 0:\n",
    "        print(f\"Epoch [{epoch+1}/{N_EPOCHS}], Train Loss: {train_losses[-1]:.6f}, Val Loss: {val_losses[-1]:.6f}\")\n",
    "\n",
    "end_time = time.time()\n",
    "print(f\"Treinamento final concluído em {end_time - start_time:.2f}s\")\n",
    "print(\"Modelo 'model_10_epochs.pth' salvo.\")"
   ]
  },
  {
   "cell_type": "code",
   "execution_count": 35,
   "id": "ee54ab87",
   "metadata": {},
   "outputs": [
    {
     "data": {
      "image/png": "[encoded data removed]",
      "text/plain": [
       "<Figure size 1200x600 with 1 Axes>"
      ]
     },
     "metadata": {},
     "output_type": "display_data"
    }
   ],
   "source": [
    "# --- Bloco 9: Gráfico de Treinamento (Loss vs. Epoch) ---\n",
    "\n",
    "plt.figure(figsize=(12, 6))\n",
    "plt.plot(train_losses, label='Loss de Treinamento (MSE)')\n",
    "plt.plot(val_losses, label='Loss de Validação (MSE)')\n",
    "plt.title('Curvas de Aprendizado do Modelo Final')\n",
    "#plt.ylim(0,0.0005)\n",
    "plt.xlabel('Épocas')\n",
    "plt.ylabel('Loss (MSE Normalizado)')\n",
    "plt.yscale('log') # Usar escala logarítmica é quase obrigatório aqui\n",
    "plt.legend()\n",
    "plt.show()"
   ]
  },
  {
   "cell_type": "code",
   "execution_count": 36,
   "id": "4d716ea7",
   "metadata": {},
   "outputs": [
    {
     "name": "stdout",
     "output_type": "stream",
     "text": [
      "--- Avaliação Final do Modelo ---\n",
      "\n",
      "Métricas Finais (em escala real de R$):\n",
      "  MSE:  1,758.93\n",
      "  RMSE: 41.94\n",
      "  MAPE: 0.0036 %\n"
     ]
    },
    {
     "data": {
      "image/png": "[encoded data removed]",
      "text/plain": [
       "<Figure size 1000x1000 with 1 Axes>"
      ]
     },
     "metadata": {},
     "output_type": "display_data"
    }
   ],
   "source": [
    "# --- Bloco 10: Avaliação Final (Métricas nos Dados Reais) ---\n",
    "\n",
    "print(\"--- Avaliação Final do Modelo ---\")\n",
    "\n",
    "# Carregar o melhor modelo salvo\n",
    "final_model.load_state_dict(torch.load('model_10_epochs.pth'))\n",
    "final_model.eval()\n",
    "\n",
    "# Passar TODOS os dados (X_scaled) pelo modelo\n",
    "with torch.no_grad():\n",
    "    y_pred_scaled_t = final_model(torch.tensor(X_scaled, dtype=torch.float32).to(device))\n",
    "\n",
    "# Mover para CPU e converter para NumPy\n",
    "y_pred_scaled = y_pred_scaled_t.cpu().numpy()\n",
    "\n",
    "# --- IMPORTANTE: Reverter a Normalização ---\n",
    "# Agora avaliamos na escala de R$ e MW reais\n",
    "y_true_real = y_scaler.inverse_transform(y_scaled)\n",
    "y_pred_real = y_scaler.inverse_transform(y_pred_scaled)\n",
    "x_real = x_scaler.inverse_transform(X_scaled)\n",
    "\n",
    "# Calcular métricas finais\n",
    "mse, rmse, mape = calculate_all_metrics(y_true_real, y_pred_real)\n",
    "\n",
    "print(\"\\nMétricas Finais (em escala real de R$):\")\n",
    "print(f\"  MSE:  {mse:,.2f}\")\n",
    "print(f\"  RMSE: {rmse:,.2f}\")\n",
    "print(f\"  MAPE: {mape:.4f} %\")\n",
    "\n",
    "# --- Gráfico Final: Real vs. Previsto ---\n",
    "plt.figure(figsize=(10, 10))\n",
    "plt.scatter(y_true_real, y_pred_real, alpha=0.3, label='Previsões')\n",
    "# Adicionar a linha ideal (y=x)\n",
    "ideal_line = np.linspace(min(y_true_real.min(), y_pred_real.min()), \n",
    "                         max(y_true_real.max(), y_pred_real.max()), 100)\n",
    "plt.plot(ideal_line, ideal_line, 'r--', label='Linha Ideal (Previsto = Real)')\n",
    "\n",
    "plt.title('Qualidade da Previsão (Escala Real)')\n",
    "plt.xlabel('Custo Real (R$)')\n",
    "plt.ylabel('Custo Previsto (R$)')\n",
    "plt.legend()\n",
    "plt.grid(True)\n",
    "plt.axis('equal') # Forçar eixos iguais\n",
    "plt.show()"
   ]
  },
  {
   "cell_type": "code",
   "execution_count": 37,
   "id": "2baa7c97",
   "metadata": {},
   "outputs": [
    {
     "name": "stdout",
     "output_type": "stream",
     "text": [
      "--- Iniciando Treinamento por Transferência ---\n",
      "Modelo pré-treinado 'model_10_epochs.pth' carregado com sucesso.\n"
     ]
    }
   ],
   "source": [
    "# --- Bloco 5: Carregamento do Modelo Pré-Treinado ---\n",
    "\n",
    "print(\"--- Iniciando Treinamento por Transferência ---\")\n",
    "\n",
    "# Re-criar a arquitetura EXATA do modelo base salvo\n",
    "# (É crucial que os parâmetros sejam os mesmos)\n",
    "MODEL_BASE_PATH = 'model_10_epochs.pth'\n",
    "\n",
    "# Instanciar o novo modelo\n",
    "transfer_model = Net(n_layers=BASE_N_LAYERS, n_neurons=BASE_N_NEURONS).to(device)\n",
    "\n",
    "# --- A MÁGICA (Transfer Learning) ---\n",
    "# Carregar os pesos (o \"conhecimento\") do modelo de 10 épocas\n",
    "transfer_model.load_state_dict(torch.load(MODEL_BASE_PATH))\n",
    "# ------------------------------------\n",
    "\n",
    "print(f\"Modelo pré-treinado '{MODEL_BASE_PATH}' carregado com sucesso.\")\n",
    "\n",
    "# Configurar o otimizador para o novo modelo\n",
    "optimizer = optim.Adam(transfer_model.parameters(), lr=BASE_LR)\n",
    "criterion = nn.MSELoss()"
   ]
  },
  {
   "cell_type": "code",
   "execution_count": 38,
   "id": "06608778",
   "metadata": {},
   "outputs": [
    {
     "name": "stdout",
     "output_type": "stream",
     "text": [
      "--- Continuando o treinamento (Epochs 11 a 300) ---\n",
      "Epoch [11/300], Train Loss: 0.000426, Val Loss: 0.000007\n",
      "Epoch [50/300], Train Loss: 0.000008, Val Loss: 0.000003\n",
      "Treinamento por transferência parou cedo no epoch 66\n",
      "Treinamento por transferência concluído em 5.67s\n",
      "Modelo 'transfer_model_final.pth' salvo.\n"
     ]
    }
   ],
   "source": [
    "# --- Bloco 6: Continuação do Treinamento (Epoch 11 até o fim) ---\n",
    "\n",
    "print(\"--- Continuando o treinamento (Epochs 11 a 300) ---\")\n",
    "\n",
    "# Parâmetros\n",
    "N_TOTAL_EPOCHS = 300\n",
    "N_EPOCHS_JA_TREINADAS = 10\n",
    "EARLY_STOPPING_PATIENCE = 30 # A mesma paciência\n",
    "\n",
    "# Listas para salvar o histórico de loss\n",
    "train_losses = []\n",
    "val_losses = []\n",
    "\n",
    "best_val_loss = float('inf')\n",
    "patience_counter = 0\n",
    "\n",
    "start_time = time.time()\n",
    "# Começamos o loop da época 11 até 300\n",
    "for epoch in range(N_EPOCHS_JA_TREINADAS, N_TOTAL_EPOCHS):\n",
    "    \n",
    "    # Treinamento\n",
    "    transfer_model.train()\n",
    "    current_train_loss = 0.0\n",
    "    for X_batch, y_batch in train_loader:\n",
    "        optimizer.zero_grad()\n",
    "        outputs = transfer_model(X_batch) # Usando o transfer_model\n",
    "        loss = criterion(outputs, y_batch)\n",
    "        loss.backward()\n",
    "        optimizer.step()\n",
    "        current_train_loss += loss.item() * X_batch.size(0)\n",
    "    \n",
    "    train_losses.append(current_train_loss / len(train_loader.dataset))\n",
    "    \n",
    "    # Validação\n",
    "    transfer_model.eval()\n",
    "    current_val_loss = 0.0\n",
    "    with torch.no_grad():\n",
    "        for X_batch, y_batch in val_loader:\n",
    "            outputs = transfer_model(X_batch) # Usando o transfer_model\n",
    "            loss = criterion(outputs, y_batch)\n",
    "            current_val_loss += loss.item() * X_batch.size(0)\n",
    "            \n",
    "    current_val_loss /= len(val_loader.dataset)\n",
    "    val_losses.append(current_val_loss)\n",
    "\n",
    "    # Lógica de Early Stopping\n",
    "    if current_val_loss < best_val_loss:\n",
    "        best_val_loss = current_val_loss\n",
    "        patience_counter = 0\n",
    "        # Salvar o melhor modelo\n",
    "        torch.save(transfer_model.state_dict(), 'transfer_model_final_limited.pth')\n",
    "    else:\n",
    "        patience_counter += 1\n",
    "    \n",
    "    if patience_counter >= EARLY_STOPPING_PATIENCE:\n",
    "        print(f\"Treinamento por transferência parou cedo no epoch {epoch+1}\")\n",
    "        break\n",
    "\n",
    "    if (epoch + 1) % 50 == 0 or epoch == N_EPOCHS_JA_TREINADAS:\n",
    "        # Imprime no primeiro loop (época 10) e a cada 50\n",
    "        print(f\"Epoch [{epoch+1}/{N_TOTAL_EPOCHS}], Train Loss: {train_losses[-1]:.6f}, Val Loss: {val_losses[-1]:.6f}\")\n",
    "\n",
    "end_time = time.time()\n",
    "print(f\"Treinamento por transferência concluído em {end_time - start_time:.2f}s\")\n",
    "print(\"Modelo 'transfer_model_final.pth' salvo.\")"
   ]
  },
  {
   "cell_type": "code",
   "execution_count": 39,
   "id": "9cdb3412",
   "metadata": {},
   "outputs": [
    {
     "data": {
      "image/png": "[encoded data removed]",
      "text/plain": [
       "<Figure size 1200x600 with 1 Axes>"
      ]
     },
     "metadata": {},
     "output_type": "display_data"
    }
   ],
   "source": [
    "# --- Bloco 7: Gráfico de Treinamento (Loss vs. Epoch) ---\n",
    "# Este gráfico será a prova: ele vai começar BAIXO.\n",
    "\n",
    "plt.figure(figsize=(12, 6))\n",
    "# Plotar o loss a partir da época 11\n",
    "plt.plot(range(N_EPOCHS_JA_TREINADAS, N_EPOCHS_JA_TREINADAS + len(train_losses)), \n",
    "         train_losses, \n",
    "         label='Loss de Treinamento (Transfer)')\n",
    "plt.plot(range(N_EPOCHS_JA_TREINADAS, N_EPOCHS_JA_TREINADAS + len(val_losses)), \n",
    "         val_losses, \n",
    "         label='Loss de Validação (Transfer)')\n",
    "\n",
    "plt.title('Curvas de Aprendizado (Iniciando de Modelo Pré-Treinado)')\n",
    "plt.xlabel('Épocas')\n",
    "plt.ylabel('Loss (MSE Normalizado)')\n",
    "plt.legend()\n",
    "plt.yscale('log')\n",
    "plt.show()"
   ]
  },
  {
   "cell_type": "code",
   "execution_count": 40,
   "id": "a13f4445",
   "metadata": {},
   "outputs": [
    {
     "name": "stdout",
     "output_type": "stream",
     "text": [
      "--- Avaliação Final do Modelo de Transferência ---\n",
      "\n",
      "Métricas Finais (em escala real de R$):\n",
      "  MSE:  753.16\n",
      "  RMSE: 27.44\n",
      "  MAPE: 0.0032 %\n"
     ]
    },
    {
     "data": {
      "image/png": "[encoded data removed]",
      "text/plain": [
       "<Figure size 1000x1000 with 1 Axes>"
      ]
     },
     "metadata": {},
     "output_type": "display_data"
    }
   ],
   "source": [
    "# --- Bloco 8: Avaliação Final (Métricas nos Dados Reais) ---\n",
    "# Este bloco é idêntico ao Bloco 10 do notebook original,\n",
    "# apenas carrega o 'transfer_model_final.pth'\n",
    "\n",
    "print(\"--- Avaliação Final do Modelo de Transferência ---\")\n",
    "\n",
    "# Carregar os scalers\n",
    "x_scaler = joblib.load('x_scaler.joblib')\n",
    "y_scaler = joblib.load('y_scaler.joblib')\n",
    "\n",
    "# Carregar os dados originais (não normalizados)\n",
    "X = pd.read_csv('usina_carvao_dataset.csv')[['Potencia_MW']].values\n",
    "y_true_real = pd.read_csv('usina_carvao_dataset.csv')[['Custo_Real']].values\n",
    "\n",
    "# Carregar o melhor modelo salvo\n",
    "eval_model = Net(n_layers=BASE_N_LAYERS, n_neurons=BASE_N_NEURONS).to(device)\n",
    "eval_model.load_state_dict(torch.load('transfer_model_final_limited.pth'))\n",
    "eval_model.eval()\n",
    "\n",
    "# Preparar dados de entrada (normalizar)\n",
    "X_scaled = x_scaler.transform(X)\n",
    "\n",
    "# Passar TODOS os dados pelo modelo\n",
    "with torch.no_grad():\n",
    "    y_pred_scaled_t = eval_model(torch.tensor(X_scaled, dtype=torch.float32).to(device))\n",
    "\n",
    "# Mover para CPU e converter para NumPy\n",
    "y_pred_scaled = y_pred_scaled_t.cpu().numpy()\n",
    "\n",
    "# --- IMPORTANTE: Reverter a Normalização ---\n",
    "y_pred_real = y_scaler.inverse_transform(y_pred_scaled)\n",
    "\n",
    "# Calcular métricas finais\n",
    "mse, rmse, mape = calculate_all_metrics(y_true_real, y_pred_real)\n",
    "\n",
    "print(\"\\nMétricas Finais (em escala real de R$):\")\n",
    "print(f\"  MSE:  {mse:,.2f}\")\n",
    "print(f\"  RMSE: {rmse:,.2f}\")\n",
    "print(f\"  MAPE: {mape:.4f} %\")\n",
    "\n",
    "# --- Gráfico Final: Real vs. Previsto ---\n",
    "plt.figure(figsize=(10, 10))\n",
    "plt.scatter(y_true_real, y_pred_real, alpha=0.3, label='Previsões')\n",
    "# Adicionar a linha ideal (y=x)\n",
    "ideal_line = np.linspace(min(y_true_real.min(), y_pred_real.min()), \n",
    "                         max(y_true_real.max(), y_pred_real.max()), 100)\n",
    "plt.plot(ideal_line, ideal_line, 'r--', label='Linha Ideal (Previsto = Real)')\n",
    "\n",
    "plt.title('Qualidade da Previsão (Escala Real)')\n",
    "plt.xlabel('Custo Real (R$)')\n",
    "plt.ylabel('Custo Previsto (R$)')\n",
    "plt.legend()\n",
    "plt.grid(True)\n",
    "plt.axis('equal') # Forçar eixos iguais\n",
    "plt.show()"
   ]
  }
 ],
 "metadata": {
  "kernelspec": {
   "display_name": "Python 3",
   "language": "python",
   "name": "python3"
  },
  "language_info": {
   "codemirror_mode": {
    "name": "ipython",
    "version": 3
   },
   "file_extension": ".py",
   "mimetype": "text/x-python",
   "name": "python",
   "nbconvert_exporter": "python",
   "pygments_lexer": "ipython3",
   "version": "3.11.9"
  }
 },
 "nbformat": 4,
 "nbformat_minor": 5
}
