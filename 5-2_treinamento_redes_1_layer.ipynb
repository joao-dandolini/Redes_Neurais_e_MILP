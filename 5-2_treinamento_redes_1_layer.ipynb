{
 "cells": [
  {
   "cell_type": "code",
   "execution_count": 1,
   "id": "d4aae644",
   "metadata": {},
   "outputs": [
    {
     "name": "stderr",
     "output_type": "stream",
     "text": [
      "c:\\Users\\João Pedro Dandolini\\AppData\\Local\\Programs\\Python\\Python311\\Lib\\site-packages\\tqdm\\auto.py:21: TqdmWarning: IProgress not found. Please update jupyter and ipywidgets. See https://ipywidgets.readthedocs.io/en/stable/user_install.html\n",
      "  from .autonotebook import tqdm as notebook_tqdm\n"
     ]
    },
    {
     "name": "stdout",
     "output_type": "stream",
     "text": [
      "Usando dispositivo: cpu\n"
     ]
    },
    {
     "data": {
      "text/plain": [
       "<torch._C.Generator at 0x1e16d954490>"
      ]
     },
     "execution_count": 1,
     "metadata": {},
     "output_type": "execute_result"
    }
   ],
   "source": [
    "# --- Bloco 0: Importações ---\n",
    "import pandas as pd\n",
    "import numpy as np\n",
    "import joblib # Para salvar os scalers\n",
    "\n",
    "# PyTorch\n",
    "import torch\n",
    "import torch.nn as nn\n",
    "import torch.optim as optim\n",
    "from torch.utils.data import DataLoader, TensorDataset\n",
    "\n",
    "# Scikit-learn (para pré-processamento e métricas)\n",
    "from sklearn.model_selection import train_test_split\n",
    "from sklearn.preprocessing import MinMaxScaler\n",
    "from sklearn.metrics import mean_squared_error, mean_absolute_percentage_error\n",
    "\n",
    "# Optuna (para otimização de hiperparâmetros)\n",
    "import optuna\n",
    "import plotly.graph_objects as go\n",
    "from optuna.trial import TrialState\n",
    "\n",
    "# Outros\n",
    "import math\n",
    "import time\n",
    "import matplotlib.pyplot as plt\n",
    "\n",
    "# Configurações\n",
    "plt.style.use('ggplot')\n",
    "device = torch.device(\"cuda\" if torch.cuda.is_available() else \"cpu\")\n",
    "print(f\"Usando dispositivo: {device}\")\n",
    "torch.manual_seed(42)"
   ]
  },
  {
   "cell_type": "code",
   "execution_count": 2,
   "id": "0110dbd3",
   "metadata": {},
   "outputs": [
    {
     "name": "stdout",
     "output_type": "stream",
     "text": [
      "Definição da classe 'Net' concluída.\n"
     ]
    }
   ],
   "source": [
    "# --- Bloco 1: Definição da Arquitetura da Rede (Dinâmica) ---\n",
    "# Este bloco define *como* construir a rede,\n",
    "# mas ela será instanciada dinamicamente pelo Optuna.\n",
    "\n",
    "class Net(nn.Module):\n",
    "    def __init__(self, n_layers, n_neurons):\n",
    "        super(Net, self).__init__()\n",
    "        \n",
    "        layers = []\n",
    "        \n",
    "        # Camada de entrada (1 feature: Potencia_MW)\n",
    "        layers.append(nn.Linear(1, n_neurons))\n",
    "        layers.append(nn.ReLU())\n",
    "        \n",
    "        # Camadas ocultas dinâmicas\n",
    "        for _ in range(n_layers - 1):\n",
    "            layers.append(nn.Linear(n_neurons, n_neurons))\n",
    "            layers.append(nn.ReLU())\n",
    "            \n",
    "        # Camada de saída (1 feature: Custo_Real)\n",
    "        layers.append(nn.Linear(n_neurons, 1))\n",
    "        \n",
    "        # Compilar todas as camadas em um modelo sequencial\n",
    "        self.network = nn.Sequential(*layers)\n",
    "\n",
    "    def forward(self, x):\n",
    "        return self.network(x)\n",
    "\n",
    "print(\"Definição da classe 'Net' concluída.\")"
   ]
  },
  {
   "cell_type": "code",
   "execution_count": 3,
   "id": "c1abc082",
   "metadata": {},
   "outputs": [
    {
     "name": "stdout",
     "output_type": "stream",
     "text": [
      "Funções auxiliares (calculate_complexity, calculate_all_metrics) prontas.\n"
     ]
    }
   ],
   "source": [
    "# --- Bloco 2: Funções Auxiliares (Métricas e Complexidade) ---\n",
    "\n",
    "def calculate_complexity(n_layers, n_neurons):\n",
    "    \"\"\"\n",
    "    Calcula a métrica de complexidade customizada:\n",
    "    log2(número de neurônios por camada) * número de camadas\n",
    "    \"\"\"\n",
    "    if n_neurons == 0 or n_layers == 0:\n",
    "        return 0\n",
    "    return math.log2(n_neurons) * n_layers\n",
    "\n",
    "def calculate_all_metrics(y_true, y_pred):\n",
    "    \"\"\"\n",
    "    Calcula MSE, RMSE e MAPE.\n",
    "    Espera arrays NumPy.\n",
    "    \"\"\"\n",
    "    mse = mean_squared_error(y_true, y_pred)\n",
    "    rmse = np.sqrt(mse)\n",
    "    mape = mean_absolute_percentage_error(y_true, y_pred)\n",
    "    return mse, rmse, mape\n",
    "\n",
    "print(\"Funções auxiliares (calculate_complexity, calculate_all_metrics) prontas.\")"
   ]
  },
  {
   "cell_type": "code",
   "execution_count": 4,
   "id": "e7a45639",
   "metadata": {},
   "outputs": [
    {
     "name": "stdout",
     "output_type": "stream",
     "text": [
      "Dados carregados e normalizados.\n",
      "Formato de X (Potência): (5000, 1)\n",
      "Formato de y (Custo): (5000, 1)\n",
      "\n",
      "Scalers 'x_scaler.joblib' e 'y_scaler.joblib' salvos.\n"
     ]
    }
   ],
   "source": [
    "# --- Bloco 3: Carregamento e Normalização dos Dados ---\n",
    "\n",
    "# Carregar o dataset\n",
    "df = pd.read_csv('usina_carvao_dataset.csv')\n",
    "\n",
    "# Preparar dados para o scaler\n",
    "X = df[['Potencia_MW']].values\n",
    "y = df[['Custo_Real']].values\n",
    "\n",
    "# Inicializar os scalers\n",
    "# Usamos dois scalers separados para podermos\n",
    "# salvar ambos e usá-los no notebook MILP.\n",
    "x_scaler = MinMaxScaler()\n",
    "y_scaler = MinMaxScaler()\n",
    "\n",
    "# \"Aprender\" a escala dos dados e transformá-los\n",
    "X_scaled = x_scaler.fit_transform(X)\n",
    "y_scaled = y_scaler.fit_transform(y)\n",
    "\n",
    "# Salvar os scalers para uso futuro!\n",
    "joblib.dump(x_scaler, 'x_scaler.joblib')\n",
    "joblib.dump(y_scaler, 'y_scaler.joblib')\n",
    "\n",
    "print(\"Dados carregados e normalizados.\")\n",
    "print(f\"Formato de X (Potência): {X_scaled.shape}\")\n",
    "print(f\"Formato de y (Custo): {y_scaled.shape}\")\n",
    "print(\"\\nScalers 'x_scaler.joblib' e 'y_scaler.joblib' salvos.\")"
   ]
  },
  {
   "cell_type": "code",
   "execution_count": 5,
   "id": "53290828",
   "metadata": {},
   "outputs": [
    {
     "name": "stdout",
     "output_type": "stream",
     "text": [
      "Dados separados: 4000 amostras de treino, 1000 amostras de validação.\n"
     ]
    }
   ],
   "source": [
    "# --- Bloco 4: Separação Aleatória e DataLoaders ---\n",
    "# Este bloco mistura os dados (shuffle=True) e os separa\n",
    "# em conjuntos de treino e validação.\n",
    "\n",
    "# Separar em treino (80%) e validação (20%)\n",
    "X_train, X_val, y_train, y_val = train_test_split(\n",
    "    X_scaled, y_scaled, test_size=0.2, random_state=42\n",
    ")\n",
    "\n",
    "# Converter dados NumPy para Tensores do PyTorch\n",
    "X_train_t = torch.tensor(X_train, dtype=torch.float32).to(device)\n",
    "y_train_t = torch.tensor(y_train, dtype=torch.float32).to(device)\n",
    "X_val_t = torch.tensor(X_val, dtype=torch.float32).to(device)\n",
    "y_val_t = torch.tensor(y_val, dtype=torch.float32).to(device)\n",
    "\n",
    "# Criar DataLoaders para treinamento em lote (batch)\n",
    "BATCH_SIZE = 64\n",
    "\n",
    "train_dataset = TensorDataset(X_train_t, y_train_t)\n",
    "train_loader = DataLoader(train_dataset, batch_size=BATCH_SIZE, shuffle=True)\n",
    "\n",
    "val_dataset = TensorDataset(X_val_t, y_val_t)\n",
    "val_loader = DataLoader(val_dataset, batch_size=BATCH_SIZE, shuffle=False)\n",
    "\n",
    "print(f\"Dados separados: {len(X_train_t)} amostras de treino, {len(X_val_t)} amostras de validação.\")"
   ]
  },
  {
   "cell_type": "code",
   "execution_count": 13,
   "id": "e7314a3f",
   "metadata": {},
   "outputs": [
    {
     "name": "stdout",
     "output_type": "stream",
     "text": [
      "Função 'objective' do Optuna definida.\n"
     ]
    }
   ],
   "source": [
    "# --- Bloco 5: Definição da Função 'objective' do Optuna ---\n",
    "# Este é o coração do notebook. Esta função será chamada\n",
    "# dezenas de vezes pelo Optuna.\n",
    "\n",
    "# Parâmetros do Treinamento\n",
    "N_EPOCHS = 300       # Número de épocas que você definiu\n",
    "EARLY_STOPPING_PATIENCE = 30 # Paciência que você pediu\n",
    "\n",
    "def objective(trial):\n",
    "    # --- 1. Sugerir Hiperparâmetros ---\n",
    "    # Número de camadas (1 a 3)\n",
    "    n_layers = trial.suggest_int('n_layers', 1, 1)\n",
    "    # Número de neurônios (3 a 20)\n",
    "    n_neurons = trial.suggest_int('n_neurons', 3, 50)\n",
    "    # Taxa de aprendizado\n",
    "    lr = trial.suggest_float('lr', 1e-4, 1e-1, log=True)\n",
    "    \n",
    "    # --- 2. Calcular Complexidade e Armazenar ---\n",
    "    complexity = calculate_complexity(n_layers, n_neurons)\n",
    "    trial.set_user_attr('complexity', complexity)\n",
    "\n",
    "    # --- 3. Construir Modelo e Otimizador ---\n",
    "    model = Net(n_layers, n_neurons).to(device)\n",
    "    optimizer = optim.Adam(model.parameters(), lr=lr)\n",
    "    criterion = nn.MSELoss() # Usamos MSE para o loss\n",
    "\n",
    "    # --- 4. Loop de Treinamento com Early Stopping & Pruning ---\n",
    "    best_val_loss = float('inf')\n",
    "    patience_counter = 0\n",
    "\n",
    "    for epoch in range(N_EPOCHS):\n",
    "        # Treinamento\n",
    "        model.train()\n",
    "        for X_batch, y_batch in train_loader:\n",
    "            optimizer.zero_grad()\n",
    "            outputs = model(X_batch)\n",
    "            loss = criterion(outputs, y_batch)\n",
    "            loss.backward()\n",
    "            optimizer.step()\n",
    "        \n",
    "        # Validação\n",
    "        model.eval()\n",
    "        current_val_loss = 0.0\n",
    "        with torch.no_grad():\n",
    "            for X_batch, y_batch in val_loader:\n",
    "                outputs = model(X_batch)\n",
    "                loss = criterion(outputs, y_batch)\n",
    "                current_val_loss += loss.item() * X_batch.size(0)\n",
    "        \n",
    "        current_val_loss /= len(val_loader.dataset)\n",
    "        \n",
    "        # --- 5. Lógica de Pruning (pelo Optuna) ---\n",
    "        trial.report(current_val_loss, epoch)\n",
    "        if trial.should_prune():\n",
    "            raise optuna.TrialPruned()\n",
    "\n",
    "        # --- 6. Lógica de Early Stopping ---\n",
    "        if current_val_loss < best_val_loss:\n",
    "            best_val_loss = current_val_loss\n",
    "            patience_counter = 0\n",
    "        else:\n",
    "            patience_counter += 1\n",
    "        \n",
    "        if patience_counter >= EARLY_STOPPING_PATIENCE:\n",
    "            # print(f\"Trial {trial.number} parou cedo no epoch {epoch}\")\n",
    "            break\n",
    "            \n",
    "    # --- 7. Retornar Métrica de Qualidade (RMSE) ---\n",
    "    # Optuna minimiza o valor retornado.\n",
    "    # Usamos o RMSE (raiz do MSE) como métrica de seleção.\n",
    "    final_rmse = math.sqrt(best_val_loss)\n",
    "    trial.set_user_attr('val_rmse', final_rmse)\n",
    "    \n",
    "    return final_rmse\n",
    "\n",
    "print(\"Função 'objective' do Optuna definida.\")"
   ]
  },
  {
   "cell_type": "code",
   "execution_count": 14,
   "id": "c5a5156d",
   "metadata": {},
   "outputs": [
    {
     "name": "stderr",
     "output_type": "stream",
     "text": [
      "[I 2025-10-27 21:04:01,091] A new study created in memory with name: no-name-d8f06efb-5c62-42a1-9b8d-d04393ff3fa1\n"
     ]
    },
    {
     "name": "stdout",
     "output_type": "stream",
     "text": [
      "--- Iniciando Estudo Optuna ---\n"
     ]
    },
    {
     "name": "stderr",
     "output_type": "stream",
     "text": [
      "Best trial: 0. Best value: 0.00591482:   2%|▏         | 1/50 [00:20<16:35, 20.32s/it]"
     ]
    },
    {
     "name": "stdout",
     "output_type": "stream",
     "text": [
      "[I 2025-10-27 21:04:21,415] Trial 0 finished with value: 0.005914820013017844 and parameters: {'n_layers': 1, 'n_neurons': 10, 'lr': 0.00013365844012615724}. Best is trial 0 with value: 0.005914820013017844.\n"
     ]
    },
    {
     "name": "stderr",
     "output_type": "stream",
     "text": [
      "Best trial: 1. Best value: 0.000725743:   4%|▍         | 2/50 [00:42<16:55, 21.15s/it]"
     ]
    },
    {
     "name": "stdout",
     "output_type": "stream",
     "text": [
      "[I 2025-10-27 21:04:43,138] Trial 1 finished with value: 0.0007257433919753773 and parameters: {'n_layers': 1, 'n_neurons': 36, 'lr': 0.005251562945928251}. Best is trial 1 with value: 0.0007257433919753773.\n"
     ]
    },
    {
     "name": "stderr",
     "output_type": "stream",
     "text": [
      "Best trial: 1. Best value: 0.000725743:   6%|▌         | 3/50 [00:46<10:29, 13.40s/it]"
     ]
    },
    {
     "name": "stdout",
     "output_type": "stream",
     "text": [
      "[I 2025-10-27 21:04:47,316] Trial 2 finished with value: 0.005677398510402982 and parameters: {'n_layers': 1, 'n_neurons': 4, 'lr': 0.06512211605285706}. Best is trial 1 with value: 0.0007257433919753773.\n"
     ]
    },
    {
     "name": "stderr",
     "output_type": "stream",
     "text": [
      "Best trial: 1. Best value: 0.000725743:   8%|▊         | 4/50 [01:09<13:17, 17.33s/it]"
     ]
    },
    {
     "name": "stdout",
     "output_type": "stream",
     "text": [
      "[I 2025-10-27 21:05:10,670] Trial 3 finished with value: 0.0017606678789982482 and parameters: {'n_layers': 1, 'n_neurons': 29, 'lr': 0.00011808246701405819}. Best is trial 1 with value: 0.0007257433919753773.\n"
     ]
    },
    {
     "name": "stderr",
     "output_type": "stream",
     "text": [
      "Best trial: 1. Best value: 0.000725743:  10%|█         | 5/50 [01:26<12:52, 17.16s/it]"
     ]
    },
    {
     "name": "stdout",
     "output_type": "stream",
     "text": [
      "[I 2025-10-27 21:05:27,527] Trial 4 finished with value: 0.0025801690887137735 and parameters: {'n_layers': 1, 'n_neurons': 30, 'lr': 0.0006577039740519089}. Best is trial 1 with value: 0.0007257433919753773.\n"
     ]
    },
    {
     "name": "stderr",
     "output_type": "stream",
     "text": [
      "Best trial: 1. Best value: 0.000725743:  12%|█▏        | 6/50 [01:27<08:32, 11.65s/it]"
     ]
    },
    {
     "name": "stdout",
     "output_type": "stream",
     "text": [
      "[I 2025-10-27 21:05:28,473] Trial 5 pruned. \n"
     ]
    },
    {
     "name": "stderr",
     "output_type": "stream",
     "text": [
      "Best trial: 1. Best value: 0.000725743:  14%|█▍        | 7/50 [01:28<05:50,  8.15s/it]"
     ]
    },
    {
     "name": "stdout",
     "output_type": "stream",
     "text": [
      "[I 2025-10-27 21:05:29,411] Trial 6 pruned. \n"
     ]
    },
    {
     "name": "stderr",
     "output_type": "stream",
     "text": [
      "Best trial: 1. Best value: 0.000725743:  16%|█▌        | 8/50 [01:32<04:51,  6.95s/it]"
     ]
    },
    {
     "name": "stdout",
     "output_type": "stream",
     "text": [
      "[I 2025-10-27 21:05:33,798] Trial 7 finished with value: 0.002632659989504831 and parameters: {'n_layers': 1, 'n_neurons': 20, 'lr': 0.07936499717064871}. Best is trial 1 with value: 0.0007257433919753773.\n"
     ]
    },
    {
     "name": "stderr",
     "output_type": "stream",
     "text": [
      "Best trial: 1. Best value: 0.000725743:  18%|█▊        | 9/50 [01:33<03:27,  5.05s/it]"
     ]
    },
    {
     "name": "stdout",
     "output_type": "stream",
     "text": [
      "[I 2025-10-27 21:05:34,669] Trial 8 pruned. \n"
     ]
    },
    {
     "name": "stderr",
     "output_type": "stream",
     "text": [
      "Best trial: 1. Best value: 0.000725743:  20%|██        | 10/50 [01:57<07:10, 10.75s/it]"
     ]
    },
    {
     "name": "stdout",
     "output_type": "stream",
     "text": [
      "[I 2025-10-27 21:05:58,197] Trial 9 finished with value: 0.0009445239786344964 and parameters: {'n_layers': 1, 'n_neurons': 31, 'lr': 0.001935763794115732}. Best is trial 1 with value: 0.0007257433919753773.\n"
     ]
    },
    {
     "name": "stderr",
     "output_type": "stream",
     "text": [
      "Best trial: 10. Best value: 0.000692602:  22%|██▏       | 11/50 [02:05<06:35, 10.14s/it]"
     ]
    },
    {
     "name": "stdout",
     "output_type": "stream",
     "text": [
      "[I 2025-10-27 21:06:06,948] Trial 10 finished with value: 0.0006926016539867464 and parameters: {'n_layers': 1, 'n_neurons': 47, 'lr': 0.012734315872519286}. Best is trial 10 with value: 0.0006926016539867464.\n"
     ]
    },
    {
     "name": "stderr",
     "output_type": "stream",
     "text": [
      "Best trial: 10. Best value: 0.000692602:  24%|██▍       | 12/50 [02:21<07:28, 11.81s/it]"
     ]
    },
    {
     "name": "stdout",
     "output_type": "stream",
     "text": [
      "[I 2025-10-27 21:06:22,582] Trial 11 finished with value: 0.0007010551973108526 and parameters: {'n_layers': 1, 'n_neurons': 47, 'lr': 0.011097723854364397}. Best is trial 10 with value: 0.0006926016539867464.\n"
     ]
    },
    {
     "name": "stderr",
     "output_type": "stream",
     "text": [
      "Best trial: 10. Best value: 0.000692602:  26%|██▌       | 13/50 [02:28<06:19, 10.27s/it]"
     ]
    },
    {
     "name": "stdout",
     "output_type": "stream",
     "text": [
      "[I 2025-10-27 21:06:29,292] Trial 12 finished with value: 0.0011386995662317218 and parameters: {'n_layers': 1, 'n_neurons': 50, 'lr': 0.0139268028515362}. Best is trial 10 with value: 0.0006926016539867464.\n"
     ]
    },
    {
     "name": "stderr",
     "output_type": "stream",
     "text": [
      "Best trial: 10. Best value: 0.000692602:  28%|██▊       | 14/50 [02:41<06:46, 11.28s/it]"
     ]
    },
    {
     "name": "stdout",
     "output_type": "stream",
     "text": [
      "[I 2025-10-27 21:06:42,911] Trial 13 finished with value: 0.0009050711569025656 and parameters: {'n_layers': 1, 'n_neurons': 50, 'lr': 0.013099144758839365}. Best is trial 10 with value: 0.0006926016539867464.\n"
     ]
    },
    {
     "name": "stderr",
     "output_type": "stream",
     "text": [
      "Best trial: 10. Best value: 0.000692602:  30%|███       | 15/50 [02:48<05:42,  9.80s/it]"
     ]
    },
    {
     "name": "stdout",
     "output_type": "stream",
     "text": [
      "[I 2025-10-27 21:06:49,268] Trial 14 finished with value: 0.000988121402082708 and parameters: {'n_layers': 1, 'n_neurons': 39, 'lr': 0.014125507479525313}. Best is trial 10 with value: 0.0006926016539867464.\n"
     ]
    },
    {
     "name": "stderr",
     "output_type": "stream",
     "text": [
      "Best trial: 10. Best value: 0.000692602:  32%|███▏      | 16/50 [02:52<04:40,  8.25s/it]"
     ]
    },
    {
     "name": "stdout",
     "output_type": "stream",
     "text": [
      "[I 2025-10-27 21:06:53,927] Trial 15 finished with value: 0.0012598204001600642 and parameters: {'n_layers': 1, 'n_neurons': 43, 'lr': 0.03904294260579188}. Best is trial 10 with value: 0.0006926016539867464.\n"
     ]
    },
    {
     "name": "stderr",
     "output_type": "stream",
     "text": [
      "Best trial: 10. Best value: 0.000692602:  34%|███▍      | 17/50 [02:53<03:19,  6.04s/it]"
     ]
    },
    {
     "name": "stdout",
     "output_type": "stream",
     "text": [
      "[I 2025-10-27 21:06:54,818] Trial 16 pruned. \n"
     ]
    },
    {
     "name": "stderr",
     "output_type": "stream",
     "text": [
      "Best trial: 10. Best value: 0.000692602:  36%|███▌      | 18/50 [02:59<03:12,  6.03s/it]"
     ]
    },
    {
     "name": "stdout",
     "output_type": "stream",
     "text": [
      "[I 2025-10-27 21:07:00,817] Trial 17 finished with value: 0.0012767872590708602 and parameters: {'n_layers': 1, 'n_neurons': 23, 'lr': 0.033182047485600594}. Best is trial 10 with value: 0.0006926016539867464.\n"
     ]
    },
    {
     "name": "stderr",
     "output_type": "stream",
     "text": [
      "Best trial: 10. Best value: 0.000692602:  38%|███▊      | 19/50 [03:00<02:18,  4.48s/it]"
     ]
    },
    {
     "name": "stdout",
     "output_type": "stream",
     "text": [
      "[I 2025-10-27 21:07:01,698] Trial 18 pruned. \n"
     ]
    },
    {
     "name": "stderr",
     "output_type": "stream",
     "text": [
      "Best trial: 19. Best value: 0.000403676:  40%|████      | 20/50 [03:15<03:48,  7.61s/it]"
     ]
    },
    {
     "name": "stdout",
     "output_type": "stream",
     "text": [
      "[I 2025-10-27 21:07:16,604] Trial 19 finished with value: 0.0004036758799828455 and parameters: {'n_layers': 1, 'n_neurons': 37, 'lr': 0.026492546736443214}. Best is trial 19 with value: 0.0004036758799828455.\n"
     ]
    },
    {
     "name": "stderr",
     "output_type": "stream",
     "text": [
      "Best trial: 19. Best value: 0.000403676:  42%|████▏     | 21/50 [03:24<03:48,  7.87s/it]"
     ]
    },
    {
     "name": "stdout",
     "output_type": "stream",
     "text": [
      "[I 2025-10-27 21:07:25,091] Trial 20 finished with value: 0.0005644697800937712 and parameters: {'n_layers': 1, 'n_neurons': 39, 'lr': 0.029210209637073034}. Best is trial 19 with value: 0.0004036758799828455.\n"
     ]
    },
    {
     "name": "stderr",
     "output_type": "stream",
     "text": [
      "Best trial: 19. Best value: 0.000403676:  44%|████▍     | 22/50 [03:28<03:13,  6.90s/it]"
     ]
    },
    {
     "name": "stdout",
     "output_type": "stream",
     "text": [
      "[I 2025-10-27 21:07:29,725] Trial 21 finished with value: 0.0015492509440800007 and parameters: {'n_layers': 1, 'n_neurons': 36, 'lr': 0.025681913823066404}. Best is trial 19 with value: 0.0004036758799828455.\n"
     ]
    },
    {
     "name": "stderr",
     "output_type": "stream",
     "text": [
      "Best trial: 19. Best value: 0.000403676:  46%|████▌     | 23/50 [03:35<03:02,  6.78s/it]"
     ]
    },
    {
     "name": "stdout",
     "output_type": "stream",
     "text": [
      "[I 2025-10-27 21:07:36,208] Trial 22 finished with value: 0.0005328035681291038 and parameters: {'n_layers': 1, 'n_neurons': 39, 'lr': 0.024182024875394514}. Best is trial 19 with value: 0.0004036758799828455.\n"
     ]
    },
    {
     "name": "stderr",
     "output_type": "stream",
     "text": [
      "Best trial: 19. Best value: 0.000403676:  48%|████▊     | 24/50 [03:42<02:57,  6.84s/it]"
     ]
    },
    {
     "name": "stdout",
     "output_type": "stream",
     "text": [
      "[I 2025-10-27 21:07:43,200] Trial 23 finished with value: 0.0009139940527920305 and parameters: {'n_layers': 1, 'n_neurons': 39, 'lr': 0.049509911307693645}. Best is trial 19 with value: 0.0004036758799828455.\n"
     ]
    },
    {
     "name": "stderr",
     "output_type": "stream",
     "text": [
      "Best trial: 19. Best value: 0.000403676:  50%|█████     | 25/50 [03:42<02:06,  5.05s/it]"
     ]
    },
    {
     "name": "stdout",
     "output_type": "stream",
     "text": [
      "[I 2025-10-27 21:07:44,090] Trial 24 pruned. \n"
     ]
    },
    {
     "name": "stderr",
     "output_type": "stream",
     "text": [
      "Best trial: 19. Best value: 0.000403676:  52%|█████▏    | 26/50 [03:43<01:31,  3.81s/it]"
     ]
    },
    {
     "name": "stdout",
     "output_type": "stream",
     "text": [
      "[I 2025-10-27 21:07:45,006] Trial 25 pruned. \n"
     ]
    },
    {
     "name": "stderr",
     "output_type": "stream",
     "text": [
      "Best trial: 19. Best value: 0.000403676:  54%|█████▍    | 27/50 [03:52<02:00,  5.25s/it]"
     ]
    },
    {
     "name": "stdout",
     "output_type": "stream",
     "text": [
      "[I 2025-10-27 21:07:53,619] Trial 26 finished with value: 0.0007576418991204753 and parameters: {'n_layers': 1, 'n_neurons': 39, 'lr': 0.021021883945824594}. Best is trial 19 with value: 0.0004036758799828455.\n"
     ]
    },
    {
     "name": "stderr",
     "output_type": "stream",
     "text": [
      "Best trial: 19. Best value: 0.000403676:  56%|█████▌    | 28/50 [04:07<03:02,  8.30s/it]"
     ]
    },
    {
     "name": "stdout",
     "output_type": "stream",
     "text": [
      "[I 2025-10-27 21:08:09,013] Trial 27 finished with value: 0.0007366918872417842 and parameters: {'n_layers': 1, 'n_neurons': 33, 'lr': 0.003299446364569232}. Best is trial 19 with value: 0.0004036758799828455.\n"
     ]
    },
    {
     "name": "stderr",
     "output_type": "stream",
     "text": [
      "Best trial: 19. Best value: 0.000403676:  58%|█████▊    | 29/50 [04:15<02:46,  7.93s/it]"
     ]
    },
    {
     "name": "stdout",
     "output_type": "stream",
     "text": [
      "[I 2025-10-27 21:08:16,106] Trial 28 finished with value: 0.0007507566098255374 and parameters: {'n_layers': 1, 'n_neurons': 41, 'lr': 0.04731262104379509}. Best is trial 19 with value: 0.0004036758799828455.\n"
     ]
    },
    {
     "name": "stderr",
     "output_type": "stream",
     "text": [
      "Best trial: 19. Best value: 0.000403676:  60%|██████    | 30/50 [04:15<01:56,  5.83s/it]"
     ]
    },
    {
     "name": "stdout",
     "output_type": "stream",
     "text": [
      "[I 2025-10-27 21:08:17,016] Trial 29 pruned. \n"
     ]
    },
    {
     "name": "stderr",
     "output_type": "stream",
     "text": [
      "Best trial: 19. Best value: 0.000403676:  62%|██████▏   | 31/50 [04:16<01:22,  4.35s/it]"
     ]
    },
    {
     "name": "stdout",
     "output_type": "stream",
     "text": [
      "[I 2025-10-27 21:08:17,911] Trial 30 pruned. \n"
     ]
    },
    {
     "name": "stderr",
     "output_type": "stream",
     "text": [
      "Best trial: 19. Best value: 0.000403676:  64%|██████▍   | 32/50 [04:22<01:23,  4.66s/it]"
     ]
    },
    {
     "name": "stdout",
     "output_type": "stream",
     "text": [
      "[I 2025-10-27 21:08:23,288] Trial 31 finished with value: 0.0006541713276915241 and parameters: {'n_layers': 1, 'n_neurons': 47, 'lr': 0.03118619940001957}. Best is trial 19 with value: 0.0004036758799828455.\n"
     ]
    },
    {
     "name": "stderr",
     "output_type": "stream",
     "text": [
      "Best trial: 19. Best value: 0.000403676:  66%|██████▌   | 33/50 [04:29<01:33,  5.50s/it]"
     ]
    },
    {
     "name": "stdout",
     "output_type": "stream",
     "text": [
      "[I 2025-10-27 21:08:30,758] Trial 32 finished with value: 0.0006020315988596737 and parameters: {'n_layers': 1, 'n_neurons': 36, 'lr': 0.03448993306727512}. Best is trial 19 with value: 0.0004036758799828455.\n"
     ]
    },
    {
     "name": "stderr",
     "output_type": "stream",
     "text": [
      "Best trial: 19. Best value: 0.000403676:  68%|██████▊   | 34/50 [04:30<01:05,  4.12s/it]"
     ]
    },
    {
     "name": "stdout",
     "output_type": "stream",
     "text": [
      "[I 2025-10-27 21:08:31,642] Trial 33 pruned. \n"
     ]
    },
    {
     "name": "stderr",
     "output_type": "stream",
     "text": [
      "Best trial: 19. Best value: 0.000403676:  70%|███████   | 35/50 [04:31<00:47,  3.15s/it]"
     ]
    },
    {
     "name": "stdout",
     "output_type": "stream",
     "text": [
      "[I 2025-10-27 21:08:32,534] Trial 34 pruned. \n"
     ]
    },
    {
     "name": "stderr",
     "output_type": "stream",
     "text": [
      "Best trial: 19. Best value: 0.000403676:  72%|███████▏  | 36/50 [04:32<00:34,  2.48s/it]"
     ]
    },
    {
     "name": "stdout",
     "output_type": "stream",
     "text": [
      "[I 2025-10-27 21:08:33,440] Trial 35 pruned. \n"
     ]
    },
    {
     "name": "stderr",
     "output_type": "stream",
     "text": [
      "Best trial: 19. Best value: 0.000403676:  74%|███████▍  | 37/50 [04:33<00:25,  2.00s/it]"
     ]
    },
    {
     "name": "stdout",
     "output_type": "stream",
     "text": [
      "[I 2025-10-27 21:08:34,327] Trial 36 pruned. \n"
     ]
    },
    {
     "name": "stderr",
     "output_type": "stream",
     "text": [
      "Best trial: 19. Best value: 0.000403676:  76%|███████▌  | 38/50 [04:39<00:38,  3.18s/it]"
     ]
    },
    {
     "name": "stdout",
     "output_type": "stream",
     "text": [
      "[I 2025-10-27 21:08:40,266] Trial 37 finished with value: 0.0009080852079515242 and parameters: {'n_layers': 1, 'n_neurons': 29, 'lr': 0.06373081488109936}. Best is trial 19 with value: 0.0004036758799828455.\n"
     ]
    },
    {
     "name": "stderr",
     "output_type": "stream",
     "text": [
      "Best trial: 19. Best value: 0.000403676:  78%|███████▊  | 39/50 [04:40<00:27,  2.49s/it]"
     ]
    },
    {
     "name": "stdout",
     "output_type": "stream",
     "text": [
      "[I 2025-10-27 21:08:41,153] Trial 38 pruned. \n"
     ]
    },
    {
     "name": "stderr",
     "output_type": "stream",
     "text": [
      "Best trial: 19. Best value: 0.000403676:  80%|████████  | 40/50 [04:41<00:20,  2.08s/it]"
     ]
    },
    {
     "name": "stdout",
     "output_type": "stream",
     "text": [
      "[I 2025-10-27 21:08:42,277] Trial 39 pruned. \n"
     ]
    },
    {
     "name": "stderr",
     "output_type": "stream",
     "text": [
      "Best trial: 19. Best value: 0.000403676:  82%|████████▏ | 41/50 [04:42<00:15,  1.72s/it]"
     ]
    },
    {
     "name": "stdout",
     "output_type": "stream",
     "text": [
      "[I 2025-10-27 21:08:43,152] Trial 40 pruned. \n"
     ]
    },
    {
     "name": "stderr",
     "output_type": "stream",
     "text": [
      "Best trial: 19. Best value: 0.000403676:  84%|████████▍ | 42/50 [04:46<00:19,  2.40s/it]"
     ]
    },
    {
     "name": "stdout",
     "output_type": "stream",
     "text": [
      "[I 2025-10-27 21:08:47,126] Trial 41 finished with value: 0.0009631874586745392 and parameters: {'n_layers': 1, 'n_neurons': 46, 'lr': 0.031001563145176766}. Best is trial 19 with value: 0.0004036758799828455.\n"
     ]
    },
    {
     "name": "stderr",
     "output_type": "stream",
     "text": [
      "Best trial: 19. Best value: 0.000403676:  86%|████████▌ | 43/50 [04:46<00:13,  1.94s/it]"
     ]
    },
    {
     "name": "stdout",
     "output_type": "stream",
     "text": [
      "[I 2025-10-27 21:08:48,010] Trial 42 pruned. \n"
     ]
    },
    {
     "name": "stderr",
     "output_type": "stream",
     "text": [
      "Best trial: 19. Best value: 0.000403676:  88%|████████▊ | 44/50 [04:47<00:09,  1.62s/it]"
     ]
    },
    {
     "name": "stdout",
     "output_type": "stream",
     "text": [
      "[I 2025-10-27 21:08:48,887] Trial 43 pruned. \n"
     ]
    },
    {
     "name": "stderr",
     "output_type": "stream",
     "text": [
      "Best trial: 19. Best value: 0.000403676:  90%|█████████ | 45/50 [04:48<00:07,  1.40s/it]"
     ]
    },
    {
     "name": "stdout",
     "output_type": "stream",
     "text": [
      "[I 2025-10-27 21:08:49,783] Trial 44 pruned. \n"
     ]
    },
    {
     "name": "stderr",
     "output_type": "stream",
     "text": [
      "Best trial: 19. Best value: 0.000403676:  92%|█████████▏| 46/50 [04:49<00:04,  1.25s/it]"
     ]
    },
    {
     "name": "stdout",
     "output_type": "stream",
     "text": [
      "[I 2025-10-27 21:08:50,666] Trial 45 pruned. \n"
     ]
    },
    {
     "name": "stderr",
     "output_type": "stream",
     "text": [
      "Best trial: 19. Best value: 0.000403676:  94%|█████████▍| 47/50 [04:50<00:03,  1.14s/it]"
     ]
    },
    {
     "name": "stdout",
     "output_type": "stream",
     "text": [
      "[I 2025-10-27 21:08:51,569] Trial 46 pruned. \n"
     ]
    },
    {
     "name": "stderr",
     "output_type": "stream",
     "text": [
      "Best trial: 19. Best value: 0.000403676:  96%|█████████▌| 48/50 [04:56<00:05,  2.55s/it]"
     ]
    },
    {
     "name": "stdout",
     "output_type": "stream",
     "text": [
      "[I 2025-10-27 21:08:57,410] Trial 47 finished with value: 0.0006094188078422266 and parameters: {'n_layers': 1, 'n_neurons': 41, 'lr': 0.026734078049912464}. Best is trial 19 with value: 0.0004036758799828455.\n"
     ]
    },
    {
     "name": "stderr",
     "output_type": "stream",
     "text": [
      "Best trial: 19. Best value: 0.000403676:  98%|█████████▊| 49/50 [04:57<00:02,  2.05s/it]"
     ]
    },
    {
     "name": "stdout",
     "output_type": "stream",
     "text": [
      "[I 2025-10-27 21:08:58,301] Trial 48 pruned. \n"
     ]
    },
    {
     "name": "stderr",
     "output_type": "stream",
     "text": [
      "Best trial: 19. Best value: 0.000403676: 100%|██████████| 50/50 [05:02<00:00,  6.05s/it]"
     ]
    },
    {
     "name": "stdout",
     "output_type": "stream",
     "text": [
      "[I 2025-10-27 21:09:03,836] Trial 49 finished with value: 0.0006868311326467929 and parameters: {'n_layers': 1, 'n_neurons': 30, 'lr': 0.046379349217931576}. Best is trial 19 with value: 0.0004036758799828455.\n",
      "\n",
      "--- Estudo Optuna Concluído ---\n",
      "Melhor trial: 19\n",
      "  Melhor RMSE de Validação: 0.000404\n",
      "  Melhores Hiperparâmetros:\n",
      "    n_layers: 1\n",
      "    n_neurons: 37\n",
      "    lr: 0.026492546736443214\n",
      "  Complexidade do Melhor Modelo: 5.21\n"
     ]
    },
    {
     "name": "stderr",
     "output_type": "stream",
     "text": [
      "\n"
     ]
    }
   ],
   "source": [
    "# --- Bloco 6: Execução do Estudo Optuna ---\n",
    "\n",
    "print(\"--- Iniciando Estudo Optuna ---\")\n",
    "# Habilitar o Pruner (Poda) para cortar trials ruins\n",
    "pruner = optuna.pruners.MedianPruner(n_warmup_steps=10)\n",
    "\n",
    "study = optuna.create_study(direction='minimize', pruner=pruner)\n",
    "study.optimize(objective, n_trials=50, show_progress_bar=True)\n",
    "\n",
    "print(\"\\n--- Estudo Optuna Concluído ---\")\n",
    "print(f\"Melhor trial: {study.best_trial.number}\")\n",
    "print(f\"  Melhor RMSE de Validação: {study.best_value:.6f}\")\n",
    "print(\"  Melhores Hiperparâmetros:\")\n",
    "for key, value in study.best_params.items():\n",
    "    print(f\"    {key}: {value}\")\n",
    "    \n",
    "complexity = study.best_trial.user_attrs['complexity']\n",
    "print(f\"  Complexidade do Melhor Modelo: {complexity:.2f}\")"
   ]
  },
  {
   "cell_type": "code",
   "execution_count": 15,
   "id": "ad0076b5",
   "metadata": {},
   "outputs": [
    {
     "name": "stdout",
     "output_type": "stream",
     "text": [
      "Gerando gráficos do Optuna...\n"
     ]
    },
    {
     "data": {
      "application/vnd.plotly.v1+json": {
       "config": {
        "plotlyServerURL": "https://plot.ly"
       },
       "data": [
        {
         "mode": "markers",
         "name": "Objective Value",
         "type": "scatter",
         "x": [
          0,
          1,
          2,
          3,
          4,
          7,
          9,
          10,
          11,
          12,
          13,
          14,
          15,
          17,
          19,
          20,
          21,
          22,
          23,
          26,
          27,
          28,
          31,
          32,
          37,
          41,
          47,
          49
         ],
         "y": [
          0.005914820013017844,
          0.0007257433919753773,
          0.005677398510402982,
          0.0017606678789982482,
          0.0025801690887137735,
          0.002632659989504831,
          0.0009445239786344964,
          0.0006926016539867464,
          0.0007010551973108526,
          0.0011386995662317218,
          0.0009050711569025656,
          0.000988121402082708,
          0.0012598204001600642,
          0.0012767872590708602,
          0.0004036758799828455,
          0.0005644697800937712,
          0.0015492509440800007,
          0.0005328035681291038,
          0.0009139940527920305,
          0.0007576418991204753,
          0.0007366918872417842,
          0.0007507566098255374,
          0.0006541713276915241,
          0.0006020315988596737,
          0.0009080852079515242,
          0.0009631874586745392,
          0.0006094188078422266,
          0.0006868311326467929
         ]
        },
        {
         "mode": "lines",
         "name": "Best Value",
         "type": "scatter",
         "x": [
          0,
          1,
          2,
          3,
          4,
          5,
          6,
          7,
          8,
          9,
          10,
          11,
          12,
          13,
          14,
          15,
          16,
          17,
          18,
          19,
          20,
          21,
          22,
          23,
          24,
          25,
          26,
          27,
          28,
          29,
          30,
          31,
          32,
          33,
          34,
          35,
          36,
          37,
          38,
          39,
          40,
          41,
          42,
          43,
          44,
          45,
          46,
          47,
          48,
          49
         ],
         "y": [
          0.005914820013017844,
          0.0007257433919753773,
          0.0007257433919753773,
          0.0007257433919753773,
          0.0007257433919753773,
          0.0007257433919753773,
          0.0007257433919753773,
          0.0007257433919753773,
          0.0007257433919753773,
          0.0007257433919753773,
          0.0006926016539867464,
          0.0006926016539867464,
          0.0006926016539867464,
          0.0006926016539867464,
          0.0006926016539867464,
          0.0006926016539867464,
          0.0006926016539867464,
          0.0006926016539867464,
          0.0006926016539867464,
          0.0004036758799828455,
          0.0004036758799828455,
          0.0004036758799828455,
          0.0004036758799828455,
          0.0004036758799828455,
          0.0004036758799828455,
          0.0004036758799828455,
          0.0004036758799828455,
          0.0004036758799828455,
          0.0004036758799828455,
          0.0004036758799828455,
          0.0004036758799828455,
          0.0004036758799828455,
          0.0004036758799828455,
          0.0004036758799828455,
          0.0004036758799828455,
          0.0004036758799828455,
          0.0004036758799828455,
          0.0004036758799828455,
          0.0004036758799828455,
          0.0004036758799828455,
          0.0004036758799828455,
          0.0004036758799828455,
          0.0004036758799828455,
          0.0004036758799828455,
          0.0004036758799828455,
          0.0004036758799828455,
          0.0004036758799828455,
          0.0004036758799828455,
          0.0004036758799828455,
          0.0004036758799828455
         ]
        },
        {
         "marker": {
          "color": "#cccccc"
         },
         "mode": "markers",
         "name": "Infeasible Trial",
         "showlegend": false,
         "type": "scatter",
         "x": [],
         "y": []
        }
       ],
       "layout": {
        "template": {
         "data": {
          "bar": [
           {
            "error_x": {
             "color": "#2a3f5f"
            },
            "error_y": {
             "color": "#2a3f5f"
            },
            "marker": {
             "line": {
              "color": "#E5ECF6",
              "width": 0.5
             },
             "pattern": {
              "fillmode": "overlay",
              "size": 10,
              "solidity": 0.2
             }
            },
            "type": "bar"
           }
          ],
          "barpolar": [
           {
            "marker": {
             "line": {
              "color": "#E5ECF6",
              "width": 0.5
             },
             "pattern": {
              "fillmode": "overlay",
              "size": 10,
              "solidity": 0.2
             }
            },
            "type": "barpolar"
           }
          ],
          "carpet": [
           {
            "aaxis": {
             "endlinecolor": "#2a3f5f",
             "gridcolor": "white",
             "linecolor": "white",
             "minorgridcolor": "white",
             "startlinecolor": "#2a3f5f"
            },
            "baxis": {
             "endlinecolor": "#2a3f5f",
             "gridcolor": "white",
             "linecolor": "white",
             "minorgridcolor": "white",
             "startlinecolor": "#2a3f5f"
            },
            "type": "carpet"
           }
          ],
          "choropleth": [
           {
            "colorbar": {
             "outlinewidth": 0,
             "ticks": ""
            },
            "type": "choropleth"
           }
          ],
          "contour": [
           {
            "colorbar": {
             "outlinewidth": 0,
             "ticks": ""
            },
            "colorscale": [
             [
              0,
              "#0d0887"
             ],
             [
              0.1111111111111111,
              "#46039f"
             ],
             [
              0.2222222222222222,
              "#7201a8"
             ],
             [
              0.3333333333333333,
              "#9c179e"
             ],
             [
              0.4444444444444444,
              "#bd3786"
             ],
             [
              0.5555555555555556,
              "#d8576b"
             ],
             [
              0.6666666666666666,
              "#ed7953"
             ],
             [
              0.7777777777777778,
              "#fb9f3a"
             ],
             [
              0.8888888888888888,
              "#fdca26"
             ],
             [
              1,
              "#f0f921"
             ]
            ],
            "type": "contour"
           }
          ],
          "contourcarpet": [
           {
            "colorbar": {
             "outlinewidth": 0,
             "ticks": ""
            },
            "type": "contourcarpet"
           }
          ],
          "heatmap": [
           {
            "colorbar": {
             "outlinewidth": 0,
             "ticks": ""
            },
            "colorscale": [
             [
              0,
              "#0d0887"
             ],
             [
              0.1111111111111111,
              "#46039f"
             ],
             [
              0.2222222222222222,
              "#7201a8"
             ],
             [
              0.3333333333333333,
              "#9c179e"
             ],
             [
              0.4444444444444444,
              "#bd3786"
             ],
             [
              0.5555555555555556,
              "#d8576b"
             ],
             [
              0.6666666666666666,
              "#ed7953"
             ],
             [
              0.7777777777777778,
              "#fb9f3a"
             ],
             [
              0.8888888888888888,
              "#fdca26"
             ],
             [
              1,
              "#f0f921"
             ]
            ],
            "type": "heatmap"
           }
          ],
          "histogram": [
           {
            "marker": {
             "pattern": {
              "fillmode": "overlay",
              "size": 10,
              "solidity": 0.2
             }
            },
            "type": "histogram"
           }
          ],
          "histogram2d": [
           {
            "colorbar": {
             "outlinewidth": 0,
             "ticks": ""
            },
            "colorscale": [
             [
              0,
              "#0d0887"
             ],
             [
              0.1111111111111111,
              "#46039f"
             ],
             [
              0.2222222222222222,
              "#7201a8"
             ],
             [
              0.3333333333333333,
              "#9c179e"
             ],
             [
              0.4444444444444444,
              "#bd3786"
             ],
             [
              0.5555555555555556,
              "#d8576b"
             ],
             [
              0.6666666666666666,
              "#ed7953"
             ],
             [
              0.7777777777777778,
              "#fb9f3a"
             ],
             [
              0.8888888888888888,
              "#fdca26"
             ],
             [
              1,
              "#f0f921"
             ]
            ],
            "type": "histogram2d"
           }
          ],
          "histogram2dcontour": [
           {
            "colorbar": {
             "outlinewidth": 0,
             "ticks": ""
            },
            "colorscale": [
             [
              0,
              "#0d0887"
             ],
             [
              0.1111111111111111,
              "#46039f"
             ],
             [
              0.2222222222222222,
              "#7201a8"
             ],
             [
              0.3333333333333333,
              "#9c179e"
             ],
             [
              0.4444444444444444,
              "#bd3786"
             ],
             [
              0.5555555555555556,
              "#d8576b"
             ],
             [
              0.6666666666666666,
              "#ed7953"
             ],
             [
              0.7777777777777778,
              "#fb9f3a"
             ],
             [
              0.8888888888888888,
              "#fdca26"
             ],
             [
              1,
              "#f0f921"
             ]
            ],
            "type": "histogram2dcontour"
           }
          ],
          "mesh3d": [
           {
            "colorbar": {
             "outlinewidth": 0,
             "ticks": ""
            },
            "type": "mesh3d"
           }
          ],
          "parcoords": [
           {
            "line": {
             "colorbar": {
              "outlinewidth": 0,
              "ticks": ""
             }
            },
            "type": "parcoords"
           }
          ],
          "pie": [
           {
            "automargin": true,
            "type": "pie"
           }
          ],
          "scatter": [
           {
            "fillpattern": {
             "fillmode": "overlay",
             "size": 10,
             "solidity": 0.2
            },
            "type": "scatter"
           }
          ],
          "scatter3d": [
           {
            "line": {
             "colorbar": {
              "outlinewidth": 0,
              "ticks": ""
             }
            },
            "marker": {
             "colorbar": {
              "outlinewidth": 0,
              "ticks": ""
             }
            },
            "type": "scatter3d"
           }
          ],
          "scattercarpet": [
           {
            "marker": {
             "colorbar": {
              "outlinewidth": 0,
              "ticks": ""
             }
            },
            "type": "scattercarpet"
           }
          ],
          "scattergeo": [
           {
            "marker": {
             "colorbar": {
              "outlinewidth": 0,
              "ticks": ""
             }
            },
            "type": "scattergeo"
           }
          ],
          "scattergl": [
           {
            "marker": {
             "colorbar": {
              "outlinewidth": 0,
              "ticks": ""
             }
            },
            "type": "scattergl"
           }
          ],
          "scattermap": [
           {
            "marker": {
             "colorbar": {
              "outlinewidth": 0,
              "ticks": ""
             }
            },
            "type": "scattermap"
           }
          ],
          "scattermapbox": [
           {
            "marker": {
             "colorbar": {
              "outlinewidth": 0,
              "ticks": ""
             }
            },
            "type": "scattermapbox"
           }
          ],
          "scatterpolar": [
           {
            "marker": {
             "colorbar": {
              "outlinewidth": 0,
              "ticks": ""
             }
            },
            "type": "scatterpolar"
           }
          ],
          "scatterpolargl": [
           {
            "marker": {
             "colorbar": {
              "outlinewidth": 0,
              "ticks": ""
             }
            },
            "type": "scatterpolargl"
           }
          ],
          "scatterternary": [
           {
            "marker": {
             "colorbar": {
              "outlinewidth": 0,
              "ticks": ""
             }
            },
            "type": "scatterternary"
           }
          ],
          "surface": [
           {
            "colorbar": {
             "outlinewidth": 0,
             "ticks": ""
            },
            "colorscale": [
             [
              0,
              "#0d0887"
             ],
             [
              0.1111111111111111,
              "#46039f"
             ],
             [
              0.2222222222222222,
              "#7201a8"
             ],
             [
              0.3333333333333333,
              "#9c179e"
             ],
             [
              0.4444444444444444,
              "#bd3786"
             ],
             [
              0.5555555555555556,
              "#d8576b"
             ],
             [
              0.6666666666666666,
              "#ed7953"
             ],
             [
              0.7777777777777778,
              "#fb9f3a"
             ],
             [
              0.8888888888888888,
              "#fdca26"
             ],
             [
              1,
              "#f0f921"
             ]
            ],
            "type": "surface"
           }
          ],
          "table": [
           {
            "cells": {
             "fill": {
              "color": "#EBF0F8"
             },
             "line": {
              "color": "white"
             }
            },
            "header": {
             "fill": {
              "color": "#C8D4E3"
             },
             "line": {
              "color": "white"
             }
            },
            "type": "table"
           }
          ]
         },
         "layout": {
          "annotationdefaults": {
           "arrowcolor": "#2a3f5f",
           "arrowhead": 0,
           "arrowwidth": 1
          },
          "autotypenumbers": "strict",
          "coloraxis": {
           "colorbar": {
            "outlinewidth": 0,
            "ticks": ""
           }
          },
          "colorscale": {
           "diverging": [
            [
             0,
             "#8e0152"
            ],
            [
             0.1,
             "#c51b7d"
            ],
            [
             0.2,
             "#de77ae"
            ],
            [
             0.3,
             "#f1b6da"
            ],
            [
             0.4,
             "#fde0ef"
            ],
            [
             0.5,
             "#f7f7f7"
            ],
            [
             0.6,
             "#e6f5d0"
            ],
            [
             0.7,
             "#b8e186"
            ],
            [
             0.8,
             "#7fbc41"
            ],
            [
             0.9,
             "#4d9221"
            ],
            [
             1,
             "#276419"
            ]
           ],
           "sequential": [
            [
             0,
             "#0d0887"
            ],
            [
             0.1111111111111111,
             "#46039f"
            ],
            [
             0.2222222222222222,
             "#7201a8"
            ],
            [
             0.3333333333333333,
             "#9c179e"
            ],
            [
             0.4444444444444444,
             "#bd3786"
            ],
            [
             0.5555555555555556,
             "#d8576b"
            ],
            [
             0.6666666666666666,
             "#ed7953"
            ],
            [
             0.7777777777777778,
             "#fb9f3a"
            ],
            [
             0.8888888888888888,
             "#fdca26"
            ],
            [
             1,
             "#f0f921"
            ]
           ],
           "sequentialminus": [
            [
             0,
             "#0d0887"
            ],
            [
             0.1111111111111111,
             "#46039f"
            ],
            [
             0.2222222222222222,
             "#7201a8"
            ],
            [
             0.3333333333333333,
             "#9c179e"
            ],
            [
             0.4444444444444444,
             "#bd3786"
            ],
            [
             0.5555555555555556,
             "#d8576b"
            ],
            [
             0.6666666666666666,
             "#ed7953"
            ],
            [
             0.7777777777777778,
             "#fb9f3a"
            ],
            [
             0.8888888888888888,
             "#fdca26"
            ],
            [
             1,
             "#f0f921"
            ]
           ]
          },
          "colorway": [
           "#636efa",
           "#EF553B",
           "#00cc96",
           "#ab63fa",
           "#FFA15A",
           "#19d3f3",
           "#FF6692",
           "#B6E880",
           "#FF97FF",
           "#FECB52"
          ],
          "font": {
           "color": "#2a3f5f"
          },
          "geo": {
           "bgcolor": "white",
           "lakecolor": "white",
           "landcolor": "#E5ECF6",
           "showlakes": true,
           "showland": true,
           "subunitcolor": "white"
          },
          "hoverlabel": {
           "align": "left"
          },
          "hovermode": "closest",
          "mapbox": {
           "style": "light"
          },
          "paper_bgcolor": "white",
          "plot_bgcolor": "#E5ECF6",
          "polar": {
           "angularaxis": {
            "gridcolor": "white",
            "linecolor": "white",
            "ticks": ""
           },
           "bgcolor": "#E5ECF6",
           "radialaxis": {
            "gridcolor": "white",
            "linecolor": "white",
            "ticks": ""
           }
          },
          "scene": {
           "xaxis": {
            "backgroundcolor": "#E5ECF6",
            "gridcolor": "white",
            "gridwidth": 2,
            "linecolor": "white",
            "showbackground": true,
            "ticks": "",
            "zerolinecolor": "white"
           },
           "yaxis": {
            "backgroundcolor": "#E5ECF6",
            "gridcolor": "white",
            "gridwidth": 2,
            "linecolor": "white",
            "showbackground": true,
            "ticks": "",
            "zerolinecolor": "white"
           },
           "zaxis": {
            "backgroundcolor": "#E5ECF6",
            "gridcolor": "white",
            "gridwidth": 2,
            "linecolor": "white",
            "showbackground": true,
            "ticks": "",
            "zerolinecolor": "white"
           }
          },
          "shapedefaults": {
           "line": {
            "color": "#2a3f5f"
           }
          },
          "ternary": {
           "aaxis": {
            "gridcolor": "white",
            "linecolor": "white",
            "ticks": ""
           },
           "baxis": {
            "gridcolor": "white",
            "linecolor": "white",
            "ticks": ""
           },
           "bgcolor": "#E5ECF6",
           "caxis": {
            "gridcolor": "white",
            "linecolor": "white",
            "ticks": ""
           }
          },
          "title": {
           "x": 0.05
          },
          "xaxis": {
           "automargin": true,
           "gridcolor": "white",
           "linecolor": "white",
           "ticks": "",
           "title": {
            "standoff": 15
           },
           "zerolinecolor": "white",
           "zerolinewidth": 2
          },
          "yaxis": {
           "automargin": true,
           "gridcolor": "white",
           "linecolor": "white",
           "ticks": "",
           "title": {
            "standoff": 15
           },
           "zerolinecolor": "white",
           "zerolinewidth": 2
          }
         }
        },
        "title": {
         "text": "Optimization History Plot"
        },
        "xaxis": {
         "title": {
          "text": "Trial"
         }
        },
        "yaxis": {
         "title": {
          "text": "Objective Value"
         }
        }
       }
      }
     },
     "metadata": {},
     "output_type": "display_data"
    },
    {
     "data": {
      "application/vnd.plotly.v1+json": {
       "config": {
        "plotlyServerURL": "https://plot.ly"
       },
       "data": [
        {
         "cliponaxis": false,
         "hovertemplate": [
          "n_layers (IntDistribution): 0.0<extra></extra>",
          "lr (FloatDistribution): 0.23476527964298258<extra></extra>",
          "n_neurons (IntDistribution): 0.7652347203570175<extra></extra>"
         ],
         "name": "Objective Value",
         "orientation": "h",
         "text": [
          "<0.01",
          "0.23",
          "0.77"
         ],
         "textposition": "outside",
         "type": "bar",
         "x": [
          0,
          0.23476527964298258,
          0.7652347203570175
         ],
         "y": [
          "n_layers",
          "lr",
          "n_neurons"
         ]
        }
       ],
       "layout": {
        "template": {
         "data": {
          "bar": [
           {
            "error_x": {
             "color": "#2a3f5f"
            },
            "error_y": {
             "color": "#2a3f5f"
            },
            "marker": {
             "line": {
              "color": "#E5ECF6",
              "width": 0.5
             },
             "pattern": {
              "fillmode": "overlay",
              "size": 10,
              "solidity": 0.2
             }
            },
            "type": "bar"
           }
          ],
          "barpolar": [
           {
            "marker": {
             "line": {
              "color": "#E5ECF6",
              "width": 0.5
             },
             "pattern": {
              "fillmode": "overlay",
              "size": 10,
              "solidity": 0.2
             }
            },
            "type": "barpolar"
           }
          ],
          "carpet": [
           {
            "aaxis": {
             "endlinecolor": "#2a3f5f",
             "gridcolor": "white",
             "linecolor": "white",
             "minorgridcolor": "white",
             "startlinecolor": "#2a3f5f"
            },
            "baxis": {
             "endlinecolor": "#2a3f5f",
             "gridcolor": "white",
             "linecolor": "white",
             "minorgridcolor": "white",
             "startlinecolor": "#2a3f5f"
            },
            "type": "carpet"
           }
          ],
          "choropleth": [
           {
            "colorbar": {
             "outlinewidth": 0,
             "ticks": ""
            },
            "type": "choropleth"
           }
          ],
          "contour": [
           {
            "colorbar": {
             "outlinewidth": 0,
             "ticks": ""
            },
            "colorscale": [
             [
              0,
              "#0d0887"
             ],
             [
              0.1111111111111111,
              "#46039f"
             ],
             [
              0.2222222222222222,
              "#7201a8"
             ],
             [
              0.3333333333333333,
              "#9c179e"
             ],
             [
              0.4444444444444444,
              "#bd3786"
             ],
             [
              0.5555555555555556,
              "#d8576b"
             ],
             [
              0.6666666666666666,
              "#ed7953"
             ],
             [
              0.7777777777777778,
              "#fb9f3a"
             ],
             [
              0.8888888888888888,
              "#fdca26"
             ],
             [
              1,
              "#f0f921"
             ]
            ],
            "type": "contour"
           }
          ],
          "contourcarpet": [
           {
            "colorbar": {
             "outlinewidth": 0,
             "ticks": ""
            },
            "type": "contourcarpet"
           }
          ],
          "heatmap": [
           {
            "colorbar": {
             "outlinewidth": 0,
             "ticks": ""
            },
            "colorscale": [
             [
              0,
              "#0d0887"
             ],
             [
              0.1111111111111111,
              "#46039f"
             ],
             [
              0.2222222222222222,
              "#7201a8"
             ],
             [
              0.3333333333333333,
              "#9c179e"
             ],
             [
              0.4444444444444444,
              "#bd3786"
             ],
             [
              0.5555555555555556,
              "#d8576b"
             ],
             [
              0.6666666666666666,
              "#ed7953"
             ],
             [
              0.7777777777777778,
              "#fb9f3a"
             ],
             [
              0.8888888888888888,
              "#fdca26"
             ],
             [
              1,
              "#f0f921"
             ]
            ],
            "type": "heatmap"
           }
          ],
          "histogram": [
           {
            "marker": {
             "pattern": {
              "fillmode": "overlay",
              "size": 10,
              "solidity": 0.2
             }
            },
            "type": "histogram"
           }
          ],
          "histogram2d": [
           {
            "colorbar": {
             "outlinewidth": 0,
             "ticks": ""
            },
            "colorscale": [
             [
              0,
              "#0d0887"
             ],
             [
              0.1111111111111111,
              "#46039f"
             ],
             [
              0.2222222222222222,
              "#7201a8"
             ],
             [
              0.3333333333333333,
              "#9c179e"
             ],
             [
              0.4444444444444444,
              "#bd3786"
             ],
             [
              0.5555555555555556,
              "#d8576b"
             ],
             [
              0.6666666666666666,
              "#ed7953"
             ],
             [
              0.7777777777777778,
              "#fb9f3a"
             ],
             [
              0.8888888888888888,
              "#fdca26"
             ],
             [
              1,
              "#f0f921"
             ]
            ],
            "type": "histogram2d"
           }
          ],
          "histogram2dcontour": [
           {
            "colorbar": {
             "outlinewidth": 0,
             "ticks": ""
            },
            "colorscale": [
             [
              0,
              "#0d0887"
             ],
             [
              0.1111111111111111,
              "#46039f"
             ],
             [
              0.2222222222222222,
              "#7201a8"
             ],
             [
              0.3333333333333333,
              "#9c179e"
             ],
             [
              0.4444444444444444,
              "#bd3786"
             ],
             [
              0.5555555555555556,
              "#d8576b"
             ],
             [
              0.6666666666666666,
              "#ed7953"
             ],
             [
              0.7777777777777778,
              "#fb9f3a"
             ],
             [
              0.8888888888888888,
              "#fdca26"
             ],
             [
              1,
              "#f0f921"
             ]
            ],
            "type": "histogram2dcontour"
           }
          ],
          "mesh3d": [
           {
            "colorbar": {
             "outlinewidth": 0,
             "ticks": ""
            },
            "type": "mesh3d"
           }
          ],
          "parcoords": [
           {
            "line": {
             "colorbar": {
              "outlinewidth": 0,
              "ticks": ""
             }
            },
            "type": "parcoords"
           }
          ],
          "pie": [
           {
            "automargin": true,
            "type": "pie"
           }
          ],
          "scatter": [
           {
            "fillpattern": {
             "fillmode": "overlay",
             "size": 10,
             "solidity": 0.2
            },
            "type": "scatter"
           }
          ],
          "scatter3d": [
           {
            "line": {
             "colorbar": {
              "outlinewidth": 0,
              "ticks": ""
             }
            },
            "marker": {
             "colorbar": {
              "outlinewidth": 0,
              "ticks": ""
             }
            },
            "type": "scatter3d"
           }
          ],
          "scattercarpet": [
           {
            "marker": {
             "colorbar": {
              "outlinewidth": 0,
              "ticks": ""
             }
            },
            "type": "scattercarpet"
           }
          ],
          "scattergeo": [
           {
            "marker": {
             "colorbar": {
              "outlinewidth": 0,
              "ticks": ""
             }
            },
            "type": "scattergeo"
           }
          ],
          "scattergl": [
           {
            "marker": {
             "colorbar": {
              "outlinewidth": 0,
              "ticks": ""
             }
            },
            "type": "scattergl"
           }
          ],
          "scattermap": [
           {
            "marker": {
             "colorbar": {
              "outlinewidth": 0,
              "ticks": ""
             }
            },
            "type": "scattermap"
           }
          ],
          "scattermapbox": [
           {
            "marker": {
             "colorbar": {
              "outlinewidth": 0,
              "ticks": ""
             }
            },
            "type": "scattermapbox"
           }
          ],
          "scatterpolar": [
           {
            "marker": {
             "colorbar": {
              "outlinewidth": 0,
              "ticks": ""
             }
            },
            "type": "scatterpolar"
           }
          ],
          "scatterpolargl": [
           {
            "marker": {
             "colorbar": {
              "outlinewidth": 0,
              "ticks": ""
             }
            },
            "type": "scatterpolargl"
           }
          ],
          "scatterternary": [
           {
            "marker": {
             "colorbar": {
              "outlinewidth": 0,
              "ticks": ""
             }
            },
            "type": "scatterternary"
           }
          ],
          "surface": [
           {
            "colorbar": {
             "outlinewidth": 0,
             "ticks": ""
            },
            "colorscale": [
             [
              0,
              "#0d0887"
             ],
             [
              0.1111111111111111,
              "#46039f"
             ],
             [
              0.2222222222222222,
              "#7201a8"
             ],
             [
              0.3333333333333333,
              "#9c179e"
             ],
             [
              0.4444444444444444,
              "#bd3786"
             ],
             [
              0.5555555555555556,
              "#d8576b"
             ],
             [
              0.6666666666666666,
              "#ed7953"
             ],
             [
              0.7777777777777778,
              "#fb9f3a"
             ],
             [
              0.8888888888888888,
              "#fdca26"
             ],
             [
              1,
              "#f0f921"
             ]
            ],
            "type": "surface"
           }
          ],
          "table": [
           {
            "cells": {
             "fill": {
              "color": "#EBF0F8"
             },
             "line": {
              "color": "white"
             }
            },
            "header": {
             "fill": {
              "color": "#C8D4E3"
             },
             "line": {
              "color": "white"
             }
            },
            "type": "table"
           }
          ]
         },
         "layout": {
          "annotationdefaults": {
           "arrowcolor": "#2a3f5f",
           "arrowhead": 0,
           "arrowwidth": 1
          },
          "autotypenumbers": "strict",
          "coloraxis": {
           "colorbar": {
            "outlinewidth": 0,
            "ticks": ""
           }
          },
          "colorscale": {
           "diverging": [
            [
             0,
             "#8e0152"
            ],
            [
             0.1,
             "#c51b7d"
            ],
            [
             0.2,
             "#de77ae"
            ],
            [
             0.3,
             "#f1b6da"
            ],
            [
             0.4,
             "#fde0ef"
            ],
            [
             0.5,
             "#f7f7f7"
            ],
            [
             0.6,
             "#e6f5d0"
            ],
            [
             0.7,
             "#b8e186"
            ],
            [
             0.8,
             "#7fbc41"
            ],
            [
             0.9,
             "#4d9221"
            ],
            [
             1,
             "#276419"
            ]
           ],
           "sequential": [
            [
             0,
             "#0d0887"
            ],
            [
             0.1111111111111111,
             "#46039f"
            ],
            [
             0.2222222222222222,
             "#7201a8"
            ],
            [
             0.3333333333333333,
             "#9c179e"
            ],
            [
             0.4444444444444444,
             "#bd3786"
            ],
            [
             0.5555555555555556,
             "#d8576b"
            ],
            [
             0.6666666666666666,
             "#ed7953"
            ],
            [
             0.7777777777777778,
             "#fb9f3a"
            ],
            [
             0.8888888888888888,
             "#fdca26"
            ],
            [
             1,
             "#f0f921"
            ]
           ],
           "sequentialminus": [
            [
             0,
             "#0d0887"
            ],
            [
             0.1111111111111111,
             "#46039f"
            ],
            [
             0.2222222222222222,
             "#7201a8"
            ],
            [
             0.3333333333333333,
             "#9c179e"
            ],
            [
             0.4444444444444444,
             "#bd3786"
            ],
            [
             0.5555555555555556,
             "#d8576b"
            ],
            [
             0.6666666666666666,
             "#ed7953"
            ],
            [
             0.7777777777777778,
             "#fb9f3a"
            ],
            [
             0.8888888888888888,
             "#fdca26"
            ],
            [
             1,
             "#f0f921"
            ]
           ]
          },
          "colorway": [
           "#636efa",
           "#EF553B",
           "#00cc96",
           "#ab63fa",
           "#FFA15A",
           "#19d3f3",
           "#FF6692",
           "#B6E880",
           "#FF97FF",
           "#FECB52"
          ],
          "font": {
           "color": "#2a3f5f"
          },
          "geo": {
           "bgcolor": "white",
           "lakecolor": "white",
           "landcolor": "#E5ECF6",
           "showlakes": true,
           "showland": true,
           "subunitcolor": "white"
          },
          "hoverlabel": {
           "align": "left"
          },
          "hovermode": "closest",
          "mapbox": {
           "style": "light"
          },
          "paper_bgcolor": "white",
          "plot_bgcolor": "#E5ECF6",
          "polar": {
           "angularaxis": {
            "gridcolor": "white",
            "linecolor": "white",
            "ticks": ""
           },
           "bgcolor": "#E5ECF6",
           "radialaxis": {
            "gridcolor": "white",
            "linecolor": "white",
            "ticks": ""
           }
          },
          "scene": {
           "xaxis": {
            "backgroundcolor": "#E5ECF6",
            "gridcolor": "white",
            "gridwidth": 2,
            "linecolor": "white",
            "showbackground": true,
            "ticks": "",
            "zerolinecolor": "white"
           },
           "yaxis": {
            "backgroundcolor": "#E5ECF6",
            "gridcolor": "white",
            "gridwidth": 2,
            "linecolor": "white",
            "showbackground": true,
            "ticks": "",
            "zerolinecolor": "white"
           },
           "zaxis": {
            "backgroundcolor": "#E5ECF6",
            "gridcolor": "white",
            "gridwidth": 2,
            "linecolor": "white",
            "showbackground": true,
            "ticks": "",
            "zerolinecolor": "white"
           }
          },
          "shapedefaults": {
           "line": {
            "color": "#2a3f5f"
           }
          },
          "ternary": {
           "aaxis": {
            "gridcolor": "white",
            "linecolor": "white",
            "ticks": ""
           },
           "baxis": {
            "gridcolor": "white",
            "linecolor": "white",
            "ticks": ""
           },
           "bgcolor": "#E5ECF6",
           "caxis": {
            "gridcolor": "white",
            "linecolor": "white",
            "ticks": ""
           }
          },
          "title": {
           "x": 0.05
          },
          "xaxis": {
           "automargin": true,
           "gridcolor": "white",
           "linecolor": "white",
           "ticks": "",
           "title": {
            "standoff": 15
           },
           "zerolinecolor": "white",
           "zerolinewidth": 2
          },
          "yaxis": {
           "automargin": true,
           "gridcolor": "white",
           "linecolor": "white",
           "ticks": "",
           "title": {
            "standoff": 15
           },
           "zerolinecolor": "white",
           "zerolinewidth": 2
          }
         }
        },
        "title": {
         "text": "Hyperparameter Importances"
        },
        "xaxis": {
         "title": {
          "text": "Hyperparameter Importance"
         }
        },
        "yaxis": {
         "title": {
          "text": "Hyperparameter"
         }
        }
       }
      }
     },
     "metadata": {},
     "output_type": "display_data"
    },
    {
     "data": {
      "application/vnd.plotly.v1+json": {
       "config": {
        "plotlyServerURL": "https://plot.ly"
       },
       "data": [
        {
         "marker": {
          "color": [
           0.005914820013017844,
           0.0007257433919753773,
           0.005677398510402982,
           0.0017606678789982482,
           0.0025801690887137735,
           0.002632659989504831,
           0.0009445239786344964,
           0.0006926016539867464,
           0.0007010551973108526,
           0.0011386995662317218,
           0.0009050711569025656,
           0.000988121402082708,
           0.0012598204001600642,
           0.0012767872590708602,
           0.0004036758799828455,
           0.0005644697800937712,
           0.0015492509440800007,
           0.0005328035681291038,
           0.0009139940527920305,
           0.0007576418991204753,
           0.0007366918872417842,
           0.0007507566098255374,
           0.0006541713276915241,
           0.0006020315988596737,
           0.0009080852079515242,
           0.0009631874586745392,
           0.0006094188078422266,
           0.0006868311326467929
          ],
          "colorbar": {
           "title": {
            "text": "RMSE de Validação"
           }
          },
          "colorscale": [
           [
            0,
            "#440154"
           ],
           [
            0.1111111111111111,
            "#482878"
           ],
           [
            0.2222222222222222,
            "#3e4989"
           ],
           [
            0.3333333333333333,
            "#31688e"
           ],
           [
            0.4444444444444444,
            "#26828e"
           ],
           [
            0.5555555555555556,
            "#1f9e89"
           ],
           [
            0.6666666666666666,
            "#35b779"
           ],
           [
            0.7777777777777778,
            "#6ece58"
           ],
           [
            0.8888888888888888,
            "#b5de2b"
           ],
           [
            1,
            "#fde725"
           ]
          ],
          "showscale": true
         },
         "mode": "markers",
         "text": [
          "Trial: 0<br>RMSE: 0.0059<br>Complex: 3.32",
          "Trial: 1<br>RMSE: 0.0007<br>Complex: 5.17",
          "Trial: 2<br>RMSE: 0.0057<br>Complex: 2.00",
          "Trial: 3<br>RMSE: 0.0018<br>Complex: 4.86",
          "Trial: 4<br>RMSE: 0.0026<br>Complex: 4.91",
          "Trial: 7<br>RMSE: 0.0026<br>Complex: 4.32",
          "Trial: 9<br>RMSE: 0.0009<br>Complex: 4.95",
          "Trial: 10<br>RMSE: 0.0007<br>Complex: 5.55",
          "Trial: 11<br>RMSE: 0.0007<br>Complex: 5.55",
          "Trial: 12<br>RMSE: 0.0011<br>Complex: 5.64",
          "Trial: 13<br>RMSE: 0.0009<br>Complex: 5.64",
          "Trial: 14<br>RMSE: 0.0010<br>Complex: 5.29",
          "Trial: 15<br>RMSE: 0.0013<br>Complex: 5.43",
          "Trial: 17<br>RMSE: 0.0013<br>Complex: 4.52",
          "Trial: 19<br>RMSE: 0.0004<br>Complex: 5.21",
          "Trial: 20<br>RMSE: 0.0006<br>Complex: 5.29",
          "Trial: 21<br>RMSE: 0.0015<br>Complex: 5.17",
          "Trial: 22<br>RMSE: 0.0005<br>Complex: 5.29",
          "Trial: 23<br>RMSE: 0.0009<br>Complex: 5.29",
          "Trial: 26<br>RMSE: 0.0008<br>Complex: 5.29",
          "Trial: 27<br>RMSE: 0.0007<br>Complex: 5.04",
          "Trial: 28<br>RMSE: 0.0008<br>Complex: 5.36",
          "Trial: 31<br>RMSE: 0.0007<br>Complex: 5.55",
          "Trial: 32<br>RMSE: 0.0006<br>Complex: 5.17",
          "Trial: 37<br>RMSE: 0.0009<br>Complex: 4.86",
          "Trial: 41<br>RMSE: 0.0010<br>Complex: 5.52",
          "Trial: 47<br>RMSE: 0.0006<br>Complex: 5.36",
          "Trial: 49<br>RMSE: 0.0007<br>Complex: 4.91"
         ],
         "type": "scatter",
         "x": [
          3.321928094887362,
          5.169925001442312,
          2,
          4.857980995127572,
          4.906890595608519,
          4.321928094887363,
          4.954196310386875,
          5.554588851677638,
          5.554588851677638,
          5.643856189774724,
          5.643856189774724,
          5.285402218862249,
          5.426264754702098,
          4.523561956057013,
          5.20945336562895,
          5.285402218862249,
          5.169925001442312,
          5.285402218862249,
          5.285402218862249,
          5.285402218862249,
          5.044394119358453,
          5.357552004618084,
          5.554588851677638,
          5.169925001442312,
          4.857980995127572,
          5.523561956057013,
          5.357552004618084,
          4.906890595608519
         ],
         "y": [
          0.005914820013017844,
          0.0007257433919753773,
          0.005677398510402982,
          0.0017606678789982482,
          0.0025801690887137735,
          0.002632659989504831,
          0.0009445239786344964,
          0.0006926016539867464,
          0.0007010551973108526,
          0.0011386995662317218,
          0.0009050711569025656,
          0.000988121402082708,
          0.0012598204001600642,
          0.0012767872590708602,
          0.0004036758799828455,
          0.0005644697800937712,
          0.0015492509440800007,
          0.0005328035681291038,
          0.0009139940527920305,
          0.0007576418991204753,
          0.0007366918872417842,
          0.0007507566098255374,
          0.0006541713276915241,
          0.0006020315988596737,
          0.0009080852079515242,
          0.0009631874586745392,
          0.0006094188078422266,
          0.0006868311326467929
         ]
        }
       ],
       "layout": {
        "hovermode": "closest",
        "template": {
         "data": {
          "bar": [
           {
            "error_x": {
             "color": "#2a3f5f"
            },
            "error_y": {
             "color": "#2a3f5f"
            },
            "marker": {
             "line": {
              "color": "#E5ECF6",
              "width": 0.5
             },
             "pattern": {
              "fillmode": "overlay",
              "size": 10,
              "solidity": 0.2
             }
            },
            "type": "bar"
           }
          ],
          "barpolar": [
           {
            "marker": {
             "line": {
              "color": "#E5ECF6",
              "width": 0.5
             },
             "pattern": {
              "fillmode": "overlay",
              "size": 10,
              "solidity": 0.2
             }
            },
            "type": "barpolar"
           }
          ],
          "carpet": [
           {
            "aaxis": {
             "endlinecolor": "#2a3f5f",
             "gridcolor": "white",
             "linecolor": "white",
             "minorgridcolor": "white",
             "startlinecolor": "#2a3f5f"
            },
            "baxis": {
             "endlinecolor": "#2a3f5f",
             "gridcolor": "white",
             "linecolor": "white",
             "minorgridcolor": "white",
             "startlinecolor": "#2a3f5f"
            },
            "type": "carpet"
           }
          ],
          "choropleth": [
           {
            "colorbar": {
             "outlinewidth": 0,
             "ticks": ""
            },
            "type": "choropleth"
           }
          ],
          "contour": [
           {
            "colorbar": {
             "outlinewidth": 0,
             "ticks": ""
            },
            "colorscale": [
             [
              0,
              "#0d0887"
             ],
             [
              0.1111111111111111,
              "#46039f"
             ],
             [
              0.2222222222222222,
              "#7201a8"
             ],
             [
              0.3333333333333333,
              "#9c179e"
             ],
             [
              0.4444444444444444,
              "#bd3786"
             ],
             [
              0.5555555555555556,
              "#d8576b"
             ],
             [
              0.6666666666666666,
              "#ed7953"
             ],
             [
              0.7777777777777778,
              "#fb9f3a"
             ],
             [
              0.8888888888888888,
              "#fdca26"
             ],
             [
              1,
              "#f0f921"
             ]
            ],
            "type": "contour"
           }
          ],
          "contourcarpet": [
           {
            "colorbar": {
             "outlinewidth": 0,
             "ticks": ""
            },
            "type": "contourcarpet"
           }
          ],
          "heatmap": [
           {
            "colorbar": {
             "outlinewidth": 0,
             "ticks": ""
            },
            "colorscale": [
             [
              0,
              "#0d0887"
             ],
             [
              0.1111111111111111,
              "#46039f"
             ],
             [
              0.2222222222222222,
              "#7201a8"
             ],
             [
              0.3333333333333333,
              "#9c179e"
             ],
             [
              0.4444444444444444,
              "#bd3786"
             ],
             [
              0.5555555555555556,
              "#d8576b"
             ],
             [
              0.6666666666666666,
              "#ed7953"
             ],
             [
              0.7777777777777778,
              "#fb9f3a"
             ],
             [
              0.8888888888888888,
              "#fdca26"
             ],
             [
              1,
              "#f0f921"
             ]
            ],
            "type": "heatmap"
           }
          ],
          "histogram": [
           {
            "marker": {
             "pattern": {
              "fillmode": "overlay",
              "size": 10,
              "solidity": 0.2
             }
            },
            "type": "histogram"
           }
          ],
          "histogram2d": [
           {
            "colorbar": {
             "outlinewidth": 0,
             "ticks": ""
            },
            "colorscale": [
             [
              0,
              "#0d0887"
             ],
             [
              0.1111111111111111,
              "#46039f"
             ],
             [
              0.2222222222222222,
              "#7201a8"
             ],
             [
              0.3333333333333333,
              "#9c179e"
             ],
             [
              0.4444444444444444,
              "#bd3786"
             ],
             [
              0.5555555555555556,
              "#d8576b"
             ],
             [
              0.6666666666666666,
              "#ed7953"
             ],
             [
              0.7777777777777778,
              "#fb9f3a"
             ],
             [
              0.8888888888888888,
              "#fdca26"
             ],
             [
              1,
              "#f0f921"
             ]
            ],
            "type": "histogram2d"
           }
          ],
          "histogram2dcontour": [
           {
            "colorbar": {
             "outlinewidth": 0,
             "ticks": ""
            },
            "colorscale": [
             [
              0,
              "#0d0887"
             ],
             [
              0.1111111111111111,
              "#46039f"
             ],
             [
              0.2222222222222222,
              "#7201a8"
             ],
             [
              0.3333333333333333,
              "#9c179e"
             ],
             [
              0.4444444444444444,
              "#bd3786"
             ],
             [
              0.5555555555555556,
              "#d8576b"
             ],
             [
              0.6666666666666666,
              "#ed7953"
             ],
             [
              0.7777777777777778,
              "#fb9f3a"
             ],
             [
              0.8888888888888888,
              "#fdca26"
             ],
             [
              1,
              "#f0f921"
             ]
            ],
            "type": "histogram2dcontour"
           }
          ],
          "mesh3d": [
           {
            "colorbar": {
             "outlinewidth": 0,
             "ticks": ""
            },
            "type": "mesh3d"
           }
          ],
          "parcoords": [
           {
            "line": {
             "colorbar": {
              "outlinewidth": 0,
              "ticks": ""
             }
            },
            "type": "parcoords"
           }
          ],
          "pie": [
           {
            "automargin": true,
            "type": "pie"
           }
          ],
          "scatter": [
           {
            "fillpattern": {
             "fillmode": "overlay",
             "size": 10,
             "solidity": 0.2
            },
            "type": "scatter"
           }
          ],
          "scatter3d": [
           {
            "line": {
             "colorbar": {
              "outlinewidth": 0,
              "ticks": ""
             }
            },
            "marker": {
             "colorbar": {
              "outlinewidth": 0,
              "ticks": ""
             }
            },
            "type": "scatter3d"
           }
          ],
          "scattercarpet": [
           {
            "marker": {
             "colorbar": {
              "outlinewidth": 0,
              "ticks": ""
             }
            },
            "type": "scattercarpet"
           }
          ],
          "scattergeo": [
           {
            "marker": {
             "colorbar": {
              "outlinewidth": 0,
              "ticks": ""
             }
            },
            "type": "scattergeo"
           }
          ],
          "scattergl": [
           {
            "marker": {
             "colorbar": {
              "outlinewidth": 0,
              "ticks": ""
             }
            },
            "type": "scattergl"
           }
          ],
          "scattermap": [
           {
            "marker": {
             "colorbar": {
              "outlinewidth": 0,
              "ticks": ""
             }
            },
            "type": "scattermap"
           }
          ],
          "scattermapbox": [
           {
            "marker": {
             "colorbar": {
              "outlinewidth": 0,
              "ticks": ""
             }
            },
            "type": "scattermapbox"
           }
          ],
          "scatterpolar": [
           {
            "marker": {
             "colorbar": {
              "outlinewidth": 0,
              "ticks": ""
             }
            },
            "type": "scatterpolar"
           }
          ],
          "scatterpolargl": [
           {
            "marker": {
             "colorbar": {
              "outlinewidth": 0,
              "ticks": ""
             }
            },
            "type": "scatterpolargl"
           }
          ],
          "scatterternary": [
           {
            "marker": {
             "colorbar": {
              "outlinewidth": 0,
              "ticks": ""
             }
            },
            "type": "scatterternary"
           }
          ],
          "surface": [
           {
            "colorbar": {
             "outlinewidth": 0,
             "ticks": ""
            },
            "colorscale": [
             [
              0,
              "#0d0887"
             ],
             [
              0.1111111111111111,
              "#46039f"
             ],
             [
              0.2222222222222222,
              "#7201a8"
             ],
             [
              0.3333333333333333,
              "#9c179e"
             ],
             [
              0.4444444444444444,
              "#bd3786"
             ],
             [
              0.5555555555555556,
              "#d8576b"
             ],
             [
              0.6666666666666666,
              "#ed7953"
             ],
             [
              0.7777777777777778,
              "#fb9f3a"
             ],
             [
              0.8888888888888888,
              "#fdca26"
             ],
             [
              1,
              "#f0f921"
             ]
            ],
            "type": "surface"
           }
          ],
          "table": [
           {
            "cells": {
             "fill": {
              "color": "#EBF0F8"
             },
             "line": {
              "color": "white"
             }
            },
            "header": {
             "fill": {
              "color": "#C8D4E3"
             },
             "line": {
              "color": "white"
             }
            },
            "type": "table"
           }
          ]
         },
         "layout": {
          "annotationdefaults": {
           "arrowcolor": "#2a3f5f",
           "arrowhead": 0,
           "arrowwidth": 1
          },
          "autotypenumbers": "strict",
          "coloraxis": {
           "colorbar": {
            "outlinewidth": 0,
            "ticks": ""
           }
          },
          "colorscale": {
           "diverging": [
            [
             0,
             "#8e0152"
            ],
            [
             0.1,
             "#c51b7d"
            ],
            [
             0.2,
             "#de77ae"
            ],
            [
             0.3,
             "#f1b6da"
            ],
            [
             0.4,
             "#fde0ef"
            ],
            [
             0.5,
             "#f7f7f7"
            ],
            [
             0.6,
             "#e6f5d0"
            ],
            [
             0.7,
             "#b8e186"
            ],
            [
             0.8,
             "#7fbc41"
            ],
            [
             0.9,
             "#4d9221"
            ],
            [
             1,
             "#276419"
            ]
           ],
           "sequential": [
            [
             0,
             "#0d0887"
            ],
            [
             0.1111111111111111,
             "#46039f"
            ],
            [
             0.2222222222222222,
             "#7201a8"
            ],
            [
             0.3333333333333333,
             "#9c179e"
            ],
            [
             0.4444444444444444,
             "#bd3786"
            ],
            [
             0.5555555555555556,
             "#d8576b"
            ],
            [
             0.6666666666666666,
             "#ed7953"
            ],
            [
             0.7777777777777778,
             "#fb9f3a"
            ],
            [
             0.8888888888888888,
             "#fdca26"
            ],
            [
             1,
             "#f0f921"
            ]
           ],
           "sequentialminus": [
            [
             0,
             "#0d0887"
            ],
            [
             0.1111111111111111,
             "#46039f"
            ],
            [
             0.2222222222222222,
             "#7201a8"
            ],
            [
             0.3333333333333333,
             "#9c179e"
            ],
            [
             0.4444444444444444,
             "#bd3786"
            ],
            [
             0.5555555555555556,
             "#d8576b"
            ],
            [
             0.6666666666666666,
             "#ed7953"
            ],
            [
             0.7777777777777778,
             "#fb9f3a"
            ],
            [
             0.8888888888888888,
             "#fdca26"
            ],
            [
             1,
             "#f0f921"
            ]
           ]
          },
          "colorway": [
           "#636efa",
           "#EF553B",
           "#00cc96",
           "#ab63fa",
           "#FFA15A",
           "#19d3f3",
           "#FF6692",
           "#B6E880",
           "#FF97FF",
           "#FECB52"
          ],
          "font": {
           "color": "#2a3f5f"
          },
          "geo": {
           "bgcolor": "white",
           "lakecolor": "white",
           "landcolor": "#E5ECF6",
           "showlakes": true,
           "showland": true,
           "subunitcolor": "white"
          },
          "hoverlabel": {
           "align": "left"
          },
          "hovermode": "closest",
          "mapbox": {
           "style": "light"
          },
          "paper_bgcolor": "white",
          "plot_bgcolor": "#E5ECF6",
          "polar": {
           "angularaxis": {
            "gridcolor": "white",
            "linecolor": "white",
            "ticks": ""
           },
           "bgcolor": "#E5ECF6",
           "radialaxis": {
            "gridcolor": "white",
            "linecolor": "white",
            "ticks": ""
           }
          },
          "scene": {
           "xaxis": {
            "backgroundcolor": "#E5ECF6",
            "gridcolor": "white",
            "gridwidth": 2,
            "linecolor": "white",
            "showbackground": true,
            "ticks": "",
            "zerolinecolor": "white"
           },
           "yaxis": {
            "backgroundcolor": "#E5ECF6",
            "gridcolor": "white",
            "gridwidth": 2,
            "linecolor": "white",
            "showbackground": true,
            "ticks": "",
            "zerolinecolor": "white"
           },
           "zaxis": {
            "backgroundcolor": "#E5ECF6",
            "gridcolor": "white",
            "gridwidth": 2,
            "linecolor": "white",
            "showbackground": true,
            "ticks": "",
            "zerolinecolor": "white"
           }
          },
          "shapedefaults": {
           "line": {
            "color": "#2a3f5f"
           }
          },
          "ternary": {
           "aaxis": {
            "gridcolor": "white",
            "linecolor": "white",
            "ticks": ""
           },
           "baxis": {
            "gridcolor": "white",
            "linecolor": "white",
            "ticks": ""
           },
           "bgcolor": "#E5ECF6",
           "caxis": {
            "gridcolor": "white",
            "linecolor": "white",
            "ticks": ""
           }
          },
          "title": {
           "x": 0.05
          },
          "xaxis": {
           "automargin": true,
           "gridcolor": "white",
           "linecolor": "white",
           "ticks": "",
           "title": {
            "standoff": 15
           },
           "zerolinecolor": "white",
           "zerolinewidth": 2
          },
          "yaxis": {
           "automargin": true,
           "gridcolor": "white",
           "linecolor": "white",
           "ticks": "",
           "title": {
            "standoff": 15
           },
           "zerolinecolor": "white",
           "zerolinewidth": 2
          }
         }
        },
        "title": {
         "text": "Trade-off: Qualidade (RMSE) vs. Complexidade do Modelo"
        },
        "xaxis": {
         "title": {
          "text": "Complexidade (log2(neurônios) * camadas)"
         }
        },
        "yaxis": {
         "title": {
          "text": "RMSE de Validação (Normalizado)"
         }
        }
       }
      }
     },
     "metadata": {},
     "output_type": "display_data"
    }
   ],
   "source": [
    "# --- Bloco 7: Gráficos Elaborados do Optuna ---\n",
    "\n",
    "print(\"Gerando gráficos do Optuna...\")\n",
    "\n",
    "# Gráfico 1: Histórico de Otimização (RMSE vs. Trial)\n",
    "fig1 = optuna.visualization.plot_optimization_history(study)\n",
    "fig1.show()\n",
    "\n",
    "# Gráfico 2: Importância dos Hiperparâmetros\n",
    "fig2 = optuna.visualization.plot_param_importances(study)\n",
    "fig2.show()\n",
    "\n",
    "# Gráfico 3: Gráfico Customizado (Qualidade vs. Complexidade)\n",
    "# Este é o gráfico que você pediu\n",
    "trials = [t for t in study.trials if t.state == TrialState.COMPLETE]\n",
    "complexities = [t.user_attrs['complexity'] for t in trials]\n",
    "val_rmses = [t.value for t in trials]\n",
    "trial_numbers = [t.number for t in trials]\n",
    "\n",
    "fig3 = go.Figure(data=go.Scatter(\n",
    "    x=complexities,\n",
    "    y=val_rmses,\n",
    "    mode='markers',\n",
    "    text=[f'Trial: {n}<br>RMSE: {r:.4f}<br>Complex: {c:.2f}' \n",
    "          for n, r, c in zip(trial_numbers, val_rmses, complexities)],\n",
    "    marker=dict(\n",
    "        color=val_rmses,\n",
    "        colorscale='Viridis',\n",
    "        showscale=True,\n",
    "        colorbar=dict(title='RMSE de Validação')\n",
    "    )\n",
    "))\n",
    "fig3.update_layout(\n",
    "    title='Trade-off: Qualidade (RMSE) vs. Complexidade do Modelo',\n",
    "    xaxis_title='Complexidade (log2(neurônios) * camadas)',\n",
    "    yaxis_title='RMSE de Validação (Normalizado)',\n",
    "    hovermode='closest'\n",
    ")\n",
    "fig3.show()"
   ]
  },
  {
   "cell_type": "code",
   "execution_count": null,
   "id": "17254179",
   "metadata": {},
   "outputs": [
    {
     "name": "stdout",
     "output_type": "stream",
     "text": [
      "--- Treinando a Rede 'Campeã' Final ---\n",
      "Epoch [50/300], Train Loss: 0.000041, Val Loss: 0.000006\n",
      "Epoch [100/300], Train Loss: 0.000008, Val Loss: 0.000013\n",
      "Treinamento final parou cedo no epoch 123\n",
      "Treinamento final concluído em 9.76s\n",
      "Modelo 'zzzzz_10.pth' salvo.\n"
     ]
    }
   ],
   "source": [
    "# --- Bloco 8: Treinamento Final da Rede \"Campeã\" ---\n",
    "# Agora, pegamos os melhores hiperparâmetros e treinamos\n",
    "# um modelo final do zero, salvando o histórico de loss.\n",
    "\n",
    "print(\"--- Treinando a Rede 'Campeã' Final ---\")\n",
    "\n",
    "#'''\n",
    "best_params = study.best_params\n",
    "BASE_N_LAYERS = best_params['n_layers']\n",
    "BASE_N_NEURONS = best_params['n_neurons']\n",
    "BASE_LR = best_params['lr']\n",
    "#'''\n",
    "\n",
    "# {'n_layers': 1, 'n_neurons': 37, 'lr': 0.026492546736443214}\n",
    "\n",
    "'''\n",
    "BASE_N_LAYERS = 1\n",
    "BASE_N_NEURONS = 37\n",
    "BASE_LR = 0.026492546736443214\n",
    "N_EPOCHS = 10\n",
    "#'''\n",
    "\n",
    "'''\n",
    "BASE_N_LAYERS = 2\n",
    "BASE_N_NEURONS = 13\n",
    "BASE_LR = 0.008164828229766462\n",
    "N_EPOCHS = 10\n",
    "#'''\n",
    "\n",
    "# Parâmetros da rede\n",
    "final_model = Net(\n",
    "    n_layers=BASE_N_LAYERS,\n",
    "    n_neurons=BASE_N_NEURONS\n",
    ").to(device)\n",
    "final_lr = BASE_LR\n",
    "\n",
    "\n",
    "optimizer = optim.Adam(final_model.parameters(), lr=final_lr)\n",
    "criterion = nn.MSELoss()\n",
    "\n",
    "# Listas para salvar o histórico de loss\n",
    "train_losses = []\n",
    "val_losses = []\n",
    "\n",
    "# Usar os mesmos parâmetros do Optuna\n",
    "best_val_loss = float('inf')\n",
    "patience_counter = 0\n",
    "\n",
    "start_time = time.time()\n",
    "for epoch in range(N_EPOCHS):\n",
    "    # Treinamento\n",
    "    final_model.train()\n",
    "    current_train_loss = 0.0\n",
    "    for X_batch, y_batch in train_loader:\n",
    "        optimizer.zero_grad()\n",
    "        outputs = final_model(X_batch)\n",
    "        loss = criterion(outputs, y_batch)\n",
    "        loss.backward()\n",
    "        optimizer.step()\n",
    "        current_train_loss += loss.item() * X_batch.size(0)\n",
    "    \n",
    "    train_losses.append(current_train_loss / len(train_loader.dataset))\n",
    "    \n",
    "    # Validação\n",
    "    final_model.eval()\n",
    "    current_val_loss = 0.0\n",
    "    with torch.no_grad():\n",
    "        for X_batch, y_batch in val_loader:\n",
    "            outputs = final_model(X_batch)\n",
    "            loss = criterion(outputs, y_batch)\n",
    "            current_val_loss += loss.item() * X_batch.size(0)\n",
    "            \n",
    "    current_val_loss /= len(val_loader.dataset)\n",
    "    val_losses.append(current_val_loss)\n",
    "\n",
    "    # Lógica de Early Stopping\n",
    "    if current_val_loss < best_val_loss:\n",
    "        best_val_loss = current_val_loss\n",
    "        patience_counter = 0\n",
    "        # Salvar o melhor modelo\n",
    "        torch.save(final_model.state_dict(), 'zzzzz_10.pth')\n",
    "    else:\n",
    "        patience_counter += 1\n",
    "    \n",
    "    if patience_counter >= EARLY_STOPPING_PATIENCE:\n",
    "        print(f\"Treinamento final parou cedo no epoch {epoch+1}\")\n",
    "        break\n",
    "\n",
    "    if (epoch + 1) % 50 == 0:\n",
    "        print(f\"Epoch [{epoch+1}/{N_EPOCHS}], Train Loss: {train_losses[-1]:.6f}, Val Loss: {val_losses[-1]:.6f}\")\n",
    "\n",
    "end_time = time.time()\n",
    "print(f\"Treinamento final concluído em {end_time - start_time:.2f}s\")\n",
    "print(\"Modelo 'zzzzz_10.pth' salvo.\")"
   ]
  },
  {
   "cell_type": "code",
   "execution_count": 17,
   "id": "ee54ab87",
   "metadata": {},
   "outputs": [
    {
     "data": {
      "image/png": "[encoded data removed]",
      "text/plain": [
       "<Figure size 1200x600 with 1 Axes>"
      ]
     },
     "metadata": {},
     "output_type": "display_data"
    }
   ],
   "source": [
    "# --- Bloco 9: Gráfico de Treinamento (Loss vs. Epoch) ---\n",
    "\n",
    "plt.figure(figsize=(12, 6))\n",
    "plt.plot(train_losses, label='Loss de Treinamento (MSE)')\n",
    "plt.plot(val_losses, label='Loss de Validação (MSE)')\n",
    "plt.title('Curvas de Aprendizado do Modelo Final')\n",
    "#plt.ylim(0,0.0005)\n",
    "plt.xlabel('Épocas')\n",
    "plt.ylabel('Loss (MSE Normalizado)')\n",
    "plt.yscale('log') # Usar escala logarítmica é quase obrigatório aqui\n",
    "plt.legend()\n",
    "plt.show()"
   ]
  },
  {
   "cell_type": "code",
   "execution_count": 18,
   "id": "4d716ea7",
   "metadata": {},
   "outputs": [
    {
     "name": "stdout",
     "output_type": "stream",
     "text": [
      "--- Avaliação Final do Modelo ---\n",
      "\n",
      "Métricas Finais (em escala real de R$):\n",
      "  MSE:  486.62\n",
      "  RMSE: 22.06\n",
      "  MAPE: 0.0029 %\n"
     ]
    },
    {
     "data": {
      "image/png": "[encoded data removed]",
      "text/plain": [
       "<Figure size 1000x1000 with 1 Axes>"
      ]
     },
     "metadata": {},
     "output_type": "display_data"
    }
   ],
   "source": [
    "# --- Bloco 10: Avaliação Final (Métricas nos Dados Reais) ---\n",
    "\n",
    "print(\"--- Avaliação Final do Modelo ---\")\n",
    "\n",
    "# Carregar o melhor modelo salvo\n",
    "final_model.load_state_dict(torch.load('zzzzz_10.pth'))\n",
    "final_model.eval()\n",
    "\n",
    "# Passar TODOS os dados (X_scaled) pelo modelo\n",
    "with torch.no_grad():\n",
    "    y_pred_scaled_t = final_model(torch.tensor(X_scaled, dtype=torch.float32).to(device))\n",
    "\n",
    "# Mover para CPU e converter para NumPy\n",
    "y_pred_scaled = y_pred_scaled_t.cpu().numpy()\n",
    "\n",
    "# --- IMPORTANTE: Reverter a Normalização ---\n",
    "# Agora avaliamos na escala de R$ e MW reais\n",
    "y_true_real = y_scaler.inverse_transform(y_scaled)\n",
    "y_pred_real = y_scaler.inverse_transform(y_pred_scaled)\n",
    "x_real = x_scaler.inverse_transform(X_scaled)\n",
    "\n",
    "# Calcular métricas finais\n",
    "mse, rmse, mape = calculate_all_metrics(y_true_real, y_pred_real)\n",
    "\n",
    "print(\"\\nMétricas Finais (em escala real de R$):\")\n",
    "print(f\"  MSE:  {mse:,.2f}\")\n",
    "print(f\"  RMSE: {rmse:,.2f}\")\n",
    "print(f\"  MAPE: {mape:.4f} %\")\n",
    "\n",
    "# --- Gráfico Final: Real vs. Previsto ---\n",
    "plt.figure(figsize=(10, 10))\n",
    "plt.scatter(y_true_real, y_pred_real, alpha=0.3, label='Previsões')\n",
    "# Adicionar a linha ideal (y=x)\n",
    "ideal_line = np.linspace(min(y_true_real.min(), y_pred_real.min()), \n",
    "                         max(y_true_real.max(), y_pred_real.max()), 100)\n",
    "plt.plot(ideal_line, ideal_line, 'r--', label='Linha Ideal (Previsto = Real)')\n",
    "\n",
    "plt.title('Qualidade da Previsão (Escala Real)')\n",
    "plt.xlabel('Custo Real (R$)')\n",
    "plt.ylabel('Custo Previsto (R$)')\n",
    "plt.legend()\n",
    "plt.grid(True)\n",
    "plt.axis('equal') # Forçar eixos iguais\n",
    "plt.show()"
   ]
  },
  {
   "cell_type": "code",
   "execution_count": 19,
   "id": "2baa7c97",
   "metadata": {},
   "outputs": [
    {
     "name": "stdout",
     "output_type": "stream",
     "text": [
      "--- Iniciando Treinamento por Transferência ---\n",
      "Modelo pré-treinado 'zzzzz_10.pth' carregado com sucesso.\n"
     ]
    }
   ],
   "source": [
    "# --- Bloco 5: Carregamento do Modelo Pré-Treinado ---\n",
    "\n",
    "print(\"--- Iniciando Treinamento por Transferência ---\")\n",
    "\n",
    "# Re-criar a arquitetura EXATA do modelo base salvo\n",
    "# (É crucial que os parâmetros sejam os mesmos)\n",
    "MODEL_BASE_PATH = 'zzzzz_10.pth'\n",
    "\n",
    "# Instanciar o novo modelo\n",
    "transfer_model = Net(n_layers=BASE_N_LAYERS, n_neurons=BASE_N_NEURONS).to(device)\n",
    "\n",
    "# --- A MÁGICA (Transfer Learning) ---\n",
    "# Carregar os pesos (o \"conhecimento\") do modelo de 10 épocas\n",
    "transfer_model.load_state_dict(torch.load(MODEL_BASE_PATH))\n",
    "# ------------------------------------\n",
    "\n",
    "print(f\"Modelo pré-treinado '{MODEL_BASE_PATH}' carregado com sucesso.\")\n",
    "\n",
    "# Configurar o otimizador para o novo modelo\n",
    "optimizer = optim.Adam(transfer_model.parameters(), lr=BASE_LR)\n",
    "criterion = nn.MSELoss()"
   ]
  },
  {
   "cell_type": "code",
   "execution_count": null,
   "id": "06608778",
   "metadata": {},
   "outputs": [
    {
     "name": "stdout",
     "output_type": "stream",
     "text": [
      "--- Continuando o treinamento (Epochs 11 a 300) ---\n",
      "Epoch [11/300], Train Loss: 0.002352, Val Loss: 0.000034\n",
      "Epoch [50/300], Train Loss: 0.000020, Val Loss: 0.000048\n",
      "Epoch [100/300], Train Loss: 0.000001, Val Loss: 0.000006\n",
      "Treinamento por transferência parou cedo no epoch 123\n",
      "Treinamento por transferência concluído em 8.94s\n",
      "Modelo 'transfer_model_final.pth' salvo.\n"
     ]
    }
   ],
   "source": [
    "# --- Bloco 6: Continuação do Treinamento (Epoch 11 até o fim) ---\n",
    "\n",
    "print(\"--- Continuando o treinamento (Epochs 11 a 300) ---\")\n",
    "\n",
    "# Parâmetros\n",
    "N_TOTAL_EPOCHS = 300\n",
    "N_EPOCHS_JA_TREINADAS = 10\n",
    "EARLY_STOPPING_PATIENCE = 30 # A mesma paciência\n",
    "\n",
    "# Listas para salvar o histórico de loss\n",
    "train_losses = []\n",
    "val_losses = []\n",
    "\n",
    "best_val_loss = float('inf')\n",
    "patience_counter = 0\n",
    "\n",
    "start_time = time.time()\n",
    "# Começamos o loop da época 11 até 300\n",
    "for epoch in range(N_EPOCHS_JA_TREINADAS, N_TOTAL_EPOCHS):\n",
    "    \n",
    "    # Treinamento\n",
    "    transfer_model.train()\n",
    "    current_train_loss = 0.0\n",
    "    for X_batch, y_batch in train_loader:\n",
    "        optimizer.zero_grad()\n",
    "        outputs = transfer_model(X_batch) # Usando o transfer_model\n",
    "        loss = criterion(outputs, y_batch)\n",
    "        loss.backward()\n",
    "        optimizer.step()\n",
    "        current_train_loss += loss.item() * X_batch.size(0)\n",
    "    \n",
    "    train_losses.append(current_train_loss / len(train_loader.dataset))\n",
    "    \n",
    "    # Validação\n",
    "    transfer_model.eval()\n",
    "    current_val_loss = 0.0\n",
    "    with torch.no_grad():\n",
    "        for X_batch, y_batch in val_loader:\n",
    "            outputs = transfer_model(X_batch) # Usando o transfer_model\n",
    "            loss = criterion(outputs, y_batch)\n",
    "            current_val_loss += loss.item() * X_batch.size(0)\n",
    "            \n",
    "    current_val_loss /= len(val_loader.dataset)\n",
    "    val_losses.append(current_val_loss)\n",
    "\n",
    "    # Lógica de Early Stopping\n",
    "    if current_val_loss < best_val_loss:\n",
    "        best_val_loss = current_val_loss\n",
    "        patience_counter = 0\n",
    "        # Salvar o melhor modelo\n",
    "        torch.save(transfer_model.state_dict(), 'zzzzz_final.pth')\n",
    "    else:\n",
    "        patience_counter += 1\n",
    "    \n",
    "    if patience_counter >= EARLY_STOPPING_PATIENCE:\n",
    "        print(f\"Treinamento por transferência parou cedo no epoch {epoch+1}\")\n",
    "        break\n",
    "\n",
    "    if (epoch + 1) % 50 == 0 or epoch == N_EPOCHS_JA_TREINADAS:\n",
    "        # Imprime no primeiro loop (época 10) e a cada 50\n",
    "        print(f\"Epoch [{epoch+1}/{N_TOTAL_EPOCHS}], Train Loss: {train_losses[-1]:.6f}, Val Loss: {val_losses[-1]:.6f}\")\n",
    "\n",
    "end_time = time.time()\n",
    "print(f\"Treinamento por transferência concluído em {end_time - start_time:.2f}s\")\n",
    "print(\"Modelo 'zzzzz_final.pth' salvo.\")"
   ]
  },
  {
   "cell_type": "code",
   "execution_count": 21,
   "id": "9cdb3412",
   "metadata": {},
   "outputs": [
    {
     "data": {
      "image/png": "[encoded data removed]",
      "text/plain": [
       "<Figure size 1200x600 with 1 Axes>"
      ]
     },
     "metadata": {},
     "output_type": "display_data"
    }
   ],
   "source": [
    "# --- Bloco 7: Gráfico de Treinamento (Loss vs. Epoch) ---\n",
    "# Este gráfico será a prova: ele vai começar BAIXO.\n",
    "\n",
    "plt.figure(figsize=(12, 6))\n",
    "# Plotar o loss a partir da época 11\n",
    "plt.plot(range(N_EPOCHS_JA_TREINADAS, N_EPOCHS_JA_TREINADAS + len(train_losses)), \n",
    "         train_losses, \n",
    "         label='Loss de Treinamento (Transfer)')\n",
    "plt.plot(range(N_EPOCHS_JA_TREINADAS, N_EPOCHS_JA_TREINADAS + len(val_losses)), \n",
    "         val_losses, \n",
    "         label='Loss de Validação (Transfer)')\n",
    "\n",
    "plt.title('Curvas de Aprendizado (Iniciando de Modelo Pré-Treinado)')\n",
    "plt.xlabel('Épocas')\n",
    "plt.ylabel('Loss (MSE Normalizado)')\n",
    "plt.legend()\n",
    "plt.yscale('log')\n",
    "plt.show()"
   ]
  },
  {
   "cell_type": "code",
   "execution_count": 22,
   "id": "a13f4445",
   "metadata": {},
   "outputs": [
    {
     "name": "stdout",
     "output_type": "stream",
     "text": [
      "--- Avaliação Final do Modelo de Transferência ---\n",
      "\n",
      "Métricas Finais (em escala real de R$):\n",
      "  MSE:  81.07\n",
      "  RMSE: 9.00\n",
      "  MAPE: 0.0009 %\n"
     ]
    },
    {
     "data": {
      "image/png": "[encoded data removed]",
      "text/plain": [
       "<Figure size 1000x1000 with 1 Axes>"
      ]
     },
     "metadata": {},
     "output_type": "display_data"
    }
   ],
   "source": [
    "# --- Bloco 8: Avaliação Final (Métricas nos Dados Reais) ---\n",
    "# Este bloco é idêntico ao Bloco 10 do notebook original,\n",
    "# apenas carrega o 'transfer_model_final.pth'\n",
    "\n",
    "print(\"--- Avaliação Final do Modelo de Transferência ---\")\n",
    "\n",
    "# Carregar os scalers\n",
    "x_scaler = joblib.load('x_scaler.joblib')\n",
    "y_scaler = joblib.load('y_scaler.joblib')\n",
    "\n",
    "# Carregar os dados originais (não normalizados)\n",
    "X = pd.read_csv('usina_carvao_dataset.csv')[['Potencia_MW']].values\n",
    "y_true_real = pd.read_csv('usina_carvao_dataset.csv')[['Custo_Real']].values\n",
    "\n",
    "# Carregar o melhor modelo salvo\n",
    "eval_model = Net(n_layers=BASE_N_LAYERS, n_neurons=BASE_N_NEURONS).to(device)\n",
    "eval_model.load_state_dict(torch.load('zzzzz_final.pth'))\n",
    "eval_model.eval()\n",
    "\n",
    "# Preparar dados de entrada (normalizar)\n",
    "X_scaled = x_scaler.transform(X)\n",
    "\n",
    "# Passar TODOS os dados pelo modelo\n",
    "with torch.no_grad():\n",
    "    y_pred_scaled_t = eval_model(torch.tensor(X_scaled, dtype=torch.float32).to(device))\n",
    "\n",
    "# Mover para CPU e converter para NumPy\n",
    "y_pred_scaled = y_pred_scaled_t.cpu().numpy()\n",
    "\n",
    "# --- IMPORTANTE: Reverter a Normalização ---\n",
    "y_pred_real = y_scaler.inverse_transform(y_pred_scaled)\n",
    "\n",
    "# Calcular métricas finais\n",
    "mse, rmse, mape = calculate_all_metrics(y_true_real, y_pred_real)\n",
    "\n",
    "print(\"\\nMétricas Finais (em escala real de R$):\")\n",
    "print(f\"  MSE:  {mse:,.2f}\")\n",
    "print(f\"  RMSE: {rmse:,.2f}\")\n",
    "print(f\"  MAPE: {mape:.4f} %\")\n",
    "\n",
    "# --- Gráfico Final: Real vs. Previsto ---\n",
    "plt.figure(figsize=(10, 10))\n",
    "plt.scatter(y_true_real, y_pred_real, alpha=0.3, label='Previsões')\n",
    "# Adicionar a linha ideal (y=x)\n",
    "ideal_line = np.linspace(min(y_true_real.min(), y_pred_real.min()), \n",
    "                         max(y_true_real.max(), y_pred_real.max()), 100)\n",
    "plt.plot(ideal_line, ideal_line, 'r--', label='Linha Ideal (Previsto = Real)')\n",
    "\n",
    "plt.title('Qualidade da Previsão (Escala Real)')\n",
    "plt.xlabel('Custo Real (R$)')\n",
    "plt.ylabel('Custo Previsto (R$)')\n",
    "plt.legend()\n",
    "plt.grid(True)\n",
    "plt.axis('equal') # Forçar eixos iguais\n",
    "plt.show()"
   ]
  },
  {
   "cell_type": "code",
   "execution_count": 10,
   "id": "f0489279",
   "metadata": {},
   "outputs": [
    {
     "name": "stdout",
     "output_type": "stream",
     "text": [
      "\n",
      "--- Gerando Visualizações Múltiplas da Rede 'Campeã' ---\n",
      "Bibliotecas de visualização importadas com sucesso.\n",
      "Modelo 'zzzzz_final.pth' carregado.\n",
      "Input de exemplo criado: shape=torch.Size([1, 1])\n",
      "[OK] Modelo 'modelo_Linear.onnx' salvo (via ONNX). (Visualize online em netron.app)\n",
      "[FALHA torchview]: failed to execute WindowsPath('dot'), make sure the Graphviz executables are on your systems' PATH. Verifique a instalação do Graphviz.\n"
     ]
    },
    {
     "name": "stderr",
     "output_type": "stream",
     "text": [
      "C:\\Users\\João Pedro Dandolini\\AppData\\Local\\Temp\\ipykernel_17388\\2459497087.py:40: FutureWarning: You are using `torch.load` with `weights_only=False` (the current default value), which uses the default pickle module implicitly. It is possible to construct malicious pickle data which will execute arbitrary code during unpickling (See https://github.com/pytorch/pytorch/blob/main/SECURITY.md#untrusted-models for more details). In a future release, the default value for `weights_only` will be flipped to `True`. This limits the functions that could be executed during unpickling. Arbitrary objects will no longer be allowed to be loaded via this mode unless they are explicitly allowlisted by the user via `torch.serialization.add_safe_globals`. We recommend you start setting `weights_only=True` for any use case where you don't have full control of the loaded file. Please open an issue on GitHub for any issues related to this experimental feature.\n",
      "  viz_model.load_state_dict(torch.load(SAVED_MODEL_FILENAME))\n"
     ]
    }
   ],
   "source": [
    "# --- Bloco 11: Visualizações Múltiplas do Modelo Final (\"Campeão\") ---\n",
    "# Este bloco tenta gerar diagramas da arquitetura usando várias bibliotecas:\n",
    "# torchviz, hiddenlayer, ONNX (para Netron), e torchview.\n",
    "\n",
    "print(\"\\n--- Gerando Visualizações Múltiplas da Rede 'Campeã' ---\")\n",
    "\n",
    "# --- 1. Verifica e importa as bibliotecas de visualização ---\n",
    "libs_instaladas = True\n",
    "try:\n",
    "    from torchviz import make_dot\n",
    "    import hiddenlayer as hl\n",
    "    import torch.onnx\n",
    "    from torchview import draw_graph\n",
    "    print(\"Bibliotecas de visualização importadas com sucesso.\")\n",
    "except ImportError as e:\n",
    "    libs_instaladas = False\n",
    "    print(f\"ERRO DE IMPORTAÇÃO: {e}\")\n",
    "    print(\"!!!!!!!!!!!!!!!!!!!!!!!!!!!!!!!!!!!!!!!!!!!!!!!!!!!!!!!!!!\")\n",
    "    print(\"!! POR FAVOR, INSTALE AS BIBLIOTECAS NECESSÁRIAS:       !!\")\n",
    "    print(\"!! pip install torchviz hiddenlayer torchview onnx      !!\")\n",
    "    print(\"!!!!!!!!!!!!!!!!!!!!!!!!!!!!!!!!!!!!!!!!!!!!!!!!!!!!!!!!!!\")\n",
    "    # Nota: torchviz e torchview podem precisar do software Graphviz instalado no sistema.\n",
    "\n",
    "# --- 2. Só continua se as bibliotecas estiverem OK ---\n",
    "if libs_instaladas:\n",
    "    try:\n",
    "        # --- Preparação: Carregar Modelo e Criar Input Falso ---\n",
    "\n",
    "        # Verificar se as variáveis da arquitetura existem (do Bloco 8)\n",
    "        if 'BASE_N_LAYERS' not in locals() or 'BASE_N_NEURONS' not in locals():\n",
    "            raise NameError(\"Variáveis BASE_N_LAYERS/BASE_N_NEURONS não definidas. Execute o Bloco 8.\")\n",
    "\n",
    "        # Instanciar o modelo com a arquitetura correta\n",
    "        viz_model = Net(n_layers=BASE_N_LAYERS, n_neurons=BASE_N_NEURONS).to(device)\n",
    "\n",
    "        # Nome do arquivo do modelo salvo no Bloco 8\n",
    "        SAVED_MODEL_FILENAME = 'zzzzz_final.pth' # CONFIRME ESTE NOME\n",
    "\n",
    "        # Carregar os pesos do modelo campeão\n",
    "        viz_model.load_state_dict(torch.load(SAVED_MODEL_FILENAME))\n",
    "        viz_model.eval() # Colocar em modo de avaliação\n",
    "\n",
    "        # Criar um dado de entrada falso (dummy input)\n",
    "        # Nosso modelo espera shape [batch_size, 1]\n",
    "        dummy_input = torch.randn(1, 1, requires_grad=True).to(device) # batch_size=1\n",
    "        dummy_inputs = (dummy_input,) # Precisa ser tupla para algumas bibliotecas\n",
    "\n",
    "        print(f\"Modelo '{SAVED_MODEL_FILENAME}' carregado.\")\n",
    "        print(f\"Input de exemplo criado: shape={dummy_input.shape}\")\n",
    "\n",
    "        # --- Opção 3: ONNX (Exportação para visualizador externo como Netron) ---\n",
    "        try:\n",
    "            input_names = ['Potencia_MW'] # Nome do nosso único input\n",
    "            output_names = ['Custo_Previsto'] # Nome da nossa única saída\n",
    "            output_filename_onnx = 'modelo_Linear.onnx'\n",
    "            \n",
    "            torch.onnx.export(viz_model, \n",
    "                              dummy_inputs, \n",
    "                              output_filename_onnx, \n",
    "                              input_names=input_names, \n",
    "                              output_names=output_names,\n",
    "                              opset_version=11) # Versão comum do ONNX\n",
    "            print(f\"[OK] Modelo '{output_filename_onnx}' salvo (via ONNX). (Visualize online em netron.app)\")\n",
    "        except Exception as e:\n",
    "            print(f\"[FALHA ONNX]: {e}\")\n",
    "\n",
    "        # --- Opção 4: torchview (Gráfico de Arquitetura com Shapes) ---\n",
    "        try:\n",
    "            output_filename_tvw = 'modelo_torchview'\n",
    "            # input_data pode ser a tupla\n",
    "            model_graph = draw_graph(viz_model, \n",
    "                                     input_data=dummy_inputs, \n",
    "                                     expand_nested=True, # Mostrar detalhes dentro do nn.Sequential\n",
    "                                     save_graph=True,\n",
    "                                     filename=output_filename_tvw,\n",
    "                                     graph_dir='.') # Salvar na pasta atual\n",
    "            # model_graph.visual_graph.render(format='png') # Se save_graph=False\n",
    "            print(f\"[OK] Diagrama '{output_filename_tvw}.gv.png' salvo (via torchview).\")\n",
    "        except Exception as e:\n",
    "            print(f\"[FALHA torchview]: {e}. Verifique a instalação do Graphviz.\")\n",
    "\n",
    "    except NameError as e:\n",
    "        print(f\"ERRO: Variável não definida: {e}. Certifique-se de que as variáveis de arquitetura existem.\")\n",
    "    except FileNotFoundError:\n",
    "         print(f\"ERRO: Arquivo do modelo '{SAVED_MODEL_FILENAME}' não encontrado.\")\n",
    "         print(\"Verifique o nome do arquivo salvo no Bloco 8.\")\n",
    "    except Exception as e:\n",
    "         print(f\"ERRO inesperado na preparação da visualização: {e}\")\n",
    "\n",
    "    # Opcional: Colocar o modelo de volta no modo de treino se necessário depois\n",
    "    # viz_model.train() \n",
    "\n",
    "else:\n",
    "    print(\"\\nVisualização pulada. Instale as bibliotecas e rode esta célula novamente.\")"
   ]
  }
 ],
 "metadata": {
  "kernelspec": {
   "display_name": "Python 3",
   "language": "python",
   "name": "python3"
  },
  "language_info": {
   "codemirror_mode": {
    "name": "ipython",
    "version": 3
   },
   "file_extension": ".py",
   "mimetype": "text/x-python",
   "name": "python",
   "nbconvert_exporter": "python",
   "pygments_lexer": "ipython3",
   "version": "3.11.9"
  }
 },
 "nbformat": 4,
 "nbformat_minor": 5
}
